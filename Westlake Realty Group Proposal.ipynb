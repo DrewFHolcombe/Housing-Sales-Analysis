{
 "cells": [
  {
   "cell_type": "markdown",
   "metadata": {},
   "source": [
    "# Westlake Realty Group Proposal\n",
    "\n",
    "Authors: Drew Holcombe, Juan Acosta"
   ]
  },
  {
   "cell_type": "markdown",
   "metadata": {},
   "source": [
    "## Overview\n",
    "Our project presents data of house sale prices for King County, Washington. Using statistical analyses techniques in Python we are able to give our recomendations on which factors of a hosue are the most significant to determine price, and how Westlake Realty Group could use this information to reduce risk and increase profit.\n"
   ]
  },
  {
   "cell_type": "markdown",
   "metadata": {},
   "source": [
    "## Business Challenge\n",
    "\n",
    "Westlake Realty Group (hypothetical example) is looking for recomendations on factors and carateristics of a house that are the most impactful to determine its price. Our group's objective is to find factors that accurately predict the given target, driven by real world data from the housing market, and provide results and justification for them to consider on their decision making process.\n"
   ]
  },
  {
   "cell_type": "markdown",
   "metadata": {},
   "source": [
    "## Data Understanding\n",
    "Our project presents data of house sale prices for King County, Seattle, contained in the kc_house dataset. It includes houses sold between May 2014 and May 2015. The variables we found to be most useful are `price`, `bedrooms`, `bathrooms`, `sqft_living`, `floors`, `waterfront`, `view`, `condition` and `grade`."
   ]
  },
  {
   "cell_type": "code",
   "execution_count": 293,
   "metadata": {},
   "outputs": [],
   "source": [
    "import numpy as np\n",
    "import pandas as pd\n",
    "import seaborn as sns\n",
    "from matplotlib import pyplot as plt\n",
    "from sklearn.preprocessing import PolynomialFeatures, StandardScaler, OneHotEncoder, OrdinalEncoder\n",
    "from sklearn.linear_model import LinearRegression\n",
    "import statsmodels.api as sm\n",
    "from scipy import stats"
   ]
  },
  {
   "cell_type": "code",
   "execution_count": 294,
   "metadata": {
    "scrolled": true
   },
   "outputs": [
    {
     "data": {
      "text/plain": [
       "(21597, 21)"
      ]
     },
     "execution_count": 294,
     "metadata": {},
     "output_type": "execute_result"
    }
   ],
   "source": [
    "df = pd.read_csv('data/kc_house_data.csv')\n",
    "df.shape"
   ]
  },
  {
   "cell_type": "markdown",
   "metadata": {},
   "source": [
    "We have information of 21597 houses located in King county washington."
   ]
  },
  {
   "cell_type": "code",
   "execution_count": 295,
   "metadata": {
    "scrolled": false
   },
   "outputs": [
    {
     "name": "stdout",
     "output_type": "stream",
     "text": [
      "<class 'pandas.core.frame.DataFrame'>\n",
      "RangeIndex: 21597 entries, 0 to 21596\n",
      "Data columns (total 21 columns):\n",
      " #   Column         Non-Null Count  Dtype  \n",
      "---  ------         --------------  -----  \n",
      " 0   id             21597 non-null  int64  \n",
      " 1   date           21597 non-null  object \n",
      " 2   price          21597 non-null  float64\n",
      " 3   bedrooms       21597 non-null  int64  \n",
      " 4   bathrooms      21597 non-null  float64\n",
      " 5   sqft_living    21597 non-null  int64  \n",
      " 6   sqft_lot       21597 non-null  int64  \n",
      " 7   floors         21597 non-null  float64\n",
      " 8   waterfront     19221 non-null  object \n",
      " 9   view           21534 non-null  object \n",
      " 10  condition      21597 non-null  object \n",
      " 11  grade          21597 non-null  object \n",
      " 12  sqft_above     21597 non-null  int64  \n",
      " 13  sqft_basement  21597 non-null  object \n",
      " 14  yr_built       21597 non-null  int64  \n",
      " 15  yr_renovated   17755 non-null  float64\n",
      " 16  zipcode        21597 non-null  int64  \n",
      " 17  lat            21597 non-null  float64\n",
      " 18  long           21597 non-null  float64\n",
      " 19  sqft_living15  21597 non-null  int64  \n",
      " 20  sqft_lot15     21597 non-null  int64  \n",
      "dtypes: float64(6), int64(9), object(6)\n",
      "memory usage: 3.5+ MB\n"
     ]
    }
   ],
   "source": [
    "df.info()"
   ]
  },
  {
   "cell_type": "markdown",
   "metadata": {},
   "source": [
    "`price` will be our target for the model\n",
    "\n",
    "<br>\n",
    "\n",
    "For our numeric columns we have `bedrooms`, `bathrooms`, `sqft_living`, `floors`, `sqft_above`, `yr_built`, `yr_renovated`, `zipcode`, `lat`, `long`, `sqft_living15` and `sqft_lot15`,\n",
    "out of all numeric columns, `bedrooms`, `bathrooms`, `floors` and `zipcode` contain discrete data, we can also notice how `sqft_basement` has an object dtype, we might have to convert values if the column is needed\n",
    "\n",
    "<br>\n",
    "\n",
    "`waterfront`, `view`, `condition` and `grade` are categorical variables\n",
    "<br>\n",
    "\n",
    "There are null values present in `waterfront`, `view` and `yr_renovated` columns"
   ]
  },
  {
   "cell_type": "markdown",
   "metadata": {},
   "source": [
    "## Data Preparation"
   ]
  },
  {
   "cell_type": "markdown",
   "metadata": {},
   "source": [
    "We first clean the data, look for duplicate data points, identify noticible outliers, and droping null values "
   ]
  },
  {
   "cell_type": "code",
   "execution_count": 296,
   "metadata": {
    "scrolled": false
   },
   "outputs": [
    {
     "data": {
      "text/html": [
       "<div>\n",
       "<style scoped>\n",
       "    .dataframe tbody tr th:only-of-type {\n",
       "        vertical-align: middle;\n",
       "    }\n",
       "\n",
       "    .dataframe tbody tr th {\n",
       "        vertical-align: top;\n",
       "    }\n",
       "\n",
       "    .dataframe thead th {\n",
       "        text-align: right;\n",
       "    }\n",
       "</style>\n",
       "<table border=\"1\" class=\"dataframe\">\n",
       "  <thead>\n",
       "    <tr style=\"text-align: right;\">\n",
       "      <th></th>\n",
       "      <th>id</th>\n",
       "      <th>date</th>\n",
       "      <th>price</th>\n",
       "      <th>bedrooms</th>\n",
       "      <th>bathrooms</th>\n",
       "      <th>sqft_living</th>\n",
       "      <th>sqft_lot</th>\n",
       "      <th>floors</th>\n",
       "      <th>waterfront</th>\n",
       "      <th>view</th>\n",
       "      <th>...</th>\n",
       "      <th>grade</th>\n",
       "      <th>sqft_above</th>\n",
       "      <th>sqft_basement</th>\n",
       "      <th>yr_built</th>\n",
       "      <th>yr_renovated</th>\n",
       "      <th>zipcode</th>\n",
       "      <th>lat</th>\n",
       "      <th>long</th>\n",
       "      <th>sqft_living15</th>\n",
       "      <th>sqft_lot15</th>\n",
       "    </tr>\n",
       "  </thead>\n",
       "  <tbody>\n",
       "    <tr>\n",
       "      <th>0</th>\n",
       "      <td>7129300520</td>\n",
       "      <td>10/13/2014</td>\n",
       "      <td>221900.0</td>\n",
       "      <td>3</td>\n",
       "      <td>1.00</td>\n",
       "      <td>1180</td>\n",
       "      <td>5650</td>\n",
       "      <td>1.0</td>\n",
       "      <td>NaN</td>\n",
       "      <td>NONE</td>\n",
       "      <td>...</td>\n",
       "      <td>7 Average</td>\n",
       "      <td>1180</td>\n",
       "      <td>0.0</td>\n",
       "      <td>1955</td>\n",
       "      <td>0.0</td>\n",
       "      <td>98178</td>\n",
       "      <td>47.5112</td>\n",
       "      <td>-122.257</td>\n",
       "      <td>1340</td>\n",
       "      <td>5650</td>\n",
       "    </tr>\n",
       "    <tr>\n",
       "      <th>1</th>\n",
       "      <td>6414100192</td>\n",
       "      <td>12/9/2014</td>\n",
       "      <td>538000.0</td>\n",
       "      <td>3</td>\n",
       "      <td>2.25</td>\n",
       "      <td>2570</td>\n",
       "      <td>7242</td>\n",
       "      <td>2.0</td>\n",
       "      <td>NO</td>\n",
       "      <td>NONE</td>\n",
       "      <td>...</td>\n",
       "      <td>7 Average</td>\n",
       "      <td>2170</td>\n",
       "      <td>400.0</td>\n",
       "      <td>1951</td>\n",
       "      <td>1991.0</td>\n",
       "      <td>98125</td>\n",
       "      <td>47.7210</td>\n",
       "      <td>-122.319</td>\n",
       "      <td>1690</td>\n",
       "      <td>7639</td>\n",
       "    </tr>\n",
       "    <tr>\n",
       "      <th>2</th>\n",
       "      <td>5631500400</td>\n",
       "      <td>2/25/2015</td>\n",
       "      <td>180000.0</td>\n",
       "      <td>2</td>\n",
       "      <td>1.00</td>\n",
       "      <td>770</td>\n",
       "      <td>10000</td>\n",
       "      <td>1.0</td>\n",
       "      <td>NO</td>\n",
       "      <td>NONE</td>\n",
       "      <td>...</td>\n",
       "      <td>6 Low Average</td>\n",
       "      <td>770</td>\n",
       "      <td>0.0</td>\n",
       "      <td>1933</td>\n",
       "      <td>NaN</td>\n",
       "      <td>98028</td>\n",
       "      <td>47.7379</td>\n",
       "      <td>-122.233</td>\n",
       "      <td>2720</td>\n",
       "      <td>8062</td>\n",
       "    </tr>\n",
       "    <tr>\n",
       "      <th>3</th>\n",
       "      <td>2487200875</td>\n",
       "      <td>12/9/2014</td>\n",
       "      <td>604000.0</td>\n",
       "      <td>4</td>\n",
       "      <td>3.00</td>\n",
       "      <td>1960</td>\n",
       "      <td>5000</td>\n",
       "      <td>1.0</td>\n",
       "      <td>NO</td>\n",
       "      <td>NONE</td>\n",
       "      <td>...</td>\n",
       "      <td>7 Average</td>\n",
       "      <td>1050</td>\n",
       "      <td>910.0</td>\n",
       "      <td>1965</td>\n",
       "      <td>0.0</td>\n",
       "      <td>98136</td>\n",
       "      <td>47.5208</td>\n",
       "      <td>-122.393</td>\n",
       "      <td>1360</td>\n",
       "      <td>5000</td>\n",
       "    </tr>\n",
       "    <tr>\n",
       "      <th>4</th>\n",
       "      <td>1954400510</td>\n",
       "      <td>2/18/2015</td>\n",
       "      <td>510000.0</td>\n",
       "      <td>3</td>\n",
       "      <td>2.00</td>\n",
       "      <td>1680</td>\n",
       "      <td>8080</td>\n",
       "      <td>1.0</td>\n",
       "      <td>NO</td>\n",
       "      <td>NONE</td>\n",
       "      <td>...</td>\n",
       "      <td>8 Good</td>\n",
       "      <td>1680</td>\n",
       "      <td>0.0</td>\n",
       "      <td>1987</td>\n",
       "      <td>0.0</td>\n",
       "      <td>98074</td>\n",
       "      <td>47.6168</td>\n",
       "      <td>-122.045</td>\n",
       "      <td>1800</td>\n",
       "      <td>7503</td>\n",
       "    </tr>\n",
       "    <tr>\n",
       "      <th>5</th>\n",
       "      <td>7237550310</td>\n",
       "      <td>5/12/2014</td>\n",
       "      <td>1230000.0</td>\n",
       "      <td>4</td>\n",
       "      <td>4.50</td>\n",
       "      <td>5420</td>\n",
       "      <td>101930</td>\n",
       "      <td>1.0</td>\n",
       "      <td>NO</td>\n",
       "      <td>NONE</td>\n",
       "      <td>...</td>\n",
       "      <td>11 Excellent</td>\n",
       "      <td>3890</td>\n",
       "      <td>1530.0</td>\n",
       "      <td>2001</td>\n",
       "      <td>0.0</td>\n",
       "      <td>98053</td>\n",
       "      <td>47.6561</td>\n",
       "      <td>-122.005</td>\n",
       "      <td>4760</td>\n",
       "      <td>101930</td>\n",
       "    </tr>\n",
       "    <tr>\n",
       "      <th>6</th>\n",
       "      <td>1321400060</td>\n",
       "      <td>6/27/2014</td>\n",
       "      <td>257500.0</td>\n",
       "      <td>3</td>\n",
       "      <td>2.25</td>\n",
       "      <td>1715</td>\n",
       "      <td>6819</td>\n",
       "      <td>2.0</td>\n",
       "      <td>NO</td>\n",
       "      <td>NONE</td>\n",
       "      <td>...</td>\n",
       "      <td>7 Average</td>\n",
       "      <td>1715</td>\n",
       "      <td>?</td>\n",
       "      <td>1995</td>\n",
       "      <td>0.0</td>\n",
       "      <td>98003</td>\n",
       "      <td>47.3097</td>\n",
       "      <td>-122.327</td>\n",
       "      <td>2238</td>\n",
       "      <td>6819</td>\n",
       "    </tr>\n",
       "    <tr>\n",
       "      <th>7</th>\n",
       "      <td>2008000270</td>\n",
       "      <td>1/15/2015</td>\n",
       "      <td>291850.0</td>\n",
       "      <td>3</td>\n",
       "      <td>1.50</td>\n",
       "      <td>1060</td>\n",
       "      <td>9711</td>\n",
       "      <td>1.0</td>\n",
       "      <td>NO</td>\n",
       "      <td>NaN</td>\n",
       "      <td>...</td>\n",
       "      <td>7 Average</td>\n",
       "      <td>1060</td>\n",
       "      <td>0.0</td>\n",
       "      <td>1963</td>\n",
       "      <td>0.0</td>\n",
       "      <td>98198</td>\n",
       "      <td>47.4095</td>\n",
       "      <td>-122.315</td>\n",
       "      <td>1650</td>\n",
       "      <td>9711</td>\n",
       "    </tr>\n",
       "    <tr>\n",
       "      <th>8</th>\n",
       "      <td>2414600126</td>\n",
       "      <td>4/15/2015</td>\n",
       "      <td>229500.0</td>\n",
       "      <td>3</td>\n",
       "      <td>1.00</td>\n",
       "      <td>1780</td>\n",
       "      <td>7470</td>\n",
       "      <td>1.0</td>\n",
       "      <td>NO</td>\n",
       "      <td>NONE</td>\n",
       "      <td>...</td>\n",
       "      <td>7 Average</td>\n",
       "      <td>1050</td>\n",
       "      <td>730.0</td>\n",
       "      <td>1960</td>\n",
       "      <td>0.0</td>\n",
       "      <td>98146</td>\n",
       "      <td>47.5123</td>\n",
       "      <td>-122.337</td>\n",
       "      <td>1780</td>\n",
       "      <td>8113</td>\n",
       "    </tr>\n",
       "    <tr>\n",
       "      <th>9</th>\n",
       "      <td>3793500160</td>\n",
       "      <td>3/12/2015</td>\n",
       "      <td>323000.0</td>\n",
       "      <td>3</td>\n",
       "      <td>2.50</td>\n",
       "      <td>1890</td>\n",
       "      <td>6560</td>\n",
       "      <td>2.0</td>\n",
       "      <td>NO</td>\n",
       "      <td>NONE</td>\n",
       "      <td>...</td>\n",
       "      <td>7 Average</td>\n",
       "      <td>1890</td>\n",
       "      <td>0.0</td>\n",
       "      <td>2003</td>\n",
       "      <td>0.0</td>\n",
       "      <td>98038</td>\n",
       "      <td>47.3684</td>\n",
       "      <td>-122.031</td>\n",
       "      <td>2390</td>\n",
       "      <td>7570</td>\n",
       "    </tr>\n",
       "  </tbody>\n",
       "</table>\n",
       "<p>10 rows × 21 columns</p>\n",
       "</div>"
      ],
      "text/plain": [
       "           id        date      price  bedrooms  bathrooms  sqft_living  \\\n",
       "0  7129300520  10/13/2014   221900.0         3       1.00         1180   \n",
       "1  6414100192   12/9/2014   538000.0         3       2.25         2570   \n",
       "2  5631500400   2/25/2015   180000.0         2       1.00          770   \n",
       "3  2487200875   12/9/2014   604000.0         4       3.00         1960   \n",
       "4  1954400510   2/18/2015   510000.0         3       2.00         1680   \n",
       "5  7237550310   5/12/2014  1230000.0         4       4.50         5420   \n",
       "6  1321400060   6/27/2014   257500.0         3       2.25         1715   \n",
       "7  2008000270   1/15/2015   291850.0         3       1.50         1060   \n",
       "8  2414600126   4/15/2015   229500.0         3       1.00         1780   \n",
       "9  3793500160   3/12/2015   323000.0         3       2.50         1890   \n",
       "\n",
       "   sqft_lot  floors waterfront  view  ...          grade sqft_above  \\\n",
       "0      5650     1.0        NaN  NONE  ...      7 Average       1180   \n",
       "1      7242     2.0         NO  NONE  ...      7 Average       2170   \n",
       "2     10000     1.0         NO  NONE  ...  6 Low Average        770   \n",
       "3      5000     1.0         NO  NONE  ...      7 Average       1050   \n",
       "4      8080     1.0         NO  NONE  ...         8 Good       1680   \n",
       "5    101930     1.0         NO  NONE  ...   11 Excellent       3890   \n",
       "6      6819     2.0         NO  NONE  ...      7 Average       1715   \n",
       "7      9711     1.0         NO   NaN  ...      7 Average       1060   \n",
       "8      7470     1.0         NO  NONE  ...      7 Average       1050   \n",
       "9      6560     2.0         NO  NONE  ...      7 Average       1890   \n",
       "\n",
       "   sqft_basement yr_built  yr_renovated  zipcode      lat     long  \\\n",
       "0            0.0     1955           0.0    98178  47.5112 -122.257   \n",
       "1          400.0     1951        1991.0    98125  47.7210 -122.319   \n",
       "2            0.0     1933           NaN    98028  47.7379 -122.233   \n",
       "3          910.0     1965           0.0    98136  47.5208 -122.393   \n",
       "4            0.0     1987           0.0    98074  47.6168 -122.045   \n",
       "5         1530.0     2001           0.0    98053  47.6561 -122.005   \n",
       "6              ?     1995           0.0    98003  47.3097 -122.327   \n",
       "7            0.0     1963           0.0    98198  47.4095 -122.315   \n",
       "8          730.0     1960           0.0    98146  47.5123 -122.337   \n",
       "9            0.0     2003           0.0    98038  47.3684 -122.031   \n",
       "\n",
       "   sqft_living15  sqft_lot15  \n",
       "0           1340        5650  \n",
       "1           1690        7639  \n",
       "2           2720        8062  \n",
       "3           1360        5000  \n",
       "4           1800        7503  \n",
       "5           4760      101930  \n",
       "6           2238        6819  \n",
       "7           1650        9711  \n",
       "8           1780        8113  \n",
       "9           2390        7570  \n",
       "\n",
       "[10 rows x 21 columns]"
      ]
     },
     "execution_count": 296,
     "metadata": {},
     "output_type": "execute_result"
    }
   ],
   "source": [
    "df.head(10)"
   ]
  },
  {
   "cell_type": "markdown",
   "metadata": {},
   "source": [
    "Our first observation is on the `sqft_basement` column, a `?` can be seen on some of the data points. "
   ]
  },
  {
   "cell_type": "markdown",
   "metadata": {},
   "source": [
    "<br>\n",
    "\n",
    "#### `ID` column\n",
    "\n",
    "`id` column shows the unique identifier for a house"
   ]
  },
  {
   "cell_type": "code",
   "execution_count": 297,
   "metadata": {
    "scrolled": true
   },
   "outputs": [
    {
     "data": {
      "text/plain": [
       "795000620     3\n",
       "1825069031    2\n",
       "2019200220    2\n",
       "7129304540    2\n",
       "1781500435    2\n",
       "             ..\n",
       "7812801125    1\n",
       "4364700875    1\n",
       "3021059276    1\n",
       "880000205     1\n",
       "1777500160    1\n",
       "Name: id, Length: 21420, dtype: int64"
      ]
     },
     "execution_count": 297,
     "metadata": {},
     "output_type": "execute_result"
    }
   ],
   "source": [
    "df['id'].value_counts()"
   ]
  },
  {
   "cell_type": "markdown",
   "metadata": {},
   "source": [
    "Some houses appear more than once in the dataset"
   ]
  },
  {
   "cell_type": "code",
   "execution_count": 298,
   "metadata": {},
   "outputs": [
    {
     "data": {
      "text/html": [
       "<div>\n",
       "<style scoped>\n",
       "    .dataframe tbody tr th:only-of-type {\n",
       "        vertical-align: middle;\n",
       "    }\n",
       "\n",
       "    .dataframe tbody tr th {\n",
       "        vertical-align: top;\n",
       "    }\n",
       "\n",
       "    .dataframe thead th {\n",
       "        text-align: right;\n",
       "    }\n",
       "</style>\n",
       "<table border=\"1\" class=\"dataframe\">\n",
       "  <thead>\n",
       "    <tr style=\"text-align: right;\">\n",
       "      <th></th>\n",
       "      <th>id</th>\n",
       "      <th>date</th>\n",
       "      <th>price</th>\n",
       "      <th>bedrooms</th>\n",
       "      <th>bathrooms</th>\n",
       "      <th>sqft_living</th>\n",
       "      <th>sqft_lot</th>\n",
       "      <th>floors</th>\n",
       "      <th>waterfront</th>\n",
       "      <th>view</th>\n",
       "      <th>...</th>\n",
       "      <th>grade</th>\n",
       "      <th>sqft_above</th>\n",
       "      <th>sqft_basement</th>\n",
       "      <th>yr_built</th>\n",
       "      <th>yr_renovated</th>\n",
       "      <th>zipcode</th>\n",
       "      <th>lat</th>\n",
       "      <th>long</th>\n",
       "      <th>sqft_living15</th>\n",
       "      <th>sqft_lot15</th>\n",
       "    </tr>\n",
       "  </thead>\n",
       "  <tbody>\n",
       "    <tr>\n",
       "      <th>17588</th>\n",
       "      <td>795000620</td>\n",
       "      <td>9/24/2014</td>\n",
       "      <td>115000.0</td>\n",
       "      <td>3</td>\n",
       "      <td>1.0</td>\n",
       "      <td>1080</td>\n",
       "      <td>6250</td>\n",
       "      <td>1.0</td>\n",
       "      <td>NO</td>\n",
       "      <td>NONE</td>\n",
       "      <td>...</td>\n",
       "      <td>5 Fair</td>\n",
       "      <td>1080</td>\n",
       "      <td>0.0</td>\n",
       "      <td>1950</td>\n",
       "      <td>0.0</td>\n",
       "      <td>98168</td>\n",
       "      <td>47.5045</td>\n",
       "      <td>-122.33</td>\n",
       "      <td>1070</td>\n",
       "      <td>6250</td>\n",
       "    </tr>\n",
       "    <tr>\n",
       "      <th>17589</th>\n",
       "      <td>795000620</td>\n",
       "      <td>12/15/2014</td>\n",
       "      <td>124000.0</td>\n",
       "      <td>3</td>\n",
       "      <td>1.0</td>\n",
       "      <td>1080</td>\n",
       "      <td>6250</td>\n",
       "      <td>1.0</td>\n",
       "      <td>NO</td>\n",
       "      <td>NONE</td>\n",
       "      <td>...</td>\n",
       "      <td>5 Fair</td>\n",
       "      <td>1080</td>\n",
       "      <td>0.0</td>\n",
       "      <td>1950</td>\n",
       "      <td>0.0</td>\n",
       "      <td>98168</td>\n",
       "      <td>47.5045</td>\n",
       "      <td>-122.33</td>\n",
       "      <td>1070</td>\n",
       "      <td>6250</td>\n",
       "    </tr>\n",
       "    <tr>\n",
       "      <th>17590</th>\n",
       "      <td>795000620</td>\n",
       "      <td>3/11/2015</td>\n",
       "      <td>157000.0</td>\n",
       "      <td>3</td>\n",
       "      <td>1.0</td>\n",
       "      <td>1080</td>\n",
       "      <td>6250</td>\n",
       "      <td>1.0</td>\n",
       "      <td>NaN</td>\n",
       "      <td>NONE</td>\n",
       "      <td>...</td>\n",
       "      <td>5 Fair</td>\n",
       "      <td>1080</td>\n",
       "      <td>0.0</td>\n",
       "      <td>1950</td>\n",
       "      <td>NaN</td>\n",
       "      <td>98168</td>\n",
       "      <td>47.5045</td>\n",
       "      <td>-122.33</td>\n",
       "      <td>1070</td>\n",
       "      <td>6250</td>\n",
       "    </tr>\n",
       "  </tbody>\n",
       "</table>\n",
       "<p>3 rows × 21 columns</p>\n",
       "</div>"
      ],
      "text/plain": [
       "              id        date     price  bedrooms  bathrooms  sqft_living  \\\n",
       "17588  795000620   9/24/2014  115000.0         3        1.0         1080   \n",
       "17589  795000620  12/15/2014  124000.0         3        1.0         1080   \n",
       "17590  795000620   3/11/2015  157000.0         3        1.0         1080   \n",
       "\n",
       "       sqft_lot  floors waterfront  view  ...   grade sqft_above  \\\n",
       "17588      6250     1.0         NO  NONE  ...  5 Fair       1080   \n",
       "17589      6250     1.0         NO  NONE  ...  5 Fair       1080   \n",
       "17590      6250     1.0        NaN  NONE  ...  5 Fair       1080   \n",
       "\n",
       "       sqft_basement yr_built  yr_renovated  zipcode      lat    long  \\\n",
       "17588            0.0     1950           0.0    98168  47.5045 -122.33   \n",
       "17589            0.0     1950           0.0    98168  47.5045 -122.33   \n",
       "17590            0.0     1950           NaN    98168  47.5045 -122.33   \n",
       "\n",
       "       sqft_living15  sqft_lot15  \n",
       "17588           1070        6250  \n",
       "17589           1070        6250  \n",
       "17590           1070        6250  \n",
       "\n",
       "[3 rows x 21 columns]"
      ]
     },
     "execution_count": 298,
     "metadata": {},
     "output_type": "execute_result"
    }
   ],
   "source": [
    "# quick search for first id in the value count\n",
    "df.loc[df[\"id\"]==795000620]"
   ]
  },
  {
   "cell_type": "markdown",
   "metadata": {},
   "source": [
    "Above we have 3 sale records for the same house, price is different in the three occasions, increasing over time. We can also notice how the third row shows NaN value on the `waterfront` and `yr_renovated` columns, and that same house in a different row shows 'NO' and '0.0' respectively."
   ]
  },
  {
   "cell_type": "markdown",
   "metadata": {},
   "source": [
    "We dropped duplicate values using `id` and `date` columns, keeping the most recent record of the house"
   ]
  },
  {
   "cell_type": "code",
   "execution_count": 299,
   "metadata": {},
   "outputs": [],
   "source": [
    "df.drop_duplicates(subset='id', keep='last', inplace=True)"
   ]
  },
  {
   "cell_type": "code",
   "execution_count": 300,
   "metadata": {
    "scrolled": false
   },
   "outputs": [
    {
     "data": {
      "text/html": [
       "<div>\n",
       "<style scoped>\n",
       "    .dataframe tbody tr th:only-of-type {\n",
       "        vertical-align: middle;\n",
       "    }\n",
       "\n",
       "    .dataframe tbody tr th {\n",
       "        vertical-align: top;\n",
       "    }\n",
       "\n",
       "    .dataframe thead th {\n",
       "        text-align: right;\n",
       "    }\n",
       "</style>\n",
       "<table border=\"1\" class=\"dataframe\">\n",
       "  <thead>\n",
       "    <tr style=\"text-align: right;\">\n",
       "      <th></th>\n",
       "      <th>id</th>\n",
       "      <th>date</th>\n",
       "      <th>price</th>\n",
       "      <th>bedrooms</th>\n",
       "      <th>bathrooms</th>\n",
       "      <th>sqft_living</th>\n",
       "      <th>sqft_lot</th>\n",
       "      <th>floors</th>\n",
       "      <th>waterfront</th>\n",
       "      <th>view</th>\n",
       "      <th>...</th>\n",
       "      <th>grade</th>\n",
       "      <th>sqft_above</th>\n",
       "      <th>sqft_basement</th>\n",
       "      <th>yr_built</th>\n",
       "      <th>yr_renovated</th>\n",
       "      <th>zipcode</th>\n",
       "      <th>lat</th>\n",
       "      <th>long</th>\n",
       "      <th>sqft_living15</th>\n",
       "      <th>sqft_lot15</th>\n",
       "    </tr>\n",
       "  </thead>\n",
       "  <tbody>\n",
       "    <tr>\n",
       "      <th>17590</th>\n",
       "      <td>795000620</td>\n",
       "      <td>3/11/2015</td>\n",
       "      <td>157000.0</td>\n",
       "      <td>3</td>\n",
       "      <td>1.0</td>\n",
       "      <td>1080</td>\n",
       "      <td>6250</td>\n",
       "      <td>1.0</td>\n",
       "      <td>NaN</td>\n",
       "      <td>NONE</td>\n",
       "      <td>...</td>\n",
       "      <td>5 Fair</td>\n",
       "      <td>1080</td>\n",
       "      <td>0.0</td>\n",
       "      <td>1950</td>\n",
       "      <td>NaN</td>\n",
       "      <td>98168</td>\n",
       "      <td>47.5045</td>\n",
       "      <td>-122.33</td>\n",
       "      <td>1070</td>\n",
       "      <td>6250</td>\n",
       "    </tr>\n",
       "  </tbody>\n",
       "</table>\n",
       "<p>1 rows × 21 columns</p>\n",
       "</div>"
      ],
      "text/plain": [
       "              id       date     price  bedrooms  bathrooms  sqft_living  \\\n",
       "17590  795000620  3/11/2015  157000.0         3        1.0         1080   \n",
       "\n",
       "       sqft_lot  floors waterfront  view  ...   grade sqft_above  \\\n",
       "17590      6250     1.0        NaN  NONE  ...  5 Fair       1080   \n",
       "\n",
       "       sqft_basement yr_built  yr_renovated  zipcode      lat    long  \\\n",
       "17590            0.0     1950           NaN    98168  47.5045 -122.33   \n",
       "\n",
       "       sqft_living15  sqft_lot15  \n",
       "17590           1070        6250  \n",
       "\n",
       "[1 rows x 21 columns]"
      ]
     },
     "execution_count": 300,
     "metadata": {},
     "output_type": "execute_result"
    }
   ],
   "source": [
    "df.loc[df[\"id\"]==795000620]"
   ]
  },
  {
   "cell_type": "markdown",
   "metadata": {},
   "source": [
    "<br>\n",
    "\n",
    "\n",
    "We will drop some columns to focus mainly on `price`, `bedrooms`, `bathrooms`, `sqft_living`, `sqft_lot`, `floors`, `waterfront`, `view`, `condition`, `grade` and `yr_built`"
   ]
  },
  {
   "cell_type": "code",
   "execution_count": 301,
   "metadata": {},
   "outputs": [],
   "source": [
    "df.drop(labels=[\"sqft_above\", \"sqft_basement\", \"yr_renovated\", \"zipcode\", \"lat\",\n",
    "                \"long\",\"sqft_living15\",\"sqft_lot15\"], axis=1, inplace=True)"
   ]
  },
  {
   "cell_type": "markdown",
   "metadata": {},
   "source": [
    "<br>\n",
    "\n",
    "<br>\n",
    "\n",
    "\n",
    "Now let's look for potential mistakes in other columns; we'll define some functions for repeated use and see what we're working with.\n",
    "\n",
    "<br>\n",
    "\n",
    "#### `bedrooms` column\n",
    "\n",
    "<br>\n"
   ]
  },
  {
   "cell_type": "code",
   "execution_count": 302,
   "metadata": {},
   "outputs": [],
   "source": [
    "def hist(df, column):\n",
    "    return plt.hist(x=df[column], bins='auto')\n",
    "def hist_rooms(df, column):\n",
    "    return plt.hist(x=df[column], bins=np.linspace(1, df[column].max()))\n",
    "def extreme(df, column):\n",
    "    return df.loc[df[column] == df[column].max()]"
   ]
  },
  {
   "cell_type": "code",
   "execution_count": 303,
   "metadata": {
    "scrolled": true
   },
   "outputs": [
    {
     "data": {
      "image/png": "[encoded data removed]",
      "text/plain": [
       "<Figure size 432x288 with 1 Axes>"
      ]
     },
     "metadata": {
      "needs_background": "light"
     },
     "output_type": "display_data"
    }
   ],
   "source": [
    "hist_rooms(df, \"bedrooms\");"
   ]
  },
  {
   "cell_type": "code",
   "execution_count": 304,
   "metadata": {},
   "outputs": [
    {
     "data": {
      "text/html": [
       "<div>\n",
       "<style scoped>\n",
       "    .dataframe tbody tr th:only-of-type {\n",
       "        vertical-align: middle;\n",
       "    }\n",
       "\n",
       "    .dataframe tbody tr th {\n",
       "        vertical-align: top;\n",
       "    }\n",
       "\n",
       "    .dataframe thead th {\n",
       "        text-align: right;\n",
       "    }\n",
       "</style>\n",
       "<table border=\"1\" class=\"dataframe\">\n",
       "  <thead>\n",
       "    <tr style=\"text-align: right;\">\n",
       "      <th></th>\n",
       "      <th>id</th>\n",
       "      <th>date</th>\n",
       "      <th>price</th>\n",
       "      <th>bedrooms</th>\n",
       "      <th>bathrooms</th>\n",
       "      <th>sqft_living</th>\n",
       "      <th>sqft_lot</th>\n",
       "      <th>floors</th>\n",
       "      <th>waterfront</th>\n",
       "      <th>view</th>\n",
       "      <th>condition</th>\n",
       "      <th>grade</th>\n",
       "      <th>yr_built</th>\n",
       "    </tr>\n",
       "  </thead>\n",
       "  <tbody>\n",
       "    <tr>\n",
       "      <th>15856</th>\n",
       "      <td>2402100895</td>\n",
       "      <td>6/25/2014</td>\n",
       "      <td>640000.0</td>\n",
       "      <td>33</td>\n",
       "      <td>1.75</td>\n",
       "      <td>1620</td>\n",
       "      <td>6000</td>\n",
       "      <td>1.0</td>\n",
       "      <td>NO</td>\n",
       "      <td>NONE</td>\n",
       "      <td>Very Good</td>\n",
       "      <td>7 Average</td>\n",
       "      <td>1947</td>\n",
       "    </tr>\n",
       "  </tbody>\n",
       "</table>\n",
       "</div>"
      ],
      "text/plain": [
       "               id       date     price  bedrooms  bathrooms  sqft_living  \\\n",
       "15856  2402100895  6/25/2014  640000.0        33       1.75         1620   \n",
       "\n",
       "       sqft_lot  floors waterfront  view  condition      grade  yr_built  \n",
       "15856      6000     1.0         NO  NONE  Very Good  7 Average      1947  "
      ]
     },
     "execution_count": 304,
     "metadata": {},
     "output_type": "execute_result"
    }
   ],
   "source": [
    "extreme(df, \"bedrooms\")"
   ]
  },
  {
   "cell_type": "markdown",
   "metadata": {},
   "source": [
    "We found an outlier, a house with 33 bedrooms, a quick search of the house id on google is more than enough to discover this is a typo, we will replace value with 3, the correct amount of rooms."
   ]
  },
  {
   "cell_type": "code",
   "execution_count": 305,
   "metadata": {},
   "outputs": [
    {
     "data": {
      "text/plain": [
       "3     9732\n",
       "4     6849\n",
       "2     2736\n",
       "5     1586\n",
       "6      265\n",
       "1      191\n",
       "7       38\n",
       "8       13\n",
       "9        6\n",
       "10       3\n",
       "11       1\n",
       "Name: bedrooms, dtype: int64"
      ]
     },
     "execution_count": 305,
     "metadata": {},
     "output_type": "execute_result"
    }
   ],
   "source": [
    "df[\"bedrooms\"].replace(to_replace=33, value=3, inplace=True)\n",
    "df[\"bedrooms\"].value_counts()"
   ]
  },
  {
   "cell_type": "markdown",
   "metadata": {},
   "source": [
    "There's still some suspicious numbers, albeit less egregious. Let's take a look at the 11."
   ]
  },
  {
   "cell_type": "code",
   "execution_count": 306,
   "metadata": {
    "scrolled": true
   },
   "outputs": [
    {
     "data": {
      "text/html": [
       "<div>\n",
       "<style scoped>\n",
       "    .dataframe tbody tr th:only-of-type {\n",
       "        vertical-align: middle;\n",
       "    }\n",
       "\n",
       "    .dataframe tbody tr th {\n",
       "        vertical-align: top;\n",
       "    }\n",
       "\n",
       "    .dataframe thead th {\n",
       "        text-align: right;\n",
       "    }\n",
       "</style>\n",
       "<table border=\"1\" class=\"dataframe\">\n",
       "  <thead>\n",
       "    <tr style=\"text-align: right;\">\n",
       "      <th></th>\n",
       "      <th>id</th>\n",
       "      <th>date</th>\n",
       "      <th>price</th>\n",
       "      <th>bedrooms</th>\n",
       "      <th>bathrooms</th>\n",
       "      <th>sqft_living</th>\n",
       "      <th>sqft_lot</th>\n",
       "      <th>floors</th>\n",
       "      <th>waterfront</th>\n",
       "      <th>view</th>\n",
       "      <th>condition</th>\n",
       "      <th>grade</th>\n",
       "      <th>yr_built</th>\n",
       "    </tr>\n",
       "  </thead>\n",
       "  <tbody>\n",
       "    <tr>\n",
       "      <th>8748</th>\n",
       "      <td>1773100755</td>\n",
       "      <td>8/21/2014</td>\n",
       "      <td>520000.0</td>\n",
       "      <td>11</td>\n",
       "      <td>3.0</td>\n",
       "      <td>3000</td>\n",
       "      <td>4960</td>\n",
       "      <td>2.0</td>\n",
       "      <td>NO</td>\n",
       "      <td>NONE</td>\n",
       "      <td>Average</td>\n",
       "      <td>7 Average</td>\n",
       "      <td>1918</td>\n",
       "    </tr>\n",
       "  </tbody>\n",
       "</table>\n",
       "</div>"
      ],
      "text/plain": [
       "              id       date     price  bedrooms  bathrooms  sqft_living  \\\n",
       "8748  1773100755  8/21/2014  520000.0        11        3.0         3000   \n",
       "\n",
       "      sqft_lot  floors waterfront  view condition      grade  yr_built  \n",
       "8748      4960     2.0         NO  NONE   Average  7 Average      1918  "
      ]
     },
     "execution_count": 306,
     "metadata": {},
     "output_type": "execute_result"
    }
   ],
   "source": [
    "df.loc[df[\"bedrooms\"] == 11]"
   ]
  },
  {
   "cell_type": "markdown",
   "metadata": {},
   "source": [
    "Looking into this house, it appears this house actually has four bedrooms. Let's adjust that."
   ]
  },
  {
   "cell_type": "code",
   "execution_count": 307,
   "metadata": {},
   "outputs": [],
   "source": [
    "df[\"bedrooms\"].replace(to_replace=11, value=4, inplace=True)"
   ]
  },
  {
   "cell_type": "markdown",
   "metadata": {},
   "source": [
    "Much more reasonable - let's repeat the process of cleaning with the other columns\n",
    "\n",
    "\n",
    "<br>\n",
    "\n",
    "#### `bathrooms` column\n",
    "\n",
    "<br>\n"
   ]
  },
  {
   "cell_type": "code",
   "execution_count": 308,
   "metadata": {},
   "outputs": [
    {
     "data": {
      "image/png": "[encoded data removed]",
      "text/plain": [
       "<Figure size 432x288 with 1 Axes>"
      ]
     },
     "metadata": {
      "needs_background": "light"
     },
     "output_type": "display_data"
    }
   ],
   "source": [
    "hist_rooms(df, \"bathrooms\");"
   ]
  },
  {
   "cell_type": "code",
   "execution_count": 309,
   "metadata": {},
   "outputs": [
    {
     "data": {
      "text/html": [
       "<div>\n",
       "<style scoped>\n",
       "    .dataframe tbody tr th:only-of-type {\n",
       "        vertical-align: middle;\n",
       "    }\n",
       "\n",
       "    .dataframe tbody tr th {\n",
       "        vertical-align: top;\n",
       "    }\n",
       "\n",
       "    .dataframe thead th {\n",
       "        text-align: right;\n",
       "    }\n",
       "</style>\n",
       "<table border=\"1\" class=\"dataframe\">\n",
       "  <thead>\n",
       "    <tr style=\"text-align: right;\">\n",
       "      <th></th>\n",
       "      <th>id</th>\n",
       "      <th>date</th>\n",
       "      <th>price</th>\n",
       "      <th>bedrooms</th>\n",
       "      <th>bathrooms</th>\n",
       "      <th>sqft_living</th>\n",
       "      <th>sqft_lot</th>\n",
       "      <th>floors</th>\n",
       "      <th>waterfront</th>\n",
       "      <th>view</th>\n",
       "      <th>condition</th>\n",
       "      <th>grade</th>\n",
       "      <th>yr_built</th>\n",
       "    </tr>\n",
       "  </thead>\n",
       "  <tbody>\n",
       "    <tr>\n",
       "      <th>7245</th>\n",
       "      <td>6762700020</td>\n",
       "      <td>10/13/2014</td>\n",
       "      <td>7700000.0</td>\n",
       "      <td>6</td>\n",
       "      <td>8.0</td>\n",
       "      <td>12050</td>\n",
       "      <td>27600</td>\n",
       "      <td>2.5</td>\n",
       "      <td>NO</td>\n",
       "      <td>GOOD</td>\n",
       "      <td>Good</td>\n",
       "      <td>13 Mansion</td>\n",
       "      <td>1910</td>\n",
       "    </tr>\n",
       "    <tr>\n",
       "      <th>12764</th>\n",
       "      <td>1225069038</td>\n",
       "      <td>5/5/2014</td>\n",
       "      <td>2280000.0</td>\n",
       "      <td>7</td>\n",
       "      <td>8.0</td>\n",
       "      <td>13540</td>\n",
       "      <td>307752</td>\n",
       "      <td>3.0</td>\n",
       "      <td>NO</td>\n",
       "      <td>EXCELLENT</td>\n",
       "      <td>Average</td>\n",
       "      <td>12 Luxury</td>\n",
       "      <td>1999</td>\n",
       "    </tr>\n",
       "  </tbody>\n",
       "</table>\n",
       "</div>"
      ],
      "text/plain": [
       "               id        date      price  bedrooms  bathrooms  sqft_living  \\\n",
       "7245   6762700020  10/13/2014  7700000.0         6        8.0        12050   \n",
       "12764  1225069038    5/5/2014  2280000.0         7        8.0        13540   \n",
       "\n",
       "       sqft_lot  floors waterfront       view condition       grade  yr_built  \n",
       "7245      27600     2.5         NO       GOOD      Good  13 Mansion      1910  \n",
       "12764    307752     3.0         NO  EXCELLENT   Average   12 Luxury      1999  "
      ]
     },
     "execution_count": 309,
     "metadata": {},
     "output_type": "execute_result"
    }
   ],
   "source": [
    "extreme(df, \"bathrooms\")"
   ]
  },
  {
   "cell_type": "markdown",
   "metadata": {},
   "source": [
    "This is lots of bathrooms, but both houses are very large, so they're not unreasonable.\n",
    "\n",
    "\n",
    "<br>\n",
    "\n",
    "\n",
    "#### `sqft_living` column"
   ]
  },
  {
   "cell_type": "code",
   "execution_count": 310,
   "metadata": {},
   "outputs": [
    {
     "data": {
      "image/png": "[encoded data removed]",
      "text/plain": [
       "<Figure size 432x288 with 1 Axes>"
      ]
     },
     "metadata": {
      "needs_background": "light"
     },
     "output_type": "display_data"
    }
   ],
   "source": [
    "hist(df, \"sqft_living\");"
   ]
  },
  {
   "cell_type": "code",
   "execution_count": 311,
   "metadata": {
    "scrolled": false
   },
   "outputs": [
    {
     "data": {
      "text/html": [
       "<div>\n",
       "<style scoped>\n",
       "    .dataframe tbody tr th:only-of-type {\n",
       "        vertical-align: middle;\n",
       "    }\n",
       "\n",
       "    .dataframe tbody tr th {\n",
       "        vertical-align: top;\n",
       "    }\n",
       "\n",
       "    .dataframe thead th {\n",
       "        text-align: right;\n",
       "    }\n",
       "</style>\n",
       "<table border=\"1\" class=\"dataframe\">\n",
       "  <thead>\n",
       "    <tr style=\"text-align: right;\">\n",
       "      <th></th>\n",
       "      <th>id</th>\n",
       "      <th>date</th>\n",
       "      <th>price</th>\n",
       "      <th>bedrooms</th>\n",
       "      <th>bathrooms</th>\n",
       "      <th>sqft_living</th>\n",
       "      <th>sqft_lot</th>\n",
       "      <th>floors</th>\n",
       "      <th>waterfront</th>\n",
       "      <th>view</th>\n",
       "      <th>condition</th>\n",
       "      <th>grade</th>\n",
       "      <th>yr_built</th>\n",
       "    </tr>\n",
       "  </thead>\n",
       "  <tbody>\n",
       "    <tr>\n",
       "      <th>12764</th>\n",
       "      <td>1225069038</td>\n",
       "      <td>5/5/2014</td>\n",
       "      <td>2280000.0</td>\n",
       "      <td>7</td>\n",
       "      <td>8.0</td>\n",
       "      <td>13540</td>\n",
       "      <td>307752</td>\n",
       "      <td>3.0</td>\n",
       "      <td>NO</td>\n",
       "      <td>EXCELLENT</td>\n",
       "      <td>Average</td>\n",
       "      <td>12 Luxury</td>\n",
       "      <td>1999</td>\n",
       "    </tr>\n",
       "  </tbody>\n",
       "</table>\n",
       "</div>"
      ],
      "text/plain": [
       "               id      date      price  bedrooms  bathrooms  sqft_living  \\\n",
       "12764  1225069038  5/5/2014  2280000.0         7        8.0        13540   \n",
       "\n",
       "       sqft_lot  floors waterfront       view condition      grade  yr_built  \n",
       "12764    307752     3.0         NO  EXCELLENT   Average  12 Luxury      1999  "
      ]
     },
     "execution_count": 311,
     "metadata": {},
     "output_type": "execute_result"
    }
   ],
   "source": [
    "extreme(df, \"sqft_living\")"
   ]
  },
  {
   "cell_type": "markdown",
   "metadata": {},
   "source": [
    "Understandably, the largest house also is tied for most bathrooms, but if we take a look at the plot below, this house  can be considered an outlier, it has a large sqft living space and a low price, compared to houses similar in living space but sold for a higher price."
   ]
  },
  {
   "cell_type": "code",
   "execution_count": 312,
   "metadata": {
    "scrolled": true
   },
   "outputs": [
    {
     "data": {
      "image/png": "[encoded data removed]",
      "text/plain": [
       "<Figure size 432x288 with 1 Axes>"
      ]
     },
     "metadata": {
      "needs_background": "light"
     },
     "output_type": "display_data"
    }
   ],
   "source": [
    "plt.scatter(df['sqft_living'], df['price']);"
   ]
  },
  {
   "cell_type": "code",
   "execution_count": 313,
   "metadata": {},
   "outputs": [],
   "source": [
    "#dropping outlier\n",
    "\n",
    "df.drop(12764, inplace = True)"
   ]
  },
  {
   "cell_type": "markdown",
   "metadata": {},
   "source": [
    "\n",
    "\n",
    "<br>\n",
    "\n",
    "\n",
    "#### `sqft_lot` column"
   ]
  },
  {
   "cell_type": "code",
   "execution_count": 314,
   "metadata": {},
   "outputs": [
    {
     "data": {
      "image/png": "[encoded data removed]",
      "text/plain": [
       "<Figure size 432x288 with 1 Axes>"
      ]
     },
     "metadata": {
      "needs_background": "light"
     },
     "output_type": "display_data"
    }
   ],
   "source": [
    "hist(df, \"sqft_lot\");"
   ]
  },
  {
   "cell_type": "code",
   "execution_count": 315,
   "metadata": {
    "scrolled": true
   },
   "outputs": [
    {
     "data": {
      "text/html": [
       "<div>\n",
       "<style scoped>\n",
       "    .dataframe tbody tr th:only-of-type {\n",
       "        vertical-align: middle;\n",
       "    }\n",
       "\n",
       "    .dataframe tbody tr th {\n",
       "        vertical-align: top;\n",
       "    }\n",
       "\n",
       "    .dataframe thead th {\n",
       "        text-align: right;\n",
       "    }\n",
       "</style>\n",
       "<table border=\"1\" class=\"dataframe\">\n",
       "  <thead>\n",
       "    <tr style=\"text-align: right;\">\n",
       "      <th></th>\n",
       "      <th>id</th>\n",
       "      <th>date</th>\n",
       "      <th>price</th>\n",
       "      <th>bedrooms</th>\n",
       "      <th>bathrooms</th>\n",
       "      <th>sqft_living</th>\n",
       "      <th>sqft_lot</th>\n",
       "      <th>floors</th>\n",
       "      <th>waterfront</th>\n",
       "      <th>view</th>\n",
       "      <th>condition</th>\n",
       "      <th>grade</th>\n",
       "      <th>yr_built</th>\n",
       "    </tr>\n",
       "  </thead>\n",
       "  <tbody>\n",
       "    <tr>\n",
       "      <th>1717</th>\n",
       "      <td>1020069017</td>\n",
       "      <td>3/27/2015</td>\n",
       "      <td>700000.0</td>\n",
       "      <td>4</td>\n",
       "      <td>1.0</td>\n",
       "      <td>1300</td>\n",
       "      <td>1651359</td>\n",
       "      <td>1.0</td>\n",
       "      <td>NO</td>\n",
       "      <td>GOOD</td>\n",
       "      <td>Good</td>\n",
       "      <td>6 Low Average</td>\n",
       "      <td>1920</td>\n",
       "    </tr>\n",
       "  </tbody>\n",
       "</table>\n",
       "</div>"
      ],
      "text/plain": [
       "              id       date     price  bedrooms  bathrooms  sqft_living  \\\n",
       "1717  1020069017  3/27/2015  700000.0         4        1.0         1300   \n",
       "\n",
       "      sqft_lot  floors waterfront  view condition          grade  yr_built  \n",
       "1717   1651359     1.0         NO  GOOD      Good  6 Low Average      1920  "
      ]
     },
     "execution_count": 315,
     "metadata": {},
     "output_type": "execute_result"
    }
   ],
   "source": [
    "extreme(df, \"sqft_lot\")"
   ]
  },
  {
   "cell_type": "code",
   "execution_count": 316,
   "metadata": {
    "scrolled": true
   },
   "outputs": [
    {
     "data": {
      "text/plain": [
       "1651359"
      ]
     },
     "execution_count": 316,
     "metadata": {},
     "output_type": "execute_result"
    }
   ],
   "source": [
    "df['sqft_lot'].max()"
   ]
  },
  {
   "cell_type": "markdown",
   "metadata": {},
   "source": [
    "A search reveals this is a farm, which is unusual, but valid."
   ]
  },
  {
   "cell_type": "markdown",
   "metadata": {},
   "source": [
    "\n",
    "<br>\n",
    "\n",
    "#### `waterfront` column\n",
    "\n",
    "\n",
    "\n",
    "the column tells whether the house is on a waterfront"
   ]
  },
  {
   "cell_type": "code",
   "execution_count": 317,
   "metadata": {},
   "outputs": [
    {
     "data": {
      "text/plain": [
       "NO     18920\n",
       "YES      146\n",
       "Name: waterfront, dtype: int64"
      ]
     },
     "execution_count": 317,
     "metadata": {},
     "output_type": "execute_result"
    }
   ],
   "source": [
    "df['waterfront'].value_counts()"
   ]
  },
  {
   "cell_type": "code",
   "execution_count": 318,
   "metadata": {},
   "outputs": [
    {
     "data": {
      "text/plain": [
       "2353"
      ]
     },
     "execution_count": 318,
     "metadata": {},
     "output_type": "execute_result"
    }
   ],
   "source": [
    "df['waterfront'].isnull().sum()"
   ]
  },
  {
   "cell_type": "markdown",
   "metadata": {},
   "source": [
    "Will change NaN values to 'NO' since, since it is the most frequent value under that column"
   ]
  },
  {
   "cell_type": "code",
   "execution_count": 319,
   "metadata": {},
   "outputs": [],
   "source": [
    "df['waterfront'] = df['waterfront'].replace(np.nan, 'NO')"
   ]
  },
  {
   "cell_type": "code",
   "execution_count": 320,
   "metadata": {
    "scrolled": true
   },
   "outputs": [
    {
     "data": {
      "image/png": "[encoded data removed]",
      "text/plain": [
       "<Figure size 432x288 with 1 Axes>"
      ]
     },
     "metadata": {
      "needs_background": "light"
     },
     "output_type": "display_data"
    }
   ],
   "source": [
    "plt.hist(df['waterfront']);"
   ]
  },
  {
   "cell_type": "markdown",
   "metadata": {},
   "source": [
    "\n",
    "<br>\n",
    "\n",
    "\n",
    "#### `floors` column"
   ]
  },
  {
   "cell_type": "code",
   "execution_count": 321,
   "metadata": {},
   "outputs": [
    {
     "data": {
      "text/plain": [
       "1.0    10552\n",
       "2.0     8203\n",
       "1.5     1888\n",
       "3.0      608\n",
       "2.5      161\n",
       "3.5        7\n",
       "Name: floors, dtype: int64"
      ]
     },
     "execution_count": 321,
     "metadata": {},
     "output_type": "execute_result"
    }
   ],
   "source": [
    "df['floors'].value_counts()"
   ]
  },
  {
   "cell_type": "code",
   "execution_count": 322,
   "metadata": {
    "scrolled": true
   },
   "outputs": [
    {
     "data": {
      "image/png": "[encoded data removed]",
      "text/plain": [
       "<Figure size 432x288 with 1 Axes>"
      ]
     },
     "metadata": {
      "needs_background": "light"
     },
     "output_type": "display_data"
    }
   ],
   "source": [
    "plt.hist(df['floors']);"
   ]
  },
  {
   "cell_type": "code",
   "execution_count": 323,
   "metadata": {
    "scrolled": true
   },
   "outputs": [
    {
     "data": {
      "text/html": [
       "<div>\n",
       "<style scoped>\n",
       "    .dataframe tbody tr th:only-of-type {\n",
       "        vertical-align: middle;\n",
       "    }\n",
       "\n",
       "    .dataframe tbody tr th {\n",
       "        vertical-align: top;\n",
       "    }\n",
       "\n",
       "    .dataframe thead th {\n",
       "        text-align: right;\n",
       "    }\n",
       "</style>\n",
       "<table border=\"1\" class=\"dataframe\">\n",
       "  <thead>\n",
       "    <tr style=\"text-align: right;\">\n",
       "      <th></th>\n",
       "      <th>id</th>\n",
       "      <th>date</th>\n",
       "      <th>price</th>\n",
       "      <th>bedrooms</th>\n",
       "      <th>bathrooms</th>\n",
       "      <th>sqft_living</th>\n",
       "      <th>sqft_lot</th>\n",
       "      <th>floors</th>\n",
       "      <th>waterfront</th>\n",
       "      <th>view</th>\n",
       "      <th>condition</th>\n",
       "      <th>grade</th>\n",
       "      <th>yr_built</th>\n",
       "    </tr>\n",
       "  </thead>\n",
       "  <tbody>\n",
       "    <tr>\n",
       "      <th>10066</th>\n",
       "      <td>1972202010</td>\n",
       "      <td>8/1/2014</td>\n",
       "      <td>435000.0</td>\n",
       "      <td>3</td>\n",
       "      <td>3.00</td>\n",
       "      <td>1440</td>\n",
       "      <td>1350</td>\n",
       "      <td>3.5</td>\n",
       "      <td>NO</td>\n",
       "      <td>AVERAGE</td>\n",
       "      <td>Average</td>\n",
       "      <td>8 Good</td>\n",
       "      <td>2005</td>\n",
       "    </tr>\n",
       "    <tr>\n",
       "      <th>11582</th>\n",
       "      <td>3180100023</td>\n",
       "      <td>1/30/2015</td>\n",
       "      <td>544000.0</td>\n",
       "      <td>3</td>\n",
       "      <td>2.50</td>\n",
       "      <td>1760</td>\n",
       "      <td>1755</td>\n",
       "      <td>3.5</td>\n",
       "      <td>NO</td>\n",
       "      <td>NONE</td>\n",
       "      <td>Average</td>\n",
       "      <td>8 Good</td>\n",
       "      <td>1998</td>\n",
       "    </tr>\n",
       "    <tr>\n",
       "      <th>14871</th>\n",
       "      <td>8673400177</td>\n",
       "      <td>4/2/2015</td>\n",
       "      <td>525000.0</td>\n",
       "      <td>3</td>\n",
       "      <td>3.00</td>\n",
       "      <td>1730</td>\n",
       "      <td>1074</td>\n",
       "      <td>3.5</td>\n",
       "      <td>NO</td>\n",
       "      <td>NONE</td>\n",
       "      <td>Average</td>\n",
       "      <td>8 Good</td>\n",
       "      <td>2006</td>\n",
       "    </tr>\n",
       "    <tr>\n",
       "      <th>15410</th>\n",
       "      <td>1702900664</td>\n",
       "      <td>4/16/2015</td>\n",
       "      <td>479000.0</td>\n",
       "      <td>2</td>\n",
       "      <td>2.50</td>\n",
       "      <td>1730</td>\n",
       "      <td>1037</td>\n",
       "      <td>3.5</td>\n",
       "      <td>NO</td>\n",
       "      <td>NONE</td>\n",
       "      <td>Average</td>\n",
       "      <td>8 Good</td>\n",
       "      <td>2008</td>\n",
       "    </tr>\n",
       "    <tr>\n",
       "      <th>18462</th>\n",
       "      <td>1346300150</td>\n",
       "      <td>10/20/2014</td>\n",
       "      <td>3300000.0</td>\n",
       "      <td>8</td>\n",
       "      <td>4.00</td>\n",
       "      <td>7710</td>\n",
       "      <td>11750</td>\n",
       "      <td>3.5</td>\n",
       "      <td>NO</td>\n",
       "      <td>NONE</td>\n",
       "      <td>Very Good</td>\n",
       "      <td>12 Luxury</td>\n",
       "      <td>1904</td>\n",
       "    </tr>\n",
       "    <tr>\n",
       "      <th>20292</th>\n",
       "      <td>1972200426</td>\n",
       "      <td>9/18/2014</td>\n",
       "      <td>525000.0</td>\n",
       "      <td>2</td>\n",
       "      <td>2.75</td>\n",
       "      <td>1310</td>\n",
       "      <td>1268</td>\n",
       "      <td>3.5</td>\n",
       "      <td>NO</td>\n",
       "      <td>NONE</td>\n",
       "      <td>Average</td>\n",
       "      <td>8 Good</td>\n",
       "      <td>2007</td>\n",
       "    </tr>\n",
       "    <tr>\n",
       "      <th>20756</th>\n",
       "      <td>1972200428</td>\n",
       "      <td>6/25/2014</td>\n",
       "      <td>563500.0</td>\n",
       "      <td>3</td>\n",
       "      <td>2.50</td>\n",
       "      <td>1400</td>\n",
       "      <td>1312</td>\n",
       "      <td>3.5</td>\n",
       "      <td>NO</td>\n",
       "      <td>NONE</td>\n",
       "      <td>Average</td>\n",
       "      <td>8 Good</td>\n",
       "      <td>2007</td>\n",
       "    </tr>\n",
       "  </tbody>\n",
       "</table>\n",
       "</div>"
      ],
      "text/plain": [
       "               id        date      price  bedrooms  bathrooms  sqft_living  \\\n",
       "10066  1972202010    8/1/2014   435000.0         3       3.00         1440   \n",
       "11582  3180100023   1/30/2015   544000.0         3       2.50         1760   \n",
       "14871  8673400177    4/2/2015   525000.0         3       3.00         1730   \n",
       "15410  1702900664   4/16/2015   479000.0         2       2.50         1730   \n",
       "18462  1346300150  10/20/2014  3300000.0         8       4.00         7710   \n",
       "20292  1972200426   9/18/2014   525000.0         2       2.75         1310   \n",
       "20756  1972200428   6/25/2014   563500.0         3       2.50         1400   \n",
       "\n",
       "       sqft_lot  floors waterfront     view  condition      grade  yr_built  \n",
       "10066      1350     3.5         NO  AVERAGE    Average     8 Good      2005  \n",
       "11582      1755     3.5         NO     NONE    Average     8 Good      1998  \n",
       "14871      1074     3.5         NO     NONE    Average     8 Good      2006  \n",
       "15410      1037     3.5         NO     NONE    Average     8 Good      2008  \n",
       "18462     11750     3.5         NO     NONE  Very Good  12 Luxury      1904  \n",
       "20292      1268     3.5         NO     NONE    Average     8 Good      2007  \n",
       "20756      1312     3.5         NO     NONE    Average     8 Good      2007  "
      ]
     },
     "execution_count": 323,
     "metadata": {},
     "output_type": "execute_result"
    }
   ],
   "source": [
    "df.loc[df['floors'] == 3.5]"
   ]
  },
  {
   "cell_type": "markdown",
   "metadata": {},
   "source": [
    "Made a search for house with 3.5 floors and only 2 bedrooms just to confirm the information is accurate, it is an apartment unit."
   ]
  },
  {
   "cell_type": "markdown",
   "metadata": {},
   "source": [
    "<br>\n",
    "\n",
    "\n",
    "#### `conditions` column\n",
    "\n",
    "<br>\n",
    "\n",
    "The `condition` column tells us how good the overall condition of the house is, and is related to maintenance of house."
   ]
  },
  {
   "cell_type": "code",
   "execution_count": 324,
   "metadata": {
    "scrolled": true
   },
   "outputs": [
    {
     "data": {
      "image/png": "[encoded data removed]",
      "text/plain": [
       "<Figure size 432x288 with 1 Axes>"
      ]
     },
     "metadata": {
      "needs_background": "light"
     },
     "output_type": "display_data"
    }
   ],
   "source": [
    "plt.hist(df['condition']);"
   ]
  },
  {
   "cell_type": "code",
   "execution_count": 325,
   "metadata": {
    "scrolled": true
   },
   "outputs": [
    {
     "data": {
      "image/png": "[encoded data removed]",
      "text/plain": [
       "<Figure size 432x288 with 1 Axes>"
      ]
     },
     "metadata": {
      "needs_background": "light"
     },
     "output_type": "display_data"
    }
   ],
   "source": [
    "plt.scatter(df['condition'], df['price']);"
   ]
  },
  {
   "cell_type": "code",
   "execution_count": 326,
   "metadata": {
    "scrolled": true
   },
   "outputs": [
    {
     "data": {
      "text/html": [
       "<div>\n",
       "<style scoped>\n",
       "    .dataframe tbody tr th:only-of-type {\n",
       "        vertical-align: middle;\n",
       "    }\n",
       "\n",
       "    .dataframe tbody tr th {\n",
       "        vertical-align: top;\n",
       "    }\n",
       "\n",
       "    .dataframe thead th {\n",
       "        text-align: right;\n",
       "    }\n",
       "</style>\n",
       "<table border=\"1\" class=\"dataframe\">\n",
       "  <thead>\n",
       "    <tr style=\"text-align: right;\">\n",
       "      <th></th>\n",
       "      <th>id</th>\n",
       "      <th>date</th>\n",
       "      <th>price</th>\n",
       "      <th>bedrooms</th>\n",
       "      <th>bathrooms</th>\n",
       "      <th>sqft_living</th>\n",
       "      <th>sqft_lot</th>\n",
       "      <th>floors</th>\n",
       "      <th>waterfront</th>\n",
       "      <th>view</th>\n",
       "      <th>condition</th>\n",
       "      <th>grade</th>\n",
       "      <th>yr_built</th>\n",
       "    </tr>\n",
       "  </thead>\n",
       "  <tbody>\n",
       "    <tr>\n",
       "      <th>7245</th>\n",
       "      <td>6762700020</td>\n",
       "      <td>10/13/2014</td>\n",
       "      <td>7700000.0</td>\n",
       "      <td>6</td>\n",
       "      <td>8.0</td>\n",
       "      <td>12050</td>\n",
       "      <td>27600</td>\n",
       "      <td>2.5</td>\n",
       "      <td>NO</td>\n",
       "      <td>GOOD</td>\n",
       "      <td>Good</td>\n",
       "      <td>13 Mansion</td>\n",
       "      <td>1910</td>\n",
       "    </tr>\n",
       "  </tbody>\n",
       "</table>\n",
       "</div>"
      ],
      "text/plain": [
       "              id        date      price  bedrooms  bathrooms  sqft_living  \\\n",
       "7245  6762700020  10/13/2014  7700000.0         6        8.0        12050   \n",
       "\n",
       "      sqft_lot  floors waterfront  view condition       grade  yr_built  \n",
       "7245     27600     2.5         NO  GOOD      Good  13 Mansion      1910  "
      ]
     },
     "execution_count": 326,
     "metadata": {},
     "output_type": "execute_result"
    }
   ],
   "source": [
    "dff = df.loc[df['condition'] == 'Good']\n",
    "dff.loc[dff['price'] == dff['price'].max()]"
   ]
  },
  {
   "cell_type": "code",
   "execution_count": null,
   "metadata": {},
   "outputs": [],
   "source": []
  },
  {
   "cell_type": "markdown",
   "metadata": {},
   "source": [
    "<br>\n",
    "\n",
    "\n",
    "#### `grade` column\n",
    "\n",
    "<br>\n",
    "\n",
    "The `grade` column shows the overall grade of the house, related to the construction and design of the house."
   ]
  },
  {
   "cell_type": "code",
   "execution_count": 327,
   "metadata": {},
   "outputs": [
    {
     "data": {
      "text/plain": [
       "7 Average        8889\n",
       "8 Good           6041\n",
       "9 Better         2606\n",
       "6 Low Average    1995\n",
       "10 Very Good     1130\n",
       "11 Excellent      396\n",
       "5 Fair            234\n",
       "12 Luxury          87\n",
       "4 Low              27\n",
       "13 Mansion         13\n",
       "3 Poor              1\n",
       "Name: grade, dtype: int64"
      ]
     },
     "execution_count": 327,
     "metadata": {},
     "output_type": "execute_result"
    }
   ],
   "source": [
    "df['grade'].value_counts()"
   ]
  },
  {
   "cell_type": "code",
   "execution_count": 328,
   "metadata": {
    "scrolled": false
   },
   "outputs": [
    {
     "data": {
      "image/png": "[encoded data removed]",
      "text/plain": [
       "<Figure size 432x288 with 1 Axes>"
      ]
     },
     "metadata": {
      "needs_background": "light"
     },
     "output_type": "display_data"
    }
   ],
   "source": [
    "plt.hist(df['grade'])\n",
    "plt.xticks(rotation = 60);"
   ]
  },
  {
   "cell_type": "code",
   "execution_count": 329,
   "metadata": {
    "scrolled": true
   },
   "outputs": [
    {
     "data": {
      "image/png": "[encoded data removed]",
      "text/plain": [
       "<Figure size 432x288 with 1 Axes>"
      ]
     },
     "metadata": {
      "needs_background": "light"
     },
     "output_type": "display_data"
    }
   ],
   "source": [
    "plt.scatter(df['grade'], df['price'])\n",
    "plt.xticks(rotation = 60);"
   ]
  },
  {
   "cell_type": "markdown",
   "metadata": {},
   "source": [
    "We can notice the '13 mansion'  has some outliers, '11 Excellent' shows one outlier, we will take care of these"
   ]
  },
  {
   "cell_type": "code",
   "execution_count": 330,
   "metadata": {},
   "outputs": [
    {
     "data": {
      "text/html": [
       "<div>\n",
       "<style scoped>\n",
       "    .dataframe tbody tr th:only-of-type {\n",
       "        vertical-align: middle;\n",
       "    }\n",
       "\n",
       "    .dataframe tbody tr th {\n",
       "        vertical-align: top;\n",
       "    }\n",
       "\n",
       "    .dataframe thead th {\n",
       "        text-align: right;\n",
       "    }\n",
       "</style>\n",
       "<table border=\"1\" class=\"dataframe\">\n",
       "  <thead>\n",
       "    <tr style=\"text-align: right;\">\n",
       "      <th></th>\n",
       "      <th>id</th>\n",
       "      <th>date</th>\n",
       "      <th>price</th>\n",
       "      <th>bedrooms</th>\n",
       "      <th>bathrooms</th>\n",
       "      <th>sqft_living</th>\n",
       "      <th>sqft_lot</th>\n",
       "      <th>floors</th>\n",
       "      <th>waterfront</th>\n",
       "      <th>view</th>\n",
       "      <th>condition</th>\n",
       "      <th>grade</th>\n",
       "      <th>yr_built</th>\n",
       "    </tr>\n",
       "  </thead>\n",
       "  <tbody>\n",
       "    <tr>\n",
       "      <th>7245</th>\n",
       "      <td>6762700020</td>\n",
       "      <td>10/13/2014</td>\n",
       "      <td>7700000.0</td>\n",
       "      <td>6</td>\n",
       "      <td>8.0</td>\n",
       "      <td>12050</td>\n",
       "      <td>27600</td>\n",
       "      <td>2.5</td>\n",
       "      <td>NO</td>\n",
       "      <td>GOOD</td>\n",
       "      <td>Good</td>\n",
       "      <td>13 Mansion</td>\n",
       "      <td>1910</td>\n",
       "    </tr>\n",
       "  </tbody>\n",
       "</table>\n",
       "</div>"
      ],
      "text/plain": [
       "              id        date      price  bedrooms  bathrooms  sqft_living  \\\n",
       "7245  6762700020  10/13/2014  7700000.0         6        8.0        12050   \n",
       "\n",
       "      sqft_lot  floors waterfront  view condition       grade  yr_built  \n",
       "7245     27600     2.5         NO  GOOD      Good  13 Mansion      1910  "
      ]
     },
     "execution_count": 330,
     "metadata": {},
     "output_type": "execute_result"
    }
   ],
   "source": [
    "Mansions = df.loc[df['grade'] == '13 Mansion']\n",
    "Mansions.loc[Mansions['price'] == Mansions['price'].max()]"
   ]
  },
  {
   "cell_type": "code",
   "execution_count": 331,
   "metadata": {},
   "outputs": [],
   "source": [
    "df.drop(7245, inplace = True)"
   ]
  },
  {
   "cell_type": "code",
   "execution_count": 332,
   "metadata": {},
   "outputs": [],
   "source": [
    "df.drop(9245, inplace = True)"
   ]
  },
  {
   "cell_type": "code",
   "execution_count": 333,
   "metadata": {
    "scrolled": true
   },
   "outputs": [
    {
     "data": {
      "text/html": [
       "<div>\n",
       "<style scoped>\n",
       "    .dataframe tbody tr th:only-of-type {\n",
       "        vertical-align: middle;\n",
       "    }\n",
       "\n",
       "    .dataframe tbody tr th {\n",
       "        vertical-align: top;\n",
       "    }\n",
       "\n",
       "    .dataframe thead th {\n",
       "        text-align: right;\n",
       "    }\n",
       "</style>\n",
       "<table border=\"1\" class=\"dataframe\">\n",
       "  <thead>\n",
       "    <tr style=\"text-align: right;\">\n",
       "      <th></th>\n",
       "      <th>id</th>\n",
       "      <th>date</th>\n",
       "      <th>price</th>\n",
       "      <th>bedrooms</th>\n",
       "      <th>bathrooms</th>\n",
       "      <th>sqft_living</th>\n",
       "      <th>sqft_lot</th>\n",
       "      <th>floors</th>\n",
       "      <th>waterfront</th>\n",
       "      <th>view</th>\n",
       "      <th>condition</th>\n",
       "      <th>grade</th>\n",
       "      <th>yr_built</th>\n",
       "    </tr>\n",
       "  </thead>\n",
       "  <tbody>\n",
       "    <tr>\n",
       "      <th>3910</th>\n",
       "      <td>9808700762</td>\n",
       "      <td>6/11/2014</td>\n",
       "      <td>7060000.0</td>\n",
       "      <td>5</td>\n",
       "      <td>4.5</td>\n",
       "      <td>10040</td>\n",
       "      <td>37325</td>\n",
       "      <td>2.0</td>\n",
       "      <td>YES</td>\n",
       "      <td>AVERAGE</td>\n",
       "      <td>Average</td>\n",
       "      <td>11 Excellent</td>\n",
       "      <td>1940</td>\n",
       "    </tr>\n",
       "  </tbody>\n",
       "</table>\n",
       "</div>"
      ],
      "text/plain": [
       "              id       date      price  bedrooms  bathrooms  sqft_living  \\\n",
       "3910  9808700762  6/11/2014  7060000.0         5        4.5        10040   \n",
       "\n",
       "      sqft_lot  floors waterfront     view condition         grade  yr_built  \n",
       "3910     37325     2.0        YES  AVERAGE   Average  11 Excellent      1940  "
      ]
     },
     "execution_count": 333,
     "metadata": {},
     "output_type": "execute_result"
    }
   ],
   "source": [
    "Excellent = df.loc[df['grade'] == '11 Excellent']\n",
    "Excellent.loc[Excellent['price'] == Excellent['price'].max()]"
   ]
  },
  {
   "cell_type": "code",
   "execution_count": 334,
   "metadata": {},
   "outputs": [],
   "source": [
    "df.drop(3910, inplace = True)"
   ]
  },
  {
   "cell_type": "code",
   "execution_count": 335,
   "metadata": {
    "scrolled": true
   },
   "outputs": [
    {
     "data": {
      "image/png": "[encoded data removed]",
      "text/plain": [
       "<Figure size 432x288 with 1 Axes>"
      ]
     },
     "metadata": {
      "needs_background": "light"
     },
     "output_type": "display_data"
    }
   ],
   "source": [
    "plt.scatter(df['grade'], df['price'])\n",
    "plt.xticks(rotation = 60);"
   ]
  },
  {
   "cell_type": "markdown",
   "metadata": {},
   "source": [
    "<br>\n",
    "\n",
    "\n",
    "#### `yr_built` column\n",
    "\n",
    "<br>\n",
    "\n",
    "Year when house was built"
   ]
  },
  {
   "cell_type": "code",
   "execution_count": 336,
   "metadata": {},
   "outputs": [
    {
     "data": {
      "image/png": "[encoded data removed]",
      "text/plain": [
       "<Figure size 432x288 with 1 Axes>"
      ]
     },
     "metadata": {
      "needs_background": "light"
     },
     "output_type": "display_data"
    }
   ],
   "source": [
    "hist(df, \"yr_built\");"
   ]
  },
  {
   "cell_type": "markdown",
   "metadata": {},
   "source": [
    "We have records for houses built in 1900 to 2015"
   ]
  },
  {
   "cell_type": "markdown",
   "metadata": {},
   "source": [
    "<br>\n",
    "\n",
    "\n",
    "#### `view` column\n",
    "\n",
    "<br>\n",
    "\n",
    "This column describes quality of view from house"
   ]
  },
  {
   "cell_type": "code",
   "execution_count": 337,
   "metadata": {},
   "outputs": [
    {
     "data": {
      "text/plain": [
       "NONE         19253\n",
       "AVERAGE        955\n",
       "GOOD           504\n",
       "FAIR           329\n",
       "EXCELLENT      312\n",
       "Name: view, dtype: int64"
      ]
     },
     "execution_count": 337,
     "metadata": {},
     "output_type": "execute_result"
    }
   ],
   "source": [
    "df[\"view\"].value_counts()"
   ]
  },
  {
   "cell_type": "code",
   "execution_count": 338,
   "metadata": {},
   "outputs": [
    {
     "data": {
      "text/plain": [
       "63"
      ]
     },
     "execution_count": 338,
     "metadata": {},
     "output_type": "execute_result"
    }
   ],
   "source": [
    "df[\"view\"].isna().sum()"
   ]
  },
  {
   "cell_type": "markdown",
   "metadata": {},
   "source": [
    "Column view has 63 null values, we will deal with missing values later in the process"
   ]
  },
  {
   "cell_type": "markdown",
   "metadata": {},
   "source": [
    "\n",
    "<br>\n",
    "\n",
    "## Data Modeling"
   ]
  },
  {
   "cell_type": "markdown",
   "metadata": {},
   "source": [
    "We defined functions to help create a simple model, and a second function to create models using a log transformed target."
   ]
  },
  {
   "cell_type": "code",
   "execution_count": 339,
   "metadata": {},
   "outputs": [],
   "source": [
    "def simple_model(x):\n",
    "    y = df[\"price\"]\n",
    "    x_c = sm.add_constant(x)\n",
    "    return sm.OLS(endog=y, exog=x_c).fit().summary()"
   ]
  },
  {
   "cell_type": "code",
   "execution_count": 340,
   "metadata": {},
   "outputs": [],
   "source": [
    "def simple_ylog_model(x):\n",
    "    y = np.log(df[\"price\"])\n",
    "    x_c = sm.add_constant(x)\n",
    "    return sm.OLS(endog=y, exog=x_c).fit().summary()"
   ]
  },
  {
   "cell_type": "markdown",
   "metadata": {},
   "source": [
    "For the view feature, since we know we have null values in this column, we'll let those work as our missing points to prevent multicollinearity.\n",
    "\n",
    "<br>\n"
   ]
  },
  {
   "cell_type": "markdown",
   "metadata": {},
   "source": [
    "Created a dataframe separating each category in the view column into its own column."
   ]
  },
  {
   "cell_type": "code",
   "execution_count": 341,
   "metadata": {
    "scrolled": false
   },
   "outputs": [
    {
     "data": {
      "text/html": [
       "<div>\n",
       "<style scoped>\n",
       "    .dataframe tbody tr th:only-of-type {\n",
       "        vertical-align: middle;\n",
       "    }\n",
       "\n",
       "    .dataframe tbody tr th {\n",
       "        vertical-align: top;\n",
       "    }\n",
       "\n",
       "    .dataframe thead th {\n",
       "        text-align: right;\n",
       "    }\n",
       "</style>\n",
       "<table border=\"1\" class=\"dataframe\">\n",
       "  <thead>\n",
       "    <tr style=\"text-align: right;\">\n",
       "      <th></th>\n",
       "      <th>AVERAGE</th>\n",
       "      <th>EXCELLENT</th>\n",
       "      <th>FAIR</th>\n",
       "      <th>GOOD</th>\n",
       "      <th>NONE</th>\n",
       "    </tr>\n",
       "  </thead>\n",
       "  <tbody>\n",
       "    <tr>\n",
       "      <th>0</th>\n",
       "      <td>0</td>\n",
       "      <td>0</td>\n",
       "      <td>0</td>\n",
       "      <td>0</td>\n",
       "      <td>1</td>\n",
       "    </tr>\n",
       "    <tr>\n",
       "      <th>1</th>\n",
       "      <td>0</td>\n",
       "      <td>0</td>\n",
       "      <td>0</td>\n",
       "      <td>0</td>\n",
       "      <td>1</td>\n",
       "    </tr>\n",
       "    <tr>\n",
       "      <th>2</th>\n",
       "      <td>0</td>\n",
       "      <td>0</td>\n",
       "      <td>0</td>\n",
       "      <td>0</td>\n",
       "      <td>1</td>\n",
       "    </tr>\n",
       "    <tr>\n",
       "      <th>3</th>\n",
       "      <td>0</td>\n",
       "      <td>0</td>\n",
       "      <td>0</td>\n",
       "      <td>0</td>\n",
       "      <td>1</td>\n",
       "    </tr>\n",
       "    <tr>\n",
       "      <th>4</th>\n",
       "      <td>0</td>\n",
       "      <td>0</td>\n",
       "      <td>0</td>\n",
       "      <td>0</td>\n",
       "      <td>1</td>\n",
       "    </tr>\n",
       "    <tr>\n",
       "      <th>...</th>\n",
       "      <td>...</td>\n",
       "      <td>...</td>\n",
       "      <td>...</td>\n",
       "      <td>...</td>\n",
       "      <td>...</td>\n",
       "    </tr>\n",
       "    <tr>\n",
       "      <th>21592</th>\n",
       "      <td>0</td>\n",
       "      <td>0</td>\n",
       "      <td>0</td>\n",
       "      <td>0</td>\n",
       "      <td>1</td>\n",
       "    </tr>\n",
       "    <tr>\n",
       "      <th>21593</th>\n",
       "      <td>0</td>\n",
       "      <td>0</td>\n",
       "      <td>0</td>\n",
       "      <td>0</td>\n",
       "      <td>1</td>\n",
       "    </tr>\n",
       "    <tr>\n",
       "      <th>21594</th>\n",
       "      <td>0</td>\n",
       "      <td>0</td>\n",
       "      <td>0</td>\n",
       "      <td>0</td>\n",
       "      <td>1</td>\n",
       "    </tr>\n",
       "    <tr>\n",
       "      <th>21595</th>\n",
       "      <td>0</td>\n",
       "      <td>0</td>\n",
       "      <td>0</td>\n",
       "      <td>0</td>\n",
       "      <td>1</td>\n",
       "    </tr>\n",
       "    <tr>\n",
       "      <th>21596</th>\n",
       "      <td>0</td>\n",
       "      <td>0</td>\n",
       "      <td>0</td>\n",
       "      <td>0</td>\n",
       "      <td>1</td>\n",
       "    </tr>\n",
       "  </tbody>\n",
       "</table>\n",
       "<p>21416 rows × 5 columns</p>\n",
       "</div>"
      ],
      "text/plain": [
       "       AVERAGE  EXCELLENT  FAIR  GOOD  NONE\n",
       "0            0          0     0     0     1\n",
       "1            0          0     0     0     1\n",
       "2            0          0     0     0     1\n",
       "3            0          0     0     0     1\n",
       "4            0          0     0     0     1\n",
       "...        ...        ...   ...   ...   ...\n",
       "21592        0          0     0     0     1\n",
       "21593        0          0     0     0     1\n",
       "21594        0          0     0     0     1\n",
       "21595        0          0     0     0     1\n",
       "21596        0          0     0     0     1\n",
       "\n",
       "[21416 rows x 5 columns]"
      ]
     },
     "execution_count": 341,
     "metadata": {},
     "output_type": "execute_result"
    }
   ],
   "source": [
    "view_dummies = pd.get_dummies(df[\"view\"])\n",
    "view_dummies"
   ]
  },
  {
   "cell_type": "markdown",
   "metadata": {},
   "source": [
    "\n",
    "<br>\n",
    "\n",
    "Lets built a simple model using view features"
   ]
  },
  {
   "cell_type": "code",
   "execution_count": 342,
   "metadata": {
    "scrolled": false
   },
   "outputs": [
    {
     "data": {
      "text/html": [
       "<table class=\"simpletable\">\n",
       "<caption>OLS Regression Results</caption>\n",
       "<tr>\n",
       "  <th>Dep. Variable:</th>          <td>price</td>      <th>  R-squared:         </th>  <td>   0.165</td>  \n",
       "</tr>\n",
       "<tr>\n",
       "  <th>Model:</th>                   <td>OLS</td>       <th>  Adj. R-squared:    </th>  <td>   0.165</td>  \n",
       "</tr>\n",
       "<tr>\n",
       "  <th>Method:</th>             <td>Least Squares</td>  <th>  F-statistic:       </th>  <td>   845.1</td>  \n",
       "</tr>\n",
       "<tr>\n",
       "  <th>Date:</th>             <td>Wed, 26 Oct 2022</td> <th>  Prob (F-statistic):</th>   <td>  0.00</td>   \n",
       "</tr>\n",
       "<tr>\n",
       "  <th>Time:</th>                 <td>20:56:15</td>     <th>  Log-Likelihood:    </th> <td>-3.0238e+05</td>\n",
       "</tr>\n",
       "<tr>\n",
       "  <th>No. Observations:</th>      <td> 21416</td>      <th>  AIC:               </th>  <td>6.048e+05</td> \n",
       "</tr>\n",
       "<tr>\n",
       "  <th>Df Residuals:</th>          <td> 21410</td>      <th>  BIC:               </th>  <td>6.048e+05</td> \n",
       "</tr>\n",
       "<tr>\n",
       "  <th>Df Model:</th>              <td>     5</td>      <th>                     </th>      <td> </td>     \n",
       "</tr>\n",
       "<tr>\n",
       "  <th>Covariance Type:</th>      <td>nonrobust</td>    <th>                     </th>      <td> </td>     \n",
       "</tr>\n",
       "</table>\n",
       "<table class=\"simpletable\">\n",
       "<tr>\n",
       "      <td></td>         <th>coef</th>     <th>std err</th>      <th>t</th>      <th>P>|t|</th>  <th>[0.025</th>    <th>0.975]</th>  \n",
       "</tr>\n",
       "<tr>\n",
       "  <th>const</th>     <td>  6.22e+05</td> <td> 4.13e+04</td> <td>   15.054</td> <td> 0.000</td> <td> 5.41e+05</td> <td> 7.03e+05</td>\n",
       "</tr>\n",
       "<tr>\n",
       "  <th>AVERAGE</th>   <td> 1.634e+05</td> <td> 4.27e+04</td> <td>    3.832</td> <td> 0.000</td> <td> 7.98e+04</td> <td> 2.47e+05</td>\n",
       "</tr>\n",
       "<tr>\n",
       "  <th>EXCELLENT</th> <td> 8.124e+05</td> <td> 4.53e+04</td> <td>   17.936</td> <td> 0.000</td> <td> 7.24e+05</td> <td> 9.01e+05</td>\n",
       "</tr>\n",
       "<tr>\n",
       "  <th>FAIR</th>      <td> 1.924e+05</td> <td> 4.51e+04</td> <td>    4.267</td> <td> 0.000</td> <td> 1.04e+05</td> <td> 2.81e+05</td>\n",
       "</tr>\n",
       "<tr>\n",
       "  <th>GOOD</th>      <td> 3.375e+05</td> <td> 4.38e+04</td> <td>    7.703</td> <td> 0.000</td> <td> 2.52e+05</td> <td> 4.23e+05</td>\n",
       "</tr>\n",
       "<tr>\n",
       "  <th>NONE</th>      <td>-1.236e+05</td> <td> 4.14e+04</td> <td>   -2.987</td> <td> 0.003</td> <td>-2.05e+05</td> <td>-4.25e+04</td>\n",
       "</tr>\n",
       "</table>\n",
       "<table class=\"simpletable\">\n",
       "<tr>\n",
       "  <th>Omnibus:</th>       <td>14786.065</td> <th>  Durbin-Watson:     </th>  <td>   1.970</td> \n",
       "</tr>\n",
       "<tr>\n",
       "  <th>Prob(Omnibus):</th>  <td> 0.000</td>   <th>  Jarque-Bera (JB):  </th> <td>377751.664</td>\n",
       "</tr>\n",
       "<tr>\n",
       "  <th>Skew:</th>           <td> 2.986</td>   <th>  Prob(JB):          </th>  <td>    0.00</td> \n",
       "</tr>\n",
       "<tr>\n",
       "  <th>Kurtosis:</th>       <td>22.689</td>   <th>  Cond. No.          </th>  <td>    61.9</td> \n",
       "</tr>\n",
       "</table><br/><br/>Notes:<br/>[1] Standard Errors assume that the covariance matrix of the errors is correctly specified."
      ],
      "text/plain": [
       "<class 'statsmodels.iolib.summary.Summary'>\n",
       "\"\"\"\n",
       "                            OLS Regression Results                            \n",
       "==============================================================================\n",
       "Dep. Variable:                  price   R-squared:                       0.165\n",
       "Model:                            OLS   Adj. R-squared:                  0.165\n",
       "Method:                 Least Squares   F-statistic:                     845.1\n",
       "Date:                Wed, 26 Oct 2022   Prob (F-statistic):               0.00\n",
       "Time:                        20:56:15   Log-Likelihood:            -3.0238e+05\n",
       "No. Observations:               21416   AIC:                         6.048e+05\n",
       "Df Residuals:                   21410   BIC:                         6.048e+05\n",
       "Df Model:                           5                                         \n",
       "Covariance Type:            nonrobust                                         \n",
       "==============================================================================\n",
       "                 coef    std err          t      P>|t|      [0.025      0.975]\n",
       "------------------------------------------------------------------------------\n",
       "const        6.22e+05   4.13e+04     15.054      0.000    5.41e+05    7.03e+05\n",
       "AVERAGE     1.634e+05   4.27e+04      3.832      0.000    7.98e+04    2.47e+05\n",
       "EXCELLENT   8.124e+05   4.53e+04     17.936      0.000    7.24e+05    9.01e+05\n",
       "FAIR        1.924e+05   4.51e+04      4.267      0.000    1.04e+05    2.81e+05\n",
       "GOOD        3.375e+05   4.38e+04      7.703      0.000    2.52e+05    4.23e+05\n",
       "NONE       -1.236e+05   4.14e+04     -2.987      0.003   -2.05e+05   -4.25e+04\n",
       "==============================================================================\n",
       "Omnibus:                    14786.065   Durbin-Watson:                   1.970\n",
       "Prob(Omnibus):                  0.000   Jarque-Bera (JB):           377751.664\n",
       "Skew:                           2.986   Prob(JB):                         0.00\n",
       "Kurtosis:                      22.689   Cond. No.                         61.9\n",
       "==============================================================================\n",
       "\n",
       "Notes:\n",
       "[1] Standard Errors assume that the covariance matrix of the errors is correctly specified.\n",
       "\"\"\""
      ]
     },
     "execution_count": 342,
     "metadata": {},
     "output_type": "execute_result"
    }
   ],
   "source": [
    "simple_model(view_dummies)"
   ]
  },
  {
   "cell_type": "markdown",
   "metadata": {},
   "source": [
    "\n",
    "<br>\n",
    "\n",
    "We can set the nulls as not having a view. As is, it appears that 'NONE' is weaker than an undocumented view (null), \n",
    "but let's take a look, by simply dropping the \"NONE\" column, the two will be viewed as equal by the model.\n",
    "\n",
    "<br>\n"
   ]
  },
  {
   "cell_type": "code",
   "execution_count": 343,
   "metadata": {},
   "outputs": [],
   "source": [
    "view_dummies2 = view_dummies.drop(\"NONE\", axis=1)"
   ]
  },
  {
   "cell_type": "code",
   "execution_count": 344,
   "metadata": {},
   "outputs": [
    {
     "data": {
      "text/html": [
       "<table class=\"simpletable\">\n",
       "<caption>OLS Regression Results</caption>\n",
       "<tr>\n",
       "  <th>Dep. Variable:</th>          <td>price</td>      <th>  R-squared:         </th>  <td>   0.164</td>  \n",
       "</tr>\n",
       "<tr>\n",
       "  <th>Model:</th>                   <td>OLS</td>       <th>  Adj. R-squared:    </th>  <td>   0.164</td>  \n",
       "</tr>\n",
       "<tr>\n",
       "  <th>Method:</th>             <td>Least Squares</td>  <th>  F-statistic:       </th>  <td>   1054.</td>  \n",
       "</tr>\n",
       "<tr>\n",
       "  <th>Date:</th>             <td>Wed, 26 Oct 2022</td> <th>  Prob (F-statistic):</th>   <td>  0.00</td>   \n",
       "</tr>\n",
       "<tr>\n",
       "  <th>Time:</th>                 <td>20:56:23</td>     <th>  Log-Likelihood:    </th> <td>-3.0238e+05</td>\n",
       "</tr>\n",
       "<tr>\n",
       "  <th>No. Observations:</th>      <td> 21416</td>      <th>  AIC:               </th>  <td>6.048e+05</td> \n",
       "</tr>\n",
       "<tr>\n",
       "  <th>Df Residuals:</th>          <td> 21411</td>      <th>  BIC:               </th>  <td>6.048e+05</td> \n",
       "</tr>\n",
       "<tr>\n",
       "  <th>Df Model:</th>              <td>     4</td>      <th>                     </th>      <td> </td>     \n",
       "</tr>\n",
       "<tr>\n",
       "  <th>Covariance Type:</th>      <td>nonrobust</td>    <th>                     </th>      <td> </td>     \n",
       "</tr>\n",
       "</table>\n",
       "<table class=\"simpletable\">\n",
       "<tr>\n",
       "      <td></td>         <th>coef</th>     <th>std err</th>      <th>t</th>      <th>P>|t|</th>  <th>[0.025</th>    <th>0.975]</th>  \n",
       "</tr>\n",
       "<tr>\n",
       "  <th>const</th>     <td> 4.987e+05</td> <td> 2359.875</td> <td>  211.342</td> <td> 0.000</td> <td> 4.94e+05</td> <td> 5.03e+05</td>\n",
       "</tr>\n",
       "<tr>\n",
       "  <th>AVERAGE</th>   <td> 2.867e+05</td> <td> 1.09e+04</td> <td>   26.365</td> <td> 0.000</td> <td> 2.65e+05</td> <td> 3.08e+05</td>\n",
       "</tr>\n",
       "<tr>\n",
       "  <th>EXCELLENT</th> <td> 9.356e+05</td> <td> 1.87e+04</td> <td>   49.986</td> <td> 0.000</td> <td> 8.99e+05</td> <td> 9.72e+05</td>\n",
       "</tr>\n",
       "<tr>\n",
       "  <th>FAIR</th>      <td> 3.156e+05</td> <td> 1.82e+04</td> <td>   17.310</td> <td> 0.000</td> <td>  2.8e+05</td> <td> 3.51e+05</td>\n",
       "</tr>\n",
       "<tr>\n",
       "  <th>GOOD</th>      <td> 4.608e+05</td> <td> 1.48e+04</td> <td>   31.135</td> <td> 0.000</td> <td> 4.32e+05</td> <td>  4.9e+05</td>\n",
       "</tr>\n",
       "</table>\n",
       "<table class=\"simpletable\">\n",
       "<tr>\n",
       "  <th>Omnibus:</th>       <td>14837.128</td> <th>  Durbin-Watson:     </th>  <td>   1.970</td> \n",
       "</tr>\n",
       "<tr>\n",
       "  <th>Prob(Omnibus):</th>  <td> 0.000</td>   <th>  Jarque-Bera (JB):  </th> <td>384719.069</td>\n",
       "</tr>\n",
       "<tr>\n",
       "  <th>Skew:</th>           <td> 2.996</td>   <th>  Prob(JB):          </th>  <td>    0.00</td> \n",
       "</tr>\n",
       "<tr>\n",
       "  <th>Kurtosis:</th>       <td>22.880</td>   <th>  Cond. No.          </th>  <td>    8.39</td> \n",
       "</tr>\n",
       "</table><br/><br/>Notes:<br/>[1] Standard Errors assume that the covariance matrix of the errors is correctly specified."
      ],
      "text/plain": [
       "<class 'statsmodels.iolib.summary.Summary'>\n",
       "\"\"\"\n",
       "                            OLS Regression Results                            \n",
       "==============================================================================\n",
       "Dep. Variable:                  price   R-squared:                       0.164\n",
       "Model:                            OLS   Adj. R-squared:                  0.164\n",
       "Method:                 Least Squares   F-statistic:                     1054.\n",
       "Date:                Wed, 26 Oct 2022   Prob (F-statistic):               0.00\n",
       "Time:                        20:56:23   Log-Likelihood:            -3.0238e+05\n",
       "No. Observations:               21416   AIC:                         6.048e+05\n",
       "Df Residuals:                   21411   BIC:                         6.048e+05\n",
       "Df Model:                           4                                         \n",
       "Covariance Type:            nonrobust                                         \n",
       "==============================================================================\n",
       "                 coef    std err          t      P>|t|      [0.025      0.975]\n",
       "------------------------------------------------------------------------------\n",
       "const       4.987e+05   2359.875    211.342      0.000    4.94e+05    5.03e+05\n",
       "AVERAGE     2.867e+05   1.09e+04     26.365      0.000    2.65e+05    3.08e+05\n",
       "EXCELLENT   9.356e+05   1.87e+04     49.986      0.000    8.99e+05    9.72e+05\n",
       "FAIR        3.156e+05   1.82e+04     17.310      0.000     2.8e+05    3.51e+05\n",
       "GOOD        4.608e+05   1.48e+04     31.135      0.000    4.32e+05     4.9e+05\n",
       "==============================================================================\n",
       "Omnibus:                    14837.128   Durbin-Watson:                   1.970\n",
       "Prob(Omnibus):                  0.000   Jarque-Bera (JB):           384719.069\n",
       "Skew:                           2.996   Prob(JB):                         0.00\n",
       "Kurtosis:                      22.880   Cond. No.                         8.39\n",
       "==============================================================================\n",
       "\n",
       "Notes:\n",
       "[1] Standard Errors assume that the covariance matrix of the errors is correctly specified.\n",
       "\"\"\""
      ]
     },
     "execution_count": 344,
     "metadata": {},
     "output_type": "execute_result"
    }
   ],
   "source": [
    "simple_model(view_dummies2)"
   ]
  },
  {
   "cell_type": "markdown",
   "metadata": {},
   "source": [
    "\n",
    "<br>\n",
    "\n",
    "Created a function to add dummy view columns to a single dataframe including `bedrooms`\t`bathrooms`\t`sqft_living`\t`sqft_lot` features and set them as our exogenous."
   ]
  },
  {
   "cell_type": "code",
   "execution_count": 345,
   "metadata": {},
   "outputs": [],
   "source": [
    "def add_views(df):\n",
    "    df[\"No_view\"] = view_dummies[\"NONE\"]\n",
    "    df[\"Fair_view\"] = view_dummies[\"FAIR\"]\n",
    "    df[\"Average_view\"] = view_dummies[\"AVERAGE\"]\n",
    "    df[\"Good_view\"] = view_dummies[\"GOOD\"]\n",
    "    df[\"Excellent_view\"] = view_dummies[\"EXCELLENT\"]"
   ]
  },
  {
   "cell_type": "code",
   "execution_count": 346,
   "metadata": {},
   "outputs": [
    {
     "data": {
      "text/html": [
       "<div>\n",
       "<style scoped>\n",
       "    .dataframe tbody tr th:only-of-type {\n",
       "        vertical-align: middle;\n",
       "    }\n",
       "\n",
       "    .dataframe tbody tr th {\n",
       "        vertical-align: top;\n",
       "    }\n",
       "\n",
       "    .dataframe thead th {\n",
       "        text-align: right;\n",
       "    }\n",
       "</style>\n",
       "<table border=\"1\" class=\"dataframe\">\n",
       "  <thead>\n",
       "    <tr style=\"text-align: right;\">\n",
       "      <th></th>\n",
       "      <th>bedrooms</th>\n",
       "      <th>bathrooms</th>\n",
       "      <th>sqft_living</th>\n",
       "      <th>sqft_lot</th>\n",
       "      <th>No_view</th>\n",
       "      <th>Fair_view</th>\n",
       "      <th>Average_view</th>\n",
       "      <th>Good_view</th>\n",
       "      <th>Excellent_view</th>\n",
       "    </tr>\n",
       "  </thead>\n",
       "  <tbody>\n",
       "    <tr>\n",
       "      <th>0</th>\n",
       "      <td>3</td>\n",
       "      <td>1.00</td>\n",
       "      <td>1180</td>\n",
       "      <td>5650</td>\n",
       "      <td>1</td>\n",
       "      <td>0</td>\n",
       "      <td>0</td>\n",
       "      <td>0</td>\n",
       "      <td>0</td>\n",
       "    </tr>\n",
       "    <tr>\n",
       "      <th>1</th>\n",
       "      <td>3</td>\n",
       "      <td>2.25</td>\n",
       "      <td>2570</td>\n",
       "      <td>7242</td>\n",
       "      <td>1</td>\n",
       "      <td>0</td>\n",
       "      <td>0</td>\n",
       "      <td>0</td>\n",
       "      <td>0</td>\n",
       "    </tr>\n",
       "    <tr>\n",
       "      <th>2</th>\n",
       "      <td>2</td>\n",
       "      <td>1.00</td>\n",
       "      <td>770</td>\n",
       "      <td>10000</td>\n",
       "      <td>1</td>\n",
       "      <td>0</td>\n",
       "      <td>0</td>\n",
       "      <td>0</td>\n",
       "      <td>0</td>\n",
       "    </tr>\n",
       "    <tr>\n",
       "      <th>3</th>\n",
       "      <td>4</td>\n",
       "      <td>3.00</td>\n",
       "      <td>1960</td>\n",
       "      <td>5000</td>\n",
       "      <td>1</td>\n",
       "      <td>0</td>\n",
       "      <td>0</td>\n",
       "      <td>0</td>\n",
       "      <td>0</td>\n",
       "    </tr>\n",
       "    <tr>\n",
       "      <th>4</th>\n",
       "      <td>3</td>\n",
       "      <td>2.00</td>\n",
       "      <td>1680</td>\n",
       "      <td>8080</td>\n",
       "      <td>1</td>\n",
       "      <td>0</td>\n",
       "      <td>0</td>\n",
       "      <td>0</td>\n",
       "      <td>0</td>\n",
       "    </tr>\n",
       "    <tr>\n",
       "      <th>...</th>\n",
       "      <td>...</td>\n",
       "      <td>...</td>\n",
       "      <td>...</td>\n",
       "      <td>...</td>\n",
       "      <td>...</td>\n",
       "      <td>...</td>\n",
       "      <td>...</td>\n",
       "      <td>...</td>\n",
       "      <td>...</td>\n",
       "    </tr>\n",
       "    <tr>\n",
       "      <th>21592</th>\n",
       "      <td>3</td>\n",
       "      <td>2.50</td>\n",
       "      <td>1530</td>\n",
       "      <td>1131</td>\n",
       "      <td>1</td>\n",
       "      <td>0</td>\n",
       "      <td>0</td>\n",
       "      <td>0</td>\n",
       "      <td>0</td>\n",
       "    </tr>\n",
       "    <tr>\n",
       "      <th>21593</th>\n",
       "      <td>4</td>\n",
       "      <td>2.50</td>\n",
       "      <td>2310</td>\n",
       "      <td>5813</td>\n",
       "      <td>1</td>\n",
       "      <td>0</td>\n",
       "      <td>0</td>\n",
       "      <td>0</td>\n",
       "      <td>0</td>\n",
       "    </tr>\n",
       "    <tr>\n",
       "      <th>21594</th>\n",
       "      <td>2</td>\n",
       "      <td>0.75</td>\n",
       "      <td>1020</td>\n",
       "      <td>1350</td>\n",
       "      <td>1</td>\n",
       "      <td>0</td>\n",
       "      <td>0</td>\n",
       "      <td>0</td>\n",
       "      <td>0</td>\n",
       "    </tr>\n",
       "    <tr>\n",
       "      <th>21595</th>\n",
       "      <td>3</td>\n",
       "      <td>2.50</td>\n",
       "      <td>1600</td>\n",
       "      <td>2388</td>\n",
       "      <td>1</td>\n",
       "      <td>0</td>\n",
       "      <td>0</td>\n",
       "      <td>0</td>\n",
       "      <td>0</td>\n",
       "    </tr>\n",
       "    <tr>\n",
       "      <th>21596</th>\n",
       "      <td>2</td>\n",
       "      <td>0.75</td>\n",
       "      <td>1020</td>\n",
       "      <td>1076</td>\n",
       "      <td>1</td>\n",
       "      <td>0</td>\n",
       "      <td>0</td>\n",
       "      <td>0</td>\n",
       "      <td>0</td>\n",
       "    </tr>\n",
       "  </tbody>\n",
       "</table>\n",
       "<p>21416 rows × 9 columns</p>\n",
       "</div>"
      ],
      "text/plain": [
       "       bedrooms  bathrooms  sqft_living  sqft_lot  No_view  Fair_view  \\\n",
       "0             3       1.00         1180      5650        1          0   \n",
       "1             3       2.25         2570      7242        1          0   \n",
       "2             2       1.00          770     10000        1          0   \n",
       "3             4       3.00         1960      5000        1          0   \n",
       "4             3       2.00         1680      8080        1          0   \n",
       "...         ...        ...          ...       ...      ...        ...   \n",
       "21592         3       2.50         1530      1131        1          0   \n",
       "21593         4       2.50         2310      5813        1          0   \n",
       "21594         2       0.75         1020      1350        1          0   \n",
       "21595         3       2.50         1600      2388        1          0   \n",
       "21596         2       0.75         1020      1076        1          0   \n",
       "\n",
       "       Average_view  Good_view  Excellent_view  \n",
       "0                 0          0               0  \n",
       "1                 0          0               0  \n",
       "2                 0          0               0  \n",
       "3                 0          0               0  \n",
       "4                 0          0               0  \n",
       "...             ...        ...             ...  \n",
       "21592             0          0               0  \n",
       "21593             0          0               0  \n",
       "21594             0          0               0  \n",
       "21595             0          0               0  \n",
       "21596             0          0               0  \n",
       "\n",
       "[21416 rows x 9 columns]"
      ]
     },
     "execution_count": 346,
     "metadata": {},
     "output_type": "execute_result"
    }
   ],
   "source": [
    "data_d = df.drop(labels=[\"id\",\"date\",\"price\",\"floors\",\"waterfront\",\"condition\",\"grade\",\"yr_built\",\"view\"], axis=1)\n",
    "add_views(data_d)\n",
    "data_d"
   ]
  },
  {
   "cell_type": "code",
   "execution_count": 347,
   "metadata": {},
   "outputs": [],
   "source": [
    "x, y = sm.add_constant(data_d), df[\"price\"]"
   ]
  },
  {
   "cell_type": "code",
   "execution_count": 348,
   "metadata": {},
   "outputs": [
    {
     "data": {
      "text/html": [
       "<table class=\"simpletable\">\n",
       "<caption>OLS Regression Results</caption>\n",
       "<tr>\n",
       "  <th>Dep. Variable:</th>          <td>price</td>      <th>  R-squared:         </th>  <td>   0.551</td>  \n",
       "</tr>\n",
       "<tr>\n",
       "  <th>Model:</th>                   <td>OLS</td>       <th>  Adj. R-squared:    </th>  <td>   0.551</td>  \n",
       "</tr>\n",
       "<tr>\n",
       "  <th>Method:</th>             <td>Least Squares</td>  <th>  F-statistic:       </th>  <td>   2920.</td>  \n",
       "</tr>\n",
       "<tr>\n",
       "  <th>Date:</th>             <td>Wed, 26 Oct 2022</td> <th>  Prob (F-statistic):</th>   <td>  0.00</td>   \n",
       "</tr>\n",
       "<tr>\n",
       "  <th>Time:</th>                 <td>21:04:20</td>     <th>  Log-Likelihood:    </th> <td>-2.9573e+05</td>\n",
       "</tr>\n",
       "<tr>\n",
       "  <th>No. Observations:</th>      <td> 21416</td>      <th>  AIC:               </th>  <td>5.915e+05</td> \n",
       "</tr>\n",
       "<tr>\n",
       "  <th>Df Residuals:</th>          <td> 21406</td>      <th>  BIC:               </th>  <td>5.916e+05</td> \n",
       "</tr>\n",
       "<tr>\n",
       "  <th>Df Model:</th>              <td>     9</td>      <th>                     </th>      <td> </td>     \n",
       "</tr>\n",
       "<tr>\n",
       "  <th>Covariance Type:</th>      <td>nonrobust</td>    <th>                     </th>      <td> </td>     \n",
       "</tr>\n",
       "</table>\n",
       "<table class=\"simpletable\">\n",
       "<tr>\n",
       "         <td></td>           <th>coef</th>     <th>std err</th>      <th>t</th>      <th>P>|t|</th>  <th>[0.025</th>    <th>0.975]</th>  \n",
       "</tr>\n",
       "<tr>\n",
       "  <th>const</th>          <td> 1.533e+05</td> <td>  3.1e+04</td> <td>    4.946</td> <td> 0.000</td> <td> 9.25e+04</td> <td> 2.14e+05</td>\n",
       "</tr>\n",
       "<tr>\n",
       "  <th>bedrooms</th>       <td> -5.15e+04</td> <td> 2316.763</td> <td>  -22.230</td> <td> 0.000</td> <td> -5.6e+04</td> <td> -4.7e+04</td>\n",
       "</tr>\n",
       "<tr>\n",
       "  <th>bathrooms</th>      <td> 1.272e+04</td> <td> 3309.236</td> <td>    3.845</td> <td> 0.000</td> <td> 6237.040</td> <td> 1.92e+04</td>\n",
       "</tr>\n",
       "<tr>\n",
       "  <th>sqft_living</th>    <td>  277.5638</td> <td>    3.072</td> <td>   90.349</td> <td> 0.000</td> <td>  271.542</td> <td>  283.585</td>\n",
       "</tr>\n",
       "<tr>\n",
       "  <th>sqft_lot</th>       <td>   -0.3546</td> <td>    0.040</td> <td>   -8.766</td> <td> 0.000</td> <td>   -0.434</td> <td>   -0.275</td>\n",
       "</tr>\n",
       "<tr>\n",
       "  <th>No_view</th>        <td>-5.932e+04</td> <td> 3.03e+04</td> <td>   -1.955</td> <td> 0.051</td> <td>-1.19e+05</td> <td>  162.729</td>\n",
       "</tr>\n",
       "<tr>\n",
       "  <th>Fair_view</th>      <td> 1.032e+05</td> <td> 3.31e+04</td> <td>    3.120</td> <td> 0.002</td> <td> 3.84e+04</td> <td> 1.68e+05</td>\n",
       "</tr>\n",
       "<tr>\n",
       "  <th>Average_view</th>   <td> 5.904e+04</td> <td> 3.13e+04</td> <td>    1.887</td> <td> 0.059</td> <td>-2277.661</td> <td>  1.2e+05</td>\n",
       "</tr>\n",
       "<tr>\n",
       "  <th>Good_view</th>      <td> 1.424e+05</td> <td> 3.22e+04</td> <td>    4.427</td> <td> 0.000</td> <td> 7.94e+04</td> <td> 2.05e+05</td>\n",
       "</tr>\n",
       "<tr>\n",
       "  <th>Excellent_view</th> <td> 5.282e+05</td> <td> 3.33e+04</td> <td>   15.870</td> <td> 0.000</td> <td> 4.63e+05</td> <td> 5.93e+05</td>\n",
       "</tr>\n",
       "</table>\n",
       "<table class=\"simpletable\">\n",
       "<tr>\n",
       "  <th>Omnibus:</th>       <td>11060.449</td> <th>  Durbin-Watson:     </th>  <td>   1.987</td> \n",
       "</tr>\n",
       "<tr>\n",
       "  <th>Prob(Omnibus):</th>  <td> 0.000</td>   <th>  Jarque-Bera (JB):  </th> <td>197867.064</td>\n",
       "</tr>\n",
       "<tr>\n",
       "  <th>Skew:</th>           <td> 2.071</td>   <th>  Prob(JB):          </th>  <td>    0.00</td> \n",
       "</tr>\n",
       "<tr>\n",
       "  <th>Kurtosis:</th>       <td>17.303</td>   <th>  Cond. No.          </th>  <td>2.01e+06</td> \n",
       "</tr>\n",
       "</table><br/><br/>Notes:<br/>[1] Standard Errors assume that the covariance matrix of the errors is correctly specified.<br/>[2] The condition number is large, 2.01e+06. This might indicate that there are<br/>strong multicollinearity or other numerical problems."
      ],
      "text/plain": [
       "<class 'statsmodels.iolib.summary.Summary'>\n",
       "\"\"\"\n",
       "                            OLS Regression Results                            \n",
       "==============================================================================\n",
       "Dep. Variable:                  price   R-squared:                       0.551\n",
       "Model:                            OLS   Adj. R-squared:                  0.551\n",
       "Method:                 Least Squares   F-statistic:                     2920.\n",
       "Date:                Wed, 26 Oct 2022   Prob (F-statistic):               0.00\n",
       "Time:                        21:04:20   Log-Likelihood:            -2.9573e+05\n",
       "No. Observations:               21416   AIC:                         5.915e+05\n",
       "Df Residuals:                   21406   BIC:                         5.916e+05\n",
       "Df Model:                           9                                         \n",
       "Covariance Type:            nonrobust                                         \n",
       "==================================================================================\n",
       "                     coef    std err          t      P>|t|      [0.025      0.975]\n",
       "----------------------------------------------------------------------------------\n",
       "const           1.533e+05    3.1e+04      4.946      0.000    9.25e+04    2.14e+05\n",
       "bedrooms        -5.15e+04   2316.763    -22.230      0.000    -5.6e+04    -4.7e+04\n",
       "bathrooms       1.272e+04   3309.236      3.845      0.000    6237.040    1.92e+04\n",
       "sqft_living      277.5638      3.072     90.349      0.000     271.542     283.585\n",
       "sqft_lot          -0.3546      0.040     -8.766      0.000      -0.434      -0.275\n",
       "No_view        -5.932e+04   3.03e+04     -1.955      0.051   -1.19e+05     162.729\n",
       "Fair_view       1.032e+05   3.31e+04      3.120      0.002    3.84e+04    1.68e+05\n",
       "Average_view    5.904e+04   3.13e+04      1.887      0.059   -2277.661     1.2e+05\n",
       "Good_view       1.424e+05   3.22e+04      4.427      0.000    7.94e+04    2.05e+05\n",
       "Excellent_view  5.282e+05   3.33e+04     15.870      0.000    4.63e+05    5.93e+05\n",
       "==============================================================================\n",
       "Omnibus:                    11060.449   Durbin-Watson:                   1.987\n",
       "Prob(Omnibus):                  0.000   Jarque-Bera (JB):           197867.064\n",
       "Skew:                           2.071   Prob(JB):                         0.00\n",
       "Kurtosis:                      17.303   Cond. No.                     2.01e+06\n",
       "==============================================================================\n",
       "\n",
       "Notes:\n",
       "[1] Standard Errors assume that the covariance matrix of the errors is correctly specified.\n",
       "[2] The condition number is large, 2.01e+06. This might indicate that there are\n",
       "strong multicollinearity or other numerical problems.\n",
       "\"\"\""
      ]
     },
     "execution_count": 348,
     "metadata": {},
     "output_type": "execute_result"
    }
   ],
   "source": [
    "sm.OLS(y, x).fit().summary()"
   ]
  },
  {
   "cell_type": "markdown",
   "metadata": {},
   "source": [
    "<br>\n",
    "\n",
    "Let's log tranform our target and see if it will improve our model.\n",
    "\n",
    "<br>"
   ]
  },
  {
   "cell_type": "code",
   "execution_count": 349,
   "metadata": {},
   "outputs": [
    {
     "data": {
      "text/html": [
       "<table class=\"simpletable\">\n",
       "<caption>OLS Regression Results</caption>\n",
       "<tr>\n",
       "  <th>Dep. Variable:</th>          <td>price</td>      <th>  R-squared:         </th> <td>   0.517</td> \n",
       "</tr>\n",
       "<tr>\n",
       "  <th>Model:</th>                   <td>OLS</td>       <th>  Adj. R-squared:    </th> <td>   0.517</td> \n",
       "</tr>\n",
       "<tr>\n",
       "  <th>Method:</th>             <td>Least Squares</td>  <th>  F-statistic:       </th> <td>   2543.</td> \n",
       "</tr>\n",
       "<tr>\n",
       "  <th>Date:</th>             <td>Wed, 26 Oct 2022</td> <th>  Prob (F-statistic):</th>  <td>  0.00</td>  \n",
       "</tr>\n",
       "<tr>\n",
       "  <th>Time:</th>                 <td>21:20:14</td>     <th>  Log-Likelihood:    </th> <td> -8709.9</td> \n",
       "</tr>\n",
       "<tr>\n",
       "  <th>No. Observations:</th>      <td> 21416</td>      <th>  AIC:               </th> <td>1.744e+04</td>\n",
       "</tr>\n",
       "<tr>\n",
       "  <th>Df Residuals:</th>          <td> 21406</td>      <th>  BIC:               </th> <td>1.752e+04</td>\n",
       "</tr>\n",
       "<tr>\n",
       "  <th>Df Model:</th>              <td>     9</td>      <th>                     </th>     <td> </td>    \n",
       "</tr>\n",
       "<tr>\n",
       "  <th>Covariance Type:</th>      <td>nonrobust</td>    <th>                     </th>     <td> </td>    \n",
       "</tr>\n",
       "</table>\n",
       "<table class=\"simpletable\">\n",
       "<tr>\n",
       "         <td></td>           <th>coef</th>     <th>std err</th>      <th>t</th>      <th>P>|t|</th>  <th>[0.025</th>    <th>0.975]</th>  \n",
       "</tr>\n",
       "<tr>\n",
       "  <th>const</th>          <td>   12.3325</td> <td>    0.047</td> <td>  263.230</td> <td> 0.000</td> <td>   12.241</td> <td>   12.424</td>\n",
       "</tr>\n",
       "<tr>\n",
       "  <th>bedrooms</th>       <td>   -0.0506</td> <td>    0.004</td> <td>  -14.458</td> <td> 0.000</td> <td>   -0.058</td> <td>   -0.044</td>\n",
       "</tr>\n",
       "<tr>\n",
       "  <th>bathrooms</th>      <td>    0.0557</td> <td>    0.005</td> <td>   11.141</td> <td> 0.000</td> <td>    0.046</td> <td>    0.066</td>\n",
       "</tr>\n",
       "<tr>\n",
       "  <th>sqft_living</th>    <td>    0.0004</td> <td> 4.64e-06</td> <td>   79.782</td> <td> 0.000</td> <td>    0.000</td> <td>    0.000</td>\n",
       "</tr>\n",
       "<tr>\n",
       "  <th>sqft_lot</th>       <td>-3.205e-07</td> <td> 6.12e-08</td> <td>   -5.240</td> <td> 0.000</td> <td> -4.4e-07</td> <td>-2.01e-07</td>\n",
       "</tr>\n",
       "<tr>\n",
       "  <th>No_view</th>        <td>   -0.0205</td> <td>    0.046</td> <td>   -0.447</td> <td> 0.655</td> <td>   -0.110</td> <td>    0.069</td>\n",
       "</tr>\n",
       "<tr>\n",
       "  <th>Fair_view</th>      <td>    0.2278</td> <td>    0.050</td> <td>    4.556</td> <td> 0.000</td> <td>    0.130</td> <td>    0.326</td>\n",
       "</tr>\n",
       "<tr>\n",
       "  <th>Average_view</th>   <td>    0.1750</td> <td>    0.047</td> <td>    3.700</td> <td> 0.000</td> <td>    0.082</td> <td>    0.268</td>\n",
       "</tr>\n",
       "<tr>\n",
       "  <th>Good_view</th>      <td>    0.2353</td> <td>    0.049</td> <td>    4.838</td> <td> 0.000</td> <td>    0.140</td> <td>    0.331</td>\n",
       "</tr>\n",
       "<tr>\n",
       "  <th>Excellent_view</th> <td>    0.4947</td> <td>    0.050</td> <td>    9.832</td> <td> 0.000</td> <td>    0.396</td> <td>    0.593</td>\n",
       "</tr>\n",
       "</table>\n",
       "<table class=\"simpletable\">\n",
       "<tr>\n",
       "  <th>Omnibus:</th>       <td>26.880</td> <th>  Durbin-Watson:     </th> <td>   1.985</td>\n",
       "</tr>\n",
       "<tr>\n",
       "  <th>Prob(Omnibus):</th> <td> 0.000</td> <th>  Jarque-Bera (JB):  </th> <td>  22.902</td>\n",
       "</tr>\n",
       "<tr>\n",
       "  <th>Skew:</th>          <td> 0.003</td> <th>  Prob(JB):          </th> <td>1.06e-05</td>\n",
       "</tr>\n",
       "<tr>\n",
       "  <th>Kurtosis:</th>      <td> 2.840</td> <th>  Cond. No.          </th> <td>2.01e+06</td>\n",
       "</tr>\n",
       "</table><br/><br/>Notes:<br/>[1] Standard Errors assume that the covariance matrix of the errors is correctly specified.<br/>[2] The condition number is large, 2.01e+06. This might indicate that there are<br/>strong multicollinearity or other numerical problems."
      ],
      "text/plain": [
       "<class 'statsmodels.iolib.summary.Summary'>\n",
       "\"\"\"\n",
       "                            OLS Regression Results                            \n",
       "==============================================================================\n",
       "Dep. Variable:                  price   R-squared:                       0.517\n",
       "Model:                            OLS   Adj. R-squared:                  0.517\n",
       "Method:                 Least Squares   F-statistic:                     2543.\n",
       "Date:                Wed, 26 Oct 2022   Prob (F-statistic):               0.00\n",
       "Time:                        21:20:14   Log-Likelihood:                -8709.9\n",
       "No. Observations:               21416   AIC:                         1.744e+04\n",
       "Df Residuals:                   21406   BIC:                         1.752e+04\n",
       "Df Model:                           9                                         \n",
       "Covariance Type:            nonrobust                                         \n",
       "==================================================================================\n",
       "                     coef    std err          t      P>|t|      [0.025      0.975]\n",
       "----------------------------------------------------------------------------------\n",
       "const             12.3325      0.047    263.230      0.000      12.241      12.424\n",
       "bedrooms          -0.0506      0.004    -14.458      0.000      -0.058      -0.044\n",
       "bathrooms          0.0557      0.005     11.141      0.000       0.046       0.066\n",
       "sqft_living        0.0004   4.64e-06     79.782      0.000       0.000       0.000\n",
       "sqft_lot       -3.205e-07   6.12e-08     -5.240      0.000    -4.4e-07   -2.01e-07\n",
       "No_view           -0.0205      0.046     -0.447      0.655      -0.110       0.069\n",
       "Fair_view          0.2278      0.050      4.556      0.000       0.130       0.326\n",
       "Average_view       0.1750      0.047      3.700      0.000       0.082       0.268\n",
       "Good_view          0.2353      0.049      4.838      0.000       0.140       0.331\n",
       "Excellent_view     0.4947      0.050      9.832      0.000       0.396       0.593\n",
       "==============================================================================\n",
       "Omnibus:                       26.880   Durbin-Watson:                   1.985\n",
       "Prob(Omnibus):                  0.000   Jarque-Bera (JB):               22.902\n",
       "Skew:                           0.003   Prob(JB):                     1.06e-05\n",
       "Kurtosis:                       2.840   Cond. No.                     2.01e+06\n",
       "==============================================================================\n",
       "\n",
       "Notes:\n",
       "[1] Standard Errors assume that the covariance matrix of the errors is correctly specified.\n",
       "[2] The condition number is large, 2.01e+06. This might indicate that there are\n",
       "strong multicollinearity or other numerical problems.\n",
       "\"\"\""
      ]
     },
     "execution_count": 349,
     "metadata": {},
     "output_type": "execute_result"
    }
   ],
   "source": [
    "y_log = np.log(y)\n",
    "sm.OLS(y_log, x).fit().summary()"
   ]
  },
  {
   "cell_type": "markdown",
   "metadata": {},
   "source": [
    "While the  `bathrooms` feature is showing a stronger correlation with the log of the price, the other factors prevented this from being the best overall choice. Now, let's address the multicolinearity. "
   ]
  },
  {
   "cell_type": "markdown",
   "metadata": {},
   "source": [
    "Let's scale this data before diving into the multicolinearity."
   ]
  },
  {
   "cell_type": "code",
   "execution_count": 354,
   "metadata": {},
   "outputs": [],
   "source": [
    "x_nums = data_d.drop(labels=[\"No_view\", \"Fair_view\", \"Average_view\", \"Good_view\", \"Excellent_view\"], axis=1)"
   ]
  },
  {
   "cell_type": "code",
   "execution_count": 355,
   "metadata": {},
   "outputs": [],
   "source": [
    "x_scaled = StandardScaler().fit_transform(x_nums.values)\n",
    "x_scaled_df = pd.DataFrame(x_scaled, index=x_nums.index, columns=x_nums.columns)\n",
    "x_c = sm.add_constant(x_scaled_df)"
   ]
  },
  {
   "cell_type": "code",
   "execution_count": 356,
   "metadata": {},
   "outputs": [
    {
     "data": {
      "text/html": [
       "<table class=\"simpletable\">\n",
       "<caption>OLS Regression Results</caption>\n",
       "<tr>\n",
       "  <th>Dep. Variable:</th>          <td>price</td>      <th>  R-squared:         </th>  <td>   0.504</td>  \n",
       "</tr>\n",
       "<tr>\n",
       "  <th>Model:</th>                   <td>OLS</td>       <th>  Adj. R-squared:    </th>  <td>   0.504</td>  \n",
       "</tr>\n",
       "<tr>\n",
       "  <th>Method:</th>             <td>Least Squares</td>  <th>  F-statistic:       </th>  <td>   5439.</td>  \n",
       "</tr>\n",
       "<tr>\n",
       "  <th>Date:</th>             <td>Wed, 26 Oct 2022</td> <th>  Prob (F-statistic):</th>   <td>  0.00</td>   \n",
       "</tr>\n",
       "<tr>\n",
       "  <th>Time:</th>                 <td>21:29:26</td>     <th>  Log-Likelihood:    </th> <td>-2.9680e+05</td>\n",
       "</tr>\n",
       "<tr>\n",
       "  <th>No. Observations:</th>      <td> 21416</td>      <th>  AIC:               </th>  <td>5.936e+05</td> \n",
       "</tr>\n",
       "<tr>\n",
       "  <th>Df Residuals:</th>          <td> 21411</td>      <th>  BIC:               </th>  <td>5.936e+05</td> \n",
       "</tr>\n",
       "<tr>\n",
       "  <th>Df Model:</th>              <td>     4</td>      <th>                     </th>      <td> </td>     \n",
       "</tr>\n",
       "<tr>\n",
       "  <th>Covariance Type:</th>      <td>nonrobust</td>    <th>                     </th>      <td> </td>     \n",
       "</tr>\n",
       "</table>\n",
       "<table class=\"simpletable\">\n",
       "<tr>\n",
       "       <td></td>          <th>coef</th>     <th>std err</th>      <th>t</th>      <th>P>|t|</th>  <th>[0.025</th>    <th>0.975]</th>  \n",
       "</tr>\n",
       "<tr>\n",
       "  <th>const</th>       <td> 5.408e+05</td> <td> 1726.793</td> <td>  313.208</td> <td> 0.000</td> <td> 5.37e+05</td> <td> 5.44e+05</td>\n",
       "</tr>\n",
       "<tr>\n",
       "  <th>bedrooms</th>    <td>-5.671e+04</td> <td> 2180.950</td> <td>  -26.000</td> <td> 0.000</td> <td> -6.1e+04</td> <td>-5.24e+04</td>\n",
       "</tr>\n",
       "<tr>\n",
       "  <th>bathrooms</th>   <td> 6211.2181</td> <td> 2661.146</td> <td>    2.334</td> <td> 0.020</td> <td>  995.173</td> <td> 1.14e+04</td>\n",
       "</tr>\n",
       "<tr>\n",
       "  <th>sqft_living</th> <td> 2.821e+05</td> <td> 2854.031</td> <td>   98.834</td> <td> 0.000</td> <td> 2.76e+05</td> <td> 2.88e+05</td>\n",
       "</tr>\n",
       "<tr>\n",
       "  <th>sqft_lot</th>    <td>-1.488e+04</td> <td> 1761.413</td> <td>   -8.446</td> <td> 0.000</td> <td>-1.83e+04</td> <td>-1.14e+04</td>\n",
       "</tr>\n",
       "</table>\n",
       "<table class=\"simpletable\">\n",
       "<tr>\n",
       "  <th>Omnibus:</th>       <td>12204.290</td> <th>  Durbin-Watson:     </th>  <td>   1.988</td> \n",
       "</tr>\n",
       "<tr>\n",
       "  <th>Prob(Omnibus):</th>  <td> 0.000</td>   <th>  Jarque-Bera (JB):  </th> <td>226852.681</td>\n",
       "</tr>\n",
       "<tr>\n",
       "  <th>Skew:</th>           <td> 2.361</td>   <th>  Prob(JB):          </th>  <td>    0.00</td> \n",
       "</tr>\n",
       "<tr>\n",
       "  <th>Kurtosis:</th>       <td>18.229</td>   <th>  Cond. No.          </th>  <td>    3.12</td> \n",
       "</tr>\n",
       "</table><br/><br/>Notes:<br/>[1] Standard Errors assume that the covariance matrix of the errors is correctly specified."
      ],
      "text/plain": [
       "<class 'statsmodels.iolib.summary.Summary'>\n",
       "\"\"\"\n",
       "                            OLS Regression Results                            \n",
       "==============================================================================\n",
       "Dep. Variable:                  price   R-squared:                       0.504\n",
       "Model:                            OLS   Adj. R-squared:                  0.504\n",
       "Method:                 Least Squares   F-statistic:                     5439.\n",
       "Date:                Wed, 26 Oct 2022   Prob (F-statistic):               0.00\n",
       "Time:                        21:29:26   Log-Likelihood:            -2.9680e+05\n",
       "No. Observations:               21416   AIC:                         5.936e+05\n",
       "Df Residuals:                   21411   BIC:                         5.936e+05\n",
       "Df Model:                           4                                         \n",
       "Covariance Type:            nonrobust                                         \n",
       "===============================================================================\n",
       "                  coef    std err          t      P>|t|      [0.025      0.975]\n",
       "-------------------------------------------------------------------------------\n",
       "const        5.408e+05   1726.793    313.208      0.000    5.37e+05    5.44e+05\n",
       "bedrooms    -5.671e+04   2180.950    -26.000      0.000    -6.1e+04   -5.24e+04\n",
       "bathrooms    6211.2181   2661.146      2.334      0.020     995.173    1.14e+04\n",
       "sqft_living  2.821e+05   2854.031     98.834      0.000    2.76e+05    2.88e+05\n",
       "sqft_lot    -1.488e+04   1761.413     -8.446      0.000   -1.83e+04   -1.14e+04\n",
       "==============================================================================\n",
       "Omnibus:                    12204.290   Durbin-Watson:                   1.988\n",
       "Prob(Omnibus):                  0.000   Jarque-Bera (JB):           226852.681\n",
       "Skew:                           2.361   Prob(JB):                         0.00\n",
       "Kurtosis:                      18.229   Cond. No.                         3.12\n",
       "==============================================================================\n",
       "\n",
       "Notes:\n",
       "[1] Standard Errors assume that the covariance matrix of the errors is correctly specified.\n",
       "\"\"\""
      ]
     },
     "execution_count": 356,
     "metadata": {},
     "output_type": "execute_result"
    }
   ],
   "source": [
    "sm.OLS(y, x_c).fit().summary()"
   ]
  },
  {
   "cell_type": "markdown",
   "metadata": {},
   "source": [
    "Now that our condition number is minimal, if it increases with the `view` features, we'll know they are to blame. Let's add them in now!"
   ]
  },
  {
   "cell_type": "code",
   "execution_count": 357,
   "metadata": {},
   "outputs": [],
   "source": [
    "add_views(x_c)"
   ]
  },
  {
   "cell_type": "code",
   "execution_count": 358,
   "metadata": {},
   "outputs": [
    {
     "data": {
      "text/html": [
       "<table class=\"simpletable\">\n",
       "<caption>OLS Regression Results</caption>\n",
       "<tr>\n",
       "  <th>Dep. Variable:</th>          <td>price</td>      <th>  R-squared:         </th>  <td>   0.551</td>  \n",
       "</tr>\n",
       "<tr>\n",
       "  <th>Model:</th>                   <td>OLS</td>       <th>  Adj. R-squared:    </th>  <td>   0.551</td>  \n",
       "</tr>\n",
       "<tr>\n",
       "  <th>Method:</th>             <td>Least Squares</td>  <th>  F-statistic:       </th>  <td>   2920.</td>  \n",
       "</tr>\n",
       "<tr>\n",
       "  <th>Date:</th>             <td>Wed, 26 Oct 2022</td> <th>  Prob (F-statistic):</th>   <td>  0.00</td>   \n",
       "</tr>\n",
       "<tr>\n",
       "  <th>Time:</th>                 <td>21:44:31</td>     <th>  Log-Likelihood:    </th> <td>-2.9573e+05</td>\n",
       "</tr>\n",
       "<tr>\n",
       "  <th>No. Observations:</th>      <td> 21416</td>      <th>  AIC:               </th>  <td>5.915e+05</td> \n",
       "</tr>\n",
       "<tr>\n",
       "  <th>Df Residuals:</th>          <td> 21406</td>      <th>  BIC:               </th>  <td>5.916e+05</td> \n",
       "</tr>\n",
       "<tr>\n",
       "  <th>Df Model:</th>              <td>     9</td>      <th>                     </th>      <td> </td>     \n",
       "</tr>\n",
       "<tr>\n",
       "  <th>Covariance Type:</th>      <td>nonrobust</td>    <th>                     </th>      <td> </td>     \n",
       "</tr>\n",
       "</table>\n",
       "<table class=\"simpletable\">\n",
       "<tr>\n",
       "         <td></td>           <th>coef</th>     <th>std err</th>      <th>t</th>      <th>P>|t|</th>  <th>[0.025</th>    <th>0.975]</th>  \n",
       "</tr>\n",
       "<tr>\n",
       "  <th>const</th>          <td> 5.789e+05</td> <td> 3.03e+04</td> <td>   19.110</td> <td> 0.000</td> <td>  5.2e+05</td> <td> 6.38e+05</td>\n",
       "</tr>\n",
       "<tr>\n",
       "  <th>bedrooms</th>       <td>-4.639e+04</td> <td> 2086.930</td> <td>  -22.230</td> <td> 0.000</td> <td>-5.05e+04</td> <td>-4.23e+04</td>\n",
       "</tr>\n",
       "<tr>\n",
       "  <th>bathrooms</th>      <td> 9740.1348</td> <td> 2533.319</td> <td>    3.845</td> <td> 0.000</td> <td> 4774.640</td> <td> 1.47e+04</td>\n",
       "</tr>\n",
       "<tr>\n",
       "  <th>sqft_living</th>    <td> 2.525e+05</td> <td> 2795.066</td> <td>   90.349</td> <td> 0.000</td> <td> 2.47e+05</td> <td> 2.58e+05</td>\n",
       "</tr>\n",
       "<tr>\n",
       "  <th>sqft_lot</th>       <td>-1.471e+04</td> <td> 1678.292</td> <td>   -8.766</td> <td> 0.000</td> <td> -1.8e+04</td> <td>-1.14e+04</td>\n",
       "</tr>\n",
       "<tr>\n",
       "  <th>No_view</th>        <td>-5.932e+04</td> <td> 3.03e+04</td> <td>   -1.955</td> <td> 0.051</td> <td>-1.19e+05</td> <td>  162.729</td>\n",
       "</tr>\n",
       "<tr>\n",
       "  <th>Fair_view</th>      <td> 1.032e+05</td> <td> 3.31e+04</td> <td>    3.120</td> <td> 0.002</td> <td> 3.84e+04</td> <td> 1.68e+05</td>\n",
       "</tr>\n",
       "<tr>\n",
       "  <th>Average_view</th>   <td> 5.904e+04</td> <td> 3.13e+04</td> <td>    1.887</td> <td> 0.059</td> <td>-2277.661</td> <td>  1.2e+05</td>\n",
       "</tr>\n",
       "<tr>\n",
       "  <th>Good_view</th>      <td> 1.424e+05</td> <td> 3.22e+04</td> <td>    4.427</td> <td> 0.000</td> <td> 7.94e+04</td> <td> 2.05e+05</td>\n",
       "</tr>\n",
       "<tr>\n",
       "  <th>Excellent_view</th> <td> 5.282e+05</td> <td> 3.33e+04</td> <td>   15.870</td> <td> 0.000</td> <td> 4.63e+05</td> <td> 5.93e+05</td>\n",
       "</tr>\n",
       "</table>\n",
       "<table class=\"simpletable\">\n",
       "<tr>\n",
       "  <th>Omnibus:</th>       <td>11060.449</td> <th>  Durbin-Watson:     </th>  <td>   1.987</td> \n",
       "</tr>\n",
       "<tr>\n",
       "  <th>Prob(Omnibus):</th>  <td> 0.000</td>   <th>  Jarque-Bera (JB):  </th> <td>197867.064</td>\n",
       "</tr>\n",
       "<tr>\n",
       "  <th>Skew:</th>           <td> 2.071</td>   <th>  Prob(JB):          </th>  <td>    0.00</td> \n",
       "</tr>\n",
       "<tr>\n",
       "  <th>Kurtosis:</th>       <td>17.303</td>   <th>  Cond. No.          </th>  <td>    68.9</td> \n",
       "</tr>\n",
       "</table><br/><br/>Notes:<br/>[1] Standard Errors assume that the covariance matrix of the errors is correctly specified."
      ],
      "text/plain": [
       "<class 'statsmodels.iolib.summary.Summary'>\n",
       "\"\"\"\n",
       "                            OLS Regression Results                            \n",
       "==============================================================================\n",
       "Dep. Variable:                  price   R-squared:                       0.551\n",
       "Model:                            OLS   Adj. R-squared:                  0.551\n",
       "Method:                 Least Squares   F-statistic:                     2920.\n",
       "Date:                Wed, 26 Oct 2022   Prob (F-statistic):               0.00\n",
       "Time:                        21:44:31   Log-Likelihood:            -2.9573e+05\n",
       "No. Observations:               21416   AIC:                         5.915e+05\n",
       "Df Residuals:                   21406   BIC:                         5.916e+05\n",
       "Df Model:                           9                                         \n",
       "Covariance Type:            nonrobust                                         \n",
       "==================================================================================\n",
       "                     coef    std err          t      P>|t|      [0.025      0.975]\n",
       "----------------------------------------------------------------------------------\n",
       "const           5.789e+05   3.03e+04     19.110      0.000     5.2e+05    6.38e+05\n",
       "bedrooms       -4.639e+04   2086.930    -22.230      0.000   -5.05e+04   -4.23e+04\n",
       "bathrooms       9740.1348   2533.319      3.845      0.000    4774.640    1.47e+04\n",
       "sqft_living     2.525e+05   2795.066     90.349      0.000    2.47e+05    2.58e+05\n",
       "sqft_lot       -1.471e+04   1678.292     -8.766      0.000    -1.8e+04   -1.14e+04\n",
       "No_view        -5.932e+04   3.03e+04     -1.955      0.051   -1.19e+05     162.729\n",
       "Fair_view       1.032e+05   3.31e+04      3.120      0.002    3.84e+04    1.68e+05\n",
       "Average_view    5.904e+04   3.13e+04      1.887      0.059   -2277.661     1.2e+05\n",
       "Good_view       1.424e+05   3.22e+04      4.427      0.000    7.94e+04    2.05e+05\n",
       "Excellent_view  5.282e+05   3.33e+04     15.870      0.000    4.63e+05    5.93e+05\n",
       "==============================================================================\n",
       "Omnibus:                    11060.449   Durbin-Watson:                   1.987\n",
       "Prob(Omnibus):                  0.000   Jarque-Bera (JB):           197867.064\n",
       "Skew:                           2.071   Prob(JB):                         0.00\n",
       "Kurtosis:                      17.303   Cond. No.                         68.9\n",
       "==============================================================================\n",
       "\n",
       "Notes:\n",
       "[1] Standard Errors assume that the covariance matrix of the errors is correctly specified.\n",
       "\"\"\""
      ]
     },
     "execution_count": 358,
     "metadata": {},
     "output_type": "execute_result"
    }
   ],
   "source": [
    "sm.OLS(y, x_c).fit().summary()"
   ]
  },
  {
   "cell_type": "markdown",
   "metadata": {},
   "source": [
    "We have some high p-values in the view column; let's try dropping the column for `no view` and see if it improves the model."
   ]
  },
  {
   "cell_type": "code",
   "execution_count": 360,
   "metadata": {},
   "outputs": [],
   "source": [
    "x_c2 = x_c.drop(\"No_view\", axis=1)"
   ]
  },
  {
   "cell_type": "code",
   "execution_count": 361,
   "metadata": {},
   "outputs": [
    {
     "data": {
      "text/html": [
       "<table class=\"simpletable\">\n",
       "<caption>OLS Regression Results</caption>\n",
       "<tr>\n",
       "  <th>Dep. Variable:</th>          <td>price</td>      <th>  R-squared:         </th>  <td>   0.551</td>  \n",
       "</tr>\n",
       "<tr>\n",
       "  <th>Model:</th>                   <td>OLS</td>       <th>  Adj. R-squared:    </th>  <td>   0.551</td>  \n",
       "</tr>\n",
       "<tr>\n",
       "  <th>Method:</th>             <td>Least Squares</td>  <th>  F-statistic:       </th>  <td>   3284.</td>  \n",
       "</tr>\n",
       "<tr>\n",
       "  <th>Date:</th>             <td>Wed, 26 Oct 2022</td> <th>  Prob (F-statistic):</th>   <td>  0.00</td>   \n",
       "</tr>\n",
       "<tr>\n",
       "  <th>Time:</th>                 <td>21:54:40</td>     <th>  Log-Likelihood:    </th> <td>-2.9573e+05</td>\n",
       "</tr>\n",
       "<tr>\n",
       "  <th>No. Observations:</th>      <td> 21416</td>      <th>  AIC:               </th>  <td>5.915e+05</td> \n",
       "</tr>\n",
       "<tr>\n",
       "  <th>Df Residuals:</th>          <td> 21407</td>      <th>  BIC:               </th>  <td>5.916e+05</td> \n",
       "</tr>\n",
       "<tr>\n",
       "  <th>Df Model:</th>              <td>     8</td>      <th>                     </th>      <td> </td>     \n",
       "</tr>\n",
       "<tr>\n",
       "  <th>Covariance Type:</th>      <td>nonrobust</td>    <th>                     </th>      <td> </td>     \n",
       "</tr>\n",
       "</table>\n",
       "<table class=\"simpletable\">\n",
       "<tr>\n",
       "         <td></td>           <th>coef</th>     <th>std err</th>      <th>t</th>      <th>P>|t|</th>  <th>[0.025</th>    <th>0.975]</th>  \n",
       "</tr>\n",
       "<tr>\n",
       "  <th>const</th>          <td> 5.198e+05</td> <td> 1737.482</td> <td>  299.162</td> <td> 0.000</td> <td> 5.16e+05</td> <td> 5.23e+05</td>\n",
       "</tr>\n",
       "<tr>\n",
       "  <th>bedrooms</th>       <td>-4.641e+04</td> <td> 2087.051</td> <td>  -22.237</td> <td> 0.000</td> <td>-5.05e+04</td> <td>-4.23e+04</td>\n",
       "</tr>\n",
       "<tr>\n",
       "  <th>bathrooms</th>      <td> 9702.5647</td> <td> 2533.413</td> <td>    3.830</td> <td> 0.000</td> <td> 4736.886</td> <td> 1.47e+04</td>\n",
       "</tr>\n",
       "<tr>\n",
       "  <th>sqft_living</th>    <td> 2.526e+05</td> <td> 2794.877</td> <td>   90.387</td> <td> 0.000</td> <td> 2.47e+05</td> <td> 2.58e+05</td>\n",
       "</tr>\n",
       "<tr>\n",
       "  <th>sqft_lot</th>       <td>-1.471e+04</td> <td> 1678.399</td> <td>   -8.762</td> <td> 0.000</td> <td> -1.8e+04</td> <td>-1.14e+04</td>\n",
       "</tr>\n",
       "<tr>\n",
       "  <th>Fair_view</th>      <td> 1.623e+05</td> <td> 1.34e+04</td> <td>   12.089</td> <td> 0.000</td> <td> 1.36e+05</td> <td> 1.89e+05</td>\n",
       "</tr>\n",
       "<tr>\n",
       "  <th>Average_view</th>   <td> 1.181e+05</td> <td> 8073.257</td> <td>   14.631</td> <td> 0.000</td> <td> 1.02e+05</td> <td> 1.34e+05</td>\n",
       "</tr>\n",
       "<tr>\n",
       "  <th>Good_view</th>      <td> 2.015e+05</td> <td>  1.1e+04</td> <td>   18.249</td> <td> 0.000</td> <td>  1.8e+05</td> <td> 2.23e+05</td>\n",
       "</tr>\n",
       "<tr>\n",
       "  <th>Excellent_view</th> <td> 5.872e+05</td> <td>  1.4e+04</td> <td>   41.979</td> <td> 0.000</td> <td>  5.6e+05</td> <td> 6.15e+05</td>\n",
       "</tr>\n",
       "</table>\n",
       "<table class=\"simpletable\">\n",
       "<tr>\n",
       "  <th>Omnibus:</th>       <td>11096.302</td> <th>  Durbin-Watson:     </th>  <td>   1.987</td> \n",
       "</tr>\n",
       "<tr>\n",
       "  <th>Prob(Omnibus):</th>  <td> 0.000</td>   <th>  Jarque-Bera (JB):  </th> <td>200790.834</td>\n",
       "</tr>\n",
       "<tr>\n",
       "  <th>Skew:</th>           <td> 2.076</td>   <th>  Prob(JB):          </th>  <td>    0.00</td> \n",
       "</tr>\n",
       "<tr>\n",
       "  <th>Kurtosis:</th>       <td>17.414</td>   <th>  Cond. No.          </th>  <td>    13.0</td> \n",
       "</tr>\n",
       "</table><br/><br/>Notes:<br/>[1] Standard Errors assume that the covariance matrix of the errors is correctly specified."
      ],
      "text/plain": [
       "<class 'statsmodels.iolib.summary.Summary'>\n",
       "\"\"\"\n",
       "                            OLS Regression Results                            \n",
       "==============================================================================\n",
       "Dep. Variable:                  price   R-squared:                       0.551\n",
       "Model:                            OLS   Adj. R-squared:                  0.551\n",
       "Method:                 Least Squares   F-statistic:                     3284.\n",
       "Date:                Wed, 26 Oct 2022   Prob (F-statistic):               0.00\n",
       "Time:                        21:54:40   Log-Likelihood:            -2.9573e+05\n",
       "No. Observations:               21416   AIC:                         5.915e+05\n",
       "Df Residuals:                   21407   BIC:                         5.916e+05\n",
       "Df Model:                           8                                         \n",
       "Covariance Type:            nonrobust                                         \n",
       "==================================================================================\n",
       "                     coef    std err          t      P>|t|      [0.025      0.975]\n",
       "----------------------------------------------------------------------------------\n",
       "const           5.198e+05   1737.482    299.162      0.000    5.16e+05    5.23e+05\n",
       "bedrooms       -4.641e+04   2087.051    -22.237      0.000   -5.05e+04   -4.23e+04\n",
       "bathrooms       9702.5647   2533.413      3.830      0.000    4736.886    1.47e+04\n",
       "sqft_living     2.526e+05   2794.877     90.387      0.000    2.47e+05    2.58e+05\n",
       "sqft_lot       -1.471e+04   1678.399     -8.762      0.000    -1.8e+04   -1.14e+04\n",
       "Fair_view       1.623e+05   1.34e+04     12.089      0.000    1.36e+05    1.89e+05\n",
       "Average_view    1.181e+05   8073.257     14.631      0.000    1.02e+05    1.34e+05\n",
       "Good_view       2.015e+05    1.1e+04     18.249      0.000     1.8e+05    2.23e+05\n",
       "Excellent_view  5.872e+05    1.4e+04     41.979      0.000     5.6e+05    6.15e+05\n",
       "==============================================================================\n",
       "Omnibus:                    11096.302   Durbin-Watson:                   1.987\n",
       "Prob(Omnibus):                  0.000   Jarque-Bera (JB):           200790.834\n",
       "Skew:                           2.076   Prob(JB):                         0.00\n",
       "Kurtosis:                      17.414   Cond. No.                         13.0\n",
       "==============================================================================\n",
       "\n",
       "Notes:\n",
       "[1] Standard Errors assume that the covariance matrix of the errors is correctly specified.\n",
       "\"\"\""
      ]
     },
     "execution_count": 361,
     "metadata": {},
     "output_type": "execute_result"
    }
   ],
   "source": [
    "sm.OLS(y, x_c2).fit().summary()"
   ]
  },
  {
   "cell_type": "markdown",
   "metadata": {},
   "source": [
    "We see no change to adj. r-squared, and the high p-values are gone; let's go ahead and continue leaving out the `no view` column."
   ]
  },
  {
   "cell_type": "code",
   "execution_count": 362,
   "metadata": {},
   "outputs": [
    {
     "data": {
      "text/html": [
       "<table class=\"simpletable\">\n",
       "<caption>OLS Regression Results</caption>\n",
       "<tr>\n",
       "  <th>Dep. Variable:</th>          <td>price</td>      <th>  R-squared:         </th> <td>   0.517</td> \n",
       "</tr>\n",
       "<tr>\n",
       "  <th>Model:</th>                   <td>OLS</td>       <th>  Adj. R-squared:    </th> <td>   0.517</td> \n",
       "</tr>\n",
       "<tr>\n",
       "  <th>Method:</th>             <td>Least Squares</td>  <th>  F-statistic:       </th> <td>   2861.</td> \n",
       "</tr>\n",
       "<tr>\n",
       "  <th>Date:</th>             <td>Wed, 26 Oct 2022</td> <th>  Prob (F-statistic):</th>  <td>  0.00</td>  \n",
       "</tr>\n",
       "<tr>\n",
       "  <th>Time:</th>                 <td>21:56:23</td>     <th>  Log-Likelihood:    </th> <td> -8710.0</td> \n",
       "</tr>\n",
       "<tr>\n",
       "  <th>No. Observations:</th>      <td> 21416</td>      <th>  AIC:               </th> <td>1.744e+04</td>\n",
       "</tr>\n",
       "<tr>\n",
       "  <th>Df Residuals:</th>          <td> 21407</td>      <th>  BIC:               </th> <td>1.751e+04</td>\n",
       "</tr>\n",
       "<tr>\n",
       "  <th>Df Model:</th>              <td>     8</td>      <th>                     </th>     <td> </td>    \n",
       "</tr>\n",
       "<tr>\n",
       "  <th>Covariance Type:</th>      <td>nonrobust</td>    <th>                     </th>     <td> </td>    \n",
       "</tr>\n",
       "</table>\n",
       "<table class=\"simpletable\">\n",
       "<tr>\n",
       "         <td></td>           <th>coef</th>     <th>std err</th>      <th>t</th>      <th>P>|t|</th>  <th>[0.025</th>    <th>0.975]</th>  \n",
       "</tr>\n",
       "<tr>\n",
       "  <th>const</th>          <td>   13.0258</td> <td>    0.003</td> <td> 4959.151</td> <td> 0.000</td> <td>   13.021</td> <td>   13.031</td>\n",
       "</tr>\n",
       "<tr>\n",
       "  <th>bedrooms</th>       <td>   -0.0456</td> <td>    0.003</td> <td>  -14.460</td> <td> 0.000</td> <td>   -0.052</td> <td>   -0.039</td>\n",
       "</tr>\n",
       "<tr>\n",
       "  <th>bathrooms</th>      <td>    0.0427</td> <td>    0.004</td> <td>   11.138</td> <td> 0.000</td> <td>    0.035</td> <td>    0.050</td>\n",
       "</tr>\n",
       "<tr>\n",
       "  <th>sqft_living</th>    <td>    0.3372</td> <td>    0.004</td> <td>   79.801</td> <td> 0.000</td> <td>    0.329</td> <td>    0.345</td>\n",
       "</tr>\n",
       "<tr>\n",
       "  <th>sqft_lot</th>       <td>   -0.0133</td> <td>    0.003</td> <td>   -5.239</td> <td> 0.000</td> <td>   -0.018</td> <td>   -0.008</td>\n",
       "</tr>\n",
       "<tr>\n",
       "  <th>Fair_view</th>      <td>    0.2483</td> <td>    0.020</td> <td>   12.236</td> <td> 0.000</td> <td>    0.209</td> <td>    0.288</td>\n",
       "</tr>\n",
       "<tr>\n",
       "  <th>Average_view</th>   <td>    0.1955</td> <td>    0.012</td> <td>   16.016</td> <td> 0.000</td> <td>    0.172</td> <td>    0.219</td>\n",
       "</tr>\n",
       "<tr>\n",
       "  <th>Good_view</th>      <td>    0.2557</td> <td>    0.017</td> <td>   15.321</td> <td> 0.000</td> <td>    0.223</td> <td>    0.288</td>\n",
       "</tr>\n",
       "<tr>\n",
       "  <th>Excellent_view</th> <td>    0.5152</td> <td>    0.021</td> <td>   24.361</td> <td> 0.000</td> <td>    0.474</td> <td>    0.557</td>\n",
       "</tr>\n",
       "</table>\n",
       "<table class=\"simpletable\">\n",
       "<tr>\n",
       "  <th>Omnibus:</th>       <td>26.971</td> <th>  Durbin-Watson:     </th> <td>   1.985</td>\n",
       "</tr>\n",
       "<tr>\n",
       "  <th>Prob(Omnibus):</th> <td> 0.000</td> <th>  Jarque-Bera (JB):  </th> <td>  22.972</td>\n",
       "</tr>\n",
       "<tr>\n",
       "  <th>Skew:</th>          <td> 0.003</td> <th>  Prob(JB):          </th> <td>1.03e-05</td>\n",
       "</tr>\n",
       "<tr>\n",
       "  <th>Kurtosis:</th>      <td> 2.840</td> <th>  Cond. No.          </th> <td>    13.0</td>\n",
       "</tr>\n",
       "</table><br/><br/>Notes:<br/>[1] Standard Errors assume that the covariance matrix of the errors is correctly specified."
      ],
      "text/plain": [
       "<class 'statsmodels.iolib.summary.Summary'>\n",
       "\"\"\"\n",
       "                            OLS Regression Results                            \n",
       "==============================================================================\n",
       "Dep. Variable:                  price   R-squared:                       0.517\n",
       "Model:                            OLS   Adj. R-squared:                  0.517\n",
       "Method:                 Least Squares   F-statistic:                     2861.\n",
       "Date:                Wed, 26 Oct 2022   Prob (F-statistic):               0.00\n",
       "Time:                        21:56:23   Log-Likelihood:                -8710.0\n",
       "No. Observations:               21416   AIC:                         1.744e+04\n",
       "Df Residuals:                   21407   BIC:                         1.751e+04\n",
       "Df Model:                           8                                         \n",
       "Covariance Type:            nonrobust                                         \n",
       "==================================================================================\n",
       "                     coef    std err          t      P>|t|      [0.025      0.975]\n",
       "----------------------------------------------------------------------------------\n",
       "const             13.0258      0.003   4959.151      0.000      13.021      13.031\n",
       "bedrooms          -0.0456      0.003    -14.460      0.000      -0.052      -0.039\n",
       "bathrooms          0.0427      0.004     11.138      0.000       0.035       0.050\n",
       "sqft_living        0.3372      0.004     79.801      0.000       0.329       0.345\n",
       "sqft_lot          -0.0133      0.003     -5.239      0.000      -0.018      -0.008\n",
       "Fair_view          0.2483      0.020     12.236      0.000       0.209       0.288\n",
       "Average_view       0.1955      0.012     16.016      0.000       0.172       0.219\n",
       "Good_view          0.2557      0.017     15.321      0.000       0.223       0.288\n",
       "Excellent_view     0.5152      0.021     24.361      0.000       0.474       0.557\n",
       "==============================================================================\n",
       "Omnibus:                       26.971   Durbin-Watson:                   1.985\n",
       "Prob(Omnibus):                  0.000   Jarque-Bera (JB):               22.972\n",
       "Skew:                           0.003   Prob(JB):                     1.03e-05\n",
       "Kurtosis:                       2.840   Cond. No.                         13.0\n",
       "==============================================================================\n",
       "\n",
       "Notes:\n",
       "[1] Standard Errors assume that the covariance matrix of the errors is correctly specified.\n",
       "\"\"\""
      ]
     },
     "execution_count": 362,
     "metadata": {},
     "output_type": "execute_result"
    }
   ],
   "source": [
    "sm.OLS(y_log, x_c2).fit().summary()"
   ]
  },
  {
   "cell_type": "markdown",
   "metadata": {},
   "source": [
    "### Checking Assumptions"
   ]
  },
  {
   "cell_type": "markdown",
   "metadata": {},
   "source": [
    "We assign latest model to a variable and proced to check assumptions"
   ]
  },
  {
   "cell_type": "code",
   "execution_count": 365,
   "metadata": {},
   "outputs": [],
   "source": [
    "model = sm.OLS(y_log, x_c2).fit()"
   ]
  },
  {
   "cell_type": "code",
   "execution_count": 366,
   "metadata": {},
   "outputs": [
    {
     "data": {
      "text/html": [
       "<table class=\"simpletable\">\n",
       "<tr>\n",
       "  <th>Omnibus:</th>       <td>26.971</td> <th>  Durbin-Watson:     </th> <td>   1.985</td>\n",
       "</tr>\n",
       "<tr>\n",
       "  <th>Prob(Omnibus):</th> <td> 0.000</td> <th>  Jarque-Bera (JB):  </th> <td>  22.972</td>\n",
       "</tr>\n",
       "<tr>\n",
       "  <th>Skew:</th>          <td> 0.003</td> <th>  Prob(JB):          </th> <td>1.03e-05</td>\n",
       "</tr>\n",
       "<tr>\n",
       "  <th>Kurtosis:</th>      <td> 2.840</td> <th>  Cond. No.          </th> <td>    13.0</td>\n",
       "</tr>\n",
       "</table>"
      ],
      "text/plain": [
       "<class 'statsmodels.iolib.table.SimpleTable'>"
      ]
     },
     "execution_count": 366,
     "metadata": {},
     "output_type": "execute_result"
    }
   ],
   "source": [
    "model.summary().tables[2]"
   ]
  },
  {
   "cell_type": "code",
   "execution_count": 367,
   "metadata": {},
   "outputs": [],
   "source": [
    "model_preds = model.predict(x_c2)\n",
    "resids = y_log - model_preds"
   ]
  },
  {
   "cell_type": "code",
   "execution_count": 368,
   "metadata": {},
   "outputs": [
    {
     "data": {
      "image/png": "[encoded data removed]",
      "text/plain": [
       "<Figure size 432x288 with 1 Axes>"
      ]
     },
     "metadata": {
      "needs_background": "light"
     },
     "output_type": "display_data"
    }
   ],
   "source": [
    "fig, ax = plt.subplots()\n",
    "\n",
    "ax.scatter(y, resids);"
   ]
  },
  {
   "cell_type": "code",
   "execution_count": 369,
   "metadata": {},
   "outputs": [
    {
     "data": {
      "image/png": "[encoded data removed]",
      "text/plain": [
       "<Figure size 432x288 with 1 Axes>"
      ]
     },
     "metadata": {
      "needs_background": "light"
     },
     "output_type": "display_data"
    }
   ],
   "source": [
    "model2 = sm.OLS(endog=y_log, exog=x_c2).fit()\n",
    "model2_preds = model2.predict(x_c2)\n",
    "model2_resid = y_log - model2_preds\n",
    "\n",
    "fig, ax = plt.subplots()\n",
    "ax.scatter(y_log, model2_resid);"
   ]
  },
  {
   "cell_type": "code",
   "execution_count": 370,
   "metadata": {},
   "outputs": [
    {
     "data": {
      "image/png": "[encoded data removed]",
      "text/plain": [
       "<Figure size 432x288 with 1 Axes>"
      ]
     },
     "metadata": {
      "needs_background": "light"
     },
     "output_type": "display_data"
    }
   ],
   "source": [
    "sm.qqplot(model2_resid, line='r');"
   ]
  },
  {
   "cell_type": "markdown",
   "metadata": {},
   "source": [
    "### Combine\n",
    "\n",
    "below we continued adding features to our model looking for a higher r-squared value while trying to keep the \n",
    "condition number low.\n",
    "\n",
    "First we drop column already used, and keep mosly categorical data."
   ]
  },
  {
   "cell_type": "code",
   "execution_count": 380,
   "metadata": {},
   "outputs": [],
   "source": [
    "df2 = df.drop(labels=[\"id\",\"date\",\"price\",\"bedrooms\",\"bathrooms\",\"sqft_living\",\"sqft_lot\",\"view\"],axis=1)"
   ]
  },
  {
   "cell_type": "code",
   "execution_count": 381,
   "metadata": {},
   "outputs": [],
   "source": [
    "dummy_df = pd.get_dummies(df2)"
   ]
  },
  {
   "cell_type": "code",
   "execution_count": 382,
   "metadata": {},
   "outputs": [],
   "source": [
    "dummy_df.drop(labels=[\"waterfront_NO\",\"condition_Average\",\"grade_7 Average\"],axis=1,inplace=True)"
   ]
  },
  {
   "cell_type": "markdown",
   "metadata": {},
   "source": [
    " `waterfront_NO`,`condition_Average`,`grade_7 Average` will be our reference categories."
   ]
  },
  {
   "cell_type": "code",
   "execution_count": 383,
   "metadata": {},
   "outputs": [],
   "source": [
    "x_c_comb = dummy_df.join(x_c2)"
   ]
  },
  {
   "cell_type": "code",
   "execution_count": 384,
   "metadata": {},
   "outputs": [
    {
     "data": {
      "text/html": [
       "<table class=\"simpletable\">\n",
       "<caption>OLS Regression Results</caption>\n",
       "<tr>\n",
       "  <th>Dep. Variable:</th>          <td>price</td>      <th>  R-squared:         </th> <td>   0.651</td> \n",
       "</tr>\n",
       "<tr>\n",
       "  <th>Model:</th>                   <td>OLS</td>       <th>  Adj. R-squared:    </th> <td>   0.651</td> \n",
       "</tr>\n",
       "<tr>\n",
       "  <th>Method:</th>             <td>Least Squares</td>  <th>  F-statistic:       </th> <td>   1598.</td> \n",
       "</tr>\n",
       "<tr>\n",
       "  <th>Date:</th>             <td>Wed, 26 Oct 2022</td> <th>  Prob (F-statistic):</th>  <td>  0.00</td>  \n",
       "</tr>\n",
       "<tr>\n",
       "  <th>Time:</th>                 <td>22:20:30</td>     <th>  Log-Likelihood:    </th> <td> -5215.7</td> \n",
       "</tr>\n",
       "<tr>\n",
       "  <th>No. Observations:</th>      <td> 21416</td>      <th>  AIC:               </th> <td>1.048e+04</td>\n",
       "</tr>\n",
       "<tr>\n",
       "  <th>Df Residuals:</th>          <td> 21390</td>      <th>  BIC:               </th> <td>1.069e+04</td>\n",
       "</tr>\n",
       "<tr>\n",
       "  <th>Df Model:</th>              <td>    25</td>      <th>                     </th>     <td> </td>    \n",
       "</tr>\n",
       "<tr>\n",
       "  <th>Covariance Type:</th>      <td>nonrobust</td>    <th>                     </th>     <td> </td>    \n",
       "</tr>\n",
       "</table>\n",
       "<table class=\"simpletable\">\n",
       "<tr>\n",
       "           <td></td>              <th>coef</th>     <th>std err</th>      <th>t</th>      <th>P>|t|</th>  <th>[0.025</th>    <th>0.975]</th>  \n",
       "</tr>\n",
       "<tr>\n",
       "  <th>floors</th>              <td>    0.0767</td> <td>    0.005</td> <td>   15.380</td> <td> 0.000</td> <td>    0.067</td> <td>    0.086</td>\n",
       "</tr>\n",
       "<tr>\n",
       "  <th>yr_built</th>            <td>   -0.0058</td> <td> 9.75e-05</td> <td>  -59.699</td> <td> 0.000</td> <td>   -0.006</td> <td>   -0.006</td>\n",
       "</tr>\n",
       "<tr>\n",
       "  <th>waterfront_YES</th>      <td>    0.3076</td> <td>    0.032</td> <td>    9.741</td> <td> 0.000</td> <td>    0.246</td> <td>    0.370</td>\n",
       "</tr>\n",
       "<tr>\n",
       "  <th>condition_Fair</th>      <td>   -0.1652</td> <td>    0.025</td> <td>   -6.690</td> <td> 0.000</td> <td>   -0.214</td> <td>   -0.117</td>\n",
       "</tr>\n",
       "<tr>\n",
       "  <th>condition_Good</th>      <td>    0.0164</td> <td>    0.005</td> <td>    3.122</td> <td> 0.002</td> <td>    0.006</td> <td>    0.027</td>\n",
       "</tr>\n",
       "<tr>\n",
       "  <th>condition_Poor</th>      <td>   -0.1347</td> <td>    0.059</td> <td>   -2.288</td> <td> 0.022</td> <td>   -0.250</td> <td>   -0.019</td>\n",
       "</tr>\n",
       "<tr>\n",
       "  <th>condition_Very Good</th> <td>    0.0825</td> <td>    0.008</td> <td>    9.748</td> <td> 0.000</td> <td>    0.066</td> <td>    0.099</td>\n",
       "</tr>\n",
       "<tr>\n",
       "  <th>grade_10 Very Good</th>  <td>    0.6208</td> <td>    0.012</td> <td>   49.820</td> <td> 0.000</td> <td>    0.596</td> <td>    0.645</td>\n",
       "</tr>\n",
       "<tr>\n",
       "  <th>grade_11 Excellent</th>  <td>    0.7367</td> <td>    0.019</td> <td>   37.974</td> <td> 0.000</td> <td>    0.699</td> <td>    0.775</td>\n",
       "</tr>\n",
       "<tr>\n",
       "  <th>grade_12 Luxury</th>     <td>    0.8471</td> <td>    0.037</td> <td>   23.073</td> <td> 0.000</td> <td>    0.775</td> <td>    0.919</td>\n",
       "</tr>\n",
       "<tr>\n",
       "  <th>grade_13 Mansion</th>    <td>    0.8876</td> <td>    0.096</td> <td>    9.285</td> <td> 0.000</td> <td>    0.700</td> <td>    1.075</td>\n",
       "</tr>\n",
       "<tr>\n",
       "  <th>grade_3 Poor</th>        <td>   -0.4293</td> <td>    0.309</td> <td>   -1.389</td> <td> 0.165</td> <td>   -1.035</td> <td>    0.177</td>\n",
       "</tr>\n",
       "<tr>\n",
       "  <th>grade_4 Low</th>         <td>   -0.5868</td> <td>    0.060</td> <td>   -9.797</td> <td> 0.000</td> <td>   -0.704</td> <td>   -0.469</td>\n",
       "</tr>\n",
       "<tr>\n",
       "  <th>grade_5 Fair</th>        <td>   -0.4936</td> <td>    0.021</td> <td>  -23.596</td> <td> 0.000</td> <td>   -0.535</td> <td>   -0.453</td>\n",
       "</tr>\n",
       "<tr>\n",
       "  <th>grade_6 Low Average</th> <td>   -0.2734</td> <td>    0.008</td> <td>  -33.593</td> <td> 0.000</td> <td>   -0.289</td> <td>   -0.257</td>\n",
       "</tr>\n",
       "<tr>\n",
       "  <th>grade_8 Good</th>        <td>    0.2326</td> <td>    0.006</td> <td>   39.926</td> <td> 0.000</td> <td>    0.221</td> <td>    0.244</td>\n",
       "</tr>\n",
       "<tr>\n",
       "  <th>grade_9 Better</th>      <td>    0.4632</td> <td>    0.009</td> <td>   53.298</td> <td> 0.000</td> <td>    0.446</td> <td>    0.480</td>\n",
       "</tr>\n",
       "<tr>\n",
       "  <th>const</th>               <td>   24.2484</td> <td>    0.191</td> <td>  126.724</td> <td> 0.000</td> <td>   23.873</td> <td>   24.623</td>\n",
       "</tr>\n",
       "<tr>\n",
       "  <th>bedrooms</th>            <td>   -0.0306</td> <td>    0.003</td> <td>  -10.856</td> <td> 0.000</td> <td>   -0.036</td> <td>   -0.025</td>\n",
       "</tr>\n",
       "<tr>\n",
       "  <th>bathrooms</th>           <td>    0.0621</td> <td>    0.004</td> <td>   16.317</td> <td> 0.000</td> <td>    0.055</td> <td>    0.070</td>\n",
       "</tr>\n",
       "<tr>\n",
       "  <th>sqft_living</th>         <td>    0.1702</td> <td>    0.005</td> <td>   37.665</td> <td> 0.000</td> <td>    0.161</td> <td>    0.179</td>\n",
       "</tr>\n",
       "<tr>\n",
       "  <th>sqft_lot</th>            <td>   -0.0013</td> <td>    0.002</td> <td>   -0.593</td> <td> 0.553</td> <td>   -0.006</td> <td>    0.003</td>\n",
       "</tr>\n",
       "<tr>\n",
       "  <th>Fair_view</th>           <td>    0.1780</td> <td>    0.017</td> <td>   10.279</td> <td> 0.000</td> <td>    0.144</td> <td>    0.212</td>\n",
       "</tr>\n",
       "<tr>\n",
       "  <th>Average_view</th>        <td>    0.0948</td> <td>    0.010</td> <td>    9.054</td> <td> 0.000</td> <td>    0.074</td> <td>    0.115</td>\n",
       "</tr>\n",
       "<tr>\n",
       "  <th>Good_view</th>           <td>    0.1318</td> <td>    0.014</td> <td>    9.211</td> <td> 0.000</td> <td>    0.104</td> <td>    0.160</td>\n",
       "</tr>\n",
       "<tr>\n",
       "  <th>Excellent_view</th>      <td>    0.2661</td> <td>    0.022</td> <td>   12.120</td> <td> 0.000</td> <td>    0.223</td> <td>    0.309</td>\n",
       "</tr>\n",
       "</table>\n",
       "<table class=\"simpletable\">\n",
       "<tr>\n",
       "  <th>Omnibus:</th>       <td>76.977</td> <th>  Durbin-Watson:     </th> <td>   1.966</td>\n",
       "</tr>\n",
       "<tr>\n",
       "  <th>Prob(Omnibus):</th> <td> 0.000</td> <th>  Jarque-Bera (JB):  </th> <td>  90.235</td>\n",
       "</tr>\n",
       "<tr>\n",
       "  <th>Skew:</th>          <td>-0.088</td> <th>  Prob(JB):          </th> <td>2.55e-20</td>\n",
       "</tr>\n",
       "<tr>\n",
       "  <th>Kurtosis:</th>      <td> 3.265</td> <th>  Cond. No.          </th> <td>2.89e+05</td>\n",
       "</tr>\n",
       "</table><br/><br/>Notes:<br/>[1] Standard Errors assume that the covariance matrix of the errors is correctly specified.<br/>[2] The condition number is large, 2.89e+05. This might indicate that there are<br/>strong multicollinearity or other numerical problems."
      ],
      "text/plain": [
       "<class 'statsmodels.iolib.summary.Summary'>\n",
       "\"\"\"\n",
       "                            OLS Regression Results                            \n",
       "==============================================================================\n",
       "Dep. Variable:                  price   R-squared:                       0.651\n",
       "Model:                            OLS   Adj. R-squared:                  0.651\n",
       "Method:                 Least Squares   F-statistic:                     1598.\n",
       "Date:                Wed, 26 Oct 2022   Prob (F-statistic):               0.00\n",
       "Time:                        22:20:30   Log-Likelihood:                -5215.7\n",
       "No. Observations:               21416   AIC:                         1.048e+04\n",
       "Df Residuals:                   21390   BIC:                         1.069e+04\n",
       "Df Model:                          25                                         \n",
       "Covariance Type:            nonrobust                                         \n",
       "=======================================================================================\n",
       "                          coef    std err          t      P>|t|      [0.025      0.975]\n",
       "---------------------------------------------------------------------------------------\n",
       "floors                  0.0767      0.005     15.380      0.000       0.067       0.086\n",
       "yr_built               -0.0058   9.75e-05    -59.699      0.000      -0.006      -0.006\n",
       "waterfront_YES          0.3076      0.032      9.741      0.000       0.246       0.370\n",
       "condition_Fair         -0.1652      0.025     -6.690      0.000      -0.214      -0.117\n",
       "condition_Good          0.0164      0.005      3.122      0.002       0.006       0.027\n",
       "condition_Poor         -0.1347      0.059     -2.288      0.022      -0.250      -0.019\n",
       "condition_Very Good     0.0825      0.008      9.748      0.000       0.066       0.099\n",
       "grade_10 Very Good      0.6208      0.012     49.820      0.000       0.596       0.645\n",
       "grade_11 Excellent      0.7367      0.019     37.974      0.000       0.699       0.775\n",
       "grade_12 Luxury         0.8471      0.037     23.073      0.000       0.775       0.919\n",
       "grade_13 Mansion        0.8876      0.096      9.285      0.000       0.700       1.075\n",
       "grade_3 Poor           -0.4293      0.309     -1.389      0.165      -1.035       0.177\n",
       "grade_4 Low            -0.5868      0.060     -9.797      0.000      -0.704      -0.469\n",
       "grade_5 Fair           -0.4936      0.021    -23.596      0.000      -0.535      -0.453\n",
       "grade_6 Low Average    -0.2734      0.008    -33.593      0.000      -0.289      -0.257\n",
       "grade_8 Good            0.2326      0.006     39.926      0.000       0.221       0.244\n",
       "grade_9 Better          0.4632      0.009     53.298      0.000       0.446       0.480\n",
       "const                  24.2484      0.191    126.724      0.000      23.873      24.623\n",
       "bedrooms               -0.0306      0.003    -10.856      0.000      -0.036      -0.025\n",
       "bathrooms               0.0621      0.004     16.317      0.000       0.055       0.070\n",
       "sqft_living             0.1702      0.005     37.665      0.000       0.161       0.179\n",
       "sqft_lot               -0.0013      0.002     -0.593      0.553      -0.006       0.003\n",
       "Fair_view               0.1780      0.017     10.279      0.000       0.144       0.212\n",
       "Average_view            0.0948      0.010      9.054      0.000       0.074       0.115\n",
       "Good_view               0.1318      0.014      9.211      0.000       0.104       0.160\n",
       "Excellent_view          0.2661      0.022     12.120      0.000       0.223       0.309\n",
       "==============================================================================\n",
       "Omnibus:                       76.977   Durbin-Watson:                   1.966\n",
       "Prob(Omnibus):                  0.000   Jarque-Bera (JB):               90.235\n",
       "Skew:                          -0.088   Prob(JB):                     2.55e-20\n",
       "Kurtosis:                       3.265   Cond. No.                     2.89e+05\n",
       "==============================================================================\n",
       "\n",
       "Notes:\n",
       "[1] Standard Errors assume that the covariance matrix of the errors is correctly specified.\n",
       "[2] The condition number is large, 2.89e+05. This might indicate that there are\n",
       "strong multicollinearity or other numerical problems.\n",
       "\"\"\""
      ]
     },
     "execution_count": 384,
     "metadata": {},
     "output_type": "execute_result"
    }
   ],
   "source": [
    "sm.OLS(y_log, x_c_comb).fit().summary()"
   ]
  },
  {
   "cell_type": "markdown",
   "metadata": {},
   "source": [
    "The high conditional number isn't ideal,  let's see if we can identify what's causing it by dropping a suspicious column. Year built is the most continuous variable that hasn't been scaled, so let's try dropping it as a test."
   ]
  },
  {
   "cell_type": "code",
   "execution_count": 385,
   "metadata": {},
   "outputs": [],
   "source": [
    "test = x_c_comb.drop(labels=\"yr_built\",axis=1)"
   ]
  },
  {
   "cell_type": "code",
   "execution_count": 386,
   "metadata": {},
   "outputs": [
    {
     "data": {
      "text/html": [
       "<table class=\"simpletable\">\n",
       "<caption>OLS Regression Results</caption>\n",
       "<tr>\n",
       "  <th>Dep. Variable:</th>          <td>price</td>      <th>  R-squared:         </th> <td>   0.593</td> \n",
       "</tr>\n",
       "<tr>\n",
       "  <th>Model:</th>                   <td>OLS</td>       <th>  Adj. R-squared:    </th> <td>   0.593</td> \n",
       "</tr>\n",
       "<tr>\n",
       "  <th>Method:</th>             <td>Least Squares</td>  <th>  F-statistic:       </th> <td>   1300.</td> \n",
       "</tr>\n",
       "<tr>\n",
       "  <th>Date:</th>             <td>Wed, 26 Oct 2022</td> <th>  Prob (F-statistic):</th>  <td>  0.00</td>  \n",
       "</tr>\n",
       "<tr>\n",
       "  <th>Time:</th>                 <td>22:20:58</td>     <th>  Log-Likelihood:    </th> <td> -6865.9</td> \n",
       "</tr>\n",
       "<tr>\n",
       "  <th>No. Observations:</th>      <td> 21416</td>      <th>  AIC:               </th> <td>1.378e+04</td>\n",
       "</tr>\n",
       "<tr>\n",
       "  <th>Df Residuals:</th>          <td> 21391</td>      <th>  BIC:               </th> <td>1.398e+04</td>\n",
       "</tr>\n",
       "<tr>\n",
       "  <th>Df Model:</th>              <td>    24</td>      <th>                     </th>     <td> </td>    \n",
       "</tr>\n",
       "<tr>\n",
       "  <th>Covariance Type:</th>      <td>nonrobust</td>    <th>                     </th>     <td> </td>    \n",
       "</tr>\n",
       "</table>\n",
       "<table class=\"simpletable\">\n",
       "<tr>\n",
       "           <td></td>              <th>coef</th>     <th>std err</th>      <th>t</th>      <th>P>|t|</th>  <th>[0.025</th>    <th>0.975]</th>  \n",
       "</tr>\n",
       "<tr>\n",
       "  <th>floors</th>              <td>    0.0218</td> <td>    0.005</td> <td>    4.116</td> <td> 0.000</td> <td>    0.011</td> <td>    0.032</td>\n",
       "</tr>\n",
       "<tr>\n",
       "  <th>waterfront_YES</th>      <td>    0.3305</td> <td>    0.034</td> <td>    9.691</td> <td> 0.000</td> <td>    0.264</td> <td>    0.397</td>\n",
       "</tr>\n",
       "<tr>\n",
       "  <th>condition_Fair</th>      <td>   -0.1010</td> <td>    0.027</td> <td>   -3.791</td> <td> 0.000</td> <td>   -0.153</td> <td>   -0.049</td>\n",
       "</tr>\n",
       "<tr>\n",
       "  <th>condition_Good</th>      <td>    0.0804</td> <td>    0.006</td> <td>   14.475</td> <td> 0.000</td> <td>    0.069</td> <td>    0.091</td>\n",
       "</tr>\n",
       "<tr>\n",
       "  <th>condition_Poor</th>      <td>   -0.0116</td> <td>    0.064</td> <td>   -0.183</td> <td> 0.855</td> <td>   -0.136</td> <td>    0.113</td>\n",
       "</tr>\n",
       "<tr>\n",
       "  <th>condition_Very Good</th> <td>    0.2187</td> <td>    0.009</td> <td>   24.838</td> <td> 0.000</td> <td>    0.201</td> <td>    0.236</td>\n",
       "</tr>\n",
       "<tr>\n",
       "  <th>grade_10 Very Good</th>  <td>    0.5519</td> <td>    0.013</td> <td>   41.186</td> <td> 0.000</td> <td>    0.526</td> <td>    0.578</td>\n",
       "</tr>\n",
       "<tr>\n",
       "  <th>grade_11 Excellent</th>  <td>    0.6652</td> <td>    0.021</td> <td>   31.808</td> <td> 0.000</td> <td>    0.624</td> <td>    0.706</td>\n",
       "</tr>\n",
       "<tr>\n",
       "  <th>grade_12 Luxury</th>     <td>    0.7776</td> <td>    0.040</td> <td>   19.619</td> <td> 0.000</td> <td>    0.700</td> <td>    0.855</td>\n",
       "</tr>\n",
       "<tr>\n",
       "  <th>grade_13 Mansion</th>    <td>    0.8966</td> <td>    0.103</td> <td>    8.684</td> <td> 0.000</td> <td>    0.694</td> <td>    1.099</td>\n",
       "</tr>\n",
       "<tr>\n",
       "  <th>grade_3 Poor</th>        <td>   -0.3213</td> <td>    0.334</td> <td>   -0.963</td> <td> 0.336</td> <td>   -0.976</td> <td>    0.333</td>\n",
       "</tr>\n",
       "<tr>\n",
       "  <th>grade_4 Low</th>         <td>   -0.4787</td> <td>    0.065</td> <td>   -7.403</td> <td> 0.000</td> <td>   -0.605</td> <td>   -0.352</td>\n",
       "</tr>\n",
       "<tr>\n",
       "  <th>grade_5 Fair</th>        <td>   -0.3866</td> <td>    0.023</td> <td>  -17.172</td> <td> 0.000</td> <td>   -0.431</td> <td>   -0.342</td>\n",
       "</tr>\n",
       "<tr>\n",
       "  <th>grade_6 Low Average</th> <td>   -0.1969</td> <td>    0.009</td> <td>  -22.683</td> <td> 0.000</td> <td>   -0.214</td> <td>   -0.180</td>\n",
       "</tr>\n",
       "<tr>\n",
       "  <th>grade_8 Good</th>        <td>    0.1900</td> <td>    0.006</td> <td>   30.423</td> <td> 0.000</td> <td>    0.178</td> <td>    0.202</td>\n",
       "</tr>\n",
       "<tr>\n",
       "  <th>grade_9 Better</th>      <td>    0.3907</td> <td>    0.009</td> <td>   42.042</td> <td> 0.000</td> <td>    0.373</td> <td>    0.409</td>\n",
       "</tr>\n",
       "<tr>\n",
       "  <th>const</th>               <td>   12.8355</td> <td>    0.009</td> <td> 1451.825</td> <td> 0.000</td> <td>   12.818</td> <td>   12.853</td>\n",
       "</tr>\n",
       "<tr>\n",
       "  <th>bedrooms</th>            <td>   -0.0179</td> <td>    0.003</td> <td>   -5.915</td> <td> 0.000</td> <td>   -0.024</td> <td>   -0.012</td>\n",
       "</tr>\n",
       "<tr>\n",
       "  <th>bathrooms</th>           <td>   -0.0056</td> <td>    0.004</td> <td>   -1.415</td> <td> 0.157</td> <td>   -0.013</td> <td>    0.002</td>\n",
       "</tr>\n",
       "<tr>\n",
       "  <th>sqft_living</th>         <td>    0.1958</td> <td>    0.005</td> <td>   40.301</td> <td> 0.000</td> <td>    0.186</td> <td>    0.205</td>\n",
       "</tr>\n",
       "<tr>\n",
       "  <th>sqft_lot</th>            <td>   -0.0080</td> <td>    0.002</td> <td>   -3.438</td> <td> 0.001</td> <td>   -0.013</td> <td>   -0.003</td>\n",
       "</tr>\n",
       "<tr>\n",
       "  <th>Fair_view</th>           <td>    0.2396</td> <td>    0.019</td> <td>   12.832</td> <td> 0.000</td> <td>    0.203</td> <td>    0.276</td>\n",
       "</tr>\n",
       "<tr>\n",
       "  <th>Average_view</th>        <td>    0.1638</td> <td>    0.011</td> <td>   14.565</td> <td> 0.000</td> <td>    0.142</td> <td>    0.186</td>\n",
       "</tr>\n",
       "<tr>\n",
       "  <th>Good_view</th>           <td>    0.2108</td> <td>    0.015</td> <td>   13.697</td> <td> 0.000</td> <td>    0.181</td> <td>    0.241</td>\n",
       "</tr>\n",
       "<tr>\n",
       "  <th>Excellent_view</th>      <td>    0.3418</td> <td>    0.024</td> <td>   14.436</td> <td> 0.000</td> <td>    0.295</td> <td>    0.388</td>\n",
       "</tr>\n",
       "</table>\n",
       "<table class=\"simpletable\">\n",
       "<tr>\n",
       "  <th>Omnibus:</th>       <td>15.566</td> <th>  Durbin-Watson:     </th> <td>   1.979</td>\n",
       "</tr>\n",
       "<tr>\n",
       "  <th>Prob(Omnibus):</th> <td> 0.000</td> <th>  Jarque-Bera (JB):  </th> <td>  14.837</td>\n",
       "</tr>\n",
       "<tr>\n",
       "  <th>Skew:</th>          <td> 0.043</td> <th>  Prob(JB):          </th> <td>0.000600</td>\n",
       "</tr>\n",
       "<tr>\n",
       "  <th>Kurtosis:</th>      <td> 2.903</td> <th>  Cond. No.          </th> <td>    281.</td>\n",
       "</tr>\n",
       "</table><br/><br/>Notes:<br/>[1] Standard Errors assume that the covariance matrix of the errors is correctly specified."
      ],
      "text/plain": [
       "<class 'statsmodels.iolib.summary.Summary'>\n",
       "\"\"\"\n",
       "                            OLS Regression Results                            \n",
       "==============================================================================\n",
       "Dep. Variable:                  price   R-squared:                       0.593\n",
       "Model:                            OLS   Adj. R-squared:                  0.593\n",
       "Method:                 Least Squares   F-statistic:                     1300.\n",
       "Date:                Wed, 26 Oct 2022   Prob (F-statistic):               0.00\n",
       "Time:                        22:20:58   Log-Likelihood:                -6865.9\n",
       "No. Observations:               21416   AIC:                         1.378e+04\n",
       "Df Residuals:                   21391   BIC:                         1.398e+04\n",
       "Df Model:                          24                                         \n",
       "Covariance Type:            nonrobust                                         \n",
       "=======================================================================================\n",
       "                          coef    std err          t      P>|t|      [0.025      0.975]\n",
       "---------------------------------------------------------------------------------------\n",
       "floors                  0.0218      0.005      4.116      0.000       0.011       0.032\n",
       "waterfront_YES          0.3305      0.034      9.691      0.000       0.264       0.397\n",
       "condition_Fair         -0.1010      0.027     -3.791      0.000      -0.153      -0.049\n",
       "condition_Good          0.0804      0.006     14.475      0.000       0.069       0.091\n",
       "condition_Poor         -0.0116      0.064     -0.183      0.855      -0.136       0.113\n",
       "condition_Very Good     0.2187      0.009     24.838      0.000       0.201       0.236\n",
       "grade_10 Very Good      0.5519      0.013     41.186      0.000       0.526       0.578\n",
       "grade_11 Excellent      0.6652      0.021     31.808      0.000       0.624       0.706\n",
       "grade_12 Luxury         0.7776      0.040     19.619      0.000       0.700       0.855\n",
       "grade_13 Mansion        0.8966      0.103      8.684      0.000       0.694       1.099\n",
       "grade_3 Poor           -0.3213      0.334     -0.963      0.336      -0.976       0.333\n",
       "grade_4 Low            -0.4787      0.065     -7.403      0.000      -0.605      -0.352\n",
       "grade_5 Fair           -0.3866      0.023    -17.172      0.000      -0.431      -0.342\n",
       "grade_6 Low Average    -0.1969      0.009    -22.683      0.000      -0.214      -0.180\n",
       "grade_8 Good            0.1900      0.006     30.423      0.000       0.178       0.202\n",
       "grade_9 Better          0.3907      0.009     42.042      0.000       0.373       0.409\n",
       "const                  12.8355      0.009   1451.825      0.000      12.818      12.853\n",
       "bedrooms               -0.0179      0.003     -5.915      0.000      -0.024      -0.012\n",
       "bathrooms              -0.0056      0.004     -1.415      0.157      -0.013       0.002\n",
       "sqft_living             0.1958      0.005     40.301      0.000       0.186       0.205\n",
       "sqft_lot               -0.0080      0.002     -3.438      0.001      -0.013      -0.003\n",
       "Fair_view               0.2396      0.019     12.832      0.000       0.203       0.276\n",
       "Average_view            0.1638      0.011     14.565      0.000       0.142       0.186\n",
       "Good_view               0.2108      0.015     13.697      0.000       0.181       0.241\n",
       "Excellent_view          0.3418      0.024     14.436      0.000       0.295       0.388\n",
       "==============================================================================\n",
       "Omnibus:                       15.566   Durbin-Watson:                   1.979\n",
       "Prob(Omnibus):                  0.000   Jarque-Bera (JB):               14.837\n",
       "Skew:                           0.043   Prob(JB):                     0.000600\n",
       "Kurtosis:                       2.903   Cond. No.                         281.\n",
       "==============================================================================\n",
       "\n",
       "Notes:\n",
       "[1] Standard Errors assume that the covariance matrix of the errors is correctly specified.\n",
       "\"\"\""
      ]
     },
     "execution_count": 386,
     "metadata": {},
     "output_type": "execute_result"
    }
   ],
   "source": [
    "sm.OLS(y_log, test).fit().summary()"
   ]
  },
  {
   "cell_type": "markdown",
   "metadata": {},
   "source": [
    "That dropped our conditional number dramatically! \n",
    "\n",
    "<br>\n",
    "\n",
    "Let's scale the year built column and add it back in."
   ]
  },
  {
   "cell_type": "code",
   "execution_count": 387,
   "metadata": {},
   "outputs": [],
   "source": [
    "yr_scaled = (x_c_comb[\"yr_built\"] - np.mean(x_c_comb[\"yr_built\"])) / np.std(x_c_comb[\"yr_built\"])\n",
    "yr_scaled_df = pd.DataFrame(yr_scaled, index=x_c_comb[\"yr_built\"].index)"
   ]
  },
  {
   "cell_type": "code",
   "execution_count": 388,
   "metadata": {},
   "outputs": [],
   "source": [
    "x_c_comb2 = test.merge(yr_scaled_df,left_index=True, right_index=True)"
   ]
  },
  {
   "cell_type": "markdown",
   "metadata": {},
   "source": [
    "# Results"
   ]
  },
  {
   "cell_type": "code",
   "execution_count": 389,
   "metadata": {},
   "outputs": [
    {
     "data": {
      "text/html": [
       "<table class=\"simpletable\">\n",
       "<caption>OLS Regression Results</caption>\n",
       "<tr>\n",
       "  <th>Dep. Variable:</th>          <td>price</td>      <th>  R-squared:         </th> <td>   0.651</td> \n",
       "</tr>\n",
       "<tr>\n",
       "  <th>Model:</th>                   <td>OLS</td>       <th>  Adj. R-squared:    </th> <td>   0.651</td> \n",
       "</tr>\n",
       "<tr>\n",
       "  <th>Method:</th>             <td>Least Squares</td>  <th>  F-statistic:       </th> <td>   1598.</td> \n",
       "</tr>\n",
       "<tr>\n",
       "  <th>Date:</th>             <td>Wed, 26 Oct 2022</td> <th>  Prob (F-statistic):</th>  <td>  0.00</td>  \n",
       "</tr>\n",
       "<tr>\n",
       "  <th>Time:</th>                 <td>22:29:51</td>     <th>  Log-Likelihood:    </th> <td> -5215.7</td> \n",
       "</tr>\n",
       "<tr>\n",
       "  <th>No. Observations:</th>      <td> 21416</td>      <th>  AIC:               </th> <td>1.048e+04</td>\n",
       "</tr>\n",
       "<tr>\n",
       "  <th>Df Residuals:</th>          <td> 21390</td>      <th>  BIC:               </th> <td>1.069e+04</td>\n",
       "</tr>\n",
       "<tr>\n",
       "  <th>Df Model:</th>              <td>    25</td>      <th>                     </th>     <td> </td>    \n",
       "</tr>\n",
       "<tr>\n",
       "  <th>Covariance Type:</th>      <td>nonrobust</td>    <th>                     </th>     <td> </td>    \n",
       "</tr>\n",
       "</table>\n",
       "<table class=\"simpletable\">\n",
       "<tr>\n",
       "           <td></td>              <th>coef</th>     <th>std err</th>      <th>t</th>      <th>P>|t|</th>  <th>[0.025</th>    <th>0.975]</th>  \n",
       "</tr>\n",
       "<tr>\n",
       "  <th>floors</th>              <td>    0.0767</td> <td>    0.005</td> <td>   15.380</td> <td> 0.000</td> <td>    0.067</td> <td>    0.086</td>\n",
       "</tr>\n",
       "<tr>\n",
       "  <th>waterfront_YES</th>      <td>    0.3076</td> <td>    0.032</td> <td>    9.741</td> <td> 0.000</td> <td>    0.246</td> <td>    0.370</td>\n",
       "</tr>\n",
       "<tr>\n",
       "  <th>condition_Fair</th>      <td>   -0.1652</td> <td>    0.025</td> <td>   -6.690</td> <td> 0.000</td> <td>   -0.214</td> <td>   -0.117</td>\n",
       "</tr>\n",
       "<tr>\n",
       "  <th>condition_Good</th>      <td>    0.0164</td> <td>    0.005</td> <td>    3.122</td> <td> 0.002</td> <td>    0.006</td> <td>    0.027</td>\n",
       "</tr>\n",
       "<tr>\n",
       "  <th>condition_Poor</th>      <td>   -0.1347</td> <td>    0.059</td> <td>   -2.288</td> <td> 0.022</td> <td>   -0.250</td> <td>   -0.019</td>\n",
       "</tr>\n",
       "<tr>\n",
       "  <th>condition_Very Good</th> <td>    0.0825</td> <td>    0.008</td> <td>    9.748</td> <td> 0.000</td> <td>    0.066</td> <td>    0.099</td>\n",
       "</tr>\n",
       "<tr>\n",
       "  <th>grade_10 Very Good</th>  <td>    0.6208</td> <td>    0.012</td> <td>   49.820</td> <td> 0.000</td> <td>    0.596</td> <td>    0.645</td>\n",
       "</tr>\n",
       "<tr>\n",
       "  <th>grade_11 Excellent</th>  <td>    0.7367</td> <td>    0.019</td> <td>   37.974</td> <td> 0.000</td> <td>    0.699</td> <td>    0.775</td>\n",
       "</tr>\n",
       "<tr>\n",
       "  <th>grade_12 Luxury</th>     <td>    0.8471</td> <td>    0.037</td> <td>   23.073</td> <td> 0.000</td> <td>    0.775</td> <td>    0.919</td>\n",
       "</tr>\n",
       "<tr>\n",
       "  <th>grade_13 Mansion</th>    <td>    0.8876</td> <td>    0.096</td> <td>    9.285</td> <td> 0.000</td> <td>    0.700</td> <td>    1.075</td>\n",
       "</tr>\n",
       "<tr>\n",
       "  <th>grade_3 Poor</th>        <td>   -0.4293</td> <td>    0.309</td> <td>   -1.389</td> <td> 0.165</td> <td>   -1.035</td> <td>    0.177</td>\n",
       "</tr>\n",
       "<tr>\n",
       "  <th>grade_4 Low</th>         <td>   -0.5868</td> <td>    0.060</td> <td>   -9.797</td> <td> 0.000</td> <td>   -0.704</td> <td>   -0.469</td>\n",
       "</tr>\n",
       "<tr>\n",
       "  <th>grade_5 Fair</th>        <td>   -0.4936</td> <td>    0.021</td> <td>  -23.596</td> <td> 0.000</td> <td>   -0.535</td> <td>   -0.453</td>\n",
       "</tr>\n",
       "<tr>\n",
       "  <th>grade_6 Low Average</th> <td>   -0.2734</td> <td>    0.008</td> <td>  -33.593</td> <td> 0.000</td> <td>   -0.289</td> <td>   -0.257</td>\n",
       "</tr>\n",
       "<tr>\n",
       "  <th>grade_8 Good</th>        <td>    0.2326</td> <td>    0.006</td> <td>   39.926</td> <td> 0.000</td> <td>    0.221</td> <td>    0.244</td>\n",
       "</tr>\n",
       "<tr>\n",
       "  <th>grade_9 Better</th>      <td>    0.4632</td> <td>    0.009</td> <td>   53.298</td> <td> 0.000</td> <td>    0.446</td> <td>    0.480</td>\n",
       "</tr>\n",
       "<tr>\n",
       "  <th>const</th>               <td>   12.7711</td> <td>    0.008</td> <td> 1546.860</td> <td> 0.000</td> <td>   12.755</td> <td>   12.787</td>\n",
       "</tr>\n",
       "<tr>\n",
       "  <th>bedrooms</th>            <td>   -0.0306</td> <td>    0.003</td> <td>  -10.856</td> <td> 0.000</td> <td>   -0.036</td> <td>   -0.025</td>\n",
       "</tr>\n",
       "<tr>\n",
       "  <th>bathrooms</th>           <td>    0.0621</td> <td>    0.004</td> <td>   16.317</td> <td> 0.000</td> <td>    0.055</td> <td>    0.070</td>\n",
       "</tr>\n",
       "<tr>\n",
       "  <th>sqft_living</th>         <td>    0.1702</td> <td>    0.005</td> <td>   37.665</td> <td> 0.000</td> <td>    0.161</td> <td>    0.179</td>\n",
       "</tr>\n",
       "<tr>\n",
       "  <th>sqft_lot</th>            <td>   -0.0013</td> <td>    0.002</td> <td>   -0.593</td> <td> 0.553</td> <td>   -0.006</td> <td>    0.003</td>\n",
       "</tr>\n",
       "<tr>\n",
       "  <th>Fair_view</th>           <td>    0.1780</td> <td>    0.017</td> <td>   10.279</td> <td> 0.000</td> <td>    0.144</td> <td>    0.212</td>\n",
       "</tr>\n",
       "<tr>\n",
       "  <th>Average_view</th>        <td>    0.0948</td> <td>    0.010</td> <td>    9.054</td> <td> 0.000</td> <td>    0.074</td> <td>    0.115</td>\n",
       "</tr>\n",
       "<tr>\n",
       "  <th>Good_view</th>           <td>    0.1318</td> <td>    0.014</td> <td>    9.211</td> <td> 0.000</td> <td>    0.104</td> <td>    0.160</td>\n",
       "</tr>\n",
       "<tr>\n",
       "  <th>Excellent_view</th>      <td>    0.2661</td> <td>    0.022</td> <td>   12.120</td> <td> 0.000</td> <td>    0.223</td> <td>    0.309</td>\n",
       "</tr>\n",
       "<tr>\n",
       "  <th>yr_built</th>            <td>   -0.1711</td> <td>    0.003</td> <td>  -59.699</td> <td> 0.000</td> <td>   -0.177</td> <td>   -0.165</td>\n",
       "</tr>\n",
       "</table>\n",
       "<table class=\"simpletable\">\n",
       "<tr>\n",
       "  <th>Omnibus:</th>       <td>76.977</td> <th>  Durbin-Watson:     </th> <td>   1.966</td>\n",
       "</tr>\n",
       "<tr>\n",
       "  <th>Prob(Omnibus):</th> <td> 0.000</td> <th>  Jarque-Bera (JB):  </th> <td>  90.235</td>\n",
       "</tr>\n",
       "<tr>\n",
       "  <th>Skew:</th>          <td>-0.088</td> <th>  Prob(JB):          </th> <td>2.55e-20</td>\n",
       "</tr>\n",
       "<tr>\n",
       "  <th>Kurtosis:</th>      <td> 3.265</td> <th>  Cond. No.          </th> <td>    283.</td>\n",
       "</tr>\n",
       "</table><br/><br/>Notes:<br/>[1] Standard Errors assume that the covariance matrix of the errors is correctly specified."
      ],
      "text/plain": [
       "<class 'statsmodels.iolib.summary.Summary'>\n",
       "\"\"\"\n",
       "                            OLS Regression Results                            \n",
       "==============================================================================\n",
       "Dep. Variable:                  price   R-squared:                       0.651\n",
       "Model:                            OLS   Adj. R-squared:                  0.651\n",
       "Method:                 Least Squares   F-statistic:                     1598.\n",
       "Date:                Wed, 26 Oct 2022   Prob (F-statistic):               0.00\n",
       "Time:                        22:29:51   Log-Likelihood:                -5215.7\n",
       "No. Observations:               21416   AIC:                         1.048e+04\n",
       "Df Residuals:                   21390   BIC:                         1.069e+04\n",
       "Df Model:                          25                                         \n",
       "Covariance Type:            nonrobust                                         \n",
       "=======================================================================================\n",
       "                          coef    std err          t      P>|t|      [0.025      0.975]\n",
       "---------------------------------------------------------------------------------------\n",
       "floors                  0.0767      0.005     15.380      0.000       0.067       0.086\n",
       "waterfront_YES          0.3076      0.032      9.741      0.000       0.246       0.370\n",
       "condition_Fair         -0.1652      0.025     -6.690      0.000      -0.214      -0.117\n",
       "condition_Good          0.0164      0.005      3.122      0.002       0.006       0.027\n",
       "condition_Poor         -0.1347      0.059     -2.288      0.022      -0.250      -0.019\n",
       "condition_Very Good     0.0825      0.008      9.748      0.000       0.066       0.099\n",
       "grade_10 Very Good      0.6208      0.012     49.820      0.000       0.596       0.645\n",
       "grade_11 Excellent      0.7367      0.019     37.974      0.000       0.699       0.775\n",
       "grade_12 Luxury         0.8471      0.037     23.073      0.000       0.775       0.919\n",
       "grade_13 Mansion        0.8876      0.096      9.285      0.000       0.700       1.075\n",
       "grade_3 Poor           -0.4293      0.309     -1.389      0.165      -1.035       0.177\n",
       "grade_4 Low            -0.5868      0.060     -9.797      0.000      -0.704      -0.469\n",
       "grade_5 Fair           -0.4936      0.021    -23.596      0.000      -0.535      -0.453\n",
       "grade_6 Low Average    -0.2734      0.008    -33.593      0.000      -0.289      -0.257\n",
       "grade_8 Good            0.2326      0.006     39.926      0.000       0.221       0.244\n",
       "grade_9 Better          0.4632      0.009     53.298      0.000       0.446       0.480\n",
       "const                  12.7711      0.008   1546.860      0.000      12.755      12.787\n",
       "bedrooms               -0.0306      0.003    -10.856      0.000      -0.036      -0.025\n",
       "bathrooms               0.0621      0.004     16.317      0.000       0.055       0.070\n",
       "sqft_living             0.1702      0.005     37.665      0.000       0.161       0.179\n",
       "sqft_lot               -0.0013      0.002     -0.593      0.553      -0.006       0.003\n",
       "Fair_view               0.1780      0.017     10.279      0.000       0.144       0.212\n",
       "Average_view            0.0948      0.010      9.054      0.000       0.074       0.115\n",
       "Good_view               0.1318      0.014      9.211      0.000       0.104       0.160\n",
       "Excellent_view          0.2661      0.022     12.120      0.000       0.223       0.309\n",
       "yr_built               -0.1711      0.003    -59.699      0.000      -0.177      -0.165\n",
       "==============================================================================\n",
       "Omnibus:                       76.977   Durbin-Watson:                   1.966\n",
       "Prob(Omnibus):                  0.000   Jarque-Bera (JB):               90.235\n",
       "Skew:                          -0.088   Prob(JB):                     2.55e-20\n",
       "Kurtosis:                       3.265   Cond. No.                         283.\n",
       "==============================================================================\n",
       "\n",
       "Notes:\n",
       "[1] Standard Errors assume that the covariance matrix of the errors is correctly specified.\n",
       "\"\"\""
      ]
     },
     "execution_count": 389,
     "metadata": {},
     "output_type": "execute_result"
    }
   ],
   "source": [
    "sm.OLS(y_log, x_c_comb2).fit().summary()"
   ]
  },
  {
   "cell_type": "code",
   "execution_count": 390,
   "metadata": {},
   "outputs": [
    {
     "name": "stdout",
     "output_type": "stream",
     "text": [
      "Square Foot of Living Space std: 909.8313422627067\n",
      "Square Foot of Lot std: 41485.99593490933\n",
      "Year built std: 29.38482213551832\n",
      "Bedroom std: 0.900816715043869\n",
      "Bathroom std: 0.7655477606080567\n"
     ]
    }
   ],
   "source": [
    "print(f\"Square Foot of Living Space std: {df['sqft_living'].std()}\")\n",
    "print(f\"Square Foot of Lot std: {df['sqft_lot'].std()}\")\n",
    "print(f\"Year built std: {df['yr_built'].std()}\")\n",
    "print(f\"Bedroom std: {df['bedrooms'].std()}\")\n",
    "print(f\"Bathroom std: {df['bathrooms'].std()}\")"
   ]
  },
  {
   "cell_type": "markdown",
   "metadata": {},
   "source": [
    "# Conclusions"
   ]
  },
  {
   "cell_type": "markdown",
   "metadata": {},
   "source": [
    "Our model suggests the most impactful features to predict house prices within king county are waterfront, size of living area, the construction quality and view. We found that year built and bedrooms do not have a as much of an impact as it could be expected.\n",
    "\n",
    "Some key points to mention are:\n",
    "\n",
    "- Adding a floor ups the price by 7.6%\n",
    "\n",
    "- Being waterfront increases the price by 30%\n",
    "\n",
    "- Adding a 3/4 bathroom increases price by 6%\n",
    "\n",
    "- Adding 909 square feet to living area increases price by 17%\n",
    "\n",
    "- Having a view can increase the price from 17 to 26%\n",
    "\n",
    "- A home in poor condition can be nearly 13% cheaper, while a very good home can be 8% more expensive\n",
    "\n",
    "- Construction quality has a massive impact; below-average homes sell 26 to 42% cheaper than average homes, while more luxury homes sell for as much as 88% more\n",
    "\n",
    "- Year built, square footage of the lot, and number of bedrooms do not have significant impacts."
   ]
  },
  {
   "cell_type": "code",
   "execution_count": null,
   "metadata": {},
   "outputs": [],
   "source": []
  }
 ],
 "metadata": {
  "kernelspec": {
   "display_name": "Python (learn-env)",
   "language": "python",
   "name": "learn-env"
  },
  "language_info": {
   "codemirror_mode": {
    "name": "ipython",
    "version": 3
   },
   "file_extension": ".py",
   "mimetype": "text/x-python",
   "name": "python",
   "nbconvert_exporter": "python",
   "pygments_lexer": "ipython3",
   "version": "3.8.5"
  }
 },
 "nbformat": 4,
 "nbformat_minor": 4
}
