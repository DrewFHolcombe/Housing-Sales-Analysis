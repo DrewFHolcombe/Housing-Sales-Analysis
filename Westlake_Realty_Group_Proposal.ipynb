{
 "cells": [
  {
   "cell_type": "markdown",
   "metadata": {},
   "source": [
    "# Westlake Realty Group Proposal\n",
    "\n",
    "Authors: Drew Holcombe, Juan Acosta"
   ]
  },
  {
   "cell_type": "markdown",
   "metadata": {},
   "source": [
    "## Overview\n",
    "Westlake Realty Group has grown into a diversified, real estate company that specializes in property management, commercial real estate, and relocation services. Our project presents data of house sale prices for King County, Washington. Using linear regression and data analysis techniques we are able to find which factors are the most impactful to determine the value of a house, and how Westlake Realty Group could use this information to help them and their clients make decisions.\n",
    "(hypothetical example)"
   ]
  },
  {
   "cell_type": "markdown",
   "metadata": {},
   "source": [
    "## Business Understanding\n",
    "\n",
    "As metropolitan areas keep growing in population, and the housing market is constantly changing, homebuyers could find themselves facing limited options. Westlake Realty Group is looking for factors and characteristics of a house that are the most impactful to determine its price, and be capable to help homebuyers manage their options based on specific features vs their budget.\n",
    "\n",
    "Our group's objective is to find features that accurately predict the sell price, and provide results and justifications for Westlake Realty Group.\n",
    "\n"
   ]
  },
  {
   "cell_type": "markdown",
   "metadata": {},
   "source": [
    "## Data Understanding\n",
    "Our project presents data of around 21 thousand house-sale records in King county, Washington, contained in the kc_house dataset. It includes houses sold between May 2014 and May 2015. The variables we found to be most useful for our research were: `price`, `bedrooms`, `bathrooms`, `sqft_living`, `floors`, `waterfront`, `view`, `condition` and `grade`."
   ]
  },
  {
   "cell_type": "code",
   "execution_count": null,
   "metadata": {},
   "outputs": [],
   "source": [
    "import numpy as np\n",
    "import pandas as pd\n",
    "import seaborn as sns\n",
    "from matplotlib import pyplot as plt\n",
    "from sklearn.preprocessing import PolynomialFeatures, StandardScaler, OneHotEncoder, OrdinalEncoder\n",
    "from sklearn.linear_model import LinearRegression\n",
    "import statsmodels.api as sm\n",
    "from scipy import stats"
   ]
  },
  {
   "cell_type": "code",
   "execution_count": null,
   "metadata": {
    "scrolled": true
   },
   "outputs": [],
   "source": [
    "df = pd.read_csv('data/kc_house_data.csv')\n",
    "df.shape"
   ]
  },
  {
   "cell_type": "markdown",
   "metadata": {},
   "source": [
    "We have information of 21597 houses located in King county, Washington."
   ]
  },
  {
   "cell_type": "code",
   "execution_count": null,
   "metadata": {
    "scrolled": false
   },
   "outputs": [],
   "source": [
    "df.info()"
   ]
  },
  {
   "cell_type": "markdown",
   "metadata": {},
   "source": [
    "`price` will be our target for the model\n",
    "\n",
    "<br>\n",
    "\n",
    "For our numeric columns we have `bedrooms`, `bathrooms`, `sqft_living`, `floors`, `sqft_above`, `yr_built`, `yr_renovated`, `zipcode`, `lat`, `long`, `sqft_living15` and `sqft_lot15`.\n",
    "\n",
    "Out of all numeric columns, `bedrooms`, `bathrooms` and `floors` contain discrete data, we can also notice how `sqft_basement` has an object dtype, we might have to convert values if the column is needed.\n",
    "\n",
    "<br>\n",
    "\n",
    "`waterfront`, `zipcode`, `view`, `condition` and `grade` are categorical variables\n",
    "<br>\n",
    "\n",
    "There are null values present in `waterfront`, `view` and `yr_renovated` columns"
   ]
  },
  {
   "cell_type": "markdown",
   "metadata": {},
   "source": [
    "## Data Preparation"
   ]
  },
  {
   "cell_type": "markdown",
   "metadata": {},
   "source": [
    "We first clean the data, look for duplicate data points, identify noticeable outliers, and dropping null values"
   ]
  },
  {
   "cell_type": "code",
   "execution_count": null,
   "metadata": {
    "scrolled": false
   },
   "outputs": [],
   "source": [
    "df.head(10)"
   ]
  },
  {
   "cell_type": "markdown",
   "metadata": {},
   "source": [
    "First thing we can notice on the `sqft_basement` column, a `?` can be seen on some of the data points. "
   ]
  },
  {
   "cell_type": "markdown",
   "metadata": {},
   "source": [
    "<br>\n",
    "\n",
    "#### `ID` column\n",
    "\n",
    "`id` column shows the unique identifier for a house"
   ]
  },
  {
   "cell_type": "code",
   "execution_count": null,
   "metadata": {
    "scrolled": true
   },
   "outputs": [],
   "source": [
    "df['id'].value_counts()"
   ]
  },
  {
   "cell_type": "markdown",
   "metadata": {},
   "source": [
    "We have duplicate values."
   ]
  },
  {
   "cell_type": "code",
   "execution_count": null,
   "metadata": {},
   "outputs": [],
   "source": [
    "# quick search for first id in the value count\n",
    "df.loc[df[\"id\"]==795000620]"
   ]
  },
  {
   "cell_type": "markdown",
   "metadata": {},
   "source": [
    "Above we can see 3 sale records for the same house, price is different in the three occasions, increasing over time. We can also notice how the third row shows NaN value on the `waterfront` and `yr_renovated` columns, and that same house in a different row shows 'NO' and '0.0' respectively."
   ]
  },
  {
   "cell_type": "markdown",
   "metadata": {},
   "source": [
    "We dropped duplicate values using `id`, looks like duplicates are ordered by `date`, and by keeping the last data point we also keep the most recent record of the house."
   ]
  },
  {
   "cell_type": "code",
   "execution_count": null,
   "metadata": {},
   "outputs": [],
   "source": [
    "df.drop_duplicates(subset='id', keep='last', inplace=True)"
   ]
  },
  {
   "cell_type": "code",
   "execution_count": null,
   "metadata": {
    "scrolled": false
   },
   "outputs": [],
   "source": [
    "df.loc[df[\"id\"]==795000620]"
   ]
  },
  {
   "cell_type": "markdown",
   "metadata": {},
   "source": [
    "<br>\n",
    "\n",
    "\n",
    "We dropped some columns to focus mainly on `price`, `bedrooms`, `bathrooms`, `sqft_living`, `sqft_lot`, `floors`, `waterfront`, `view`, `condition`, `grade` and `yr_built`"
   ]
  },
  {
   "cell_type": "code",
   "execution_count": null,
   "metadata": {},
   "outputs": [],
   "source": [
    "df.drop(labels=[\"sqft_above\", \"sqft_basement\", \"yr_renovated\", \"zipcode\", \"lat\",\n",
    "                \"long\",\"sqft_living15\",\"sqft_lot15\"], axis=1, inplace=True)"
   ]
  },
  {
   "cell_type": "markdown",
   "metadata": {},
   "source": [
    "<br>\n",
    "\n",
    "\n",
    "\n",
    "\n",
    "Let's look for potential mistakes in other columns; We will define some functions for repeated use and see what we're working with.\n",
    "\n",
    "\n",
    "#### `bedrooms` column\n",
    "\n",
    "<br>\n"
   ]
  },
  {
   "cell_type": "code",
   "execution_count": null,
   "metadata": {},
   "outputs": [],
   "source": [
    "def hist(df, column):\n",
    "    return plt.hist(x=df[column], bins='auto')\n",
    "def hist_rooms(df, column):\n",
    "    return plt.hist(x=df[column], bins=np.linspace(1, df[column].max()))\n",
    "def extreme(df, column):\n",
    "    return df.loc[df[column] == df[column].max()]"
   ]
  },
  {
   "cell_type": "code",
   "execution_count": null,
   "metadata": {
    "scrolled": true
   },
   "outputs": [],
   "source": [
    "hist_rooms(df, \"bedrooms\");"
   ]
  },
  {
   "cell_type": "code",
   "execution_count": null,
   "metadata": {},
   "outputs": [],
   "source": [
    "extreme(df, \"bedrooms\")"
   ]
  },
  {
   "cell_type": "markdown",
   "metadata": {},
   "source": [
    "An outlier, a house with 33 bedrooms, if we do a quick search on google using the id number we'll see this is a typo, we will replace value with 3, the correct amount of rooms."
   ]
  },
  {
   "cell_type": "code",
   "execution_count": null,
   "metadata": {},
   "outputs": [],
   "source": [
    "df[\"bedrooms\"].replace(to_replace=33, value=3, inplace=True)\n",
    "df[\"bedrooms\"].value_counts()"
   ]
  },
  {
   "cell_type": "code",
   "execution_count": null,
   "metadata": {
    "scrolled": true
   },
   "outputs": [],
   "source": [
    "df.loc[df[\"bedrooms\"] == 11]"
   ]
  },
  {
   "cell_type": "markdown",
   "metadata": {},
   "source": [
    "Looking into this house, it appears it actually has four bedrooms."
   ]
  },
  {
   "cell_type": "code",
   "execution_count": null,
   "metadata": {},
   "outputs": [],
   "source": [
    "df[\"bedrooms\"].replace(to_replace=11, value=4, inplace=True)"
   ]
  },
  {
   "cell_type": "markdown",
   "metadata": {},
   "source": [
    "\n",
    "\n",
    "\n",
    "<br>\n",
    "\n",
    "#### `bathrooms` column\n",
    "\n",
    "<br>\n"
   ]
  },
  {
   "cell_type": "code",
   "execution_count": null,
   "metadata": {},
   "outputs": [],
   "source": [
    "hist_rooms(df, \"bathrooms\");"
   ]
  },
  {
   "cell_type": "code",
   "execution_count": null,
   "metadata": {},
   "outputs": [],
   "source": [
    "extreme(df, \"bathrooms\")"
   ]
  },
  {
   "cell_type": "markdown",
   "metadata": {},
   "source": [
    "The amount  of bathrooms in these houses can be justified by the size of them.\n",
    "\n",
    "\n",
    "\n",
    "<br>\n",
    "\n",
    "\n",
    "#### `sqft_living` column"
   ]
  },
  {
   "cell_type": "code",
   "execution_count": null,
   "metadata": {},
   "outputs": [],
   "source": [
    "hist(df, \"sqft_living\");"
   ]
  },
  {
   "cell_type": "code",
   "execution_count": null,
   "metadata": {
    "scrolled": false
   },
   "outputs": [],
   "source": [
    "extreme(df, \"sqft_living\")"
   ]
  },
  {
   "cell_type": "markdown",
   "metadata": {},
   "source": [
    "Understandably, the largest house also is tied for most bathrooms, but if we take a look at the plot below, this house  can be considered an outlier, it has a large sq ft living space and a low price, compared to houses similar in living space but sold for a higher price."
   ]
  },
  {
   "cell_type": "code",
   "execution_count": null,
   "metadata": {
    "scrolled": true
   },
   "outputs": [],
   "source": [
    "plt.scatter(df['sqft_living'], df['price']);"
   ]
  },
  {
   "cell_type": "code",
   "execution_count": null,
   "metadata": {},
   "outputs": [],
   "source": [
    "#dropping outlier\n",
    "\n",
    "df.drop(12764, inplace = True)"
   ]
  },
  {
   "cell_type": "markdown",
   "metadata": {},
   "source": [
    "\n",
    "\n",
    "<br>\n",
    "\n",
    "\n",
    "#### `sqft_lot` column"
   ]
  },
  {
   "cell_type": "code",
   "execution_count": null,
   "metadata": {
    "scrolled": true
   },
   "outputs": [],
   "source": [
    "hist(df, \"sqft_lot\");"
   ]
  },
  {
   "cell_type": "code",
   "execution_count": null,
   "metadata": {
    "scrolled": true
   },
   "outputs": [],
   "source": [
    "extreme(df, \"sqft_lot\")"
   ]
  },
  {
   "cell_type": "code",
   "execution_count": null,
   "metadata": {
    "scrolled": true
   },
   "outputs": [],
   "source": [
    "df['sqft_lot'].max()"
   ]
  },
  {
   "cell_type": "markdown",
   "metadata": {},
   "source": [
    "A id search reveals this is a farm, which is unusual."
   ]
  },
  {
   "cell_type": "code",
   "execution_count": null,
   "metadata": {},
   "outputs": [],
   "source": [
    "plt.scatter(df['sqft_lot'], df['price']);"
   ]
  },
  {
   "cell_type": "markdown",
   "metadata": {},
   "source": [
    "\n",
    "<br>\n",
    "\n",
    "#### `waterfront` column\n",
    "\n",
    "\n",
    "\n",
    "The column tells whether the house is on a waterfront"
   ]
  },
  {
   "cell_type": "code",
   "execution_count": null,
   "metadata": {},
   "outputs": [],
   "source": [
    "df['waterfront'].value_counts()"
   ]
  },
  {
   "cell_type": "code",
   "execution_count": null,
   "metadata": {
    "scrolled": true
   },
   "outputs": [],
   "source": [
    "df['waterfront'].isnull().sum()"
   ]
  },
  {
   "cell_type": "markdown",
   "metadata": {},
   "source": [
    "Will change NaN values to 'NO' because it is the most frequent value under that column."
   ]
  },
  {
   "cell_type": "code",
   "execution_count": null,
   "metadata": {},
   "outputs": [],
   "source": [
    "df['waterfront'] = df['waterfront'].replace(np.nan, 'NO')"
   ]
  },
  {
   "cell_type": "code",
   "execution_count": null,
   "metadata": {
    "scrolled": true
   },
   "outputs": [],
   "source": [
    "plt.hist(df['waterfront']);"
   ]
  },
  {
   "cell_type": "markdown",
   "metadata": {},
   "source": [
    "\n",
    "<br>\n",
    "\n",
    "\n",
    "#### `floors` column"
   ]
  },
  {
   "cell_type": "code",
   "execution_count": null,
   "metadata": {},
   "outputs": [],
   "source": [
    "df['floors'].value_counts()"
   ]
  },
  {
   "cell_type": "code",
   "execution_count": null,
   "metadata": {
    "scrolled": true
   },
   "outputs": [],
   "source": [
    "plt.hist(df['floors']);"
   ]
  },
  {
   "cell_type": "code",
   "execution_count": null,
   "metadata": {
    "scrolled": true
   },
   "outputs": [],
   "source": [
    "df.loc[df['floors'] == 3.5]"
   ]
  },
  {
   "cell_type": "markdown",
   "metadata": {},
   "source": [
    "Made a search for house with 3.5 floors and only 2 bedrooms just to confirm the information is accurate, it is an apartment unit."
   ]
  },
  {
   "cell_type": "markdown",
   "metadata": {},
   "source": [
    "<br>\n",
    "\n",
    "\n",
    "#### `conditions` column\n",
    "\n",
    "<br>\n",
    "\n",
    "The `condition` column tells us how good the overall condition of the house is, and is related to maintenance of house."
   ]
  },
  {
   "cell_type": "code",
   "execution_count": null,
   "metadata": {
    "scrolled": true
   },
   "outputs": [],
   "source": [
    "plt.hist(df['condition']);"
   ]
  },
  {
   "cell_type": "code",
   "execution_count": null,
   "metadata": {
    "scrolled": true
   },
   "outputs": [],
   "source": [
    "plt.scatter(df['condition'], df['price']);"
   ]
  },
  {
   "cell_type": "code",
   "execution_count": null,
   "metadata": {
    "scrolled": true
   },
   "outputs": [],
   "source": [
    "dff = df.loc[df['condition'] == 'Good']\n",
    "dff.loc[dff['price'] == dff['price'].max()]"
   ]
  },
  {
   "cell_type": "code",
   "execution_count": null,
   "metadata": {},
   "outputs": [],
   "source": []
  },
  {
   "cell_type": "markdown",
   "metadata": {},
   "source": [
    "<br>\n",
    "\n",
    "\n",
    "#### `grade` column\n",
    "\n",
    "<br>\n",
    "\n",
    "The `grade` column shows the overall grade of the house, related to the construction and design of the house."
   ]
  },
  {
   "cell_type": "code",
   "execution_count": null,
   "metadata": {},
   "outputs": [],
   "source": [
    "df['grade'].value_counts()"
   ]
  },
  {
   "cell_type": "code",
   "execution_count": null,
   "metadata": {
    "scrolled": false
   },
   "outputs": [],
   "source": [
    "plt.hist(df['grade'])\n",
    "plt.xticks(rotation = 60);"
   ]
  },
  {
   "cell_type": "code",
   "execution_count": null,
   "metadata": {
    "scrolled": true
   },
   "outputs": [],
   "source": [
    "plt.scatter(df['grade'], df['price'])\n",
    "plt.xticks(rotation = 60);"
   ]
  },
  {
   "cell_type": "markdown",
   "metadata": {},
   "source": [
    "We can notice the '13 mansion'  has some outliers, '11 Excellent' shows one outlier, we will take care of these"
   ]
  },
  {
   "cell_type": "code",
   "execution_count": null,
   "metadata": {},
   "outputs": [],
   "source": [
    "Mansions = df.loc[df['grade'] == '13 Mansion']\n",
    "Mansions.loc[Mansions['price'] == Mansions['price'].max()]"
   ]
  },
  {
   "cell_type": "code",
   "execution_count": null,
   "metadata": {},
   "outputs": [],
   "source": [
    "df.drop(7245, inplace = True)"
   ]
  },
  {
   "cell_type": "code",
   "execution_count": null,
   "metadata": {},
   "outputs": [],
   "source": [
    "df.drop(9245, inplace = True)"
   ]
  },
  {
   "cell_type": "code",
   "execution_count": null,
   "metadata": {
    "scrolled": true
   },
   "outputs": [],
   "source": [
    "Excellent = df.loc[df['grade'] == '11 Excellent']\n",
    "Excellent.loc[Excellent['price'] == Excellent['price'].max()]"
   ]
  },
  {
   "cell_type": "code",
   "execution_count": null,
   "metadata": {},
   "outputs": [],
   "source": [
    "df.drop(3910, inplace = True)"
   ]
  },
  {
   "cell_type": "code",
   "execution_count": null,
   "metadata": {
    "scrolled": true
   },
   "outputs": [],
   "source": [
    "plt.scatter(df['grade'], df['price'])\n",
    "plt.xticks(rotation = 60);"
   ]
  },
  {
   "cell_type": "markdown",
   "metadata": {},
   "source": [
    "<br>\n",
    "\n",
    "\n",
    "#### `yr_built` column\n",
    "\n",
    "<br>\n",
    "\n",
    "Year when house was built"
   ]
  },
  {
   "cell_type": "code",
   "execution_count": null,
   "metadata": {},
   "outputs": [],
   "source": [
    "hist(df, \"yr_built\");"
   ]
  },
  {
   "cell_type": "markdown",
   "metadata": {},
   "source": [
    "We have records for houses built in 1900 to 2015"
   ]
  },
  {
   "cell_type": "markdown",
   "metadata": {},
   "source": [
    "<br>\n",
    "\n",
    "\n",
    "#### `view` column\n",
    "\n",
    "<br>\n",
    "\n",
    "This column describes quality of view from house"
   ]
  },
  {
   "cell_type": "code",
   "execution_count": null,
   "metadata": {},
   "outputs": [],
   "source": [
    "df[\"view\"].value_counts()"
   ]
  },
  {
   "cell_type": "code",
   "execution_count": null,
   "metadata": {},
   "outputs": [],
   "source": [
    "df[\"view\"].isna().sum()"
   ]
  },
  {
   "cell_type": "markdown",
   "metadata": {},
   "source": [
    "Column view has 63 null values, we will replace those values and consider them as having no view, 'NONE'"
   ]
  },
  {
   "cell_type": "code",
   "execution_count": null,
   "metadata": {},
   "outputs": [],
   "source": [
    "df['view'] = df['view'].replace(np.nan, 'NONE')"
   ]
  },
  {
   "cell_type": "markdown",
   "metadata": {},
   "source": [
    "\n",
    "<br>\n",
    "\n",
    "## Data Modeling"
   ]
  },
  {
   "cell_type": "markdown",
   "metadata": {},
   "source": [
    "We defined functions to help create a simple model, and a second function to create models using a log transformed target."
   ]
  },
  {
   "cell_type": "code",
   "execution_count": null,
   "metadata": {},
   "outputs": [],
   "source": [
    "def simple_model(x):\n",
    "    y = df[\"price\"]\n",
    "    x_c = sm.add_constant(x)\n",
    "    return sm.OLS(endog=y, exog=x_c).fit().summary()"
   ]
  },
  {
   "cell_type": "code",
   "execution_count": null,
   "metadata": {},
   "outputs": [],
   "source": [
    "def simple_ylog_model(x):\n",
    "    y = np.log(df[\"price\"])\n",
    "    x_c = sm.add_constant(x)\n",
    "    return sm.OLS(endog=y, exog=x_c).fit().summary()"
   ]
  },
  {
   "cell_type": "markdown",
   "metadata": {},
   "source": [
    "Hot-coded values for view column"
   ]
  },
  {
   "cell_type": "code",
   "execution_count": null,
   "metadata": {
    "scrolled": false
   },
   "outputs": [],
   "source": [
    "view_dummies = pd.get_dummies(df[\"view\"])\n",
    "view_dummies\n",
    "view_dummies.drop('NONE', axis=1, inplace=True)"
   ]
  },
  {
   "cell_type": "markdown",
   "metadata": {},
   "source": [
    "\n",
    "<br>\n",
    "\n",
    "Lets built a simple model using view features."
   ]
  },
  {
   "cell_type": "code",
   "execution_count": null,
   "metadata": {
    "scrolled": false
   },
   "outputs": [],
   "source": [
    "simple_model(view_dummies)"
   ]
  },
  {
   "cell_type": "markdown",
   "metadata": {},
   "source": [
    "\n",
    "<br>\n",
    "\n",
    "Created a function to add dummy view columns to a single dataframe including `bedrooms`\t`bathrooms`\t`sqft_living`\t`sqft_lot` features and set them as our exogenous."
   ]
  },
  {
   "cell_type": "code",
   "execution_count": null,
   "metadata": {},
   "outputs": [],
   "source": [
    "def add_views(df):\n",
    "    df[\"Fair_view\"] = view_dummies[\"FAIR\"]\n",
    "    df[\"Average_view\"] = view_dummies[\"AVERAGE\"]\n",
    "    df[\"Good_view\"] = view_dummies[\"GOOD\"]\n",
    "    df[\"Excellent_view\"] = view_dummies[\"EXCELLENT\"]"
   ]
  },
  {
   "cell_type": "code",
   "execution_count": null,
   "metadata": {},
   "outputs": [],
   "source": [
    "data_d = df.drop(labels=[\"id\",\"date\",\"price\",\"floors\",\"waterfront\",\"condition\",\"grade\",\"yr_built\",\"view\"], axis=1)\n",
    "add_views(data_d)\n",
    "data_d"
   ]
  },
  {
   "cell_type": "code",
   "execution_count": null,
   "metadata": {},
   "outputs": [],
   "source": [
    "x, y = sm.add_constant(data_d), df[\"price\"]"
   ]
  },
  {
   "cell_type": "code",
   "execution_count": null,
   "metadata": {},
   "outputs": [],
   "source": [
    "sm.OLS(y, x).fit().summary()"
   ]
  },
  {
   "cell_type": "markdown",
   "metadata": {},
   "source": [
    "<br>\n",
    "\n",
    "Let's log tranform our target and see if it will improve our model.\n",
    "\n",
    "<br>"
   ]
  },
  {
   "cell_type": "code",
   "execution_count": null,
   "metadata": {},
   "outputs": [],
   "source": [
    "y_log = np.log(y)\n",
    "sm.OLS(y_log, x).fit().summary()"
   ]
  },
  {
   "cell_type": "markdown",
   "metadata": {},
   "source": [
    "While the  `bathrooms` feature is showing a stronger correlation with the log of the price, the other factors prevented this from being the best overall choice."
   ]
  },
  {
   "cell_type": "markdown",
   "metadata": {},
   "source": [
    "Let's scale this data"
   ]
  },
  {
   "cell_type": "code",
   "execution_count": null,
   "metadata": {},
   "outputs": [],
   "source": [
    "x_nums = data_d.drop(labels=[\"Fair_view\", \"Average_view\", \"Good_view\", \"Excellent_view\"], axis=1)"
   ]
  },
  {
   "cell_type": "code",
   "execution_count": null,
   "metadata": {},
   "outputs": [],
   "source": [
    "x_scaled = StandardScaler().fit_transform(x_nums.values)\n",
    "x_scaled_df = pd.DataFrame(x_scaled, index=x_nums.index, columns=x_nums.columns)\n",
    "x_c = sm.add_constant(x_scaled_df)"
   ]
  },
  {
   "cell_type": "code",
   "execution_count": null,
   "metadata": {},
   "outputs": [],
   "source": [
    "sm.OLS(y, x_c).fit().summary()"
   ]
  },
  {
   "cell_type": "markdown",
   "metadata": {},
   "source": [
    "\n",
    "<br>\n",
    "\n",
    "Now that our condition number is minimal, if it increases by adding the `view` features, we'll know those inputs are the ones causing the ill-condition. Let's add them in now!"
   ]
  },
  {
   "cell_type": "code",
   "execution_count": null,
   "metadata": {},
   "outputs": [],
   "source": [
    "add_views(x_c)"
   ]
  },
  {
   "cell_type": "code",
   "execution_count": null,
   "metadata": {},
   "outputs": [],
   "source": [
    "sm.OLS(y, x_c).fit().summary()"
   ]
  },
  {
   "cell_type": "markdown",
   "metadata": {},
   "source": [
    "let's run the model using log y"
   ]
  },
  {
   "cell_type": "code",
   "execution_count": null,
   "metadata": {},
   "outputs": [],
   "source": [
    "sm.OLS(y_log, x_c).fit().summary()"
   ]
  },
  {
   "cell_type": "markdown",
   "metadata": {},
   "source": [
    "### Checking Assumptions"
   ]
  },
  {
   "cell_type": "markdown",
   "metadata": {},
   "source": [
    "We assign latest model to a variable and proced to check assumptions"
   ]
  },
  {
   "cell_type": "code",
   "execution_count": null,
   "metadata": {},
   "outputs": [],
   "source": [
    "model = sm.OLS(y_log, x_c).fit()"
   ]
  },
  {
   "cell_type": "code",
   "execution_count": null,
   "metadata": {},
   "outputs": [],
   "source": [
    "model.summary().tables[2]"
   ]
  },
  {
   "cell_type": "code",
   "execution_count": null,
   "metadata": {},
   "outputs": [],
   "source": [
    "model_preds = model.predict(x_c)\n",
    "resids = y_log - model_preds"
   ]
  },
  {
   "cell_type": "code",
   "execution_count": null,
   "metadata": {},
   "outputs": [],
   "source": [
    "fig, ax = plt.subplots()\n",
    "\n",
    "ax.scatter(y, resids);"
   ]
  },
  {
   "cell_type": "code",
   "execution_count": null,
   "metadata": {},
   "outputs": [],
   "source": [
    "model2 = sm.OLS(endog=y_log, exog=x_c).fit()\n",
    "model2_preds = model2.predict(x_c)\n",
    "model2_resid = y_log - model2_preds\n",
    "\n",
    "fig, ax = plt.subplots()\n",
    "ax.scatter(y_log, model2_resid);"
   ]
  },
  {
   "cell_type": "code",
   "execution_count": null,
   "metadata": {},
   "outputs": [],
   "source": [
    "sm.qqplot(model2_resid, line='r');"
   ]
  },
  {
   "cell_type": "markdown",
   "metadata": {},
   "source": [
    "Below we continued adding features to our model looking for a higher r-squared value while trying to keep the \n",
    "condition number low.\n",
    "\n",
    "First we drop columns already used, and keep mosly categorical data."
   ]
  },
  {
   "cell_type": "code",
   "execution_count": null,
   "metadata": {},
   "outputs": [],
   "source": [
    "df2 = df.drop(labels=[\"id\",\"date\",\"price\",\"bedrooms\",\"bathrooms\",\"sqft_living\",\"sqft_lot\",\"view\"],axis=1)"
   ]
  },
  {
   "cell_type": "code",
   "execution_count": null,
   "metadata": {},
   "outputs": [],
   "source": [
    "dummy_df = pd.get_dummies(df2)"
   ]
  },
  {
   "cell_type": "code",
   "execution_count": null,
   "metadata": {},
   "outputs": [],
   "source": [
    "dummy_df.drop(labels=[\"waterfront_NO\",\"condition_Average\",\"grade_7 Average\"],axis=1,inplace=True)"
   ]
  },
  {
   "cell_type": "markdown",
   "metadata": {},
   "source": [
    " `waterfront_NO`,`condition_Average`,`grade_7 Average` will be our reference categories."
   ]
  },
  {
   "cell_type": "code",
   "execution_count": null,
   "metadata": {},
   "outputs": [],
   "source": [
    "x_c_comb = dummy_df.join(x_c)"
   ]
  },
  {
   "cell_type": "code",
   "execution_count": null,
   "metadata": {},
   "outputs": [],
   "source": [
    "sm.OLS(y_log, x_c_comb).fit().summary()"
   ]
  },
  {
   "cell_type": "markdown",
   "metadata": {},
   "source": [
    "The high conditional number isn't ideal,  let's see if we can identify what's causing it by dropping a column. `Year_built` is the most continuous variable that hasn't been scaled, so let's try dropping it as a test."
   ]
  },
  {
   "cell_type": "code",
   "execution_count": null,
   "metadata": {},
   "outputs": [],
   "source": [
    "test = x_c_comb.drop(labels=\"yr_built\",axis=1)"
   ]
  },
  {
   "cell_type": "code",
   "execution_count": null,
   "metadata": {},
   "outputs": [],
   "source": [
    "sm.OLS(y_log, test).fit().summary()"
   ]
  },
  {
   "cell_type": "markdown",
   "metadata": {},
   "source": [
    "That dropped our conditional number dramatically! \n",
    "\n",
    "<br>\n",
    "\n",
    "Let's scale the year built column and add it back in."
   ]
  },
  {
   "cell_type": "code",
   "execution_count": null,
   "metadata": {},
   "outputs": [],
   "source": [
    "yr_scaled = (x_c_comb[\"yr_built\"] - np.mean(x_c_comb[\"yr_built\"])) / np.std(x_c_comb[\"yr_built\"])\n",
    "yr_scaled_df = pd.DataFrame(yr_scaled, index=x_c_comb[\"yr_built\"].index)"
   ]
  },
  {
   "cell_type": "code",
   "execution_count": null,
   "metadata": {},
   "outputs": [],
   "source": [
    "x_c_comb2 = test.merge(yr_scaled_df,left_index=True, right_index=True)"
   ]
  },
  {
   "cell_type": "code",
   "execution_count": null,
   "metadata": {},
   "outputs": [],
   "source": [
    "sm.OLS(y_log, x_c_comb2).fit().summary()"
   ]
  },
  {
   "cell_type": "code",
   "execution_count": null,
   "metadata": {},
   "outputs": [],
   "source": [
    "print(f\"Square Foot of Living Space std: {df['sqft_living'].std()}\")\n",
    "print(f\"Square Foot of Lot std: {df['sqft_lot'].std()}\")\n",
    "print(f\"Year built std: {df['yr_built'].std()}\")\n",
    "print(f\"Bedroom std: {df['bedrooms'].std()}\")\n",
    "print(f\"Bathroom std: {df['bathrooms'].std()}\")"
   ]
  },
  {
   "cell_type": "markdown",
   "metadata": {},
   "source": [
    "# Conclusions"
   ]
  },
  {
   "cell_type": "markdown",
   "metadata": {},
   "source": [
    "#### Regression Results"
   ]
  },
  {
   "cell_type": "markdown",
   "metadata": {},
   "source": [
    "Our model suggests the most impactful features to predict house prices within king county are waterfront, size of living area, the construction quality and view. We found that year built and bedrooms do not have as much of an impact as it could be expected.\n",
    "\n",
    "Some key points to mention are:\n",
    "\n",
    "- Adding a floor ups the price by 7.6%\n",
    "\n",
    "- Being waterfront increases the price by 30%\n",
    "\n",
    "- Adding a 3/4 bathroom increases price by 6%\n",
    "\n",
    "- Adding 909 square feet to living area increases price by 17%\n",
    "\n",
    "- Having a view can increase the price from 17 to 26%\n",
    "\n",
    "- A home in poor condition can be nearly 13% cheaper, while a very good home can be 8% more expensive\n",
    "\n",
    "- Construction quality has a massive impact; below-average homes sell 27 to 42% cheaper than average homes, while more luxury homes sell for as much as 88% more\n",
    "\n",
    "- Year built, square footage of the lot, and number of bedrooms do not have significant impacts."
   ]
  },
  {
   "cell_type": "markdown",
   "metadata": {},
   "source": [
    "#### Limitatios and Next steps\n",
    "Our resource only included records from 12 months (may 2014 - may 2015), and are from seven years ago, the housing market changes constantly and certainly more up to date data could result in interesting predictions.\n",
    "\n",
    "The dataset included details on a small fraction of houses were renovations got done, but it was far from being substantial enough to put it in a model, by researching more data about it, we could find the impact it has on price, and predict if its something you could use in favor of increasing profit or client satisfaction. In addition to, something to further explore is how other factors such as new developments in a certain area could inflict or benefit the value of a property, development for hospitals, open spaces, public buildings, or even the school district."
   ]
  },
  {
   "cell_type": "markdown",
   "metadata": {},
   "source": [
    "##### Graphs for presentation"
   ]
  },
  {
   "cell_type": "code",
   "execution_count": null,
   "metadata": {},
   "outputs": [],
   "source": [
    "import matplotlib.ticker as mtick\n",
    "\n",
    "y = df[\"price\"]\n",
    "x = df[\"sqft_living\"]\n",
    "fig, ax = plt.subplots()\n",
    "ax.scatter(x=x, y=y, c=\"olivedrab\")\n",
    "ax.ticklabel_format(style='plain')\n",
    "ax.set_title(\"Sale Price vs. Square Footage of Home\", size=20)\n",
    "ax.set_ylabel(\"Sale Price\", size=14)\n",
    "ax.set_xlabel(\"Square Footage of Home\", size=14)\n",
    "fmt = '${x:,.0f}'\n",
    "tick = mtick.StrMethodFormatter(fmt)\n",
    "ax.yaxis.set_major_formatter(tick);\n",
    "# plt.savefig(\"./SquareFootage.png\", bbox_inches=\"tight\", transparent=True, dpi=600);"
   ]
  },
  {
   "cell_type": "code",
   "execution_count": null,
   "metadata": {},
   "outputs": [],
   "source": [
    "grades = ['3 Poor', '4 Low', '5 Fair', '6 Low Average', '7 Average', '8 Good', '9 Better', '10 Very Good',\n",
    "          '11 Excellent', '12 Luxury', '13 Mansion']\n",
    "grade_med_price = []\n",
    "for x in grades:\n",
    "    grade_med_price.append(df.loc[df[\"grade\"] == x][\"price\"].median())"
   ]
  },
  {
   "cell_type": "code",
   "execution_count": null,
   "metadata": {},
   "outputs": [],
   "source": [
    "plt.style.use('seaborn')\n",
    "fig, ax = plt.subplots()\n",
    "\n",
    "palette =['olivedrab', 'olivedrab', 'olivedrab', 'olivedrab', 'black', 'olivedrab', 'olivedrab',\n",
    "                             'olivedrab', 'olivedrab', 'olivedrab', 'olivedrab']\n",
    "\n",
    "ax.bar(x=grades, height=grade_med_price, color=palette)\n",
    "\n",
    "ax.set_title(\"Median Sale Price by Home Grade\", size=20)\n",
    "ax.set_xlabel(\"Grade of Home\", size=14)\n",
    "ax.set_ylabel(\"Median Sale Price\", size=14)\n",
    "plt.ticklabel_format(axis=\"y\", style='plain')\n",
    "ax.tick_params(axis='x', labelrotation = 70)\n",
    "\n",
    "fmt = '${x:,.0f}'\n",
    "tick = mtick.StrMethodFormatter(fmt)\n",
    "ax.yaxis.set_major_formatter(tick) \n",
    "\n",
    "# plt.savefig(\"./HomeGrade2.png\", bbox_inches=\"tight\", transparent=True, dpi=600);"
   ]
  }
 ],
 "metadata": {
  "kernelspec": {
   "display_name": "Python (learn-env)",
   "language": "python",
   "name": "learn-env"
  },
  "language_info": {
   "codemirror_mode": {
    "name": "ipython",
    "version": 3
   },
   "file_extension": ".py",
   "mimetype": "text/x-python",
   "name": "python",
   "nbconvert_exporter": "python",
   "pygments_lexer": "ipython3",
   "version": "3.8.5"
  }
 },
 "nbformat": 4,
 "nbformat_minor": 4
}
