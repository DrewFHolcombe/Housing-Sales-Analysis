{
 "cells": [
  {
   "cell_type": "code",
   "execution_count": 1,
   "metadata": {},
   "outputs": [],
   "source": [
    "import pandas as pd\n",
    "import numpy as np\n",
    "import seaborn as sns\n",
    "from matplotlib import pyplot as plt\n",
    "from sklearn.preprocessing import StandardScaler\n",
    "from sklearn.linear_model import LinearRegression\n",
    "import statsmodels.api as sm\n",
    "from scipy import stats\n",
    "\n",
    "plt.style.use('seaborn')"
   ]
  },
  {
   "cell_type": "code",
   "execution_count": 2,
   "metadata": {
    "scrolled": true
   },
   "outputs": [
    {
     "name": "stdout",
     "output_type": "stream",
     "text": [
      "C:\\Users\\drewh\\Documents\\Flatiron Documents\\Phase 2\\Housing-Sales-Analysis\\data\n"
     ]
    }
   ],
   "source": [
    "cd ../data"
   ]
  },
  {
   "cell_type": "code",
   "execution_count": 3,
   "metadata": {
    "scrolled": false
   },
   "outputs": [
    {
     "data": {
      "text/html": [
       "<div>\n",
       "<style scoped>\n",
       "    .dataframe tbody tr th:only-of-type {\n",
       "        vertical-align: middle;\n",
       "    }\n",
       "\n",
       "    .dataframe tbody tr th {\n",
       "        vertical-align: top;\n",
       "    }\n",
       "\n",
       "    .dataframe thead th {\n",
       "        text-align: right;\n",
       "    }\n",
       "</style>\n",
       "<table border=\"1\" class=\"dataframe\">\n",
       "  <thead>\n",
       "    <tr style=\"text-align: right;\">\n",
       "      <th></th>\n",
       "      <th>id</th>\n",
       "      <th>date</th>\n",
       "      <th>price</th>\n",
       "      <th>bedrooms</th>\n",
       "      <th>bathrooms</th>\n",
       "      <th>sqft_living</th>\n",
       "      <th>sqft_lot</th>\n",
       "      <th>floors</th>\n",
       "      <th>waterfront</th>\n",
       "      <th>view</th>\n",
       "      <th>...</th>\n",
       "      <th>grade</th>\n",
       "      <th>sqft_above</th>\n",
       "      <th>sqft_basement</th>\n",
       "      <th>yr_built</th>\n",
       "      <th>yr_renovated</th>\n",
       "      <th>zipcode</th>\n",
       "      <th>lat</th>\n",
       "      <th>long</th>\n",
       "      <th>sqft_living15</th>\n",
       "      <th>sqft_lot15</th>\n",
       "    </tr>\n",
       "  </thead>\n",
       "  <tbody>\n",
       "    <tr>\n",
       "      <th>0</th>\n",
       "      <td>7129300520</td>\n",
       "      <td>10/13/2014</td>\n",
       "      <td>221900.0</td>\n",
       "      <td>3</td>\n",
       "      <td>1.00</td>\n",
       "      <td>1180</td>\n",
       "      <td>5650</td>\n",
       "      <td>1.0</td>\n",
       "      <td>NaN</td>\n",
       "      <td>NONE</td>\n",
       "      <td>...</td>\n",
       "      <td>7 Average</td>\n",
       "      <td>1180</td>\n",
       "      <td>0.0</td>\n",
       "      <td>1955</td>\n",
       "      <td>0.0</td>\n",
       "      <td>98178</td>\n",
       "      <td>47.5112</td>\n",
       "      <td>-122.257</td>\n",
       "      <td>1340</td>\n",
       "      <td>5650</td>\n",
       "    </tr>\n",
       "    <tr>\n",
       "      <th>1</th>\n",
       "      <td>6414100192</td>\n",
       "      <td>12/9/2014</td>\n",
       "      <td>538000.0</td>\n",
       "      <td>3</td>\n",
       "      <td>2.25</td>\n",
       "      <td>2570</td>\n",
       "      <td>7242</td>\n",
       "      <td>2.0</td>\n",
       "      <td>NO</td>\n",
       "      <td>NONE</td>\n",
       "      <td>...</td>\n",
       "      <td>7 Average</td>\n",
       "      <td>2170</td>\n",
       "      <td>400.0</td>\n",
       "      <td>1951</td>\n",
       "      <td>1991.0</td>\n",
       "      <td>98125</td>\n",
       "      <td>47.7210</td>\n",
       "      <td>-122.319</td>\n",
       "      <td>1690</td>\n",
       "      <td>7639</td>\n",
       "    </tr>\n",
       "    <tr>\n",
       "      <th>2</th>\n",
       "      <td>5631500400</td>\n",
       "      <td>2/25/2015</td>\n",
       "      <td>180000.0</td>\n",
       "      <td>2</td>\n",
       "      <td>1.00</td>\n",
       "      <td>770</td>\n",
       "      <td>10000</td>\n",
       "      <td>1.0</td>\n",
       "      <td>NO</td>\n",
       "      <td>NONE</td>\n",
       "      <td>...</td>\n",
       "      <td>6 Low Average</td>\n",
       "      <td>770</td>\n",
       "      <td>0.0</td>\n",
       "      <td>1933</td>\n",
       "      <td>NaN</td>\n",
       "      <td>98028</td>\n",
       "      <td>47.7379</td>\n",
       "      <td>-122.233</td>\n",
       "      <td>2720</td>\n",
       "      <td>8062</td>\n",
       "    </tr>\n",
       "    <tr>\n",
       "      <th>3</th>\n",
       "      <td>2487200875</td>\n",
       "      <td>12/9/2014</td>\n",
       "      <td>604000.0</td>\n",
       "      <td>4</td>\n",
       "      <td>3.00</td>\n",
       "      <td>1960</td>\n",
       "      <td>5000</td>\n",
       "      <td>1.0</td>\n",
       "      <td>NO</td>\n",
       "      <td>NONE</td>\n",
       "      <td>...</td>\n",
       "      <td>7 Average</td>\n",
       "      <td>1050</td>\n",
       "      <td>910.0</td>\n",
       "      <td>1965</td>\n",
       "      <td>0.0</td>\n",
       "      <td>98136</td>\n",
       "      <td>47.5208</td>\n",
       "      <td>-122.393</td>\n",
       "      <td>1360</td>\n",
       "      <td>5000</td>\n",
       "    </tr>\n",
       "    <tr>\n",
       "      <th>4</th>\n",
       "      <td>1954400510</td>\n",
       "      <td>2/18/2015</td>\n",
       "      <td>510000.0</td>\n",
       "      <td>3</td>\n",
       "      <td>2.00</td>\n",
       "      <td>1680</td>\n",
       "      <td>8080</td>\n",
       "      <td>1.0</td>\n",
       "      <td>NO</td>\n",
       "      <td>NONE</td>\n",
       "      <td>...</td>\n",
       "      <td>8 Good</td>\n",
       "      <td>1680</td>\n",
       "      <td>0.0</td>\n",
       "      <td>1987</td>\n",
       "      <td>0.0</td>\n",
       "      <td>98074</td>\n",
       "      <td>47.6168</td>\n",
       "      <td>-122.045</td>\n",
       "      <td>1800</td>\n",
       "      <td>7503</td>\n",
       "    </tr>\n",
       "  </tbody>\n",
       "</table>\n",
       "<p>5 rows × 21 columns</p>\n",
       "</div>"
      ],
      "text/plain": [
       "           id        date     price  bedrooms  bathrooms  sqft_living  \\\n",
       "0  7129300520  10/13/2014  221900.0         3       1.00         1180   \n",
       "1  6414100192   12/9/2014  538000.0         3       2.25         2570   \n",
       "2  5631500400   2/25/2015  180000.0         2       1.00          770   \n",
       "3  2487200875   12/9/2014  604000.0         4       3.00         1960   \n",
       "4  1954400510   2/18/2015  510000.0         3       2.00         1680   \n",
       "\n",
       "   sqft_lot  floors waterfront  view  ...          grade sqft_above  \\\n",
       "0      5650     1.0        NaN  NONE  ...      7 Average       1180   \n",
       "1      7242     2.0         NO  NONE  ...      7 Average       2170   \n",
       "2     10000     1.0         NO  NONE  ...  6 Low Average        770   \n",
       "3      5000     1.0         NO  NONE  ...      7 Average       1050   \n",
       "4      8080     1.0         NO  NONE  ...         8 Good       1680   \n",
       "\n",
       "   sqft_basement yr_built  yr_renovated  zipcode      lat     long  \\\n",
       "0            0.0     1955           0.0    98178  47.5112 -122.257   \n",
       "1          400.0     1951        1991.0    98125  47.7210 -122.319   \n",
       "2            0.0     1933           NaN    98028  47.7379 -122.233   \n",
       "3          910.0     1965           0.0    98136  47.5208 -122.393   \n",
       "4            0.0     1987           0.0    98074  47.6168 -122.045   \n",
       "\n",
       "   sqft_living15  sqft_lot15  \n",
       "0           1340        5650  \n",
       "1           1690        7639  \n",
       "2           2720        8062  \n",
       "3           1360        5000  \n",
       "4           1800        7503  \n",
       "\n",
       "[5 rows x 21 columns]"
      ]
     },
     "execution_count": 3,
     "metadata": {},
     "output_type": "execute_result"
    }
   ],
   "source": [
    "df = pd.read_csv(\"kc_house_data.csv\")\n",
    "df.head()"
   ]
  },
  {
   "cell_type": "markdown",
   "metadata": {},
   "source": [
    "Let's see what information we have:"
   ]
  },
  {
   "cell_type": "code",
   "execution_count": 4,
   "metadata": {
    "scrolled": true
   },
   "outputs": [
    {
     "name": "stdout",
     "output_type": "stream",
     "text": [
      "<class 'pandas.core.frame.DataFrame'>\n",
      "RangeIndex: 21597 entries, 0 to 21596\n",
      "Data columns (total 21 columns):\n",
      " #   Column         Non-Null Count  Dtype  \n",
      "---  ------         --------------  -----  \n",
      " 0   id             21597 non-null  int64  \n",
      " 1   date           21597 non-null  object \n",
      " 2   price          21597 non-null  float64\n",
      " 3   bedrooms       21597 non-null  int64  \n",
      " 4   bathrooms      21597 non-null  float64\n",
      " 5   sqft_living    21597 non-null  int64  \n",
      " 6   sqft_lot       21597 non-null  int64  \n",
      " 7   floors         21597 non-null  float64\n",
      " 8   waterfront     19221 non-null  object \n",
      " 9   view           21534 non-null  object \n",
      " 10  condition      21597 non-null  object \n",
      " 11  grade          21597 non-null  object \n",
      " 12  sqft_above     21597 non-null  int64  \n",
      " 13  sqft_basement  21597 non-null  object \n",
      " 14  yr_built       21597 non-null  int64  \n",
      " 15  yr_renovated   17755 non-null  float64\n",
      " 16  zipcode        21597 non-null  int64  \n",
      " 17  lat            21597 non-null  float64\n",
      " 18  long           21597 non-null  float64\n",
      " 19  sqft_living15  21597 non-null  int64  \n",
      " 20  sqft_lot15     21597 non-null  int64  \n",
      "dtypes: float64(6), int64(9), object(6)\n",
      "memory usage: 3.5+ MB\n"
     ]
    }
   ],
   "source": [
    "df.info()"
   ]
  },
  {
   "cell_type": "code",
   "execution_count": 5,
   "metadata": {},
   "outputs": [],
   "source": [
    "df.drop(labels=[\"sqft_above\", \"sqft_basement\", \"yr_renovated\", \"zipcode\", \"lat\",\n",
    "                \"long\",\"sqft_living15\",\"sqft_lot15\"], axis=1, inplace=True)"
   ]
  },
  {
   "cell_type": "markdown",
   "metadata": {},
   "source": [
    "Now let's look for any outliers throughout the dataset; we'll define some functions for repeated use."
   ]
  },
  {
   "cell_type": "code",
   "execution_count": 6,
   "metadata": {},
   "outputs": [],
   "source": [
    "def hist(column):\n",
    "    return plt.hist(x=df[column])\n",
    "def hist_rooms(column):\n",
    "    return plt.hist(x=df[column], bins=np.linspace(1, df[column].max()))\n",
    "def scat(x):\n",
    "    y = df[\"price\"]\n",
    "    x_col = df[x]\n",
    "    fig, ax = plt.subplots()\n",
    "    ax.scatter(x=x_col, y=y)\n",
    "def extreme(column):\n",
    "    return df.loc[df[column] == df[column].max()]"
   ]
  },
  {
   "cell_type": "code",
   "execution_count": 7,
   "metadata": {
    "scrolled": true
   },
   "outputs": [
    {
     "data": {
      "image/png": "[encoded data removed]",
      "text/plain": [
       "<Figure size 576x396 with 1 Axes>"
      ]
     },
     "metadata": {},
     "output_type": "display_data"
    }
   ],
   "source": [
    "scat(\"bedrooms\")"
   ]
  },
  {
   "cell_type": "markdown",
   "metadata": {},
   "source": [
    "Yikes, does a house really have over thirty bedrooms bedrooms?"
   ]
  },
  {
   "cell_type": "code",
   "execution_count": 8,
   "metadata": {
    "scrolled": true
   },
   "outputs": [
    {
     "data": {
      "text/html": [
       "<div>\n",
       "<style scoped>\n",
       "    .dataframe tbody tr th:only-of-type {\n",
       "        vertical-align: middle;\n",
       "    }\n",
       "\n",
       "    .dataframe tbody tr th {\n",
       "        vertical-align: top;\n",
       "    }\n",
       "\n",
       "    .dataframe thead th {\n",
       "        text-align: right;\n",
       "    }\n",
       "</style>\n",
       "<table border=\"1\" class=\"dataframe\">\n",
       "  <thead>\n",
       "    <tr style=\"text-align: right;\">\n",
       "      <th></th>\n",
       "      <th>id</th>\n",
       "      <th>date</th>\n",
       "      <th>price</th>\n",
       "      <th>bedrooms</th>\n",
       "      <th>bathrooms</th>\n",
       "      <th>sqft_living</th>\n",
       "      <th>sqft_lot</th>\n",
       "      <th>floors</th>\n",
       "      <th>waterfront</th>\n",
       "      <th>view</th>\n",
       "      <th>condition</th>\n",
       "      <th>grade</th>\n",
       "      <th>yr_built</th>\n",
       "    </tr>\n",
       "  </thead>\n",
       "  <tbody>\n",
       "    <tr>\n",
       "      <th>15856</th>\n",
       "      <td>2402100895</td>\n",
       "      <td>6/25/2014</td>\n",
       "      <td>640000.0</td>\n",
       "      <td>33</td>\n",
       "      <td>1.75</td>\n",
       "      <td>1620</td>\n",
       "      <td>6000</td>\n",
       "      <td>1.0</td>\n",
       "      <td>NO</td>\n",
       "      <td>NONE</td>\n",
       "      <td>Very Good</td>\n",
       "      <td>7 Average</td>\n",
       "      <td>1947</td>\n",
       "    </tr>\n",
       "  </tbody>\n",
       "</table>\n",
       "</div>"
      ],
      "text/plain": [
       "               id       date     price  bedrooms  bathrooms  sqft_living  \\\n",
       "15856  2402100895  6/25/2014  640000.0        33       1.75         1620   \n",
       "\n",
       "       sqft_lot  floors waterfront  view  condition      grade  yr_built  \n",
       "15856      6000     1.0         NO  NONE  Very Good  7 Average      1947  "
      ]
     },
     "execution_count": 8,
     "metadata": {},
     "output_type": "execute_result"
    }
   ],
   "source": [
    "extreme(\"bedrooms\")"
   ]
  },
  {
   "cell_type": "markdown",
   "metadata": {},
   "source": [
    "That number of bedrooms doesn't match the square footage; googling the house's ID reveals this house only has three bedrooms. Let's clean up this error."
   ]
  },
  {
   "cell_type": "code",
   "execution_count": 9,
   "metadata": {},
   "outputs": [],
   "source": [
    "df[\"bedrooms\"].replace(to_replace=33, value=3, inplace=True)"
   ]
  },
  {
   "cell_type": "code",
   "execution_count": 10,
   "metadata": {
    "scrolled": true
   },
   "outputs": [
    {
     "data": {
      "image/png": "[encoded data removed]",
      "text/plain": [
       "<Figure size 576x396 with 1 Axes>"
      ]
     },
     "metadata": {},
     "output_type": "display_data"
    }
   ],
   "source": [
    "scat(\"bedrooms\")"
   ]
  },
  {
   "cell_type": "markdown",
   "metadata": {},
   "source": [
    "There's still some suspicious numbers, albeit less egregious. Let's take a look at the 11."
   ]
  },
  {
   "cell_type": "code",
   "execution_count": 11,
   "metadata": {
    "scrolled": false
   },
   "outputs": [
    {
     "data": {
      "text/html": [
       "<div>\n",
       "<style scoped>\n",
       "    .dataframe tbody tr th:only-of-type {\n",
       "        vertical-align: middle;\n",
       "    }\n",
       "\n",
       "    .dataframe tbody tr th {\n",
       "        vertical-align: top;\n",
       "    }\n",
       "\n",
       "    .dataframe thead th {\n",
       "        text-align: right;\n",
       "    }\n",
       "</style>\n",
       "<table border=\"1\" class=\"dataframe\">\n",
       "  <thead>\n",
       "    <tr style=\"text-align: right;\">\n",
       "      <th></th>\n",
       "      <th>id</th>\n",
       "      <th>date</th>\n",
       "      <th>price</th>\n",
       "      <th>bedrooms</th>\n",
       "      <th>bathrooms</th>\n",
       "      <th>sqft_living</th>\n",
       "      <th>sqft_lot</th>\n",
       "      <th>floors</th>\n",
       "      <th>waterfront</th>\n",
       "      <th>view</th>\n",
       "      <th>condition</th>\n",
       "      <th>grade</th>\n",
       "      <th>yr_built</th>\n",
       "    </tr>\n",
       "  </thead>\n",
       "  <tbody>\n",
       "    <tr>\n",
       "      <th>8748</th>\n",
       "      <td>1773100755</td>\n",
       "      <td>8/21/2014</td>\n",
       "      <td>520000.0</td>\n",
       "      <td>11</td>\n",
       "      <td>3.0</td>\n",
       "      <td>3000</td>\n",
       "      <td>4960</td>\n",
       "      <td>2.0</td>\n",
       "      <td>NO</td>\n",
       "      <td>NONE</td>\n",
       "      <td>Average</td>\n",
       "      <td>7 Average</td>\n",
       "      <td>1918</td>\n",
       "    </tr>\n",
       "  </tbody>\n",
       "</table>\n",
       "</div>"
      ],
      "text/plain": [
       "              id       date     price  bedrooms  bathrooms  sqft_living  \\\n",
       "8748  1773100755  8/21/2014  520000.0        11        3.0         3000   \n",
       "\n",
       "      sqft_lot  floors waterfront  view condition      grade  yr_built  \n",
       "8748      4960     2.0         NO  NONE   Average  7 Average      1918  "
      ]
     },
     "execution_count": 11,
     "metadata": {},
     "output_type": "execute_result"
    }
   ],
   "source": [
    "df.loc[df[\"bedrooms\"] == 11]"
   ]
  },
  {
   "cell_type": "markdown",
   "metadata": {},
   "source": [
    "Looking into this house, it appears this house actually has four bedrooms. Let's adjust that."
   ]
  },
  {
   "cell_type": "code",
   "execution_count": 12,
   "metadata": {
    "scrolled": false
   },
   "outputs": [],
   "source": [
    "df[\"bedrooms\"].replace(to_replace=11, value=4, inplace=True)"
   ]
  },
  {
   "cell_type": "markdown",
   "metadata": {},
   "source": [
    "Much more reasonable - let's repeat the process with the other columns"
   ]
  },
  {
   "cell_type": "code",
   "execution_count": 13,
   "metadata": {
    "scrolled": true
   },
   "outputs": [
    {
     "data": {
      "image/png": "[encoded data removed]",
      "text/plain": [
       "<Figure size 576x396 with 1 Axes>"
      ]
     },
     "metadata": {},
     "output_type": "display_data"
    }
   ],
   "source": [
    "scat(\"bathrooms\")"
   ]
  },
  {
   "cell_type": "code",
   "execution_count": 14,
   "metadata": {
    "scrolled": true
   },
   "outputs": [
    {
     "data": {
      "text/html": [
       "<div>\n",
       "<style scoped>\n",
       "    .dataframe tbody tr th:only-of-type {\n",
       "        vertical-align: middle;\n",
       "    }\n",
       "\n",
       "    .dataframe tbody tr th {\n",
       "        vertical-align: top;\n",
       "    }\n",
       "\n",
       "    .dataframe thead th {\n",
       "        text-align: right;\n",
       "    }\n",
       "</style>\n",
       "<table border=\"1\" class=\"dataframe\">\n",
       "  <thead>\n",
       "    <tr style=\"text-align: right;\">\n",
       "      <th></th>\n",
       "      <th>id</th>\n",
       "      <th>date</th>\n",
       "      <th>price</th>\n",
       "      <th>bedrooms</th>\n",
       "      <th>bathrooms</th>\n",
       "      <th>sqft_living</th>\n",
       "      <th>sqft_lot</th>\n",
       "      <th>floors</th>\n",
       "      <th>waterfront</th>\n",
       "      <th>view</th>\n",
       "      <th>condition</th>\n",
       "      <th>grade</th>\n",
       "      <th>yr_built</th>\n",
       "    </tr>\n",
       "  </thead>\n",
       "  <tbody>\n",
       "    <tr>\n",
       "      <th>7245</th>\n",
       "      <td>6762700020</td>\n",
       "      <td>10/13/2014</td>\n",
       "      <td>7700000.0</td>\n",
       "      <td>6</td>\n",
       "      <td>8.0</td>\n",
       "      <td>12050</td>\n",
       "      <td>27600</td>\n",
       "      <td>2.5</td>\n",
       "      <td>NO</td>\n",
       "      <td>GOOD</td>\n",
       "      <td>Good</td>\n",
       "      <td>13 Mansion</td>\n",
       "      <td>1910</td>\n",
       "    </tr>\n",
       "    <tr>\n",
       "      <th>12764</th>\n",
       "      <td>1225069038</td>\n",
       "      <td>5/5/2014</td>\n",
       "      <td>2280000.0</td>\n",
       "      <td>7</td>\n",
       "      <td>8.0</td>\n",
       "      <td>13540</td>\n",
       "      <td>307752</td>\n",
       "      <td>3.0</td>\n",
       "      <td>NO</td>\n",
       "      <td>EXCELLENT</td>\n",
       "      <td>Average</td>\n",
       "      <td>12 Luxury</td>\n",
       "      <td>1999</td>\n",
       "    </tr>\n",
       "  </tbody>\n",
       "</table>\n",
       "</div>"
      ],
      "text/plain": [
       "               id        date      price  bedrooms  bathrooms  sqft_living  \\\n",
       "7245   6762700020  10/13/2014  7700000.0         6        8.0        12050   \n",
       "12764  1225069038    5/5/2014  2280000.0         7        8.0        13540   \n",
       "\n",
       "       sqft_lot  floors waterfront       view condition       grade  yr_built  \n",
       "7245      27600     2.5         NO       GOOD      Good  13 Mansion      1910  \n",
       "12764    307752     3.0         NO  EXCELLENT   Average   12 Luxury      1999  "
      ]
     },
     "execution_count": 14,
     "metadata": {},
     "output_type": "execute_result"
    }
   ],
   "source": [
    "extreme(\"bathrooms\")"
   ]
  },
  {
   "cell_type": "markdown",
   "metadata": {},
   "source": [
    "This is lots of bathrooms, but both houses are very large, so they're not unreasonable."
   ]
  },
  {
   "cell_type": "code",
   "execution_count": 15,
   "metadata": {},
   "outputs": [
    {
     "data": {
      "image/png": "[encoded data removed]",
      "text/plain": [
       "<Figure size 576x396 with 1 Axes>"
      ]
     },
     "metadata": {},
     "output_type": "display_data"
    }
   ],
   "source": [
    "scat(\"sqft_living\")"
   ]
  },
  {
   "cell_type": "markdown",
   "metadata": {},
   "source": [
    "Since this is a more continuous figure with a number of clear outliers, let's identify and remove them using the IQR."
   ]
  },
  {
   "cell_type": "code",
   "execution_count": 16,
   "metadata": {},
   "outputs": [],
   "source": [
    "def drop_outliers(x):\n",
    "    \"\"\"Given a column of the dataframe df, drop any outliers from that column\n",
    "        based on the IQR\"\"\"\n",
    "    q25, q75 = np.percentile(df[x], [25, 75])\n",
    "    intr_qr = q75-q25\n",
    "    mx = q75+(1.5*intr_qr)\n",
    "    mn = q25-(1.5*intr_qr)\n",
    "    return df[ (df[x]<mx) & (df[x]>mn) ]"
   ]
  },
  {
   "cell_type": "code",
   "execution_count": 17,
   "metadata": {},
   "outputs": [],
   "source": [
    "def drop_outliers2(x):\n",
    "    \"\"\"Given a column of the dataframe df, drop any outliers from that column\n",
    "        based on z-score\"\"\"\n",
    "    std = df[x].std()\n",
    "    mx = df[x].mean() + 3*std\n",
    "    mn = df[x].mean() - 3*std\n",
    "    return df[ (df[x]<mx) & (df[x]>mn) ]"
   ]
  },
  {
   "cell_type": "code",
   "execution_count": 18,
   "metadata": {},
   "outputs": [],
   "source": [
    "# df = drop_outliers2(\"sqft_living\")"
   ]
  },
  {
   "cell_type": "code",
   "execution_count": 19,
   "metadata": {
    "scrolled": false
   },
   "outputs": [
    {
     "data": {
      "image/png": "[encoded data removed]",
      "text/plain": [
       "<Figure size 576x396 with 1 Axes>"
      ]
     },
     "metadata": {},
     "output_type": "display_data"
    }
   ],
   "source": [
    "scat(\"sqft_living\")"
   ]
  },
  {
   "cell_type": "markdown",
   "metadata": {},
   "source": [
    "Much more manageable - while it visually appears that we've cut off quite a bit of data, we've actually only removed about 2.5% of it. Let's take a look at the other metrics:"
   ]
  },
  {
   "cell_type": "code",
   "execution_count": 20,
   "metadata": {
    "scrolled": true
   },
   "outputs": [
    {
     "data": {
      "image/png": "[encoded data removed]",
      "text/plain": [
       "<Figure size 576x396 with 1 Axes>"
      ]
     },
     "metadata": {},
     "output_type": "display_data"
    }
   ],
   "source": [
    "scat(\"sqft_lot\")"
   ]
  },
  {
   "cell_type": "markdown",
   "metadata": {},
   "source": [
    "This spread is very odd - let's filter out these outliers as well."
   ]
  },
  {
   "cell_type": "code",
   "execution_count": 21,
   "metadata": {},
   "outputs": [],
   "source": [
    "# df = drop_outliers2(\"sqft_lot\")"
   ]
  },
  {
   "cell_type": "code",
   "execution_count": 22,
   "metadata": {
    "scrolled": true
   },
   "outputs": [
    {
     "data": {
      "image/png": "[encoded data removed]",
      "text/plain": [
       "<Figure size 576x396 with 1 Axes>"
      ]
     },
     "metadata": {},
     "output_type": "display_data"
    }
   ],
   "source": [
    "scat(\"sqft_lot\")"
   ]
  },
  {
   "cell_type": "code",
   "execution_count": 23,
   "metadata": {},
   "outputs": [
    {
     "data": {
      "image/png": "[encoded data removed]",
      "text/plain": [
       "<Figure size 576x396 with 1 Axes>"
      ]
     },
     "metadata": {},
     "output_type": "display_data"
    }
   ],
   "source": [
    "scat(\"floors\")"
   ]
  },
  {
   "cell_type": "code",
   "execution_count": 24,
   "metadata": {},
   "outputs": [],
   "source": [
    "#We'll do this one a little differently\n",
    "con = ['Poor', 'Fair', 'Average', 'Good', 'Very Good']\n",
    "con_count = []\n",
    "for x in con:\n",
    "    con_count.append(df[\"condition\"].value_counts()[x])"
   ]
  },
  {
   "cell_type": "code",
   "execution_count": 25,
   "metadata": {},
   "outputs": [
    {
     "data": {
      "image/png": "[encoded data removed]",
      "text/plain": [
       "<Figure size 576x396 with 1 Axes>"
      ]
     },
     "metadata": {},
     "output_type": "display_data"
    }
   ],
   "source": [
    "plt.bar(x=con, height=con_count);"
   ]
  },
  {
   "cell_type": "code",
   "execution_count": 26,
   "metadata": {},
   "outputs": [],
   "source": [
    "# #Repeating the process with grades\n",
    "grades = ['3 Poor', '4 Low', '5 Fair', '6 Low Average', '7 Average', '8 Good', '9 Better', '10 Very Good',\n",
    "          '11 Excellent', '12 Luxury', '13 Mansion']\n",
    "grade_count = []\n",
    "for x in grades:\n",
    "    grade_count.append(df[\"grade\"].value_counts()[x])"
   ]
  },
  {
   "cell_type": "code",
   "execution_count": 27,
   "metadata": {
    "scrolled": true
   },
   "outputs": [
    {
     "data": {
      "image/png": "[encoded data removed]",
      "text/plain": [
       "<Figure size 576x396 with 1 Axes>"
      ]
     },
     "metadata": {},
     "output_type": "display_data"
    }
   ],
   "source": [
    "plt.bar(x=grades, height=grade_count)\n",
    "plt.xticks(rotation = 60);"
   ]
  },
  {
   "cell_type": "code",
   "execution_count": 28,
   "metadata": {
    "scrolled": true
   },
   "outputs": [
    {
     "data": {
      "image/png": "[encoded data removed]",
      "text/plain": [
       "<Figure size 576x396 with 1 Axes>"
      ]
     },
     "metadata": {},
     "output_type": "display_data"
    }
   ],
   "source": [
    "hist(\"yr_built\");"
   ]
  },
  {
   "cell_type": "markdown",
   "metadata": {},
   "source": [
    "Everything else seems reasonable. With the data cleaned, let's take a closer look."
   ]
  },
  {
   "cell_type": "markdown",
   "metadata": {},
   "source": [
    "## Living Area"
   ]
  },
  {
   "cell_type": "code",
   "execution_count": 29,
   "metadata": {},
   "outputs": [],
   "source": [
    "def simple_model(x):\n",
    "    y = df[\"price\"]\n",
    "    x_c = sm.add_constant(x)\n",
    "    return sm.OLS(endog=y, exog=x_c).fit().summary()"
   ]
  },
  {
   "cell_type": "code",
   "execution_count": 30,
   "metadata": {},
   "outputs": [],
   "source": [
    "def simple_ylog_model(x):\n",
    "    y = np.log(df[\"price\"])\n",
    "    x_c = sm.add_constant(x)\n",
    "    return sm.OLS(endog=y, exog=x_c).fit().summary()"
   ]
  },
  {
   "cell_type": "code",
   "execution_count": 31,
   "metadata": {
    "scrolled": true
   },
   "outputs": [
    {
     "data": {
      "text/html": [
       "<table class=\"simpletable\">\n",
       "<caption>OLS Regression Results</caption>\n",
       "<tr>\n",
       "  <th>Dep. Variable:</th>          <td>price</td>      <th>  R-squared:         </th>  <td>   0.493</td>  \n",
       "</tr>\n",
       "<tr>\n",
       "  <th>Model:</th>                   <td>OLS</td>       <th>  Adj. R-squared:    </th>  <td>   0.493</td>  \n",
       "</tr>\n",
       "<tr>\n",
       "  <th>Method:</th>             <td>Least Squares</td>  <th>  F-statistic:       </th>  <td>2.097e+04</td> \n",
       "</tr>\n",
       "<tr>\n",
       "  <th>Date:</th>             <td>Thu, 27 Oct 2022</td> <th>  Prob (F-statistic):</th>   <td>  0.00</td>   \n",
       "</tr>\n",
       "<tr>\n",
       "  <th>Time:</th>                 <td>17:18:16</td>     <th>  Log-Likelihood:    </th> <td>-3.0006e+05</td>\n",
       "</tr>\n",
       "<tr>\n",
       "  <th>No. Observations:</th>      <td> 21597</td>      <th>  AIC:               </th>  <td>6.001e+05</td> \n",
       "</tr>\n",
       "<tr>\n",
       "  <th>Df Residuals:</th>          <td> 21595</td>      <th>  BIC:               </th>  <td>6.001e+05</td> \n",
       "</tr>\n",
       "<tr>\n",
       "  <th>Df Model:</th>              <td>     1</td>      <th>                     </th>      <td> </td>     \n",
       "</tr>\n",
       "<tr>\n",
       "  <th>Covariance Type:</th>      <td>nonrobust</td>    <th>                     </th>      <td> </td>     \n",
       "</tr>\n",
       "</table>\n",
       "<table class=\"simpletable\">\n",
       "<tr>\n",
       "       <td></td>          <th>coef</th>     <th>std err</th>      <th>t</th>      <th>P>|t|</th>  <th>[0.025</th>    <th>0.975]</th>  \n",
       "</tr>\n",
       "<tr>\n",
       "  <th>const</th>       <td>-4.399e+04</td> <td> 4410.023</td> <td>   -9.975</td> <td> 0.000</td> <td>-5.26e+04</td> <td>-3.53e+04</td>\n",
       "</tr>\n",
       "<tr>\n",
       "  <th>sqft_living</th> <td>  280.8630</td> <td>    1.939</td> <td>  144.819</td> <td> 0.000</td> <td>  277.062</td> <td>  284.664</td>\n",
       "</tr>\n",
       "</table>\n",
       "<table class=\"simpletable\">\n",
       "<tr>\n",
       "  <th>Omnibus:</th>       <td>14801.942</td> <th>  Durbin-Watson:     </th>  <td>   1.982</td> \n",
       "</tr>\n",
       "<tr>\n",
       "  <th>Prob(Omnibus):</th>  <td> 0.000</td>   <th>  Jarque-Bera (JB):  </th> <td>542662.604</td>\n",
       "</tr>\n",
       "<tr>\n",
       "  <th>Skew:</th>           <td> 2.820</td>   <th>  Prob(JB):          </th>  <td>    0.00</td> \n",
       "</tr>\n",
       "<tr>\n",
       "  <th>Kurtosis:</th>       <td>26.901</td>   <th>  Cond. No.          </th>  <td>5.63e+03</td> \n",
       "</tr>\n",
       "</table><br/><br/>Notes:<br/>[1] Standard Errors assume that the covariance matrix of the errors is correctly specified.<br/>[2] The condition number is large, 5.63e+03. This might indicate that there are<br/>strong multicollinearity or other numerical problems."
      ],
      "text/plain": [
       "<class 'statsmodels.iolib.summary.Summary'>\n",
       "\"\"\"\n",
       "                            OLS Regression Results                            \n",
       "==============================================================================\n",
       "Dep. Variable:                  price   R-squared:                       0.493\n",
       "Model:                            OLS   Adj. R-squared:                  0.493\n",
       "Method:                 Least Squares   F-statistic:                 2.097e+04\n",
       "Date:                Thu, 27 Oct 2022   Prob (F-statistic):               0.00\n",
       "Time:                        17:18:16   Log-Likelihood:            -3.0006e+05\n",
       "No. Observations:               21597   AIC:                         6.001e+05\n",
       "Df Residuals:                   21595   BIC:                         6.001e+05\n",
       "Df Model:                           1                                         \n",
       "Covariance Type:            nonrobust                                         \n",
       "===============================================================================\n",
       "                  coef    std err          t      P>|t|      [0.025      0.975]\n",
       "-------------------------------------------------------------------------------\n",
       "const       -4.399e+04   4410.023     -9.975      0.000   -5.26e+04   -3.53e+04\n",
       "sqft_living   280.8630      1.939    144.819      0.000     277.062     284.664\n",
       "==============================================================================\n",
       "Omnibus:                    14801.942   Durbin-Watson:                   1.982\n",
       "Prob(Omnibus):                  0.000   Jarque-Bera (JB):           542662.604\n",
       "Skew:                           2.820   Prob(JB):                         0.00\n",
       "Kurtosis:                      26.901   Cond. No.                     5.63e+03\n",
       "==============================================================================\n",
       "\n",
       "Notes:\n",
       "[1] Standard Errors assume that the covariance matrix of the errors is correctly specified.\n",
       "[2] The condition number is large, 5.63e+03. This might indicate that there are\n",
       "strong multicollinearity or other numerical problems.\n",
       "\"\"\""
      ]
     },
     "execution_count": 31,
     "metadata": {},
     "output_type": "execute_result"
    }
   ],
   "source": [
    "simple_model(df[\"sqft_living\"])"
   ]
  },
  {
   "cell_type": "code",
   "execution_count": 32,
   "metadata": {
    "scrolled": false
   },
   "outputs": [
    {
     "data": {
      "image/png": "[encoded data removed]",
      "text/plain": [
       "<Figure size 576x396 with 1 Axes>"
      ]
     },
     "metadata": {},
     "output_type": "display_data"
    }
   ],
   "source": [
    "y = df[\"price\"]\n",
    "y.hist();"
   ]
  },
  {
   "cell_type": "code",
   "execution_count": 33,
   "metadata": {},
   "outputs": [
    {
     "data": {
      "image/png": "[encoded data removed]",
      "text/plain": [
       "<Figure size 576x396 with 1 Axes>"
      ]
     },
     "metadata": {},
     "output_type": "display_data"
    }
   ],
   "source": [
    "y_log = np.log(y)\n",
    "y_log.hist();"
   ]
  },
  {
   "cell_type": "code",
   "execution_count": 34,
   "metadata": {
    "scrolled": false
   },
   "outputs": [
    {
     "data": {
      "image/png": "[encoded data removed]",
      "text/plain": [
       "<Figure size 576x396 with 1 Axes>"
      ]
     },
     "metadata": {},
     "output_type": "display_data"
    }
   ],
   "source": [
    "x = df[\"sqft_living\"]\n",
    "x.hist();"
   ]
  },
  {
   "cell_type": "code",
   "execution_count": 35,
   "metadata": {
    "scrolled": true
   },
   "outputs": [
    {
     "data": {
      "image/png": "[encoded data removed]",
      "text/plain": [
       "<Figure size 576x396 with 1 Axes>"
      ]
     },
     "metadata": {},
     "output_type": "display_data"
    }
   ],
   "source": [
    "x_log = np.log(x)\n",
    "x_log.hist();"
   ]
  },
  {
   "cell_type": "code",
   "execution_count": 36,
   "metadata": {
    "scrolled": true
   },
   "outputs": [
    {
     "data": {
      "text/html": [
       "<table class=\"simpletable\">\n",
       "<caption>OLS Regression Results</caption>\n",
       "<tr>\n",
       "  <th>Dep. Variable:</th>          <td>price</td>      <th>  R-squared:         </th> <td>   0.455</td> \n",
       "</tr>\n",
       "<tr>\n",
       "  <th>Model:</th>                   <td>OLS</td>       <th>  Adj. R-squared:    </th> <td>   0.455</td> \n",
       "</tr>\n",
       "<tr>\n",
       "  <th>Method:</th>             <td>Least Squares</td>  <th>  F-statistic:       </th> <td>1.805e+04</td>\n",
       "</tr>\n",
       "<tr>\n",
       "  <th>Date:</th>             <td>Thu, 27 Oct 2022</td> <th>  Prob (F-statistic):</th>  <td>  0.00</td>  \n",
       "</tr>\n",
       "<tr>\n",
       "  <th>Time:</th>                 <td>17:18:17</td>     <th>  Log-Likelihood:    </th> <td> -10231.</td> \n",
       "</tr>\n",
       "<tr>\n",
       "  <th>No. Observations:</th>      <td> 21597</td>      <th>  AIC:               </th> <td>2.047e+04</td>\n",
       "</tr>\n",
       "<tr>\n",
       "  <th>Df Residuals:</th>          <td> 21595</td>      <th>  BIC:               </th> <td>2.048e+04</td>\n",
       "</tr>\n",
       "<tr>\n",
       "  <th>Df Model:</th>              <td>     1</td>      <th>                     </th>     <td> </td>    \n",
       "</tr>\n",
       "<tr>\n",
       "  <th>Covariance Type:</th>      <td>nonrobust</td>    <th>                     </th>     <td> </td>    \n",
       "</tr>\n",
       "</table>\n",
       "<table class=\"simpletable\">\n",
       "<tr>\n",
       "       <td></td>          <th>coef</th>     <th>std err</th>      <th>t</th>      <th>P>|t|</th>  <th>[0.025</th>    <th>0.975]</th>  \n",
       "</tr>\n",
       "<tr>\n",
       "  <th>const</th>       <td>    6.7234</td> <td>    0.047</td> <td>  142.612</td> <td> 0.000</td> <td>    6.631</td> <td>    6.816</td>\n",
       "</tr>\n",
       "<tr>\n",
       "  <th>sqft_living</th> <td>    0.8376</td> <td>    0.006</td> <td>  134.368</td> <td> 0.000</td> <td>    0.825</td> <td>    0.850</td>\n",
       "</tr>\n",
       "</table>\n",
       "<table class=\"simpletable\">\n",
       "<tr>\n",
       "  <th>Omnibus:</th>       <td>123.577</td> <th>  Durbin-Watson:     </th> <td>   1.977</td>\n",
       "</tr>\n",
       "<tr>\n",
       "  <th>Prob(Omnibus):</th> <td> 0.000</td>  <th>  Jarque-Bera (JB):  </th> <td> 114.096</td>\n",
       "</tr>\n",
       "<tr>\n",
       "  <th>Skew:</th>          <td> 0.143</td>  <th>  Prob(JB):          </th> <td>1.68e-25</td>\n",
       "</tr>\n",
       "<tr>\n",
       "  <th>Kurtosis:</th>      <td> 2.787</td>  <th>  Cond. No.          </th> <td>    137.</td>\n",
       "</tr>\n",
       "</table><br/><br/>Notes:<br/>[1] Standard Errors assume that the covariance matrix of the errors is correctly specified."
      ],
      "text/plain": [
       "<class 'statsmodels.iolib.summary.Summary'>\n",
       "\"\"\"\n",
       "                            OLS Regression Results                            \n",
       "==============================================================================\n",
       "Dep. Variable:                  price   R-squared:                       0.455\n",
       "Model:                            OLS   Adj. R-squared:                  0.455\n",
       "Method:                 Least Squares   F-statistic:                 1.805e+04\n",
       "Date:                Thu, 27 Oct 2022   Prob (F-statistic):               0.00\n",
       "Time:                        17:18:17   Log-Likelihood:                -10231.\n",
       "No. Observations:               21597   AIC:                         2.047e+04\n",
       "Df Residuals:                   21595   BIC:                         2.048e+04\n",
       "Df Model:                           1                                         \n",
       "Covariance Type:            nonrobust                                         \n",
       "===============================================================================\n",
       "                  coef    std err          t      P>|t|      [0.025      0.975]\n",
       "-------------------------------------------------------------------------------\n",
       "const           6.7234      0.047    142.612      0.000       6.631       6.816\n",
       "sqft_living     0.8376      0.006    134.368      0.000       0.825       0.850\n",
       "==============================================================================\n",
       "Omnibus:                      123.577   Durbin-Watson:                   1.977\n",
       "Prob(Omnibus):                  0.000   Jarque-Bera (JB):              114.096\n",
       "Skew:                           0.143   Prob(JB):                     1.68e-25\n",
       "Kurtosis:                       2.787   Cond. No.                         137.\n",
       "==============================================================================\n",
       "\n",
       "Notes:\n",
       "[1] Standard Errors assume that the covariance matrix of the errors is correctly specified.\n",
       "\"\"\""
      ]
     },
     "execution_count": 36,
     "metadata": {},
     "output_type": "execute_result"
    }
   ],
   "source": [
    "x_c = sm.add_constant(x)\n",
    "x_log_c = sm.add_constant(x_log)\n",
    "sm.OLS(endog=y_log, exog=x_log_c).fit().summary()"
   ]
  },
  {
   "cell_type": "code",
   "execution_count": 37,
   "metadata": {},
   "outputs": [
    {
     "data": {
      "text/html": [
       "<table class=\"simpletable\">\n",
       "<caption>OLS Regression Results</caption>\n",
       "<tr>\n",
       "  <th>Dep. Variable:</th>          <td>price</td>      <th>  R-squared:         </th>  <td>   0.374</td>  \n",
       "</tr>\n",
       "<tr>\n",
       "  <th>Model:</th>                   <td>OLS</td>       <th>  Adj. R-squared:    </th>  <td>   0.374</td>  \n",
       "</tr>\n",
       "<tr>\n",
       "  <th>Method:</th>             <td>Least Squares</td>  <th>  F-statistic:       </th>  <td>1.292e+04</td> \n",
       "</tr>\n",
       "<tr>\n",
       "  <th>Date:</th>             <td>Thu, 27 Oct 2022</td> <th>  Prob (F-statistic):</th>   <td>  0.00</td>   \n",
       "</tr>\n",
       "<tr>\n",
       "  <th>Time:</th>                 <td>17:18:17</td>     <th>  Log-Likelihood:    </th> <td>-3.0233e+05</td>\n",
       "</tr>\n",
       "<tr>\n",
       "  <th>No. Observations:</th>      <td> 21597</td>      <th>  AIC:               </th>  <td>6.047e+05</td> \n",
       "</tr>\n",
       "<tr>\n",
       "  <th>Df Residuals:</th>          <td> 21595</td>      <th>  BIC:               </th>  <td>6.047e+05</td> \n",
       "</tr>\n",
       "<tr>\n",
       "  <th>Df Model:</th>              <td>     1</td>      <th>                     </th>      <td> </td>     \n",
       "</tr>\n",
       "<tr>\n",
       "  <th>Covariance Type:</th>      <td>nonrobust</td>    <th>                     </th>      <td> </td>     \n",
       "</tr>\n",
       "</table>\n",
       "<table class=\"simpletable\">\n",
       "<tr>\n",
       "       <td></td>          <th>coef</th>     <th>std err</th>      <th>t</th>      <th>P>|t|</th>  <th>[0.025</th>    <th>0.975]</th>  \n",
       "</tr>\n",
       "<tr>\n",
       "  <th>const</th>       <td>-3.461e+06</td> <td> 3.53e+04</td> <td>  -98.165</td> <td> 0.000</td> <td>-3.53e+06</td> <td>-3.39e+06</td>\n",
       "</tr>\n",
       "<tr>\n",
       "  <th>sqft_living</th> <td> 5.299e+05</td> <td> 4661.551</td> <td>  113.670</td> <td> 0.000</td> <td> 5.21e+05</td> <td> 5.39e+05</td>\n",
       "</tr>\n",
       "</table>\n",
       "<table class=\"simpletable\">\n",
       "<tr>\n",
       "  <th>Omnibus:</th>       <td>19384.826</td> <th>  Durbin-Watson:     </th>  <td>   1.978</td>  \n",
       "</tr>\n",
       "<tr>\n",
       "  <th>Prob(Omnibus):</th>  <td> 0.000</td>   <th>  Jarque-Bera (JB):  </th> <td>1655521.719</td>\n",
       "</tr>\n",
       "<tr>\n",
       "  <th>Skew:</th>           <td> 3.977</td>   <th>  Prob(JB):          </th>  <td>    0.00</td>  \n",
       "</tr>\n",
       "<tr>\n",
       "  <th>Kurtosis:</th>       <td>45.148</td>   <th>  Cond. No.          </th>  <td>    137.</td>  \n",
       "</tr>\n",
       "</table><br/><br/>Notes:<br/>[1] Standard Errors assume that the covariance matrix of the errors is correctly specified."
      ],
      "text/plain": [
       "<class 'statsmodels.iolib.summary.Summary'>\n",
       "\"\"\"\n",
       "                            OLS Regression Results                            \n",
       "==============================================================================\n",
       "Dep. Variable:                  price   R-squared:                       0.374\n",
       "Model:                            OLS   Adj. R-squared:                  0.374\n",
       "Method:                 Least Squares   F-statistic:                 1.292e+04\n",
       "Date:                Thu, 27 Oct 2022   Prob (F-statistic):               0.00\n",
       "Time:                        17:18:17   Log-Likelihood:            -3.0233e+05\n",
       "No. Observations:               21597   AIC:                         6.047e+05\n",
       "Df Residuals:                   21595   BIC:                         6.047e+05\n",
       "Df Model:                           1                                         \n",
       "Covariance Type:            nonrobust                                         \n",
       "===============================================================================\n",
       "                  coef    std err          t      P>|t|      [0.025      0.975]\n",
       "-------------------------------------------------------------------------------\n",
       "const       -3.461e+06   3.53e+04    -98.165      0.000   -3.53e+06   -3.39e+06\n",
       "sqft_living  5.299e+05   4661.551    113.670      0.000    5.21e+05    5.39e+05\n",
       "==============================================================================\n",
       "Omnibus:                    19384.826   Durbin-Watson:                   1.978\n",
       "Prob(Omnibus):                  0.000   Jarque-Bera (JB):          1655521.719\n",
       "Skew:                           3.977   Prob(JB):                         0.00\n",
       "Kurtosis:                      45.148   Cond. No.                         137.\n",
       "==============================================================================\n",
       "\n",
       "Notes:\n",
       "[1] Standard Errors assume that the covariance matrix of the errors is correctly specified.\n",
       "\"\"\""
      ]
     },
     "execution_count": 37,
     "metadata": {},
     "output_type": "execute_result"
    }
   ],
   "source": [
    "sm.OLS(endog=y, exog=x_log_c).fit().summary()"
   ]
  },
  {
   "cell_type": "code",
   "execution_count": 38,
   "metadata": {
    "scrolled": true
   },
   "outputs": [
    {
     "data": {
      "text/html": [
       "<table class=\"simpletable\">\n",
       "<caption>OLS Regression Results</caption>\n",
       "<tr>\n",
       "  <th>Dep. Variable:</th>          <td>price</td>      <th>  R-squared:         </th> <td>   0.483</td> \n",
       "</tr>\n",
       "<tr>\n",
       "  <th>Model:</th>                   <td>OLS</td>       <th>  Adj. R-squared:    </th> <td>   0.483</td> \n",
       "</tr>\n",
       "<tr>\n",
       "  <th>Method:</th>             <td>Least Squares</td>  <th>  F-statistic:       </th> <td>2.020e+04</td>\n",
       "</tr>\n",
       "<tr>\n",
       "  <th>Date:</th>             <td>Thu, 27 Oct 2022</td> <th>  Prob (F-statistic):</th>  <td>  0.00</td>  \n",
       "</tr>\n",
       "<tr>\n",
       "  <th>Time:</th>                 <td>17:18:17</td>     <th>  Log-Likelihood:    </th> <td> -9662.2</td> \n",
       "</tr>\n",
       "<tr>\n",
       "  <th>No. Observations:</th>      <td> 21597</td>      <th>  AIC:               </th> <td>1.933e+04</td>\n",
       "</tr>\n",
       "<tr>\n",
       "  <th>Df Residuals:</th>          <td> 21595</td>      <th>  BIC:               </th> <td>1.934e+04</td>\n",
       "</tr>\n",
       "<tr>\n",
       "  <th>Df Model:</th>              <td>     1</td>      <th>                     </th>     <td> </td>    \n",
       "</tr>\n",
       "<tr>\n",
       "  <th>Covariance Type:</th>      <td>nonrobust</td>    <th>                     </th>     <td> </td>    \n",
       "</tr>\n",
       "</table>\n",
       "<table class=\"simpletable\">\n",
       "<tr>\n",
       "       <td></td>          <th>coef</th>     <th>std err</th>      <th>t</th>      <th>P>|t|</th>  <th>[0.025</th>    <th>0.975]</th>  \n",
       "</tr>\n",
       "<tr>\n",
       "  <th>const</th>       <td>   12.2188</td> <td>    0.006</td> <td> 1915.383</td> <td> 0.000</td> <td>   12.206</td> <td>   12.231</td>\n",
       "</tr>\n",
       "<tr>\n",
       "  <th>sqft_living</th> <td>    0.0004</td> <td> 2.81e-06</td> <td>  142.118</td> <td> 0.000</td> <td>    0.000</td> <td>    0.000</td>\n",
       "</tr>\n",
       "</table>\n",
       "<table class=\"simpletable\">\n",
       "<tr>\n",
       "  <th>Omnibus:</th>       <td> 3.541</td> <th>  Durbin-Watson:     </th> <td>   1.978</td>\n",
       "</tr>\n",
       "<tr>\n",
       "  <th>Prob(Omnibus):</th> <td> 0.170</td> <th>  Jarque-Bera (JB):  </th> <td>   3.562</td>\n",
       "</tr>\n",
       "<tr>\n",
       "  <th>Skew:</th>          <td> 0.028</td> <th>  Prob(JB):          </th> <td>   0.169</td>\n",
       "</tr>\n",
       "<tr>\n",
       "  <th>Kurtosis:</th>      <td> 2.973</td> <th>  Cond. No.          </th> <td>5.63e+03</td>\n",
       "</tr>\n",
       "</table><br/><br/>Notes:<br/>[1] Standard Errors assume that the covariance matrix of the errors is correctly specified.<br/>[2] The condition number is large, 5.63e+03. This might indicate that there are<br/>strong multicollinearity or other numerical problems."
      ],
      "text/plain": [
       "<class 'statsmodels.iolib.summary.Summary'>\n",
       "\"\"\"\n",
       "                            OLS Regression Results                            \n",
       "==============================================================================\n",
       "Dep. Variable:                  price   R-squared:                       0.483\n",
       "Model:                            OLS   Adj. R-squared:                  0.483\n",
       "Method:                 Least Squares   F-statistic:                 2.020e+04\n",
       "Date:                Thu, 27 Oct 2022   Prob (F-statistic):               0.00\n",
       "Time:                        17:18:17   Log-Likelihood:                -9662.2\n",
       "No. Observations:               21597   AIC:                         1.933e+04\n",
       "Df Residuals:                   21595   BIC:                         1.934e+04\n",
       "Df Model:                           1                                         \n",
       "Covariance Type:            nonrobust                                         \n",
       "===============================================================================\n",
       "                  coef    std err          t      P>|t|      [0.025      0.975]\n",
       "-------------------------------------------------------------------------------\n",
       "const          12.2188      0.006   1915.383      0.000      12.206      12.231\n",
       "sqft_living     0.0004   2.81e-06    142.118      0.000       0.000       0.000\n",
       "==============================================================================\n",
       "Omnibus:                        3.541   Durbin-Watson:                   1.978\n",
       "Prob(Omnibus):                  0.170   Jarque-Bera (JB):                3.562\n",
       "Skew:                           0.028   Prob(JB):                        0.169\n",
       "Kurtosis:                       2.973   Cond. No.                     5.63e+03\n",
       "==============================================================================\n",
       "\n",
       "Notes:\n",
       "[1] Standard Errors assume that the covariance matrix of the errors is correctly specified.\n",
       "[2] The condition number is large, 5.63e+03. This might indicate that there are\n",
       "strong multicollinearity or other numerical problems.\n",
       "\"\"\""
      ]
     },
     "execution_count": 38,
     "metadata": {},
     "output_type": "execute_result"
    }
   ],
   "source": [
    "sm.OLS(endog=y_log, exog=x_c).fit().summary()"
   ]
  },
  {
   "cell_type": "markdown",
   "metadata": {},
   "source": [
    "While using the log of either or both values weakens out model's accuracy, the minimalization of the omnibus and JB values is worth achieving. Using the log of the sale price had the greatest impact on these values with the highest r-value, so we'll be sure to take the log of y in our model."
   ]
  },
  {
   "cell_type": "markdown",
   "metadata": {},
   "source": [
    "## Lot Square Footage"
   ]
  },
  {
   "cell_type": "code",
   "execution_count": 39,
   "metadata": {
    "scrolled": true
   },
   "outputs": [
    {
     "data": {
      "text/html": [
       "<table class=\"simpletable\">\n",
       "<caption>OLS Regression Results</caption>\n",
       "<tr>\n",
       "  <th>Dep. Variable:</th>          <td>price</td>      <th>  R-squared:         </th>  <td>   0.008</td>  \n",
       "</tr>\n",
       "<tr>\n",
       "  <th>Model:</th>                   <td>OLS</td>       <th>  Adj. R-squared:    </th>  <td>   0.008</td>  \n",
       "</tr>\n",
       "<tr>\n",
       "  <th>Method:</th>             <td>Least Squares</td>  <th>  F-statistic:       </th>  <td>   175.9</td>  \n",
       "</tr>\n",
       "<tr>\n",
       "  <th>Date:</th>             <td>Thu, 27 Oct 2022</td> <th>  Prob (F-statistic):</th>  <td>5.57e-40</td>  \n",
       "</tr>\n",
       "<tr>\n",
       "  <th>Time:</th>                 <td>17:18:17</td>     <th>  Log-Likelihood:    </th> <td>-3.0730e+05</td>\n",
       "</tr>\n",
       "<tr>\n",
       "  <th>No. Observations:</th>      <td> 21597</td>      <th>  AIC:               </th>  <td>6.146e+05</td> \n",
       "</tr>\n",
       "<tr>\n",
       "  <th>Df Residuals:</th>          <td> 21595</td>      <th>  BIC:               </th>  <td>6.146e+05</td> \n",
       "</tr>\n",
       "<tr>\n",
       "  <th>Df Model:</th>              <td>     1</td>      <th>                     </th>      <td> </td>     \n",
       "</tr>\n",
       "<tr>\n",
       "  <th>Covariance Type:</th>      <td>nonrobust</td>    <th>                     </th>      <td> </td>     \n",
       "</tr>\n",
       "</table>\n",
       "<table class=\"simpletable\">\n",
       "<tr>\n",
       "      <td></td>        <th>coef</th>     <th>std err</th>      <th>t</th>      <th>P>|t|</th>  <th>[0.025</th>    <th>0.975]</th>  \n",
       "</tr>\n",
       "<tr>\n",
       "  <th>const</th>    <td> 5.283e+05</td> <td> 2650.075</td> <td>  199.337</td> <td> 0.000</td> <td> 5.23e+05</td> <td> 5.33e+05</td>\n",
       "</tr>\n",
       "<tr>\n",
       "  <th>sqft_lot</th> <td>    0.7973</td> <td>    0.060</td> <td>   13.261</td> <td> 0.000</td> <td>    0.679</td> <td>    0.915</td>\n",
       "</tr>\n",
       "</table>\n",
       "<table class=\"simpletable\">\n",
       "<tr>\n",
       "  <th>Omnibus:</th>       <td>19136.153</td> <th>  Durbin-Watson:     </th>  <td>   1.968</td>  \n",
       "</tr>\n",
       "<tr>\n",
       "  <th>Prob(Omnibus):</th>  <td> 0.000</td>   <th>  Jarque-Bera (JB):  </th> <td>1147708.008</td>\n",
       "</tr>\n",
       "<tr>\n",
       "  <th>Skew:</th>           <td> 4.030</td>   <th>  Prob(JB):          </th>  <td>    0.00</td>  \n",
       "</tr>\n",
       "<tr>\n",
       "  <th>Kurtosis:</th>       <td>37.792</td>   <th>  Cond. No.          </th>  <td>4.69e+04</td>  \n",
       "</tr>\n",
       "</table><br/><br/>Notes:<br/>[1] Standard Errors assume that the covariance matrix of the errors is correctly specified.<br/>[2] The condition number is large, 4.69e+04. This might indicate that there are<br/>strong multicollinearity or other numerical problems."
      ],
      "text/plain": [
       "<class 'statsmodels.iolib.summary.Summary'>\n",
       "\"\"\"\n",
       "                            OLS Regression Results                            \n",
       "==============================================================================\n",
       "Dep. Variable:                  price   R-squared:                       0.008\n",
       "Model:                            OLS   Adj. R-squared:                  0.008\n",
       "Method:                 Least Squares   F-statistic:                     175.9\n",
       "Date:                Thu, 27 Oct 2022   Prob (F-statistic):           5.57e-40\n",
       "Time:                        17:18:17   Log-Likelihood:            -3.0730e+05\n",
       "No. Observations:               21597   AIC:                         6.146e+05\n",
       "Df Residuals:                   21595   BIC:                         6.146e+05\n",
       "Df Model:                           1                                         \n",
       "Covariance Type:            nonrobust                                         \n",
       "==============================================================================\n",
       "                 coef    std err          t      P>|t|      [0.025      0.975]\n",
       "------------------------------------------------------------------------------\n",
       "const       5.283e+05   2650.075    199.337      0.000    5.23e+05    5.33e+05\n",
       "sqft_lot       0.7973      0.060     13.261      0.000       0.679       0.915\n",
       "==============================================================================\n",
       "Omnibus:                    19136.153   Durbin-Watson:                   1.968\n",
       "Prob(Omnibus):                  0.000   Jarque-Bera (JB):          1147708.008\n",
       "Skew:                           4.030   Prob(JB):                         0.00\n",
       "Kurtosis:                      37.792   Cond. No.                     4.69e+04\n",
       "==============================================================================\n",
       "\n",
       "Notes:\n",
       "[1] Standard Errors assume that the covariance matrix of the errors is correctly specified.\n",
       "[2] The condition number is large, 4.69e+04. This might indicate that there are\n",
       "strong multicollinearity or other numerical problems.\n",
       "\"\"\""
      ]
     },
     "execution_count": 39,
     "metadata": {},
     "output_type": "execute_result"
    }
   ],
   "source": [
    "simple_model(df[\"sqft_lot\"])"
   ]
  },
  {
   "cell_type": "code",
   "execution_count": 40,
   "metadata": {},
   "outputs": [
    {
     "data": {
      "text/html": [
       "<table class=\"simpletable\">\n",
       "<caption>OLS Regression Results</caption>\n",
       "<tr>\n",
       "  <th>Dep. Variable:</th>          <td>price</td>      <th>  R-squared:         </th> <td>   0.010</td> \n",
       "</tr>\n",
       "<tr>\n",
       "  <th>Model:</th>                   <td>OLS</td>       <th>  Adj. R-squared:    </th> <td>   0.010</td> \n",
       "</tr>\n",
       "<tr>\n",
       "  <th>Method:</th>             <td>Least Squares</td>  <th>  F-statistic:       </th> <td>   218.2</td> \n",
       "</tr>\n",
       "<tr>\n",
       "  <th>Date:</th>             <td>Thu, 27 Oct 2022</td> <th>  Prob (F-statistic):</th> <td>3.80e-49</td> \n",
       "</tr>\n",
       "<tr>\n",
       "  <th>Time:</th>                 <td>17:18:17</td>     <th>  Log-Likelihood:    </th> <td> -16683.</td> \n",
       "</tr>\n",
       "<tr>\n",
       "  <th>No. Observations:</th>      <td> 21597</td>      <th>  AIC:               </th> <td>3.337e+04</td>\n",
       "</tr>\n",
       "<tr>\n",
       "  <th>Df Residuals:</th>          <td> 21595</td>      <th>  BIC:               </th> <td>3.339e+04</td>\n",
       "</tr>\n",
       "<tr>\n",
       "  <th>Df Model:</th>              <td>     1</td>      <th>                     </th>     <td> </td>    \n",
       "</tr>\n",
       "<tr>\n",
       "  <th>Covariance Type:</th>      <td>nonrobust</td>    <th>                     </th>     <td> </td>    \n",
       "</tr>\n",
       "</table>\n",
       "<table class=\"simpletable\">\n",
       "<tr>\n",
       "      <td></td>        <th>coef</th>     <th>std err</th>      <th>t</th>      <th>P>|t|</th>  <th>[0.025</th>    <th>0.975]</th>  \n",
       "</tr>\n",
       "<tr>\n",
       "  <th>const</th>    <td>   13.0290</td> <td>    0.004</td> <td> 3433.471</td> <td> 0.000</td> <td>   13.022</td> <td>   13.036</td>\n",
       "</tr>\n",
       "<tr>\n",
       "  <th>sqft_lot</th> <td> 1.272e-06</td> <td> 8.61e-08</td> <td>   14.773</td> <td> 0.000</td> <td>  1.1e-06</td> <td> 1.44e-06</td>\n",
       "</tr>\n",
       "</table>\n",
       "<table class=\"simpletable\">\n",
       "<tr>\n",
       "  <th>Omnibus:</th>       <td>855.385</td> <th>  Durbin-Watson:     </th> <td>   1.956</td> \n",
       "</tr>\n",
       "<tr>\n",
       "  <th>Prob(Omnibus):</th> <td> 0.000</td>  <th>  Jarque-Bera (JB):  </th> <td>1107.439</td> \n",
       "</tr>\n",
       "<tr>\n",
       "  <th>Skew:</th>          <td> 0.425</td>  <th>  Prob(JB):          </th> <td>3.33e-241</td>\n",
       "</tr>\n",
       "<tr>\n",
       "  <th>Kurtosis:</th>      <td> 3.712</td>  <th>  Cond. No.          </th> <td>4.69e+04</td> \n",
       "</tr>\n",
       "</table><br/><br/>Notes:<br/>[1] Standard Errors assume that the covariance matrix of the errors is correctly specified.<br/>[2] The condition number is large, 4.69e+04. This might indicate that there are<br/>strong multicollinearity or other numerical problems."
      ],
      "text/plain": [
       "<class 'statsmodels.iolib.summary.Summary'>\n",
       "\"\"\"\n",
       "                            OLS Regression Results                            \n",
       "==============================================================================\n",
       "Dep. Variable:                  price   R-squared:                       0.010\n",
       "Model:                            OLS   Adj. R-squared:                  0.010\n",
       "Method:                 Least Squares   F-statistic:                     218.2\n",
       "Date:                Thu, 27 Oct 2022   Prob (F-statistic):           3.80e-49\n",
       "Time:                        17:18:17   Log-Likelihood:                -16683.\n",
       "No. Observations:               21597   AIC:                         3.337e+04\n",
       "Df Residuals:                   21595   BIC:                         3.339e+04\n",
       "Df Model:                           1                                         \n",
       "Covariance Type:            nonrobust                                         \n",
       "==============================================================================\n",
       "                 coef    std err          t      P>|t|      [0.025      0.975]\n",
       "------------------------------------------------------------------------------\n",
       "const         13.0290      0.004   3433.471      0.000      13.022      13.036\n",
       "sqft_lot    1.272e-06   8.61e-08     14.773      0.000     1.1e-06    1.44e-06\n",
       "==============================================================================\n",
       "Omnibus:                      855.385   Durbin-Watson:                   1.956\n",
       "Prob(Omnibus):                  0.000   Jarque-Bera (JB):             1107.439\n",
       "Skew:                           0.425   Prob(JB):                    3.33e-241\n",
       "Kurtosis:                       3.712   Cond. No.                     4.69e+04\n",
       "==============================================================================\n",
       "\n",
       "Notes:\n",
       "[1] Standard Errors assume that the covariance matrix of the errors is correctly specified.\n",
       "[2] The condition number is large, 4.69e+04. This might indicate that there are\n",
       "strong multicollinearity or other numerical problems.\n",
       "\"\"\""
      ]
     },
     "execution_count": 40,
     "metadata": {},
     "output_type": "execute_result"
    }
   ],
   "source": [
    "simple_ylog_model(df[\"sqft_lot\"])"
   ]
  },
  {
   "cell_type": "code",
   "execution_count": 41,
   "metadata": {
    "scrolled": true
   },
   "outputs": [
    {
     "data": {
      "image/png": "[encoded data removed]",
      "text/plain": [
       "<Figure size 576x396 with 1 Axes>"
      ]
     },
     "metadata": {},
     "output_type": "display_data"
    }
   ],
   "source": [
    "df[\"sqft_lot\"].hist();"
   ]
  },
  {
   "cell_type": "code",
   "execution_count": 42,
   "metadata": {
    "scrolled": true
   },
   "outputs": [
    {
     "data": {
      "image/png": "[encoded data removed]",
      "text/plain": [
       "<Figure size 576x396 with 1 Axes>"
      ]
     },
     "metadata": {},
     "output_type": "display_data"
    }
   ],
   "source": [
    "lot_log = np.log(df[\"sqft_lot\"])\n",
    "lot_log.hist();"
   ]
  },
  {
   "cell_type": "code",
   "execution_count": 43,
   "metadata": {
    "scrolled": true
   },
   "outputs": [
    {
     "data": {
      "text/html": [
       "<table class=\"simpletable\">\n",
       "<caption>OLS Regression Results</caption>\n",
       "<tr>\n",
       "  <th>Dep. Variable:</th>          <td>price</td>      <th>  R-squared:         </th>  <td>   0.026</td>  \n",
       "</tr>\n",
       "<tr>\n",
       "  <th>Model:</th>                   <td>OLS</td>       <th>  Adj. R-squared:    </th>  <td>   0.026</td>  \n",
       "</tr>\n",
       "<tr>\n",
       "  <th>Method:</th>             <td>Least Squares</td>  <th>  F-statistic:       </th>  <td>   578.8</td>  \n",
       "</tr>\n",
       "<tr>\n",
       "  <th>Date:</th>             <td>Thu, 27 Oct 2022</td> <th>  Prob (F-statistic):</th>  <td>3.16e-126</td> \n",
       "</tr>\n",
       "<tr>\n",
       "  <th>Time:</th>                 <td>17:18:17</td>     <th>  Log-Likelihood:    </th> <td>-3.0711e+05</td>\n",
       "</tr>\n",
       "<tr>\n",
       "  <th>No. Observations:</th>      <td> 21597</td>      <th>  AIC:               </th>  <td>6.142e+05</td> \n",
       "</tr>\n",
       "<tr>\n",
       "  <th>Df Residuals:</th>          <td> 21595</td>      <th>  BIC:               </th>  <td>6.142e+05</td> \n",
       "</tr>\n",
       "<tr>\n",
       "  <th>Df Model:</th>              <td>     1</td>      <th>                     </th>      <td> </td>     \n",
       "</tr>\n",
       "<tr>\n",
       "  <th>Covariance Type:</th>      <td>nonrobust</td>    <th>                     </th>      <td> </td>     \n",
       "</tr>\n",
       "</table>\n",
       "<table class=\"simpletable\">\n",
       "<tr>\n",
       "      <td></td>        <th>coef</th>     <th>std err</th>      <th>t</th>      <th>P>|t|</th>  <th>[0.025</th>    <th>0.975]</th>  \n",
       "</tr>\n",
       "<tr>\n",
       "  <th>const</th>    <td>-5.119e+04</td> <td> 2.47e+04</td> <td>   -2.072</td> <td> 0.038</td> <td>-9.96e+04</td> <td>-2757.042</td>\n",
       "</tr>\n",
       "<tr>\n",
       "  <th>sqft_lot</th> <td>  6.58e+04</td> <td> 2734.876</td> <td>   24.058</td> <td> 0.000</td> <td> 6.04e+04</td> <td> 7.12e+04</td>\n",
       "</tr>\n",
       "</table>\n",
       "<table class=\"simpletable\">\n",
       "<tr>\n",
       "  <th>Omnibus:</th>       <td>18791.266</td> <th>  Durbin-Watson:     </th>  <td>   1.957</td>  \n",
       "</tr>\n",
       "<tr>\n",
       "  <th>Prob(Omnibus):</th>  <td> 0.000</td>   <th>  Jarque-Bera (JB):  </th> <td>1092185.674</td>\n",
       "</tr>\n",
       "<tr>\n",
       "  <th>Skew:</th>           <td> 3.921</td>   <th>  Prob(JB):          </th>  <td>    0.00</td>  \n",
       "</tr>\n",
       "<tr>\n",
       "  <th>Kurtosis:</th>       <td>36.944</td>   <th>  Cond. No.          </th>  <td>    91.6</td>  \n",
       "</tr>\n",
       "</table><br/><br/>Notes:<br/>[1] Standard Errors assume that the covariance matrix of the errors is correctly specified."
      ],
      "text/plain": [
       "<class 'statsmodels.iolib.summary.Summary'>\n",
       "\"\"\"\n",
       "                            OLS Regression Results                            \n",
       "==============================================================================\n",
       "Dep. Variable:                  price   R-squared:                       0.026\n",
       "Model:                            OLS   Adj. R-squared:                  0.026\n",
       "Method:                 Least Squares   F-statistic:                     578.8\n",
       "Date:                Thu, 27 Oct 2022   Prob (F-statistic):          3.16e-126\n",
       "Time:                        17:18:17   Log-Likelihood:            -3.0711e+05\n",
       "No. Observations:               21597   AIC:                         6.142e+05\n",
       "Df Residuals:                   21595   BIC:                         6.142e+05\n",
       "Df Model:                           1                                         \n",
       "Covariance Type:            nonrobust                                         \n",
       "==============================================================================\n",
       "                 coef    std err          t      P>|t|      [0.025      0.975]\n",
       "------------------------------------------------------------------------------\n",
       "const      -5.119e+04   2.47e+04     -2.072      0.038   -9.96e+04   -2757.042\n",
       "sqft_lot     6.58e+04   2734.876     24.058      0.000    6.04e+04    7.12e+04\n",
       "==============================================================================\n",
       "Omnibus:                    18791.266   Durbin-Watson:                   1.957\n",
       "Prob(Omnibus):                  0.000   Jarque-Bera (JB):          1092185.674\n",
       "Skew:                           3.921   Prob(JB):                         0.00\n",
       "Kurtosis:                      36.944   Cond. No.                         91.6\n",
       "==============================================================================\n",
       "\n",
       "Notes:\n",
       "[1] Standard Errors assume that the covariance matrix of the errors is correctly specified.\n",
       "\"\"\""
      ]
     },
     "execution_count": 43,
     "metadata": {},
     "output_type": "execute_result"
    }
   ],
   "source": [
    "lot_log_c = sm.add_constant(lot_log)\n",
    "simple_model(lot_log_c)"
   ]
  },
  {
   "cell_type": "code",
   "execution_count": 44,
   "metadata": {
    "scrolled": true
   },
   "outputs": [
    {
     "data": {
      "text/html": [
       "<table class=\"simpletable\">\n",
       "<caption>OLS Regression Results</caption>\n",
       "<tr>\n",
       "  <th>Dep. Variable:</th>          <td>price</td>      <th>  R-squared:         </th> <td>   0.019</td> \n",
       "</tr>\n",
       "<tr>\n",
       "  <th>Model:</th>                   <td>OLS</td>       <th>  Adj. R-squared:    </th> <td>   0.019</td> \n",
       "</tr>\n",
       "<tr>\n",
       "  <th>Method:</th>             <td>Least Squares</td>  <th>  F-statistic:       </th> <td>   420.9</td> \n",
       "</tr>\n",
       "<tr>\n",
       "  <th>Date:</th>             <td>Thu, 27 Oct 2022</td> <th>  Prob (F-statistic):</th> <td>1.21e-92</td> \n",
       "</tr>\n",
       "<tr>\n",
       "  <th>Time:</th>                 <td>17:18:18</td>     <th>  Log-Likelihood:    </th> <td> -16584.</td> \n",
       "</tr>\n",
       "<tr>\n",
       "  <th>No. Observations:</th>      <td> 21597</td>      <th>  AIC:               </th> <td>3.317e+04</td>\n",
       "</tr>\n",
       "<tr>\n",
       "  <th>Df Residuals:</th>          <td> 21595</td>      <th>  BIC:               </th> <td>3.319e+04</td>\n",
       "</tr>\n",
       "<tr>\n",
       "  <th>Df Model:</th>              <td>     1</td>      <th>                     </th>     <td> </td>    \n",
       "</tr>\n",
       "<tr>\n",
       "  <th>Covariance Type:</th>      <td>nonrobust</td>    <th>                     </th>     <td> </td>    \n",
       "</tr>\n",
       "</table>\n",
       "<table class=\"simpletable\">\n",
       "<tr>\n",
       "      <td></td>        <th>coef</th>     <th>std err</th>      <th>t</th>      <th>P>|t|</th>  <th>[0.025</th>    <th>0.975]</th>  \n",
       "</tr>\n",
       "<tr>\n",
       "  <th>const</th>    <td>   12.3227</td> <td>    0.036</td> <td>  346.695</td> <td> 0.000</td> <td>   12.253</td> <td>   12.392</td>\n",
       "</tr>\n",
       "<tr>\n",
       "  <th>sqft_lot</th> <td>    0.0807</td> <td>    0.004</td> <td>   20.515</td> <td> 0.000</td> <td>    0.073</td> <td>    0.088</td>\n",
       "</tr>\n",
       "</table>\n",
       "<table class=\"simpletable\">\n",
       "<tr>\n",
       "  <th>Omnibus:</th>       <td>621.977</td> <th>  Durbin-Watson:     </th> <td>   1.942</td> \n",
       "</tr>\n",
       "<tr>\n",
       "  <th>Prob(Omnibus):</th> <td> 0.000</td>  <th>  Jarque-Bera (JB):  </th> <td> 761.236</td> \n",
       "</tr>\n",
       "<tr>\n",
       "  <th>Skew:</th>          <td> 0.360</td>  <th>  Prob(JB):          </th> <td>5.01e-166</td>\n",
       "</tr>\n",
       "<tr>\n",
       "  <th>Kurtosis:</th>      <td> 3.572</td>  <th>  Cond. No.          </th> <td>    91.6</td> \n",
       "</tr>\n",
       "</table><br/><br/>Notes:<br/>[1] Standard Errors assume that the covariance matrix of the errors is correctly specified."
      ],
      "text/plain": [
       "<class 'statsmodels.iolib.summary.Summary'>\n",
       "\"\"\"\n",
       "                            OLS Regression Results                            \n",
       "==============================================================================\n",
       "Dep. Variable:                  price   R-squared:                       0.019\n",
       "Model:                            OLS   Adj. R-squared:                  0.019\n",
       "Method:                 Least Squares   F-statistic:                     420.9\n",
       "Date:                Thu, 27 Oct 2022   Prob (F-statistic):           1.21e-92\n",
       "Time:                        17:18:18   Log-Likelihood:                -16584.\n",
       "No. Observations:               21597   AIC:                         3.317e+04\n",
       "Df Residuals:                   21595   BIC:                         3.319e+04\n",
       "Df Model:                           1                                         \n",
       "Covariance Type:            nonrobust                                         \n",
       "==============================================================================\n",
       "                 coef    std err          t      P>|t|      [0.025      0.975]\n",
       "------------------------------------------------------------------------------\n",
       "const         12.3227      0.036    346.695      0.000      12.253      12.392\n",
       "sqft_lot       0.0807      0.004     20.515      0.000       0.073       0.088\n",
       "==============================================================================\n",
       "Omnibus:                      621.977   Durbin-Watson:                   1.942\n",
       "Prob(Omnibus):                  0.000   Jarque-Bera (JB):              761.236\n",
       "Skew:                           0.360   Prob(JB):                    5.01e-166\n",
       "Kurtosis:                       3.572   Cond. No.                         91.6\n",
       "==============================================================================\n",
       "\n",
       "Notes:\n",
       "[1] Standard Errors assume that the covariance matrix of the errors is correctly specified.\n",
       "\"\"\""
      ]
     },
     "execution_count": 44,
     "metadata": {},
     "output_type": "execute_result"
    }
   ],
   "source": [
    "simple_ylog_model(lot_log_c)"
   ]
  },
  {
   "cell_type": "markdown",
   "metadata": {},
   "source": [
    "## Bedrooms"
   ]
  },
  {
   "cell_type": "code",
   "execution_count": 45,
   "metadata": {
    "scrolled": true
   },
   "outputs": [
    {
     "data": {
      "text/html": [
       "<table class=\"simpletable\">\n",
       "<caption>OLS Regression Results</caption>\n",
       "<tr>\n",
       "  <th>Dep. Variable:</th>          <td>price</td>      <th>  R-squared:         </th>  <td>   0.100</td>  \n",
       "</tr>\n",
       "<tr>\n",
       "  <th>Model:</th>                   <td>OLS</td>       <th>  Adj. R-squared:    </th>  <td>   0.100</td>  \n",
       "</tr>\n",
       "<tr>\n",
       "  <th>Method:</th>             <td>Least Squares</td>  <th>  F-statistic:       </th>  <td>   2404.</td>  \n",
       "</tr>\n",
       "<tr>\n",
       "  <th>Date:</th>             <td>Thu, 27 Oct 2022</td> <th>  Prob (F-statistic):</th>   <td>  0.00</td>   \n",
       "</tr>\n",
       "<tr>\n",
       "  <th>Time:</th>                 <td>17:18:18</td>     <th>  Log-Likelihood:    </th> <td>-3.0625e+05</td>\n",
       "</tr>\n",
       "<tr>\n",
       "  <th>No. Observations:</th>      <td> 21597</td>      <th>  AIC:               </th>  <td>6.125e+05</td> \n",
       "</tr>\n",
       "<tr>\n",
       "  <th>Df Residuals:</th>          <td> 21595</td>      <th>  BIC:               </th>  <td>6.125e+05</td> \n",
       "</tr>\n",
       "<tr>\n",
       "  <th>Df Model:</th>              <td>     1</td>      <th>                     </th>      <td> </td>     \n",
       "</tr>\n",
       "<tr>\n",
       "  <th>Covariance Type:</th>      <td>nonrobust</td>    <th>                     </th>      <td> </td>     \n",
       "</tr>\n",
       "</table>\n",
       "<table class=\"simpletable\">\n",
       "<tr>\n",
       "      <td></td>        <th>coef</th>     <th>std err</th>      <th>t</th>      <th>P>|t|</th>  <th>[0.025</th>    <th>0.975]</th>  \n",
       "</tr>\n",
       "<tr>\n",
       "  <th>const</th>    <td>  1.06e+05</td> <td> 9169.706</td> <td>   11.560</td> <td> 0.000</td> <td>  8.8e+04</td> <td> 1.24e+05</td>\n",
       "</tr>\n",
       "<tr>\n",
       "  <th>bedrooms</th> <td> 1.288e+05</td> <td> 2627.261</td> <td>   49.030</td> <td> 0.000</td> <td> 1.24e+05</td> <td> 1.34e+05</td>\n",
       "</tr>\n",
       "</table>\n",
       "<table class=\"simpletable\">\n",
       "<tr>\n",
       "  <th>Omnibus:</th>       <td>18920.869</td> <th>  Durbin-Watson:     </th>  <td>   1.962</td>  \n",
       "</tr>\n",
       "<tr>\n",
       "  <th>Prob(Omnibus):</th>  <td> 0.000</td>   <th>  Jarque-Bera (JB):  </th> <td>1169042.019</td>\n",
       "</tr>\n",
       "<tr>\n",
       "  <th>Skew:</th>           <td> 3.942</td>   <th>  Prob(JB):          </th>  <td>    0.00</td>  \n",
       "</tr>\n",
       "<tr>\n",
       "  <th>Kurtosis:</th>       <td>38.171</td>   <th>  Cond. No.          </th>  <td>    14.5</td>  \n",
       "</tr>\n",
       "</table><br/><br/>Notes:<br/>[1] Standard Errors assume that the covariance matrix of the errors is correctly specified."
      ],
      "text/plain": [
       "<class 'statsmodels.iolib.summary.Summary'>\n",
       "\"\"\"\n",
       "                            OLS Regression Results                            \n",
       "==============================================================================\n",
       "Dep. Variable:                  price   R-squared:                       0.100\n",
       "Model:                            OLS   Adj. R-squared:                  0.100\n",
       "Method:                 Least Squares   F-statistic:                     2404.\n",
       "Date:                Thu, 27 Oct 2022   Prob (F-statistic):               0.00\n",
       "Time:                        17:18:18   Log-Likelihood:            -3.0625e+05\n",
       "No. Observations:               21597   AIC:                         6.125e+05\n",
       "Df Residuals:                   21595   BIC:                         6.125e+05\n",
       "Df Model:                           1                                         \n",
       "Covariance Type:            nonrobust                                         \n",
       "==============================================================================\n",
       "                 coef    std err          t      P>|t|      [0.025      0.975]\n",
       "------------------------------------------------------------------------------\n",
       "const        1.06e+05   9169.706     11.560      0.000     8.8e+04    1.24e+05\n",
       "bedrooms    1.288e+05   2627.261     49.030      0.000    1.24e+05    1.34e+05\n",
       "==============================================================================\n",
       "Omnibus:                    18920.869   Durbin-Watson:                   1.962\n",
       "Prob(Omnibus):                  0.000   Jarque-Bera (JB):          1169042.019\n",
       "Skew:                           3.942   Prob(JB):                         0.00\n",
       "Kurtosis:                      38.171   Cond. No.                         14.5\n",
       "==============================================================================\n",
       "\n",
       "Notes:\n",
       "[1] Standard Errors assume that the covariance matrix of the errors is correctly specified.\n",
       "\"\"\""
      ]
     },
     "execution_count": 45,
     "metadata": {},
     "output_type": "execute_result"
    }
   ],
   "source": [
    "simple_model(df[\"bedrooms\"])"
   ]
  },
  {
   "cell_type": "code",
   "execution_count": 46,
   "metadata": {
    "scrolled": true
   },
   "outputs": [
    {
     "data": {
      "text/html": [
       "<table class=\"simpletable\">\n",
       "<caption>OLS Regression Results</caption>\n",
       "<tr>\n",
       "  <th>Dep. Variable:</th>          <td>price</td>      <th>  R-squared:         </th> <td>   0.123</td> \n",
       "</tr>\n",
       "<tr>\n",
       "  <th>Model:</th>                   <td>OLS</td>       <th>  Adj. R-squared:    </th> <td>   0.123</td> \n",
       "</tr>\n",
       "<tr>\n",
       "  <th>Method:</th>             <td>Least Squares</td>  <th>  F-statistic:       </th> <td>   3041.</td> \n",
       "</tr>\n",
       "<tr>\n",
       "  <th>Date:</th>             <td>Thu, 27 Oct 2022</td> <th>  Prob (F-statistic):</th>  <td>  0.00</td>  \n",
       "</tr>\n",
       "<tr>\n",
       "  <th>Time:</th>                 <td>17:18:18</td>     <th>  Log-Likelihood:    </th> <td> -15369.</td> \n",
       "</tr>\n",
       "<tr>\n",
       "  <th>No. Observations:</th>      <td> 21597</td>      <th>  AIC:               </th> <td>3.074e+04</td>\n",
       "</tr>\n",
       "<tr>\n",
       "  <th>Df Residuals:</th>          <td> 21595</td>      <th>  BIC:               </th> <td>3.076e+04</td>\n",
       "</tr>\n",
       "<tr>\n",
       "  <th>Df Model:</th>              <td>     1</td>      <th>                     </th>     <td> </td>    \n",
       "</tr>\n",
       "<tr>\n",
       "  <th>Covariance Type:</th>      <td>nonrobust</td>    <th>                     </th>     <td> </td>    \n",
       "</tr>\n",
       "</table>\n",
       "<table class=\"simpletable\">\n",
       "<tr>\n",
       "      <td></td>        <th>coef</th>     <th>std err</th>      <th>t</th>      <th>P>|t|</th>  <th>[0.025</th>    <th>0.975]</th>  \n",
       "</tr>\n",
       "<tr>\n",
       "  <th>const</th>    <td>   12.3572</td> <td>    0.013</td> <td>  952.607</td> <td> 0.000</td> <td>   12.332</td> <td>   12.383</td>\n",
       "</tr>\n",
       "<tr>\n",
       "  <th>bedrooms</th> <td>    0.2050</td> <td>    0.004</td> <td>   55.148</td> <td> 0.000</td> <td>    0.198</td> <td>    0.212</td>\n",
       "</tr>\n",
       "</table>\n",
       "<table class=\"simpletable\">\n",
       "<tr>\n",
       "  <th>Omnibus:</th>       <td>542.645</td> <th>  Durbin-Watson:     </th> <td>   1.951</td> \n",
       "</tr>\n",
       "<tr>\n",
       "  <th>Prob(Omnibus):</th> <td> 0.000</td>  <th>  Jarque-Bera (JB):  </th> <td> 633.359</td> \n",
       "</tr>\n",
       "<tr>\n",
       "  <th>Skew:</th>          <td> 0.346</td>  <th>  Prob(JB):          </th> <td>2.94e-138</td>\n",
       "</tr>\n",
       "<tr>\n",
       "  <th>Kurtosis:</th>      <td> 3.474</td>  <th>  Cond. No.          </th> <td>    14.5</td> \n",
       "</tr>\n",
       "</table><br/><br/>Notes:<br/>[1] Standard Errors assume that the covariance matrix of the errors is correctly specified."
      ],
      "text/plain": [
       "<class 'statsmodels.iolib.summary.Summary'>\n",
       "\"\"\"\n",
       "                            OLS Regression Results                            \n",
       "==============================================================================\n",
       "Dep. Variable:                  price   R-squared:                       0.123\n",
       "Model:                            OLS   Adj. R-squared:                  0.123\n",
       "Method:                 Least Squares   F-statistic:                     3041.\n",
       "Date:                Thu, 27 Oct 2022   Prob (F-statistic):               0.00\n",
       "Time:                        17:18:18   Log-Likelihood:                -15369.\n",
       "No. Observations:               21597   AIC:                         3.074e+04\n",
       "Df Residuals:                   21595   BIC:                         3.076e+04\n",
       "Df Model:                           1                                         \n",
       "Covariance Type:            nonrobust                                         \n",
       "==============================================================================\n",
       "                 coef    std err          t      P>|t|      [0.025      0.975]\n",
       "------------------------------------------------------------------------------\n",
       "const         12.3572      0.013    952.607      0.000      12.332      12.383\n",
       "bedrooms       0.2050      0.004     55.148      0.000       0.198       0.212\n",
       "==============================================================================\n",
       "Omnibus:                      542.645   Durbin-Watson:                   1.951\n",
       "Prob(Omnibus):                  0.000   Jarque-Bera (JB):              633.359\n",
       "Skew:                           0.346   Prob(JB):                    2.94e-138\n",
       "Kurtosis:                       3.474   Cond. No.                         14.5\n",
       "==============================================================================\n",
       "\n",
       "Notes:\n",
       "[1] Standard Errors assume that the covariance matrix of the errors is correctly specified.\n",
       "\"\"\""
      ]
     },
     "execution_count": 46,
     "metadata": {},
     "output_type": "execute_result"
    }
   ],
   "source": [
    "simple_ylog_model(df[\"bedrooms\"])"
   ]
  },
  {
   "cell_type": "markdown",
   "metadata": {},
   "source": [
    "## Bathrooms"
   ]
  },
  {
   "cell_type": "code",
   "execution_count": 47,
   "metadata": {},
   "outputs": [
    {
     "data": {
      "text/html": [
       "<table class=\"simpletable\">\n",
       "<caption>OLS Regression Results</caption>\n",
       "<tr>\n",
       "  <th>Dep. Variable:</th>          <td>price</td>      <th>  R-squared:         </th>  <td>   0.277</td>  \n",
       "</tr>\n",
       "<tr>\n",
       "  <th>Model:</th>                   <td>OLS</td>       <th>  Adj. R-squared:    </th>  <td>   0.277</td>  \n",
       "</tr>\n",
       "<tr>\n",
       "  <th>Method:</th>             <td>Least Squares</td>  <th>  F-statistic:       </th>  <td>   8256.</td>  \n",
       "</tr>\n",
       "<tr>\n",
       "  <th>Date:</th>             <td>Thu, 27 Oct 2022</td> <th>  Prob (F-statistic):</th>   <td>  0.00</td>   \n",
       "</tr>\n",
       "<tr>\n",
       "  <th>Time:</th>                 <td>17:18:18</td>     <th>  Log-Likelihood:    </th> <td>-3.0389e+05</td>\n",
       "</tr>\n",
       "<tr>\n",
       "  <th>No. Observations:</th>      <td> 21597</td>      <th>  AIC:               </th>  <td>6.078e+05</td> \n",
       "</tr>\n",
       "<tr>\n",
       "  <th>Df Residuals:</th>          <td> 21595</td>      <th>  BIC:               </th>  <td>6.078e+05</td> \n",
       "</tr>\n",
       "<tr>\n",
       "  <th>Df Model:</th>              <td>     1</td>      <th>                     </th>      <td> </td>     \n",
       "</tr>\n",
       "<tr>\n",
       "  <th>Covariance Type:</th>      <td>nonrobust</td>    <th>                     </th>      <td> </td>     \n",
       "</tr>\n",
       "</table>\n",
       "<table class=\"simpletable\">\n",
       "<tr>\n",
       "      <td></td>         <th>coef</th>     <th>std err</th>      <th>t</th>      <th>P>|t|</th>  <th>[0.025</th>    <th>0.975]</th>  \n",
       "</tr>\n",
       "<tr>\n",
       "  <th>const</th>     <td> 8712.6518</td> <td> 6224.769</td> <td>    1.400</td> <td> 0.162</td> <td>-3488.356</td> <td> 2.09e+04</td>\n",
       "</tr>\n",
       "<tr>\n",
       "  <th>bathrooms</th> <td> 2.512e+05</td> <td> 2765.054</td> <td>   90.863</td> <td> 0.000</td> <td> 2.46e+05</td> <td> 2.57e+05</td>\n",
       "</tr>\n",
       "</table>\n",
       "<table class=\"simpletable\">\n",
       "<tr>\n",
       "  <th>Omnibus:</th>       <td>17251.570</td> <th>  Durbin-Watson:     </th>  <td>   1.960</td> \n",
       "</tr>\n",
       "<tr>\n",
       "  <th>Prob(Omnibus):</th>  <td> 0.000</td>   <th>  Jarque-Bera (JB):  </th> <td>882735.889</td>\n",
       "</tr>\n",
       "<tr>\n",
       "  <th>Skew:</th>           <td> 3.452</td>   <th>  Prob(JB):          </th>  <td>    0.00</td> \n",
       "</tr>\n",
       "<tr>\n",
       "  <th>Kurtosis:</th>       <td>33.550</td>   <th>  Cond. No.          </th>  <td>    7.76</td> \n",
       "</tr>\n",
       "</table><br/><br/>Notes:<br/>[1] Standard Errors assume that the covariance matrix of the errors is correctly specified."
      ],
      "text/plain": [
       "<class 'statsmodels.iolib.summary.Summary'>\n",
       "\"\"\"\n",
       "                            OLS Regression Results                            \n",
       "==============================================================================\n",
       "Dep. Variable:                  price   R-squared:                       0.277\n",
       "Model:                            OLS   Adj. R-squared:                  0.277\n",
       "Method:                 Least Squares   F-statistic:                     8256.\n",
       "Date:                Thu, 27 Oct 2022   Prob (F-statistic):               0.00\n",
       "Time:                        17:18:18   Log-Likelihood:            -3.0389e+05\n",
       "No. Observations:               21597   AIC:                         6.078e+05\n",
       "Df Residuals:                   21595   BIC:                         6.078e+05\n",
       "Df Model:                           1                                         \n",
       "Covariance Type:            nonrobust                                         \n",
       "==============================================================================\n",
       "                 coef    std err          t      P>|t|      [0.025      0.975]\n",
       "------------------------------------------------------------------------------\n",
       "const       8712.6518   6224.769      1.400      0.162   -3488.356    2.09e+04\n",
       "bathrooms   2.512e+05   2765.054     90.863      0.000    2.46e+05    2.57e+05\n",
       "==============================================================================\n",
       "Omnibus:                    17251.570   Durbin-Watson:                   1.960\n",
       "Prob(Omnibus):                  0.000   Jarque-Bera (JB):           882735.889\n",
       "Skew:                           3.452   Prob(JB):                         0.00\n",
       "Kurtosis:                      33.550   Cond. No.                         7.76\n",
       "==============================================================================\n",
       "\n",
       "Notes:\n",
       "[1] Standard Errors assume that the covariance matrix of the errors is correctly specified.\n",
       "\"\"\""
      ]
     },
     "execution_count": 47,
     "metadata": {},
     "output_type": "execute_result"
    }
   ],
   "source": [
    "simple_model(df[\"bathrooms\"])"
   ]
  },
  {
   "cell_type": "code",
   "execution_count": 48,
   "metadata": {},
   "outputs": [
    {
     "data": {
      "image/png": "[encoded data removed]",
      "text/plain": [
       "<Figure size 576x396 with 1 Axes>"
      ]
     },
     "metadata": {},
     "output_type": "display_data"
    }
   ],
   "source": [
    "scat(\"bathrooms\")"
   ]
  },
  {
   "cell_type": "code",
   "execution_count": 49,
   "metadata": {},
   "outputs": [
    {
     "data": {
      "text/html": [
       "<table class=\"simpletable\">\n",
       "<caption>OLS Regression Results</caption>\n",
       "<tr>\n",
       "  <th>Dep. Variable:</th>          <td>price</td>      <th>  R-squared:         </th> <td>   0.304</td> \n",
       "</tr>\n",
       "<tr>\n",
       "  <th>Model:</th>                   <td>OLS</td>       <th>  Adj. R-squared:    </th> <td>   0.304</td> \n",
       "</tr>\n",
       "<tr>\n",
       "  <th>Method:</th>             <td>Least Squares</td>  <th>  F-statistic:       </th> <td>   9427.</td> \n",
       "</tr>\n",
       "<tr>\n",
       "  <th>Date:</th>             <td>Thu, 27 Oct 2022</td> <th>  Prob (F-statistic):</th>  <td>  0.00</td>  \n",
       "</tr>\n",
       "<tr>\n",
       "  <th>Time:</th>                 <td>17:18:18</td>     <th>  Log-Likelihood:    </th> <td> -12880.</td> \n",
       "</tr>\n",
       "<tr>\n",
       "  <th>No. Observations:</th>      <td> 21597</td>      <th>  AIC:               </th> <td>2.576e+04</td>\n",
       "</tr>\n",
       "<tr>\n",
       "  <th>Df Residuals:</th>          <td> 21595</td>      <th>  BIC:               </th> <td>2.578e+04</td>\n",
       "</tr>\n",
       "<tr>\n",
       "  <th>Df Model:</th>              <td>     1</td>      <th>                     </th>     <td> </td>    \n",
       "</tr>\n",
       "<tr>\n",
       "  <th>Covariance Type:</th>      <td>nonrobust</td>    <th>                     </th>     <td> </td>    \n",
       "</tr>\n",
       "</table>\n",
       "<table class=\"simpletable\">\n",
       "<tr>\n",
       "      <td></td>         <th>coef</th>     <th>std err</th>      <th>t</th>      <th>P>|t|</th>  <th>[0.025</th>    <th>0.975]</th>  \n",
       "</tr>\n",
       "<tr>\n",
       "  <th>const</th>     <td>   12.2496</td> <td>    0.009</td> <td> 1399.614</td> <td> 0.000</td> <td>   12.232</td> <td>   12.267</td>\n",
       "</tr>\n",
       "<tr>\n",
       "  <th>bathrooms</th> <td>    0.3775</td> <td>    0.004</td> <td>   97.092</td> <td> 0.000</td> <td>    0.370</td> <td>    0.385</td>\n",
       "</tr>\n",
       "</table>\n",
       "<table class=\"simpletable\">\n",
       "<tr>\n",
       "  <th>Omnibus:</th>       <td>191.594</td> <th>  Durbin-Watson:     </th> <td>   1.958</td>\n",
       "</tr>\n",
       "<tr>\n",
       "  <th>Prob(Omnibus):</th> <td> 0.000</td>  <th>  Jarque-Bera (JB):  </th> <td> 196.538</td>\n",
       "</tr>\n",
       "<tr>\n",
       "  <th>Skew:</th>          <td> 0.232</td>  <th>  Prob(JB):          </th> <td>2.10e-43</td>\n",
       "</tr>\n",
       "<tr>\n",
       "  <th>Kurtosis:</th>      <td> 3.063</td>  <th>  Cond. No.          </th> <td>    7.76</td>\n",
       "</tr>\n",
       "</table><br/><br/>Notes:<br/>[1] Standard Errors assume that the covariance matrix of the errors is correctly specified."
      ],
      "text/plain": [
       "<class 'statsmodels.iolib.summary.Summary'>\n",
       "\"\"\"\n",
       "                            OLS Regression Results                            \n",
       "==============================================================================\n",
       "Dep. Variable:                  price   R-squared:                       0.304\n",
       "Model:                            OLS   Adj. R-squared:                  0.304\n",
       "Method:                 Least Squares   F-statistic:                     9427.\n",
       "Date:                Thu, 27 Oct 2022   Prob (F-statistic):               0.00\n",
       "Time:                        17:18:18   Log-Likelihood:                -12880.\n",
       "No. Observations:               21597   AIC:                         2.576e+04\n",
       "Df Residuals:                   21595   BIC:                         2.578e+04\n",
       "Df Model:                           1                                         \n",
       "Covariance Type:            nonrobust                                         \n",
       "==============================================================================\n",
       "                 coef    std err          t      P>|t|      [0.025      0.975]\n",
       "------------------------------------------------------------------------------\n",
       "const         12.2496      0.009   1399.614      0.000      12.232      12.267\n",
       "bathrooms      0.3775      0.004     97.092      0.000       0.370       0.385\n",
       "==============================================================================\n",
       "Omnibus:                      191.594   Durbin-Watson:                   1.958\n",
       "Prob(Omnibus):                  0.000   Jarque-Bera (JB):              196.538\n",
       "Skew:                           0.232   Prob(JB):                     2.10e-43\n",
       "Kurtosis:                       3.063   Cond. No.                         7.76\n",
       "==============================================================================\n",
       "\n",
       "Notes:\n",
       "[1] Standard Errors assume that the covariance matrix of the errors is correctly specified.\n",
       "\"\"\""
      ]
     },
     "execution_count": 49,
     "metadata": {},
     "output_type": "execute_result"
    }
   ],
   "source": [
    "simple_ylog_model(df[\"bathrooms\"])"
   ]
  },
  {
   "cell_type": "markdown",
   "metadata": {},
   "source": [
    "## View"
   ]
  },
  {
   "cell_type": "code",
   "execution_count": 50,
   "metadata": {
    "scrolled": false
   },
   "outputs": [
    {
     "data": {
      "text/plain": [
       "NONE         19422\n",
       "AVERAGE        957\n",
       "GOOD           508\n",
       "FAIR           330\n",
       "EXCELLENT      317\n",
       "Name: view, dtype: int64"
      ]
     },
     "execution_count": 50,
     "metadata": {},
     "output_type": "execute_result"
    }
   ],
   "source": [
    "df[\"view\"].value_counts()"
   ]
  },
  {
   "cell_type": "code",
   "execution_count": 51,
   "metadata": {
    "scrolled": false
   },
   "outputs": [
    {
     "data": {
      "text/plain": [
       "63"
      ]
     },
     "execution_count": 51,
     "metadata": {},
     "output_type": "execute_result"
    }
   ],
   "source": [
    "df[\"view\"].isna().sum()"
   ]
  },
  {
   "cell_type": "code",
   "execution_count": 52,
   "metadata": {
    "scrolled": true
   },
   "outputs": [
    {
     "data": {
      "text/html": [
       "<div>\n",
       "<style scoped>\n",
       "    .dataframe tbody tr th:only-of-type {\n",
       "        vertical-align: middle;\n",
       "    }\n",
       "\n",
       "    .dataframe tbody tr th {\n",
       "        vertical-align: top;\n",
       "    }\n",
       "\n",
       "    .dataframe thead th {\n",
       "        text-align: right;\n",
       "    }\n",
       "</style>\n",
       "<table border=\"1\" class=\"dataframe\">\n",
       "  <thead>\n",
       "    <tr style=\"text-align: right;\">\n",
       "      <th></th>\n",
       "      <th>AVERAGE</th>\n",
       "      <th>EXCELLENT</th>\n",
       "      <th>FAIR</th>\n",
       "      <th>GOOD</th>\n",
       "      <th>NONE</th>\n",
       "    </tr>\n",
       "  </thead>\n",
       "  <tbody>\n",
       "    <tr>\n",
       "      <th>0</th>\n",
       "      <td>0</td>\n",
       "      <td>0</td>\n",
       "      <td>0</td>\n",
       "      <td>0</td>\n",
       "      <td>1</td>\n",
       "    </tr>\n",
       "    <tr>\n",
       "      <th>1</th>\n",
       "      <td>0</td>\n",
       "      <td>0</td>\n",
       "      <td>0</td>\n",
       "      <td>0</td>\n",
       "      <td>1</td>\n",
       "    </tr>\n",
       "    <tr>\n",
       "      <th>2</th>\n",
       "      <td>0</td>\n",
       "      <td>0</td>\n",
       "      <td>0</td>\n",
       "      <td>0</td>\n",
       "      <td>1</td>\n",
       "    </tr>\n",
       "    <tr>\n",
       "      <th>3</th>\n",
       "      <td>0</td>\n",
       "      <td>0</td>\n",
       "      <td>0</td>\n",
       "      <td>0</td>\n",
       "      <td>1</td>\n",
       "    </tr>\n",
       "    <tr>\n",
       "      <th>4</th>\n",
       "      <td>0</td>\n",
       "      <td>0</td>\n",
       "      <td>0</td>\n",
       "      <td>0</td>\n",
       "      <td>1</td>\n",
       "    </tr>\n",
       "    <tr>\n",
       "      <th>...</th>\n",
       "      <td>...</td>\n",
       "      <td>...</td>\n",
       "      <td>...</td>\n",
       "      <td>...</td>\n",
       "      <td>...</td>\n",
       "    </tr>\n",
       "    <tr>\n",
       "      <th>21592</th>\n",
       "      <td>0</td>\n",
       "      <td>0</td>\n",
       "      <td>0</td>\n",
       "      <td>0</td>\n",
       "      <td>1</td>\n",
       "    </tr>\n",
       "    <tr>\n",
       "      <th>21593</th>\n",
       "      <td>0</td>\n",
       "      <td>0</td>\n",
       "      <td>0</td>\n",
       "      <td>0</td>\n",
       "      <td>1</td>\n",
       "    </tr>\n",
       "    <tr>\n",
       "      <th>21594</th>\n",
       "      <td>0</td>\n",
       "      <td>0</td>\n",
       "      <td>0</td>\n",
       "      <td>0</td>\n",
       "      <td>1</td>\n",
       "    </tr>\n",
       "    <tr>\n",
       "      <th>21595</th>\n",
       "      <td>0</td>\n",
       "      <td>0</td>\n",
       "      <td>0</td>\n",
       "      <td>0</td>\n",
       "      <td>1</td>\n",
       "    </tr>\n",
       "    <tr>\n",
       "      <th>21596</th>\n",
       "      <td>0</td>\n",
       "      <td>0</td>\n",
       "      <td>0</td>\n",
       "      <td>0</td>\n",
       "      <td>1</td>\n",
       "    </tr>\n",
       "  </tbody>\n",
       "</table>\n",
       "<p>21597 rows × 5 columns</p>\n",
       "</div>"
      ],
      "text/plain": [
       "       AVERAGE  EXCELLENT  FAIR  GOOD  NONE\n",
       "0            0          0     0     0     1\n",
       "1            0          0     0     0     1\n",
       "2            0          0     0     0     1\n",
       "3            0          0     0     0     1\n",
       "4            0          0     0     0     1\n",
       "...        ...        ...   ...   ...   ...\n",
       "21592        0          0     0     0     1\n",
       "21593        0          0     0     0     1\n",
       "21594        0          0     0     0     1\n",
       "21595        0          0     0     0     1\n",
       "21596        0          0     0     0     1\n",
       "\n",
       "[21597 rows x 5 columns]"
      ]
     },
     "execution_count": 52,
     "metadata": {},
     "output_type": "execute_result"
    }
   ],
   "source": [
    "view_dummies = pd.get_dummies(df[\"view\"])\n",
    "view_dummies"
   ]
  },
  {
   "cell_type": "markdown",
   "metadata": {},
   "source": [
    "Because we know we have null values in this column, we'll let those serve as our \"dropped column\" for now."
   ]
  },
  {
   "cell_type": "code",
   "execution_count": 53,
   "metadata": {
    "scrolled": true
   },
   "outputs": [
    {
     "data": {
      "text/html": [
       "<table class=\"simpletable\">\n",
       "<caption>OLS Regression Results</caption>\n",
       "<tr>\n",
       "  <th>Dep. Variable:</th>          <td>price</td>      <th>  R-squared:         </th>  <td>   0.165</td>  \n",
       "</tr>\n",
       "<tr>\n",
       "  <th>Model:</th>                   <td>OLS</td>       <th>  Adj. R-squared:    </th>  <td>   0.165</td>  \n",
       "</tr>\n",
       "<tr>\n",
       "  <th>Method:</th>             <td>Least Squares</td>  <th>  F-statistic:       </th>  <td>   853.7</td>  \n",
       "</tr>\n",
       "<tr>\n",
       "  <th>Date:</th>             <td>Thu, 27 Oct 2022</td> <th>  Prob (F-statistic):</th>   <td>  0.00</td>   \n",
       "</tr>\n",
       "<tr>\n",
       "  <th>Time:</th>                 <td>17:18:18</td>     <th>  Log-Likelihood:    </th> <td>-3.0544e+05</td>\n",
       "</tr>\n",
       "<tr>\n",
       "  <th>No. Observations:</th>      <td> 21597</td>      <th>  AIC:               </th>  <td>6.109e+05</td> \n",
       "</tr>\n",
       "<tr>\n",
       "  <th>Df Residuals:</th>          <td> 21591</td>      <th>  BIC:               </th>  <td>6.109e+05</td> \n",
       "</tr>\n",
       "<tr>\n",
       "  <th>Df Model:</th>              <td>     5</td>      <th>                     </th>      <td> </td>     \n",
       "</tr>\n",
       "<tr>\n",
       "  <th>Covariance Type:</th>      <td>nonrobust</td>    <th>                     </th>      <td> </td>     \n",
       "</tr>\n",
       "</table>\n",
       "<table class=\"simpletable\">\n",
       "<tr>\n",
       "      <td></td>         <th>coef</th>     <th>std err</th>      <th>t</th>      <th>P>|t|</th>  <th>[0.025</th>    <th>0.975]</th>  \n",
       "</tr>\n",
       "<tr>\n",
       "  <th>const</th>     <td>  6.22e+05</td> <td> 4.23e+04</td> <td>   14.705</td> <td> 0.000</td> <td> 5.39e+05</td> <td> 7.05e+05</td>\n",
       "</tr>\n",
       "<tr>\n",
       "  <th>AVERAGE</th>   <td> 1.694e+05</td> <td> 4.37e+04</td> <td>    3.880</td> <td> 0.000</td> <td> 8.38e+04</td> <td> 2.55e+05</td>\n",
       "</tr>\n",
       "<tr>\n",
       "  <th>EXCELLENT</th> <td> 8.305e+05</td> <td> 4.63e+04</td> <td>   17.934</td> <td> 0.000</td> <td>  7.4e+05</td> <td> 9.21e+05</td>\n",
       "</tr>\n",
       "<tr>\n",
       "  <th>FAIR</th>      <td> 1.914e+05</td> <td> 4.62e+04</td> <td>    4.147</td> <td> 0.000</td> <td> 1.01e+05</td> <td> 2.82e+05</td>\n",
       "</tr>\n",
       "<tr>\n",
       "  <th>GOOD</th>      <td> 3.513e+05</td> <td> 4.48e+04</td> <td>    7.835</td> <td> 0.000</td> <td> 2.63e+05</td> <td> 4.39e+05</td>\n",
       "</tr>\n",
       "<tr>\n",
       "  <th>NONE</th>      <td>-1.252e+05</td> <td> 4.24e+04</td> <td>   -2.954</td> <td> 0.003</td> <td>-2.08e+05</td> <td>-4.21e+04</td>\n",
       "</tr>\n",
       "</table>\n",
       "<table class=\"simpletable\">\n",
       "<tr>\n",
       "  <th>Omnibus:</th>       <td>17920.771</td> <th>  Durbin-Watson:     </th>  <td>   1.958</td>  \n",
       "</tr>\n",
       "<tr>\n",
       "  <th>Prob(Omnibus):</th>  <td> 0.000</td>   <th>  Jarque-Bera (JB):  </th> <td>1069601.442</td>\n",
       "</tr>\n",
       "<tr>\n",
       "  <th>Skew:</th>           <td> 3.614</td>   <th>  Prob(JB):          </th>  <td>    0.00</td>  \n",
       "</tr>\n",
       "<tr>\n",
       "  <th>Kurtosis:</th>       <td>36.710</td>   <th>  Cond. No.          </th>  <td>    62.2</td>  \n",
       "</tr>\n",
       "</table><br/><br/>Notes:<br/>[1] Standard Errors assume that the covariance matrix of the errors is correctly specified."
      ],
      "text/plain": [
       "<class 'statsmodels.iolib.summary.Summary'>\n",
       "\"\"\"\n",
       "                            OLS Regression Results                            \n",
       "==============================================================================\n",
       "Dep. Variable:                  price   R-squared:                       0.165\n",
       "Model:                            OLS   Adj. R-squared:                  0.165\n",
       "Method:                 Least Squares   F-statistic:                     853.7\n",
       "Date:                Thu, 27 Oct 2022   Prob (F-statistic):               0.00\n",
       "Time:                        17:18:18   Log-Likelihood:            -3.0544e+05\n",
       "No. Observations:               21597   AIC:                         6.109e+05\n",
       "Df Residuals:                   21591   BIC:                         6.109e+05\n",
       "Df Model:                           5                                         \n",
       "Covariance Type:            nonrobust                                         \n",
       "==============================================================================\n",
       "                 coef    std err          t      P>|t|      [0.025      0.975]\n",
       "------------------------------------------------------------------------------\n",
       "const        6.22e+05   4.23e+04     14.705      0.000    5.39e+05    7.05e+05\n",
       "AVERAGE     1.694e+05   4.37e+04      3.880      0.000    8.38e+04    2.55e+05\n",
       "EXCELLENT   8.305e+05   4.63e+04     17.934      0.000     7.4e+05    9.21e+05\n",
       "FAIR        1.914e+05   4.62e+04      4.147      0.000    1.01e+05    2.82e+05\n",
       "GOOD        3.513e+05   4.48e+04      7.835      0.000    2.63e+05    4.39e+05\n",
       "NONE       -1.252e+05   4.24e+04     -2.954      0.003   -2.08e+05   -4.21e+04\n",
       "==============================================================================\n",
       "Omnibus:                    17920.771   Durbin-Watson:                   1.958\n",
       "Prob(Omnibus):                  0.000   Jarque-Bera (JB):          1069601.442\n",
       "Skew:                           3.614   Prob(JB):                         0.00\n",
       "Kurtosis:                      36.710   Cond. No.                         62.2\n",
       "==============================================================================\n",
       "\n",
       "Notes:\n",
       "[1] Standard Errors assume that the covariance matrix of the errors is correctly specified.\n",
       "\"\"\""
      ]
     },
     "execution_count": 53,
     "metadata": {},
     "output_type": "execute_result"
    }
   ],
   "source": [
    "simple_model(view_dummies)"
   ]
  },
  {
   "cell_type": "markdown",
   "metadata": {},
   "source": [
    "What if we set the nulls as not having a view? As is, it appears that no view is weaker than an undocumented view, but let's take a look. By simply dropping the \"none\" column, the two will be viewed as equal by the model."
   ]
  },
  {
   "cell_type": "code",
   "execution_count": 54,
   "metadata": {},
   "outputs": [],
   "source": [
    "view_dummies2 = view_dummies.drop(\"NONE\", axis=1)"
   ]
  },
  {
   "cell_type": "code",
   "execution_count": 55,
   "metadata": {
    "scrolled": true
   },
   "outputs": [
    {
     "data": {
      "text/html": [
       "<table class=\"simpletable\">\n",
       "<caption>OLS Regression Results</caption>\n",
       "<tr>\n",
       "  <th>Dep. Variable:</th>          <td>price</td>      <th>  R-squared:         </th>  <td>   0.165</td>  \n",
       "</tr>\n",
       "<tr>\n",
       "  <th>Model:</th>                   <td>OLS</td>       <th>  Adj. R-squared:    </th>  <td>   0.165</td>  \n",
       "</tr>\n",
       "<tr>\n",
       "  <th>Method:</th>             <td>Least Squares</td>  <th>  F-statistic:       </th>  <td>   1065.</td>  \n",
       "</tr>\n",
       "<tr>\n",
       "  <th>Date:</th>             <td>Thu, 27 Oct 2022</td> <th>  Prob (F-statistic):</th>   <td>  0.00</td>   \n",
       "</tr>\n",
       "<tr>\n",
       "  <th>Time:</th>                 <td>17:18:18</td>     <th>  Log-Likelihood:    </th> <td>-3.0545e+05</td>\n",
       "</tr>\n",
       "<tr>\n",
       "  <th>No. Observations:</th>      <td> 21597</td>      <th>  AIC:               </th>  <td>6.109e+05</td> \n",
       "</tr>\n",
       "<tr>\n",
       "  <th>Df Residuals:</th>          <td> 21592</td>      <th>  BIC:               </th>  <td>6.109e+05</td> \n",
       "</tr>\n",
       "<tr>\n",
       "  <th>Df Model:</th>              <td>     4</td>      <th>                     </th>      <td> </td>     \n",
       "</tr>\n",
       "<tr>\n",
       "  <th>Covariance Type:</th>      <td>nonrobust</td>    <th>                     </th>      <td> </td>     \n",
       "</tr>\n",
       "</table>\n",
       "<table class=\"simpletable\">\n",
       "<tr>\n",
       "      <td></td>         <th>coef</th>     <th>std err</th>      <th>t</th>      <th>P>|t|</th>  <th>[0.025</th>    <th>0.975]</th>  \n",
       "</tr>\n",
       "<tr>\n",
       "  <th>const</th>     <td> 4.972e+05</td> <td> 2405.499</td> <td>  206.698</td> <td> 0.000</td> <td> 4.92e+05</td> <td> 5.02e+05</td>\n",
       "</tr>\n",
       "<tr>\n",
       "  <th>AVERAGE</th>   <td> 2.942e+05</td> <td> 1.11e+04</td> <td>   26.461</td> <td> 0.000</td> <td> 2.72e+05</td> <td> 3.16e+05</td>\n",
       "</tr>\n",
       "<tr>\n",
       "  <th>EXCELLENT</th> <td> 9.553e+05</td> <td>  1.9e+04</td> <td>   50.245</td> <td> 0.000</td> <td> 9.18e+05</td> <td> 9.93e+05</td>\n",
       "</tr>\n",
       "<tr>\n",
       "  <th>FAIR</th>      <td> 3.162e+05</td> <td> 1.86e+04</td> <td>   16.962</td> <td> 0.000</td> <td>  2.8e+05</td> <td> 3.53e+05</td>\n",
       "</tr>\n",
       "<tr>\n",
       "  <th>GOOD</th>      <td> 4.761e+05</td> <td> 1.51e+04</td> <td>   31.547</td> <td> 0.000</td> <td> 4.46e+05</td> <td> 5.06e+05</td>\n",
       "</tr>\n",
       "</table>\n",
       "<table class=\"simpletable\">\n",
       "<tr>\n",
       "  <th>Omnibus:</th>       <td>17955.578</td> <th>  Durbin-Watson:     </th>  <td>   1.958</td>  \n",
       "</tr>\n",
       "<tr>\n",
       "  <th>Prob(Omnibus):</th>  <td> 0.000</td>   <th>  Jarque-Bera (JB):  </th> <td>1079721.400</td>\n",
       "</tr>\n",
       "<tr>\n",
       "  <th>Skew:</th>           <td> 3.622</td>   <th>  Prob(JB):          </th>  <td>    0.00</td>  \n",
       "</tr>\n",
       "<tr>\n",
       "  <th>Kurtosis:</th>       <td>36.873</td>   <th>  Cond. No.          </th>  <td>    8.37</td>  \n",
       "</tr>\n",
       "</table><br/><br/>Notes:<br/>[1] Standard Errors assume that the covariance matrix of the errors is correctly specified."
      ],
      "text/plain": [
       "<class 'statsmodels.iolib.summary.Summary'>\n",
       "\"\"\"\n",
       "                            OLS Regression Results                            \n",
       "==============================================================================\n",
       "Dep. Variable:                  price   R-squared:                       0.165\n",
       "Model:                            OLS   Adj. R-squared:                  0.165\n",
       "Method:                 Least Squares   F-statistic:                     1065.\n",
       "Date:                Thu, 27 Oct 2022   Prob (F-statistic):               0.00\n",
       "Time:                        17:18:18   Log-Likelihood:            -3.0545e+05\n",
       "No. Observations:               21597   AIC:                         6.109e+05\n",
       "Df Residuals:                   21592   BIC:                         6.109e+05\n",
       "Df Model:                           4                                         \n",
       "Covariance Type:            nonrobust                                         \n",
       "==============================================================================\n",
       "                 coef    std err          t      P>|t|      [0.025      0.975]\n",
       "------------------------------------------------------------------------------\n",
       "const       4.972e+05   2405.499    206.698      0.000    4.92e+05    5.02e+05\n",
       "AVERAGE     2.942e+05   1.11e+04     26.461      0.000    2.72e+05    3.16e+05\n",
       "EXCELLENT   9.553e+05    1.9e+04     50.245      0.000    9.18e+05    9.93e+05\n",
       "FAIR        3.162e+05   1.86e+04     16.962      0.000     2.8e+05    3.53e+05\n",
       "GOOD        4.761e+05   1.51e+04     31.547      0.000    4.46e+05    5.06e+05\n",
       "==============================================================================\n",
       "Omnibus:                    17955.578   Durbin-Watson:                   1.958\n",
       "Prob(Omnibus):                  0.000   Jarque-Bera (JB):          1079721.400\n",
       "Skew:                           3.622   Prob(JB):                         0.00\n",
       "Kurtosis:                      36.873   Cond. No.                         8.37\n",
       "==============================================================================\n",
       "\n",
       "Notes:\n",
       "[1] Standard Errors assume that the covariance matrix of the errors is correctly specified.\n",
       "\"\"\""
      ]
     },
     "execution_count": 55,
     "metadata": {},
     "output_type": "execute_result"
    }
   ],
   "source": [
    "simple_model(view_dummies2)"
   ]
  },
  {
   "cell_type": "markdown",
   "metadata": {},
   "source": [
    "## Put these numbers together"
   ]
  },
  {
   "cell_type": "code",
   "execution_count": 56,
   "metadata": {},
   "outputs": [],
   "source": [
    "def add_views(df):\n",
    "    df[\"No_view\"] = view_dummies[\"NONE\"]\n",
    "    df[\"Fair_view\"] = view_dummies[\"FAIR\"]\n",
    "    df[\"Average_view\"] = view_dummies[\"AVERAGE\"]\n",
    "    df[\"Good_view\"] = view_dummies[\"GOOD\"]\n",
    "    df[\"Excellent_view\"] = view_dummies[\"EXCELLENT\"]"
   ]
  },
  {
   "cell_type": "code",
   "execution_count": 57,
   "metadata": {
    "scrolled": false
   },
   "outputs": [
    {
     "data": {
      "text/html": [
       "<div>\n",
       "<style scoped>\n",
       "    .dataframe tbody tr th:only-of-type {\n",
       "        vertical-align: middle;\n",
       "    }\n",
       "\n",
       "    .dataframe tbody tr th {\n",
       "        vertical-align: top;\n",
       "    }\n",
       "\n",
       "    .dataframe thead th {\n",
       "        text-align: right;\n",
       "    }\n",
       "</style>\n",
       "<table border=\"1\" class=\"dataframe\">\n",
       "  <thead>\n",
       "    <tr style=\"text-align: right;\">\n",
       "      <th></th>\n",
       "      <th>bedrooms</th>\n",
       "      <th>bathrooms</th>\n",
       "      <th>sqft_living</th>\n",
       "      <th>sqft_lot</th>\n",
       "      <th>No_view</th>\n",
       "      <th>Fair_view</th>\n",
       "      <th>Average_view</th>\n",
       "      <th>Good_view</th>\n",
       "      <th>Excellent_view</th>\n",
       "    </tr>\n",
       "  </thead>\n",
       "  <tbody>\n",
       "    <tr>\n",
       "      <th>0</th>\n",
       "      <td>3</td>\n",
       "      <td>1.00</td>\n",
       "      <td>1180</td>\n",
       "      <td>5650</td>\n",
       "      <td>1</td>\n",
       "      <td>0</td>\n",
       "      <td>0</td>\n",
       "      <td>0</td>\n",
       "      <td>0</td>\n",
       "    </tr>\n",
       "    <tr>\n",
       "      <th>1</th>\n",
       "      <td>3</td>\n",
       "      <td>2.25</td>\n",
       "      <td>2570</td>\n",
       "      <td>7242</td>\n",
       "      <td>1</td>\n",
       "      <td>0</td>\n",
       "      <td>0</td>\n",
       "      <td>0</td>\n",
       "      <td>0</td>\n",
       "    </tr>\n",
       "    <tr>\n",
       "      <th>2</th>\n",
       "      <td>2</td>\n",
       "      <td>1.00</td>\n",
       "      <td>770</td>\n",
       "      <td>10000</td>\n",
       "      <td>1</td>\n",
       "      <td>0</td>\n",
       "      <td>0</td>\n",
       "      <td>0</td>\n",
       "      <td>0</td>\n",
       "    </tr>\n",
       "    <tr>\n",
       "      <th>3</th>\n",
       "      <td>4</td>\n",
       "      <td>3.00</td>\n",
       "      <td>1960</td>\n",
       "      <td>5000</td>\n",
       "      <td>1</td>\n",
       "      <td>0</td>\n",
       "      <td>0</td>\n",
       "      <td>0</td>\n",
       "      <td>0</td>\n",
       "    </tr>\n",
       "    <tr>\n",
       "      <th>4</th>\n",
       "      <td>3</td>\n",
       "      <td>2.00</td>\n",
       "      <td>1680</td>\n",
       "      <td>8080</td>\n",
       "      <td>1</td>\n",
       "      <td>0</td>\n",
       "      <td>0</td>\n",
       "      <td>0</td>\n",
       "      <td>0</td>\n",
       "    </tr>\n",
       "    <tr>\n",
       "      <th>...</th>\n",
       "      <td>...</td>\n",
       "      <td>...</td>\n",
       "      <td>...</td>\n",
       "      <td>...</td>\n",
       "      <td>...</td>\n",
       "      <td>...</td>\n",
       "      <td>...</td>\n",
       "      <td>...</td>\n",
       "      <td>...</td>\n",
       "    </tr>\n",
       "    <tr>\n",
       "      <th>21592</th>\n",
       "      <td>3</td>\n",
       "      <td>2.50</td>\n",
       "      <td>1530</td>\n",
       "      <td>1131</td>\n",
       "      <td>1</td>\n",
       "      <td>0</td>\n",
       "      <td>0</td>\n",
       "      <td>0</td>\n",
       "      <td>0</td>\n",
       "    </tr>\n",
       "    <tr>\n",
       "      <th>21593</th>\n",
       "      <td>4</td>\n",
       "      <td>2.50</td>\n",
       "      <td>2310</td>\n",
       "      <td>5813</td>\n",
       "      <td>1</td>\n",
       "      <td>0</td>\n",
       "      <td>0</td>\n",
       "      <td>0</td>\n",
       "      <td>0</td>\n",
       "    </tr>\n",
       "    <tr>\n",
       "      <th>21594</th>\n",
       "      <td>2</td>\n",
       "      <td>0.75</td>\n",
       "      <td>1020</td>\n",
       "      <td>1350</td>\n",
       "      <td>1</td>\n",
       "      <td>0</td>\n",
       "      <td>0</td>\n",
       "      <td>0</td>\n",
       "      <td>0</td>\n",
       "    </tr>\n",
       "    <tr>\n",
       "      <th>21595</th>\n",
       "      <td>3</td>\n",
       "      <td>2.50</td>\n",
       "      <td>1600</td>\n",
       "      <td>2388</td>\n",
       "      <td>1</td>\n",
       "      <td>0</td>\n",
       "      <td>0</td>\n",
       "      <td>0</td>\n",
       "      <td>0</td>\n",
       "    </tr>\n",
       "    <tr>\n",
       "      <th>21596</th>\n",
       "      <td>2</td>\n",
       "      <td>0.75</td>\n",
       "      <td>1020</td>\n",
       "      <td>1076</td>\n",
       "      <td>1</td>\n",
       "      <td>0</td>\n",
       "      <td>0</td>\n",
       "      <td>0</td>\n",
       "      <td>0</td>\n",
       "    </tr>\n",
       "  </tbody>\n",
       "</table>\n",
       "<p>21597 rows × 9 columns</p>\n",
       "</div>"
      ],
      "text/plain": [
       "       bedrooms  bathrooms  sqft_living  sqft_lot  No_view  Fair_view  \\\n",
       "0             3       1.00         1180      5650        1          0   \n",
       "1             3       2.25         2570      7242        1          0   \n",
       "2             2       1.00          770     10000        1          0   \n",
       "3             4       3.00         1960      5000        1          0   \n",
       "4             3       2.00         1680      8080        1          0   \n",
       "...         ...        ...          ...       ...      ...        ...   \n",
       "21592         3       2.50         1530      1131        1          0   \n",
       "21593         4       2.50         2310      5813        1          0   \n",
       "21594         2       0.75         1020      1350        1          0   \n",
       "21595         3       2.50         1600      2388        1          0   \n",
       "21596         2       0.75         1020      1076        1          0   \n",
       "\n",
       "       Average_view  Good_view  Excellent_view  \n",
       "0                 0          0               0  \n",
       "1                 0          0               0  \n",
       "2                 0          0               0  \n",
       "3                 0          0               0  \n",
       "4                 0          0               0  \n",
       "...             ...        ...             ...  \n",
       "21592             0          0               0  \n",
       "21593             0          0               0  \n",
       "21594             0          0               0  \n",
       "21595             0          0               0  \n",
       "21596             0          0               0  \n",
       "\n",
       "[21597 rows x 9 columns]"
      ]
     },
     "execution_count": 57,
     "metadata": {},
     "output_type": "execute_result"
    }
   ],
   "source": [
    "drew_data = df.drop(labels=[\"id\",\"date\",\"price\",\"floors\",\"waterfront\",\"condition\",\"grade\",\"yr_built\",\"view\"], axis=1)\n",
    "add_views(drew_data)\n",
    "drew_data"
   ]
  },
  {
   "cell_type": "code",
   "execution_count": 58,
   "metadata": {},
   "outputs": [],
   "source": [
    "x, y = sm.add_constant(drew_data), df[\"price\"]"
   ]
  },
  {
   "cell_type": "code",
   "execution_count": 59,
   "metadata": {
    "scrolled": true
   },
   "outputs": [
    {
     "data": {
      "text/html": [
       "<table class=\"simpletable\">\n",
       "<caption>OLS Regression Results</caption>\n",
       "<tr>\n",
       "  <th>Dep. Variable:</th>          <td>price</td>      <th>  R-squared:         </th>  <td>   0.555</td>  \n",
       "</tr>\n",
       "<tr>\n",
       "  <th>Model:</th>                   <td>OLS</td>       <th>  Adj. R-squared:    </th>  <td>   0.555</td>  \n",
       "</tr>\n",
       "<tr>\n",
       "  <th>Method:</th>             <td>Least Squares</td>  <th>  F-statistic:       </th>  <td>   2992.</td>  \n",
       "</tr>\n",
       "<tr>\n",
       "  <th>Date:</th>             <td>Thu, 27 Oct 2022</td> <th>  Prob (F-statistic):</th>   <td>  0.00</td>   \n",
       "</tr>\n",
       "<tr>\n",
       "  <th>Time:</th>                 <td>17:18:18</td>     <th>  Log-Likelihood:    </th> <td>-2.9865e+05</td>\n",
       "</tr>\n",
       "<tr>\n",
       "  <th>No. Observations:</th>      <td> 21597</td>      <th>  AIC:               </th>  <td>5.973e+05</td> \n",
       "</tr>\n",
       "<tr>\n",
       "  <th>Df Residuals:</th>          <td> 21587</td>      <th>  BIC:               </th>  <td>5.974e+05</td> \n",
       "</tr>\n",
       "<tr>\n",
       "  <th>Df Model:</th>              <td>     9</td>      <th>                     </th>      <td> </td>     \n",
       "</tr>\n",
       "<tr>\n",
       "  <th>Covariance Type:</th>      <td>nonrobust</td>    <th>                     </th>      <td> </td>     \n",
       "</tr>\n",
       "</table>\n",
       "<table class=\"simpletable\">\n",
       "<tr>\n",
       "         <td></td>           <th>coef</th>     <th>std err</th>      <th>t</th>      <th>P>|t|</th>  <th>[0.025</th>    <th>0.975]</th>  \n",
       "</tr>\n",
       "<tr>\n",
       "  <th>const</th>          <td> 1.487e+05</td> <td> 3.16e+04</td> <td>    4.708</td> <td> 0.000</td> <td> 8.68e+04</td> <td> 2.11e+05</td>\n",
       "</tr>\n",
       "<tr>\n",
       "  <th>bedrooms</th>       <td>-5.415e+04</td> <td> 2344.088</td> <td>  -23.100</td> <td> 0.000</td> <td>-5.87e+04</td> <td>-4.96e+04</td>\n",
       "</tr>\n",
       "<tr>\n",
       "  <th>bathrooms</th>      <td>  1.15e+04</td> <td> 3357.267</td> <td>    3.427</td> <td> 0.001</td> <td> 4924.386</td> <td> 1.81e+04</td>\n",
       "</tr>\n",
       "<tr>\n",
       "  <th>sqft_living</th>    <td>  285.0403</td> <td>    3.101</td> <td>   91.922</td> <td> 0.000</td> <td>  278.962</td> <td>  291.118</td>\n",
       "</tr>\n",
       "<tr>\n",
       "  <th>sqft_lot</th>       <td>   -0.3848</td> <td>    0.041</td> <td>   -9.347</td> <td> 0.000</td> <td>   -0.465</td> <td>   -0.304</td>\n",
       "</tr>\n",
       "<tr>\n",
       "  <th>No_view</th>        <td>-5.864e+04</td> <td> 3.09e+04</td> <td>   -1.896</td> <td> 0.058</td> <td>-1.19e+05</td> <td> 1992.982</td>\n",
       "</tr>\n",
       "<tr>\n",
       "  <th>Fair_view</th>      <td> 1.011e+05</td> <td> 3.37e+04</td> <td>    2.998</td> <td> 0.003</td> <td>  3.5e+04</td> <td> 1.67e+05</td>\n",
       "</tr>\n",
       "<tr>\n",
       "  <th>Average_view</th>   <td> 6.098e+04</td> <td> 3.19e+04</td> <td>    1.912</td> <td> 0.056</td> <td>-1525.293</td> <td> 1.23e+05</td>\n",
       "</tr>\n",
       "<tr>\n",
       "  <th>Good_view</th>      <td> 1.462e+05</td> <td> 3.28e+04</td> <td>    4.459</td> <td> 0.000</td> <td> 8.19e+04</td> <td>  2.1e+05</td>\n",
       "</tr>\n",
       "<tr>\n",
       "  <th>Excellent_view</th> <td> 5.259e+05</td> <td> 3.39e+04</td> <td>   15.517</td> <td> 0.000</td> <td> 4.59e+05</td> <td> 5.92e+05</td>\n",
       "</tr>\n",
       "</table>\n",
       "<table class=\"simpletable\">\n",
       "<tr>\n",
       "  <th>Omnibus:</th>       <td>13564.946</td> <th>  Durbin-Watson:     </th>  <td>   1.982</td> \n",
       "</tr>\n",
       "<tr>\n",
       "  <th>Prob(Omnibus):</th>  <td> 0.000</td>   <th>  Jarque-Bera (JB):  </th> <td>496364.594</td>\n",
       "</tr>\n",
       "<tr>\n",
       "  <th>Skew:</th>           <td> 2.469</td>   <th>  Prob(JB):          </th>  <td>    0.00</td> \n",
       "</tr>\n",
       "<tr>\n",
       "  <th>Kurtosis:</th>       <td>25.961</td>   <th>  Cond. No.          </th>  <td>2.02e+06</td> \n",
       "</tr>\n",
       "</table><br/><br/>Notes:<br/>[1] Standard Errors assume that the covariance matrix of the errors is correctly specified.<br/>[2] The condition number is large, 2.02e+06. This might indicate that there are<br/>strong multicollinearity or other numerical problems."
      ],
      "text/plain": [
       "<class 'statsmodels.iolib.summary.Summary'>\n",
       "\"\"\"\n",
       "                            OLS Regression Results                            \n",
       "==============================================================================\n",
       "Dep. Variable:                  price   R-squared:                       0.555\n",
       "Model:                            OLS   Adj. R-squared:                  0.555\n",
       "Method:                 Least Squares   F-statistic:                     2992.\n",
       "Date:                Thu, 27 Oct 2022   Prob (F-statistic):               0.00\n",
       "Time:                        17:18:18   Log-Likelihood:            -2.9865e+05\n",
       "No. Observations:               21597   AIC:                         5.973e+05\n",
       "Df Residuals:                   21587   BIC:                         5.974e+05\n",
       "Df Model:                           9                                         \n",
       "Covariance Type:            nonrobust                                         \n",
       "==================================================================================\n",
       "                     coef    std err          t      P>|t|      [0.025      0.975]\n",
       "----------------------------------------------------------------------------------\n",
       "const           1.487e+05   3.16e+04      4.708      0.000    8.68e+04    2.11e+05\n",
       "bedrooms       -5.415e+04   2344.088    -23.100      0.000   -5.87e+04   -4.96e+04\n",
       "bathrooms        1.15e+04   3357.267      3.427      0.001    4924.386    1.81e+04\n",
       "sqft_living      285.0403      3.101     91.922      0.000     278.962     291.118\n",
       "sqft_lot          -0.3848      0.041     -9.347      0.000      -0.465      -0.304\n",
       "No_view        -5.864e+04   3.09e+04     -1.896      0.058   -1.19e+05    1992.982\n",
       "Fair_view       1.011e+05   3.37e+04      2.998      0.003     3.5e+04    1.67e+05\n",
       "Average_view    6.098e+04   3.19e+04      1.912      0.056   -1525.293    1.23e+05\n",
       "Good_view       1.462e+05   3.28e+04      4.459      0.000    8.19e+04     2.1e+05\n",
       "Excellent_view  5.259e+05   3.39e+04     15.517      0.000    4.59e+05    5.92e+05\n",
       "==============================================================================\n",
       "Omnibus:                    13564.946   Durbin-Watson:                   1.982\n",
       "Prob(Omnibus):                  0.000   Jarque-Bera (JB):           496364.594\n",
       "Skew:                           2.469   Prob(JB):                         0.00\n",
       "Kurtosis:                      25.961   Cond. No.                     2.02e+06\n",
       "==============================================================================\n",
       "\n",
       "Notes:\n",
       "[1] Standard Errors assume that the covariance matrix of the errors is correctly specified.\n",
       "[2] The condition number is large, 2.02e+06. This might indicate that there are\n",
       "strong multicollinearity or other numerical problems.\n",
       "\"\"\""
      ]
     },
     "execution_count": 59,
     "metadata": {},
     "output_type": "execute_result"
    }
   ],
   "source": [
    "sm.OLS(y, x).fit().summary()"
   ]
  },
  {
   "cell_type": "markdown",
   "metadata": {},
   "source": [
    "Let's see if using the log of y will improve our model."
   ]
  },
  {
   "cell_type": "code",
   "execution_count": 60,
   "metadata": {
    "scrolled": true
   },
   "outputs": [
    {
     "data": {
      "text/html": [
       "<table class=\"simpletable\">\n",
       "<caption>OLS Regression Results</caption>\n",
       "<tr>\n",
       "  <th>Dep. Variable:</th>          <td>price</td>      <th>  R-squared:         </th> <td>   0.517</td> \n",
       "</tr>\n",
       "<tr>\n",
       "  <th>Model:</th>                   <td>OLS</td>       <th>  Adj. R-squared:    </th> <td>   0.516</td> \n",
       "</tr>\n",
       "<tr>\n",
       "  <th>Method:</th>             <td>Least Squares</td>  <th>  F-statistic:       </th> <td>   2563.</td> \n",
       "</tr>\n",
       "<tr>\n",
       "  <th>Date:</th>             <td>Thu, 27 Oct 2022</td> <th>  Prob (F-statistic):</th>  <td>  0.00</td>  \n",
       "</tr>\n",
       "<tr>\n",
       "  <th>Time:</th>                 <td>17:18:18</td>     <th>  Log-Likelihood:    </th> <td> -8943.1</td> \n",
       "</tr>\n",
       "<tr>\n",
       "  <th>No. Observations:</th>      <td> 21597</td>      <th>  AIC:               </th> <td>1.791e+04</td>\n",
       "</tr>\n",
       "<tr>\n",
       "  <th>Df Residuals:</th>          <td> 21587</td>      <th>  BIC:               </th> <td>1.799e+04</td>\n",
       "</tr>\n",
       "<tr>\n",
       "  <th>Df Model:</th>              <td>     9</td>      <th>                     </th>     <td> </td>    \n",
       "</tr>\n",
       "<tr>\n",
       "  <th>Covariance Type:</th>      <td>nonrobust</td>    <th>                     </th>     <td> </td>    \n",
       "</tr>\n",
       "</table>\n",
       "<table class=\"simpletable\">\n",
       "<tr>\n",
       "         <td></td>           <th>coef</th>     <th>std err</th>      <th>t</th>      <th>P>|t|</th>  <th>[0.025</th>    <th>0.975]</th>  \n",
       "</tr>\n",
       "<tr>\n",
       "  <th>const</th>          <td>   12.3325</td> <td>    0.047</td> <td>  261.363</td> <td> 0.000</td> <td>   12.240</td> <td>   12.425</td>\n",
       "</tr>\n",
       "<tr>\n",
       "  <th>bedrooms</th>       <td>   -0.0503</td> <td>    0.004</td> <td>  -14.360</td> <td> 0.000</td> <td>   -0.057</td> <td>   -0.043</td>\n",
       "</tr>\n",
       "<tr>\n",
       "  <th>bathrooms</th>      <td>    0.0581</td> <td>    0.005</td> <td>   11.574</td> <td> 0.000</td> <td>    0.048</td> <td>    0.068</td>\n",
       "</tr>\n",
       "<tr>\n",
       "  <th>sqft_living</th>    <td>    0.0004</td> <td> 4.63e-06</td> <td>   79.413</td> <td> 0.000</td> <td>    0.000</td> <td>    0.000</td>\n",
       "</tr>\n",
       "<tr>\n",
       "  <th>sqft_lot</th>       <td>-3.302e-07</td> <td> 6.15e-08</td> <td>   -5.369</td> <td> 0.000</td> <td>-4.51e-07</td> <td> -2.1e-07</td>\n",
       "</tr>\n",
       "<tr>\n",
       "  <th>No_view</th>        <td>   -0.0241</td> <td>    0.046</td> <td>   -0.522</td> <td> 0.602</td> <td>   -0.115</td> <td>    0.066</td>\n",
       "</tr>\n",
       "<tr>\n",
       "  <th>Fair_view</th>      <td>    0.2282</td> <td>    0.050</td> <td>    4.531</td> <td> 0.000</td> <td>    0.129</td> <td>    0.327</td>\n",
       "</tr>\n",
       "<tr>\n",
       "  <th>Average_view</th>   <td>    0.1742</td> <td>    0.048</td> <td>    3.657</td> <td> 0.000</td> <td>    0.081</td> <td>    0.268</td>\n",
       "</tr>\n",
       "<tr>\n",
       "  <th>Good_view</th>      <td>    0.2329</td> <td>    0.049</td> <td>    4.756</td> <td> 0.000</td> <td>    0.137</td> <td>    0.329</td>\n",
       "</tr>\n",
       "<tr>\n",
       "  <th>Excellent_view</th> <td>    0.4833</td> <td>    0.051</td> <td>    9.545</td> <td> 0.000</td> <td>    0.384</td> <td>    0.583</td>\n",
       "</tr>\n",
       "</table>\n",
       "<table class=\"simpletable\">\n",
       "<tr>\n",
       "  <th>Omnibus:</th>       <td>12.548</td> <th>  Durbin-Watson:     </th> <td>   1.972</td>\n",
       "</tr>\n",
       "<tr>\n",
       "  <th>Prob(Omnibus):</th> <td> 0.002</td> <th>  Jarque-Bera (JB):  </th> <td>  13.165</td>\n",
       "</tr>\n",
       "<tr>\n",
       "  <th>Skew:</th>          <td>-0.036</td> <th>  Prob(JB):          </th> <td> 0.00138</td>\n",
       "</tr>\n",
       "<tr>\n",
       "  <th>Kurtosis:</th>      <td> 3.097</td> <th>  Cond. No.          </th> <td>2.02e+06</td>\n",
       "</tr>\n",
       "</table><br/><br/>Notes:<br/>[1] Standard Errors assume that the covariance matrix of the errors is correctly specified.<br/>[2] The condition number is large, 2.02e+06. This might indicate that there are<br/>strong multicollinearity or other numerical problems."
      ],
      "text/plain": [
       "<class 'statsmodels.iolib.summary.Summary'>\n",
       "\"\"\"\n",
       "                            OLS Regression Results                            \n",
       "==============================================================================\n",
       "Dep. Variable:                  price   R-squared:                       0.517\n",
       "Model:                            OLS   Adj. R-squared:                  0.516\n",
       "Method:                 Least Squares   F-statistic:                     2563.\n",
       "Date:                Thu, 27 Oct 2022   Prob (F-statistic):               0.00\n",
       "Time:                        17:18:18   Log-Likelihood:                -8943.1\n",
       "No. Observations:               21597   AIC:                         1.791e+04\n",
       "Df Residuals:                   21587   BIC:                         1.799e+04\n",
       "Df Model:                           9                                         \n",
       "Covariance Type:            nonrobust                                         \n",
       "==================================================================================\n",
       "                     coef    std err          t      P>|t|      [0.025      0.975]\n",
       "----------------------------------------------------------------------------------\n",
       "const             12.3325      0.047    261.363      0.000      12.240      12.425\n",
       "bedrooms          -0.0503      0.004    -14.360      0.000      -0.057      -0.043\n",
       "bathrooms          0.0581      0.005     11.574      0.000       0.048       0.068\n",
       "sqft_living        0.0004   4.63e-06     79.413      0.000       0.000       0.000\n",
       "sqft_lot       -3.302e-07   6.15e-08     -5.369      0.000   -4.51e-07    -2.1e-07\n",
       "No_view           -0.0241      0.046     -0.522      0.602      -0.115       0.066\n",
       "Fair_view          0.2282      0.050      4.531      0.000       0.129       0.327\n",
       "Average_view       0.1742      0.048      3.657      0.000       0.081       0.268\n",
       "Good_view          0.2329      0.049      4.756      0.000       0.137       0.329\n",
       "Excellent_view     0.4833      0.051      9.545      0.000       0.384       0.583\n",
       "==============================================================================\n",
       "Omnibus:                       12.548   Durbin-Watson:                   1.972\n",
       "Prob(Omnibus):                  0.002   Jarque-Bera (JB):               13.165\n",
       "Skew:                          -0.036   Prob(JB):                      0.00138\n",
       "Kurtosis:                       3.097   Cond. No.                     2.02e+06\n",
       "==============================================================================\n",
       "\n",
       "Notes:\n",
       "[1] Standard Errors assume that the covariance matrix of the errors is correctly specified.\n",
       "[2] The condition number is large, 2.02e+06. This might indicate that there are\n",
       "strong multicollinearity or other numerical problems.\n",
       "\"\"\""
      ]
     },
     "execution_count": 60,
     "metadata": {},
     "output_type": "execute_result"
    }
   ],
   "source": [
    "y_log = np.log(y)\n",
    "sm.OLS(y_log, x).fit().summary()"
   ]
  },
  {
   "cell_type": "markdown",
   "metadata": {},
   "source": [
    "While the bathrooms showed a stronger correlation with the log of the price, the other factors prevented this from being the best overall choice. Now, let's address the multicolinearity. "
   ]
  },
  {
   "cell_type": "markdown",
   "metadata": {},
   "source": [
    "Let's scale this data before diving into the multicolinearity."
   ]
  },
  {
   "cell_type": "code",
   "execution_count": 61,
   "metadata": {},
   "outputs": [],
   "source": [
    "x_nums = drew_data.drop(labels=[\"No_view\", \"Fair_view\", \"Average_view\", \"Good_view\", \"Excellent_view\"], axis=1)"
   ]
  },
  {
   "cell_type": "code",
   "execution_count": 62,
   "metadata": {},
   "outputs": [],
   "source": [
    "x_scaled = StandardScaler().fit_transform(x_nums.values)\n",
    "x_scaled_df = pd.DataFrame(x_scaled, index=x_nums.index, columns=x_nums.columns)\n",
    "x_c = sm.add_constant(x_scaled_df)"
   ]
  },
  {
   "cell_type": "code",
   "execution_count": 63,
   "metadata": {
    "scrolled": true
   },
   "outputs": [
    {
     "data": {
      "text/html": [
       "<table class=\"simpletable\">\n",
       "<caption>OLS Regression Results</caption>\n",
       "<tr>\n",
       "  <th>Dep. Variable:</th>          <td>price</td>      <th>  R-squared:         </th>  <td>   0.510</td>  \n",
       "</tr>\n",
       "<tr>\n",
       "  <th>Model:</th>                   <td>OLS</td>       <th>  Adj. R-squared:    </th>  <td>   0.510</td>  \n",
       "</tr>\n",
       "<tr>\n",
       "  <th>Method:</th>             <td>Least Squares</td>  <th>  F-statistic:       </th>  <td>   5623.</td>  \n",
       "</tr>\n",
       "<tr>\n",
       "  <th>Date:</th>             <td>Thu, 27 Oct 2022</td> <th>  Prob (F-statistic):</th>   <td>  0.00</td>   \n",
       "</tr>\n",
       "<tr>\n",
       "  <th>Time:</th>                 <td>17:18:18</td>     <th>  Log-Likelihood:    </th> <td>-2.9968e+05</td>\n",
       "</tr>\n",
       "<tr>\n",
       "  <th>No. Observations:</th>      <td> 21597</td>      <th>  AIC:               </th>  <td>5.994e+05</td> \n",
       "</tr>\n",
       "<tr>\n",
       "  <th>Df Residuals:</th>          <td> 21592</td>      <th>  BIC:               </th>  <td>5.994e+05</td> \n",
       "</tr>\n",
       "<tr>\n",
       "  <th>Df Model:</th>              <td>     4</td>      <th>                     </th>      <td> </td>     \n",
       "</tr>\n",
       "<tr>\n",
       "  <th>Covariance Type:</th>      <td>nonrobust</td>    <th>                     </th>      <td> </td>     \n",
       "</tr>\n",
       "</table>\n",
       "<table class=\"simpletable\">\n",
       "<tr>\n",
       "       <td></td>          <th>coef</th>     <th>std err</th>      <th>t</th>      <th>P>|t|</th>  <th>[0.025</th>    <th>0.975]</th>  \n",
       "</tr>\n",
       "<tr>\n",
       "  <th>const</th>       <td> 5.403e+05</td> <td> 1749.651</td> <td>  308.803</td> <td> 0.000</td> <td> 5.37e+05</td> <td> 5.44e+05</td>\n",
       "</tr>\n",
       "<tr>\n",
       "  <th>bedrooms</th>    <td>-5.931e+04</td> <td> 2206.541</td> <td>  -26.878</td> <td> 0.000</td> <td>-6.36e+04</td> <td> -5.5e+04</td>\n",
       "</tr>\n",
       "<tr>\n",
       "  <th>bathrooms</th>   <td> 5485.1930</td> <td> 2706.747</td> <td>    2.026</td> <td> 0.043</td> <td>  179.768</td> <td> 1.08e+04</td>\n",
       "</tr>\n",
       "<tr>\n",
       "  <th>sqft_living</th> <td> 2.917e+05</td> <td> 2899.562</td> <td>  100.606</td> <td> 0.000</td> <td> 2.86e+05</td> <td> 2.97e+05</td>\n",
       "</tr>\n",
       "<tr>\n",
       "  <th>sqft_lot</th>    <td>-1.606e+04</td> <td> 1785.994</td> <td>   -8.995</td> <td> 0.000</td> <td>-1.96e+04</td> <td>-1.26e+04</td>\n",
       "</tr>\n",
       "</table>\n",
       "<table class=\"simpletable\">\n",
       "<tr>\n",
       "  <th>Omnibus:</th>       <td>14205.165</td> <th>  Durbin-Watson:     </th>  <td>   1.984</td> \n",
       "</tr>\n",
       "<tr>\n",
       "  <th>Prob(Omnibus):</th>  <td> 0.000</td>   <th>  Jarque-Bera (JB):  </th> <td>468271.599</td>\n",
       "</tr>\n",
       "<tr>\n",
       "  <th>Skew:</th>           <td> 2.685</td>   <th>  Prob(JB):          </th>  <td>    0.00</td> \n",
       "</tr>\n",
       "<tr>\n",
       "  <th>Kurtosis:</th>       <td>25.171</td>   <th>  Cond. No.          </th>  <td>    3.14</td> \n",
       "</tr>\n",
       "</table><br/><br/>Notes:<br/>[1] Standard Errors assume that the covariance matrix of the errors is correctly specified."
      ],
      "text/plain": [
       "<class 'statsmodels.iolib.summary.Summary'>\n",
       "\"\"\"\n",
       "                            OLS Regression Results                            \n",
       "==============================================================================\n",
       "Dep. Variable:                  price   R-squared:                       0.510\n",
       "Model:                            OLS   Adj. R-squared:                  0.510\n",
       "Method:                 Least Squares   F-statistic:                     5623.\n",
       "Date:                Thu, 27 Oct 2022   Prob (F-statistic):               0.00\n",
       "Time:                        17:18:18   Log-Likelihood:            -2.9968e+05\n",
       "No. Observations:               21597   AIC:                         5.994e+05\n",
       "Df Residuals:                   21592   BIC:                         5.994e+05\n",
       "Df Model:                           4                                         \n",
       "Covariance Type:            nonrobust                                         \n",
       "===============================================================================\n",
       "                  coef    std err          t      P>|t|      [0.025      0.975]\n",
       "-------------------------------------------------------------------------------\n",
       "const        5.403e+05   1749.651    308.803      0.000    5.37e+05    5.44e+05\n",
       "bedrooms    -5.931e+04   2206.541    -26.878      0.000   -6.36e+04    -5.5e+04\n",
       "bathrooms    5485.1930   2706.747      2.026      0.043     179.768    1.08e+04\n",
       "sqft_living  2.917e+05   2899.562    100.606      0.000    2.86e+05    2.97e+05\n",
       "sqft_lot    -1.606e+04   1785.994     -8.995      0.000   -1.96e+04   -1.26e+04\n",
       "==============================================================================\n",
       "Omnibus:                    14205.165   Durbin-Watson:                   1.984\n",
       "Prob(Omnibus):                  0.000   Jarque-Bera (JB):           468271.599\n",
       "Skew:                           2.685   Prob(JB):                         0.00\n",
       "Kurtosis:                      25.171   Cond. No.                         3.14\n",
       "==============================================================================\n",
       "\n",
       "Notes:\n",
       "[1] Standard Errors assume that the covariance matrix of the errors is correctly specified.\n",
       "\"\"\""
      ]
     },
     "execution_count": 63,
     "metadata": {},
     "output_type": "execute_result"
    }
   ],
   "source": [
    "sm.OLS(y, x_c).fit().summary()"
   ]
  },
  {
   "cell_type": "markdown",
   "metadata": {},
   "source": [
    "Now that our condition number is minimal, if it reappears with the view columns, we'll know they're to blame. Let's add them in now!"
   ]
  },
  {
   "cell_type": "code",
   "execution_count": 64,
   "metadata": {},
   "outputs": [],
   "source": [
    "add_views(x_c)"
   ]
  },
  {
   "cell_type": "code",
   "execution_count": 65,
   "metadata": {
    "scrolled": true
   },
   "outputs": [
    {
     "data": {
      "text/html": [
       "<table class=\"simpletable\">\n",
       "<caption>OLS Regression Results</caption>\n",
       "<tr>\n",
       "  <th>Dep. Variable:</th>          <td>price</td>      <th>  R-squared:         </th>  <td>   0.555</td>  \n",
       "</tr>\n",
       "<tr>\n",
       "  <th>Model:</th>                   <td>OLS</td>       <th>  Adj. R-squared:    </th>  <td>   0.555</td>  \n",
       "</tr>\n",
       "<tr>\n",
       "  <th>Method:</th>             <td>Least Squares</td>  <th>  F-statistic:       </th>  <td>   2992.</td>  \n",
       "</tr>\n",
       "<tr>\n",
       "  <th>Date:</th>             <td>Thu, 27 Oct 2022</td> <th>  Prob (F-statistic):</th>   <td>  0.00</td>   \n",
       "</tr>\n",
       "<tr>\n",
       "  <th>Time:</th>                 <td>17:18:18</td>     <th>  Log-Likelihood:    </th> <td>-2.9865e+05</td>\n",
       "</tr>\n",
       "<tr>\n",
       "  <th>No. Observations:</th>      <td> 21597</td>      <th>  AIC:               </th>  <td>5.973e+05</td> \n",
       "</tr>\n",
       "<tr>\n",
       "  <th>Df Residuals:</th>          <td> 21587</td>      <th>  BIC:               </th>  <td>5.974e+05</td> \n",
       "</tr>\n",
       "<tr>\n",
       "  <th>Df Model:</th>              <td>     9</td>      <th>                     </th>      <td> </td>     \n",
       "</tr>\n",
       "<tr>\n",
       "  <th>Covariance Type:</th>      <td>nonrobust</td>    <th>                     </th>      <td> </td>     \n",
       "</tr>\n",
       "</table>\n",
       "<table class=\"simpletable\">\n",
       "<tr>\n",
       "         <td></td>           <th>coef</th>     <th>std err</th>      <th>t</th>      <th>P>|t|</th>  <th>[0.025</th>    <th>0.975]</th>  \n",
       "</tr>\n",
       "<tr>\n",
       "  <th>const</th>          <td> 5.776e+05</td> <td> 3.09e+04</td> <td>   18.704</td> <td> 0.000</td> <td> 5.17e+05</td> <td> 6.38e+05</td>\n",
       "</tr>\n",
       "<tr>\n",
       "  <th>bedrooms</th>       <td>-4.887e+04</td> <td> 2115.760</td> <td>  -23.100</td> <td> 0.000</td> <td> -5.3e+04</td> <td>-4.47e+04</td>\n",
       "</tr>\n",
       "<tr>\n",
       "  <th>bathrooms</th>      <td> 8846.8657</td> <td> 2581.626</td> <td>    3.427</td> <td> 0.001</td> <td> 3786.688</td> <td> 1.39e+04</td>\n",
       "</tr>\n",
       "<tr>\n",
       "  <th>sqft_living</th>    <td> 2.617e+05</td> <td> 2846.874</td> <td>   91.922</td> <td> 0.000</td> <td> 2.56e+05</td> <td> 2.67e+05</td>\n",
       "</tr>\n",
       "<tr>\n",
       "  <th>sqft_lot</th>       <td>-1.593e+04</td> <td> 1704.861</td> <td>   -9.347</td> <td> 0.000</td> <td>-1.93e+04</td> <td>-1.26e+04</td>\n",
       "</tr>\n",
       "<tr>\n",
       "  <th>No_view</th>        <td>-5.864e+04</td> <td> 3.09e+04</td> <td>   -1.896</td> <td> 0.058</td> <td>-1.19e+05</td> <td> 1992.982</td>\n",
       "</tr>\n",
       "<tr>\n",
       "  <th>Fair_view</th>      <td> 1.011e+05</td> <td> 3.37e+04</td> <td>    2.998</td> <td> 0.003</td> <td>  3.5e+04</td> <td> 1.67e+05</td>\n",
       "</tr>\n",
       "<tr>\n",
       "  <th>Average_view</th>   <td> 6.098e+04</td> <td> 3.19e+04</td> <td>    1.912</td> <td> 0.056</td> <td>-1525.293</td> <td> 1.23e+05</td>\n",
       "</tr>\n",
       "<tr>\n",
       "  <th>Good_view</th>      <td> 1.462e+05</td> <td> 3.28e+04</td> <td>    4.459</td> <td> 0.000</td> <td> 8.19e+04</td> <td>  2.1e+05</td>\n",
       "</tr>\n",
       "<tr>\n",
       "  <th>Excellent_view</th> <td> 5.259e+05</td> <td> 3.39e+04</td> <td>   15.517</td> <td> 0.000</td> <td> 4.59e+05</td> <td> 5.92e+05</td>\n",
       "</tr>\n",
       "</table>\n",
       "<table class=\"simpletable\">\n",
       "<tr>\n",
       "  <th>Omnibus:</th>       <td>13564.946</td> <th>  Durbin-Watson:     </th>  <td>   1.982</td> \n",
       "</tr>\n",
       "<tr>\n",
       "  <th>Prob(Omnibus):</th>  <td> 0.000</td>   <th>  Jarque-Bera (JB):  </th> <td>496364.594</td>\n",
       "</tr>\n",
       "<tr>\n",
       "  <th>Skew:</th>           <td> 2.469</td>   <th>  Prob(JB):          </th>  <td>    0.00</td> \n",
       "</tr>\n",
       "<tr>\n",
       "  <th>Kurtosis:</th>       <td>25.961</td>   <th>  Cond. No.          </th>  <td>    69.3</td> \n",
       "</tr>\n",
       "</table><br/><br/>Notes:<br/>[1] Standard Errors assume that the covariance matrix of the errors is correctly specified."
      ],
      "text/plain": [
       "<class 'statsmodels.iolib.summary.Summary'>\n",
       "\"\"\"\n",
       "                            OLS Regression Results                            \n",
       "==============================================================================\n",
       "Dep. Variable:                  price   R-squared:                       0.555\n",
       "Model:                            OLS   Adj. R-squared:                  0.555\n",
       "Method:                 Least Squares   F-statistic:                     2992.\n",
       "Date:                Thu, 27 Oct 2022   Prob (F-statistic):               0.00\n",
       "Time:                        17:18:18   Log-Likelihood:            -2.9865e+05\n",
       "No. Observations:               21597   AIC:                         5.973e+05\n",
       "Df Residuals:                   21587   BIC:                         5.974e+05\n",
       "Df Model:                           9                                         \n",
       "Covariance Type:            nonrobust                                         \n",
       "==================================================================================\n",
       "                     coef    std err          t      P>|t|      [0.025      0.975]\n",
       "----------------------------------------------------------------------------------\n",
       "const           5.776e+05   3.09e+04     18.704      0.000    5.17e+05    6.38e+05\n",
       "bedrooms       -4.887e+04   2115.760    -23.100      0.000    -5.3e+04   -4.47e+04\n",
       "bathrooms       8846.8657   2581.626      3.427      0.001    3786.688    1.39e+04\n",
       "sqft_living     2.617e+05   2846.874     91.922      0.000    2.56e+05    2.67e+05\n",
       "sqft_lot       -1.593e+04   1704.861     -9.347      0.000   -1.93e+04   -1.26e+04\n",
       "No_view        -5.864e+04   3.09e+04     -1.896      0.058   -1.19e+05    1992.982\n",
       "Fair_view       1.011e+05   3.37e+04      2.998      0.003     3.5e+04    1.67e+05\n",
       "Average_view    6.098e+04   3.19e+04      1.912      0.056   -1525.293    1.23e+05\n",
       "Good_view       1.462e+05   3.28e+04      4.459      0.000    8.19e+04     2.1e+05\n",
       "Excellent_view  5.259e+05   3.39e+04     15.517      0.000    4.59e+05    5.92e+05\n",
       "==============================================================================\n",
       "Omnibus:                    13564.946   Durbin-Watson:                   1.982\n",
       "Prob(Omnibus):                  0.000   Jarque-Bera (JB):           496364.594\n",
       "Skew:                           2.469   Prob(JB):                         0.00\n",
       "Kurtosis:                      25.961   Cond. No.                         69.3\n",
       "==============================================================================\n",
       "\n",
       "Notes:\n",
       "[1] Standard Errors assume that the covariance matrix of the errors is correctly specified.\n",
       "\"\"\""
      ]
     },
     "execution_count": 65,
     "metadata": {},
     "output_type": "execute_result"
    }
   ],
   "source": [
    "sm.OLS(y, x_c).fit().summary()"
   ]
  },
  {
   "cell_type": "markdown",
   "metadata": {},
   "source": [
    "We have some high p-values in the view column; let's try dropping the column for no view and see if it improves the model."
   ]
  },
  {
   "cell_type": "code",
   "execution_count": 66,
   "metadata": {},
   "outputs": [],
   "source": [
    "x_c2 = x_c.drop(\"No_view\", axis=1)"
   ]
  },
  {
   "cell_type": "code",
   "execution_count": 67,
   "metadata": {
    "scrolled": true
   },
   "outputs": [
    {
     "data": {
      "text/html": [
       "<table class=\"simpletable\">\n",
       "<caption>OLS Regression Results</caption>\n",
       "<tr>\n",
       "  <th>Dep. Variable:</th>          <td>price</td>      <th>  R-squared:         </th>  <td>   0.555</td>  \n",
       "</tr>\n",
       "<tr>\n",
       "  <th>Model:</th>                   <td>OLS</td>       <th>  Adj. R-squared:    </th>  <td>   0.555</td>  \n",
       "</tr>\n",
       "<tr>\n",
       "  <th>Method:</th>             <td>Least Squares</td>  <th>  F-statistic:       </th>  <td>   3365.</td>  \n",
       "</tr>\n",
       "<tr>\n",
       "  <th>Date:</th>             <td>Thu, 27 Oct 2022</td> <th>  Prob (F-statistic):</th>   <td>  0.00</td>   \n",
       "</tr>\n",
       "<tr>\n",
       "  <th>Time:</th>                 <td>17:18:18</td>     <th>  Log-Likelihood:    </th> <td>-2.9865e+05</td>\n",
       "</tr>\n",
       "<tr>\n",
       "  <th>No. Observations:</th>      <td> 21597</td>      <th>  AIC:               </th>  <td>5.973e+05</td> \n",
       "</tr>\n",
       "<tr>\n",
       "  <th>Df Residuals:</th>          <td> 21588</td>      <th>  BIC:               </th>  <td>5.974e+05</td> \n",
       "</tr>\n",
       "<tr>\n",
       "  <th>Df Model:</th>              <td>     8</td>      <th>                     </th>      <td> </td>     \n",
       "</tr>\n",
       "<tr>\n",
       "  <th>Covariance Type:</th>      <td>nonrobust</td>    <th>                     </th>      <td> </td>     \n",
       "</tr>\n",
       "</table>\n",
       "<table class=\"simpletable\">\n",
       "<tr>\n",
       "         <td></td>           <th>coef</th>     <th>std err</th>      <th>t</th>      <th>P>|t|</th>  <th>[0.025</th>    <th>0.975]</th>  \n",
       "</tr>\n",
       "<tr>\n",
       "  <th>const</th>          <td> 5.192e+05</td> <td> 1763.802</td> <td>  294.354</td> <td> 0.000</td> <td> 5.16e+05</td> <td> 5.23e+05</td>\n",
       "</tr>\n",
       "<tr>\n",
       "  <th>bedrooms</th>       <td>-4.889e+04</td> <td> 2115.870</td> <td>  -23.107</td> <td> 0.000</td> <td> -5.3e+04</td> <td>-4.47e+04</td>\n",
       "</tr>\n",
       "<tr>\n",
       "  <th>bathrooms</th>      <td> 8810.5492</td> <td> 2581.710</td> <td>    3.413</td> <td> 0.001</td> <td> 3750.207</td> <td> 1.39e+04</td>\n",
       "</tr>\n",
       "<tr>\n",
       "  <th>sqft_living</th>    <td> 2.618e+05</td> <td> 2846.672</td> <td>   91.959</td> <td> 0.000</td> <td> 2.56e+05</td> <td> 2.67e+05</td>\n",
       "</tr>\n",
       "<tr>\n",
       "  <th>sqft_lot</th>       <td>-1.593e+04</td> <td> 1704.960</td> <td>   -9.342</td> <td> 0.000</td> <td>-1.93e+04</td> <td>-1.26e+04</td>\n",
       "</tr>\n",
       "<tr>\n",
       "  <th>Fair_view</th>      <td> 1.595e+05</td> <td> 1.37e+04</td> <td>   11.673</td> <td> 0.000</td> <td> 1.33e+05</td> <td> 1.86e+05</td>\n",
       "</tr>\n",
       "<tr>\n",
       "  <th>Average_view</th>   <td> 1.194e+05</td> <td> 8221.302</td> <td>   14.523</td> <td> 0.000</td> <td> 1.03e+05</td> <td> 1.36e+05</td>\n",
       "</tr>\n",
       "<tr>\n",
       "  <th>Good_view</th>      <td> 2.046e+05</td> <td> 1.12e+04</td> <td>   18.239</td> <td> 0.000</td> <td> 1.83e+05</td> <td> 2.27e+05</td>\n",
       "</tr>\n",
       "<tr>\n",
       "  <th>Excellent_view</th> <td> 5.843e+05</td> <td> 1.42e+04</td> <td>   41.241</td> <td> 0.000</td> <td> 5.56e+05</td> <td> 6.12e+05</td>\n",
       "</tr>\n",
       "</table>\n",
       "<table class=\"simpletable\">\n",
       "<tr>\n",
       "  <th>Omnibus:</th>       <td>13588.727</td> <th>  Durbin-Watson:     </th>  <td>   1.981</td> \n",
       "</tr>\n",
       "<tr>\n",
       "  <th>Prob(Omnibus):</th>  <td> 0.000</td>   <th>  Jarque-Bera (JB):  </th> <td>500182.192</td>\n",
       "</tr>\n",
       "<tr>\n",
       "  <th>Skew:</th>           <td> 2.474</td>   <th>  Prob(JB):          </th>  <td>    0.00</td> \n",
       "</tr>\n",
       "<tr>\n",
       "  <th>Kurtosis:</th>       <td>26.051</td>   <th>  Cond. No.          </th>  <td>    13.0</td> \n",
       "</tr>\n",
       "</table><br/><br/>Notes:<br/>[1] Standard Errors assume that the covariance matrix of the errors is correctly specified."
      ],
      "text/plain": [
       "<class 'statsmodels.iolib.summary.Summary'>\n",
       "\"\"\"\n",
       "                            OLS Regression Results                            \n",
       "==============================================================================\n",
       "Dep. Variable:                  price   R-squared:                       0.555\n",
       "Model:                            OLS   Adj. R-squared:                  0.555\n",
       "Method:                 Least Squares   F-statistic:                     3365.\n",
       "Date:                Thu, 27 Oct 2022   Prob (F-statistic):               0.00\n",
       "Time:                        17:18:18   Log-Likelihood:            -2.9865e+05\n",
       "No. Observations:               21597   AIC:                         5.973e+05\n",
       "Df Residuals:                   21588   BIC:                         5.974e+05\n",
       "Df Model:                           8                                         \n",
       "Covariance Type:            nonrobust                                         \n",
       "==================================================================================\n",
       "                     coef    std err          t      P>|t|      [0.025      0.975]\n",
       "----------------------------------------------------------------------------------\n",
       "const           5.192e+05   1763.802    294.354      0.000    5.16e+05    5.23e+05\n",
       "bedrooms       -4.889e+04   2115.870    -23.107      0.000    -5.3e+04   -4.47e+04\n",
       "bathrooms       8810.5492   2581.710      3.413      0.001    3750.207    1.39e+04\n",
       "sqft_living     2.618e+05   2846.672     91.959      0.000    2.56e+05    2.67e+05\n",
       "sqft_lot       -1.593e+04   1704.960     -9.342      0.000   -1.93e+04   -1.26e+04\n",
       "Fair_view       1.595e+05   1.37e+04     11.673      0.000    1.33e+05    1.86e+05\n",
       "Average_view    1.194e+05   8221.302     14.523      0.000    1.03e+05    1.36e+05\n",
       "Good_view       2.046e+05   1.12e+04     18.239      0.000    1.83e+05    2.27e+05\n",
       "Excellent_view  5.843e+05   1.42e+04     41.241      0.000    5.56e+05    6.12e+05\n",
       "==============================================================================\n",
       "Omnibus:                    13588.727   Durbin-Watson:                   1.981\n",
       "Prob(Omnibus):                  0.000   Jarque-Bera (JB):           500182.192\n",
       "Skew:                           2.474   Prob(JB):                         0.00\n",
       "Kurtosis:                      26.051   Cond. No.                         13.0\n",
       "==============================================================================\n",
       "\n",
       "Notes:\n",
       "[1] Standard Errors assume that the covariance matrix of the errors is correctly specified.\n",
       "\"\"\""
      ]
     },
     "execution_count": 67,
     "metadata": {},
     "output_type": "execute_result"
    }
   ],
   "source": [
    "sm.OLS(y, x_c2).fit().summary()"
   ]
  },
  {
   "cell_type": "markdown",
   "metadata": {},
   "source": [
    "We see no change to adj. r-squared, and the high p-values are gone; let's go ahead and continue leaving out this column."
   ]
  },
  {
   "cell_type": "code",
   "execution_count": 68,
   "metadata": {},
   "outputs": [
    {
     "data": {
      "text/html": [
       "<table class=\"simpletable\">\n",
       "<caption>OLS Regression Results</caption>\n",
       "<tr>\n",
       "  <th>Dep. Variable:</th>          <td>price</td>      <th>  R-squared:         </th> <td>   0.517</td> \n",
       "</tr>\n",
       "<tr>\n",
       "  <th>Model:</th>                   <td>OLS</td>       <th>  Adj. R-squared:    </th> <td>   0.516</td> \n",
       "</tr>\n",
       "<tr>\n",
       "  <th>Method:</th>             <td>Least Squares</td>  <th>  F-statistic:       </th> <td>   2883.</td> \n",
       "</tr>\n",
       "<tr>\n",
       "  <th>Date:</th>             <td>Thu, 27 Oct 2022</td> <th>  Prob (F-statistic):</th>  <td>  0.00</td>  \n",
       "</tr>\n",
       "<tr>\n",
       "  <th>Time:</th>                 <td>17:18:18</td>     <th>  Log-Likelihood:    </th> <td> -8943.2</td> \n",
       "</tr>\n",
       "<tr>\n",
       "  <th>No. Observations:</th>      <td> 21597</td>      <th>  AIC:               </th> <td>1.790e+04</td>\n",
       "</tr>\n",
       "<tr>\n",
       "  <th>Df Residuals:</th>          <td> 21588</td>      <th>  BIC:               </th> <td>1.798e+04</td>\n",
       "</tr>\n",
       "<tr>\n",
       "  <th>Df Model:</th>              <td>     8</td>      <th>                     </th>     <td> </td>    \n",
       "</tr>\n",
       "<tr>\n",
       "  <th>Covariance Type:</th>      <td>nonrobust</td>    <th>                     </th>     <td> </td>    \n",
       "</tr>\n",
       "</table>\n",
       "<table class=\"simpletable\">\n",
       "<tr>\n",
       "         <td></td>           <th>coef</th>     <th>std err</th>      <th>t</th>      <th>P>|t|</th>  <th>[0.025</th>    <th>0.975]</th>  \n",
       "</tr>\n",
       "<tr>\n",
       "  <th>const</th>          <td>   13.0221</td> <td>    0.003</td> <td> 4942.220</td> <td> 0.000</td> <td>   13.017</td> <td>   13.027</td>\n",
       "</tr>\n",
       "<tr>\n",
       "  <th>bedrooms</th>       <td>   -0.0454</td> <td>    0.003</td> <td>  -14.363</td> <td> 0.000</td> <td>   -0.052</td> <td>   -0.039</td>\n",
       "</tr>\n",
       "<tr>\n",
       "  <th>bathrooms</th>      <td>    0.0446</td> <td>    0.004</td> <td>   11.571</td> <td> 0.000</td> <td>    0.037</td> <td>    0.052</td>\n",
       "</tr>\n",
       "<tr>\n",
       "  <th>sqft_living</th>    <td>    0.3378</td> <td>    0.004</td> <td>   79.434</td> <td> 0.000</td> <td>    0.329</td> <td>    0.346</td>\n",
       "</tr>\n",
       "<tr>\n",
       "  <th>sqft_lot</th>       <td>   -0.0137</td> <td>    0.003</td> <td>   -5.368</td> <td> 0.000</td> <td>   -0.019</td> <td>   -0.009</td>\n",
       "</tr>\n",
       "<tr>\n",
       "  <th>Fair_view</th>      <td>    0.2522</td> <td>    0.020</td> <td>   12.360</td> <td> 0.000</td> <td>    0.212</td> <td>    0.292</td>\n",
       "</tr>\n",
       "<tr>\n",
       "  <th>Average_view</th>   <td>    0.1983</td> <td>    0.012</td> <td>   16.144</td> <td> 0.000</td> <td>    0.174</td> <td>    0.222</td>\n",
       "</tr>\n",
       "<tr>\n",
       "  <th>Good_view</th>      <td>    0.2569</td> <td>    0.017</td> <td>   15.335</td> <td> 0.000</td> <td>    0.224</td> <td>    0.290</td>\n",
       "</tr>\n",
       "<tr>\n",
       "  <th>Excellent_view</th> <td>    0.5073</td> <td>    0.021</td> <td>   23.972</td> <td> 0.000</td> <td>    0.466</td> <td>    0.549</td>\n",
       "</tr>\n",
       "</table>\n",
       "<table class=\"simpletable\">\n",
       "<tr>\n",
       "  <th>Omnibus:</th>       <td>12.514</td> <th>  Durbin-Watson:     </th> <td>   1.972</td>\n",
       "</tr>\n",
       "<tr>\n",
       "  <th>Prob(Omnibus):</th> <td> 0.002</td> <th>  Jarque-Bera (JB):  </th> <td>  13.127</td>\n",
       "</tr>\n",
       "<tr>\n",
       "  <th>Skew:</th>          <td>-0.036</td> <th>  Prob(JB):          </th> <td> 0.00141</td>\n",
       "</tr>\n",
       "<tr>\n",
       "  <th>Kurtosis:</th>      <td> 3.097</td> <th>  Cond. No.          </th> <td>    13.0</td>\n",
       "</tr>\n",
       "</table><br/><br/>Notes:<br/>[1] Standard Errors assume that the covariance matrix of the errors is correctly specified."
      ],
      "text/plain": [
       "<class 'statsmodels.iolib.summary.Summary'>\n",
       "\"\"\"\n",
       "                            OLS Regression Results                            \n",
       "==============================================================================\n",
       "Dep. Variable:                  price   R-squared:                       0.517\n",
       "Model:                            OLS   Adj. R-squared:                  0.516\n",
       "Method:                 Least Squares   F-statistic:                     2883.\n",
       "Date:                Thu, 27 Oct 2022   Prob (F-statistic):               0.00\n",
       "Time:                        17:18:18   Log-Likelihood:                -8943.2\n",
       "No. Observations:               21597   AIC:                         1.790e+04\n",
       "Df Residuals:                   21588   BIC:                         1.798e+04\n",
       "Df Model:                           8                                         \n",
       "Covariance Type:            nonrobust                                         \n",
       "==================================================================================\n",
       "                     coef    std err          t      P>|t|      [0.025      0.975]\n",
       "----------------------------------------------------------------------------------\n",
       "const             13.0221      0.003   4942.220      0.000      13.017      13.027\n",
       "bedrooms          -0.0454      0.003    -14.363      0.000      -0.052      -0.039\n",
       "bathrooms          0.0446      0.004     11.571      0.000       0.037       0.052\n",
       "sqft_living        0.3378      0.004     79.434      0.000       0.329       0.346\n",
       "sqft_lot          -0.0137      0.003     -5.368      0.000      -0.019      -0.009\n",
       "Fair_view          0.2522      0.020     12.360      0.000       0.212       0.292\n",
       "Average_view       0.1983      0.012     16.144      0.000       0.174       0.222\n",
       "Good_view          0.2569      0.017     15.335      0.000       0.224       0.290\n",
       "Excellent_view     0.5073      0.021     23.972      0.000       0.466       0.549\n",
       "==============================================================================\n",
       "Omnibus:                       12.514   Durbin-Watson:                   1.972\n",
       "Prob(Omnibus):                  0.002   Jarque-Bera (JB):               13.127\n",
       "Skew:                          -0.036   Prob(JB):                      0.00141\n",
       "Kurtosis:                       3.097   Cond. No.                         13.0\n",
       "==============================================================================\n",
       "\n",
       "Notes:\n",
       "[1] Standard Errors assume that the covariance matrix of the errors is correctly specified.\n",
       "\"\"\""
      ]
     },
     "execution_count": 68,
     "metadata": {},
     "output_type": "execute_result"
    }
   ],
   "source": [
    "sm.OLS(y_log, x_c2).fit().summary()"
   ]
  },
  {
   "cell_type": "markdown",
   "metadata": {},
   "source": [
    "## Checking Assumptions"
   ]
  },
  {
   "cell_type": "code",
   "execution_count": 69,
   "metadata": {},
   "outputs": [],
   "source": [
    "model = sm.OLS(y_log, x_c2).fit()"
   ]
  },
  {
   "cell_type": "code",
   "execution_count": 70,
   "metadata": {
    "scrolled": true
   },
   "outputs": [
    {
     "data": {
      "text/html": [
       "<table class=\"simpletable\">\n",
       "<tr>\n",
       "  <th>Omnibus:</th>       <td>12.514</td> <th>  Durbin-Watson:     </th> <td>   1.972</td>\n",
       "</tr>\n",
       "<tr>\n",
       "  <th>Prob(Omnibus):</th> <td> 0.002</td> <th>  Jarque-Bera (JB):  </th> <td>  13.127</td>\n",
       "</tr>\n",
       "<tr>\n",
       "  <th>Skew:</th>          <td>-0.036</td> <th>  Prob(JB):          </th> <td> 0.00141</td>\n",
       "</tr>\n",
       "<tr>\n",
       "  <th>Kurtosis:</th>      <td> 3.097</td> <th>  Cond. No.          </th> <td>    13.0</td>\n",
       "</tr>\n",
       "</table>"
      ],
      "text/plain": [
       "<class 'statsmodels.iolib.table.SimpleTable'>"
      ]
     },
     "execution_count": 70,
     "metadata": {},
     "output_type": "execute_result"
    }
   ],
   "source": [
    "model.summary().tables[2]"
   ]
  },
  {
   "cell_type": "code",
   "execution_count": 71,
   "metadata": {},
   "outputs": [],
   "source": [
    "model_preds = model.predict(x_c2)\n",
    "resids = y_log - model_preds"
   ]
  },
  {
   "cell_type": "code",
   "execution_count": 72,
   "metadata": {},
   "outputs": [
    {
     "data": {
      "image/png": "[encoded data removed]",
      "text/plain": [
       "<Figure size 576x396 with 1 Axes>"
      ]
     },
     "metadata": {},
     "output_type": "display_data"
    }
   ],
   "source": [
    "fig, ax = plt.subplots()\n",
    "\n",
    "ax.scatter(y, resids);"
   ]
  },
  {
   "cell_type": "code",
   "execution_count": 73,
   "metadata": {},
   "outputs": [
    {
     "data": {
      "image/png": "[encoded data removed]",
      "text/plain": [
       "<Figure size 576x396 with 1 Axes>"
      ]
     },
     "metadata": {},
     "output_type": "display_data"
    }
   ],
   "source": [
    "model2 = sm.OLS(endog=y_log, exog=x_c2).fit()\n",
    "model2_preds = model2.predict(x_c2)\n",
    "model2_resid = y_log - model2_preds\n",
    "\n",
    "fig, ax = plt.subplots()\n",
    "ax.scatter(y_log, model2_resid);"
   ]
  },
  {
   "cell_type": "code",
   "execution_count": 74,
   "metadata": {},
   "outputs": [
    {
     "data": {
      "image/png": "[encoded data removed]",
      "text/plain": [
       "<Figure size 576x396 with 1 Axes>"
      ]
     },
     "metadata": {},
     "output_type": "display_data"
    }
   ],
   "source": [
    "sm.qqplot(model2_resid, line='r');"
   ]
  },
  {
   "cell_type": "markdown",
   "metadata": {},
   "source": [
    "## Combine"
   ]
  },
  {
   "cell_type": "code",
   "execution_count": null,
   "metadata": {},
   "outputs": [],
   "source": []
  },
  {
   "cell_type": "code",
   "execution_count": 75,
   "metadata": {},
   "outputs": [],
   "source": [
    "df2 = df.drop(labels=[\"id\",\"date\",\"price\",\"bedrooms\",\"bathrooms\",\"sqft_living\",\"sqft_lot\",\"view\"],axis=1)"
   ]
  },
  {
   "cell_type": "code",
   "execution_count": 76,
   "metadata": {},
   "outputs": [],
   "source": [
    "dummy_df = pd.get_dummies(df2)"
   ]
  },
  {
   "cell_type": "code",
   "execution_count": 77,
   "metadata": {},
   "outputs": [],
   "source": [
    "dummy_df.drop(labels=[\"waterfront_NO\",\"condition_Average\",\"grade_7 Average\"],axis=1,inplace=True)"
   ]
  },
  {
   "cell_type": "code",
   "execution_count": 78,
   "metadata": {},
   "outputs": [],
   "source": [
    "x_c_comb = dummy_df.join(x_c2)"
   ]
  },
  {
   "cell_type": "code",
   "execution_count": 79,
   "metadata": {
    "scrolled": true
   },
   "outputs": [
    {
     "data": {
      "text/html": [
       "<table class=\"simpletable\">\n",
       "<caption>OLS Regression Results</caption>\n",
       "<tr>\n",
       "  <th>Dep. Variable:</th>          <td>price</td>      <th>  R-squared:         </th> <td>   0.652</td> \n",
       "</tr>\n",
       "<tr>\n",
       "  <th>Model:</th>                   <td>OLS</td>       <th>  Adj. R-squared:    </th> <td>   0.651</td> \n",
       "</tr>\n",
       "<tr>\n",
       "  <th>Method:</th>             <td>Least Squares</td>  <th>  F-statistic:       </th> <td>   1614.</td> \n",
       "</tr>\n",
       "<tr>\n",
       "  <th>Date:</th>             <td>Thu, 27 Oct 2022</td> <th>  Prob (F-statistic):</th>  <td>  0.00</td>  \n",
       "</tr>\n",
       "<tr>\n",
       "  <th>Time:</th>                 <td>17:18:19</td>     <th>  Log-Likelihood:    </th> <td> -5403.8</td> \n",
       "</tr>\n",
       "<tr>\n",
       "  <th>No. Observations:</th>      <td> 21597</td>      <th>  AIC:               </th> <td>1.086e+04</td>\n",
       "</tr>\n",
       "<tr>\n",
       "  <th>Df Residuals:</th>          <td> 21571</td>      <th>  BIC:               </th> <td>1.107e+04</td>\n",
       "</tr>\n",
       "<tr>\n",
       "  <th>Df Model:</th>              <td>    25</td>      <th>                     </th>     <td> </td>    \n",
       "</tr>\n",
       "<tr>\n",
       "  <th>Covariance Type:</th>      <td>nonrobust</td>    <th>                     </th>     <td> </td>    \n",
       "</tr>\n",
       "</table>\n",
       "<table class=\"simpletable\">\n",
       "<tr>\n",
       "           <td></td>              <th>coef</th>     <th>std err</th>      <th>t</th>      <th>P>|t|</th>  <th>[0.025</th>    <th>0.975]</th>  \n",
       "</tr>\n",
       "<tr>\n",
       "  <th>floors</th>              <td>    0.0773</td> <td>    0.005</td> <td>   15.447</td> <td> 0.000</td> <td>    0.067</td> <td>    0.087</td>\n",
       "</tr>\n",
       "<tr>\n",
       "  <th>yr_built</th>            <td>   -0.0058</td> <td> 9.78e-05</td> <td>  -59.208</td> <td> 0.000</td> <td>   -0.006</td> <td>   -0.006</td>\n",
       "</tr>\n",
       "<tr>\n",
       "  <th>waterfront_YES</th>      <td>    0.3144</td> <td>    0.032</td> <td>    9.976</td> <td> 0.000</td> <td>    0.253</td> <td>    0.376</td>\n",
       "</tr>\n",
       "<tr>\n",
       "  <th>condition_Fair</th>      <td>   -0.1680</td> <td>    0.024</td> <td>   -6.919</td> <td> 0.000</td> <td>   -0.216</td> <td>   -0.120</td>\n",
       "</tr>\n",
       "<tr>\n",
       "  <th>condition_Good</th>      <td>    0.0188</td> <td>    0.005</td> <td>    3.578</td> <td> 0.000</td> <td>    0.009</td> <td>    0.029</td>\n",
       "</tr>\n",
       "<tr>\n",
       "  <th>condition_Poor</th>      <td>   -0.1484</td> <td>    0.058</td> <td>   -2.547</td> <td> 0.011</td> <td>   -0.263</td> <td>   -0.034</td>\n",
       "</tr>\n",
       "<tr>\n",
       "  <th>condition_Very Good</th> <td>    0.0853</td> <td>    0.008</td> <td>   10.057</td> <td> 0.000</td> <td>    0.069</td> <td>    0.102</td>\n",
       "</tr>\n",
       "<tr>\n",
       "  <th>grade_10 Very Good</th>  <td>    0.6275</td> <td>    0.012</td> <td>   50.310</td> <td> 0.000</td> <td>    0.603</td> <td>    0.652</td>\n",
       "</tr>\n",
       "<tr>\n",
       "  <th>grade_11 Excellent</th>  <td>    0.7452</td> <td>    0.019</td> <td>   38.377</td> <td> 0.000</td> <td>    0.707</td> <td>    0.783</td>\n",
       "</tr>\n",
       "<tr>\n",
       "  <th>grade_12 Luxury</th>     <td>    0.8355</td> <td>    0.037</td> <td>   22.783</td> <td> 0.000</td> <td>    0.764</td> <td>    0.907</td>\n",
       "</tr>\n",
       "<tr>\n",
       "  <th>grade_13 Mansion</th>    <td>    0.8479</td> <td>    0.090</td> <td>    9.470</td> <td> 0.000</td> <td>    0.672</td> <td>    1.023</td>\n",
       "</tr>\n",
       "<tr>\n",
       "  <th>grade_3 Poor</th>        <td>   -0.4284</td> <td>    0.311</td> <td>   -1.377</td> <td> 0.169</td> <td>   -1.038</td> <td>    0.181</td>\n",
       "</tr>\n",
       "<tr>\n",
       "  <th>grade_4 Low</th>         <td>   -0.5837</td> <td>    0.060</td> <td>   -9.681</td> <td> 0.000</td> <td>   -0.702</td> <td>   -0.465</td>\n",
       "</tr>\n",
       "<tr>\n",
       "  <th>grade_5 Fair</th>        <td>   -0.4975</td> <td>    0.021</td> <td>  -23.986</td> <td> 0.000</td> <td>   -0.538</td> <td>   -0.457</td>\n",
       "</tr>\n",
       "<tr>\n",
       "  <th>grade_6 Low Average</th> <td>   -0.2793</td> <td>    0.008</td> <td>  -34.420</td> <td> 0.000</td> <td>   -0.295</td> <td>   -0.263</td>\n",
       "</tr>\n",
       "<tr>\n",
       "  <th>grade_8 Good</th>        <td>    0.2359</td> <td>    0.006</td> <td>   40.382</td> <td> 0.000</td> <td>    0.224</td> <td>    0.247</td>\n",
       "</tr>\n",
       "<tr>\n",
       "  <th>grade_9 Better</th>      <td>    0.4687</td> <td>    0.009</td> <td>   53.857</td> <td> 0.000</td> <td>    0.452</td> <td>    0.486</td>\n",
       "</tr>\n",
       "<tr>\n",
       "  <th>const</th>               <td>   24.1774</td> <td>    0.192</td> <td>  126.034</td> <td> 0.000</td> <td>   23.801</td> <td>   24.553</td>\n",
       "</tr>\n",
       "<tr>\n",
       "  <th>bedrooms</th>            <td>   -0.0304</td> <td>    0.003</td> <td>  -10.781</td> <td> 0.000</td> <td>   -0.036</td> <td>   -0.025</td>\n",
       "</tr>\n",
       "<tr>\n",
       "  <th>bathrooms</th>           <td>    0.0620</td> <td>    0.004</td> <td>   16.187</td> <td> 0.000</td> <td>    0.054</td> <td>    0.069</td>\n",
       "</tr>\n",
       "<tr>\n",
       "  <th>sqft_living</th>         <td>    0.1699</td> <td>    0.005</td> <td>   37.376</td> <td> 0.000</td> <td>    0.161</td> <td>    0.179</td>\n",
       "</tr>\n",
       "<tr>\n",
       "  <th>sqft_lot</th>            <td>   -0.0015</td> <td>    0.002</td> <td>   -0.670</td> <td> 0.503</td> <td>   -0.006</td> <td>    0.003</td>\n",
       "</tr>\n",
       "<tr>\n",
       "  <th>Fair_view</th>           <td>    0.1802</td> <td>    0.017</td> <td>   10.353</td> <td> 0.000</td> <td>    0.146</td> <td>    0.214</td>\n",
       "</tr>\n",
       "<tr>\n",
       "  <th>Average_view</th>        <td>    0.0968</td> <td>    0.011</td> <td>    9.190</td> <td> 0.000</td> <td>    0.076</td> <td>    0.117</td>\n",
       "</tr>\n",
       "<tr>\n",
       "  <th>Good_view</th>           <td>    0.1319</td> <td>    0.014</td> <td>    9.188</td> <td> 0.000</td> <td>    0.104</td> <td>    0.160</td>\n",
       "</tr>\n",
       "<tr>\n",
       "  <th>Excellent_view</th>      <td>    0.2623</td> <td>    0.022</td> <td>   12.009</td> <td> 0.000</td> <td>    0.219</td> <td>    0.305</td>\n",
       "</tr>\n",
       "</table>\n",
       "<table class=\"simpletable\">\n",
       "<tr>\n",
       "  <th>Omnibus:</th>       <td>104.042</td> <th>  Durbin-Watson:     </th> <td>   1.959</td>\n",
       "</tr>\n",
       "<tr>\n",
       "  <th>Prob(Omnibus):</th> <td> 0.000</td>  <th>  Jarque-Bera (JB):  </th> <td> 125.898</td>\n",
       "</tr>\n",
       "<tr>\n",
       "  <th>Skew:</th>          <td>-0.101</td>  <th>  Prob(JB):          </th> <td>4.59e-28</td>\n",
       "</tr>\n",
       "<tr>\n",
       "  <th>Kurtosis:</th>      <td> 3.315</td>  <th>  Cond. No.          </th> <td>2.90e+05</td>\n",
       "</tr>\n",
       "</table><br/><br/>Notes:<br/>[1] Standard Errors assume that the covariance matrix of the errors is correctly specified.<br/>[2] The condition number is large, 2.9e+05. This might indicate that there are<br/>strong multicollinearity or other numerical problems."
      ],
      "text/plain": [
       "<class 'statsmodels.iolib.summary.Summary'>\n",
       "\"\"\"\n",
       "                            OLS Regression Results                            \n",
       "==============================================================================\n",
       "Dep. Variable:                  price   R-squared:                       0.652\n",
       "Model:                            OLS   Adj. R-squared:                  0.651\n",
       "Method:                 Least Squares   F-statistic:                     1614.\n",
       "Date:                Thu, 27 Oct 2022   Prob (F-statistic):               0.00\n",
       "Time:                        17:18:19   Log-Likelihood:                -5403.8\n",
       "No. Observations:               21597   AIC:                         1.086e+04\n",
       "Df Residuals:                   21571   BIC:                         1.107e+04\n",
       "Df Model:                          25                                         \n",
       "Covariance Type:            nonrobust                                         \n",
       "=======================================================================================\n",
       "                          coef    std err          t      P>|t|      [0.025      0.975]\n",
       "---------------------------------------------------------------------------------------\n",
       "floors                  0.0773      0.005     15.447      0.000       0.067       0.087\n",
       "yr_built               -0.0058   9.78e-05    -59.208      0.000      -0.006      -0.006\n",
       "waterfront_YES          0.3144      0.032      9.976      0.000       0.253       0.376\n",
       "condition_Fair         -0.1680      0.024     -6.919      0.000      -0.216      -0.120\n",
       "condition_Good          0.0188      0.005      3.578      0.000       0.009       0.029\n",
       "condition_Poor         -0.1484      0.058     -2.547      0.011      -0.263      -0.034\n",
       "condition_Very Good     0.0853      0.008     10.057      0.000       0.069       0.102\n",
       "grade_10 Very Good      0.6275      0.012     50.310      0.000       0.603       0.652\n",
       "grade_11 Excellent      0.7452      0.019     38.377      0.000       0.707       0.783\n",
       "grade_12 Luxury         0.8355      0.037     22.783      0.000       0.764       0.907\n",
       "grade_13 Mansion        0.8479      0.090      9.470      0.000       0.672       1.023\n",
       "grade_3 Poor           -0.4284      0.311     -1.377      0.169      -1.038       0.181\n",
       "grade_4 Low            -0.5837      0.060     -9.681      0.000      -0.702      -0.465\n",
       "grade_5 Fair           -0.4975      0.021    -23.986      0.000      -0.538      -0.457\n",
       "grade_6 Low Average    -0.2793      0.008    -34.420      0.000      -0.295      -0.263\n",
       "grade_8 Good            0.2359      0.006     40.382      0.000       0.224       0.247\n",
       "grade_9 Better          0.4687      0.009     53.857      0.000       0.452       0.486\n",
       "const                  24.1774      0.192    126.034      0.000      23.801      24.553\n",
       "bedrooms               -0.0304      0.003    -10.781      0.000      -0.036      -0.025\n",
       "bathrooms               0.0620      0.004     16.187      0.000       0.054       0.069\n",
       "sqft_living             0.1699      0.005     37.376      0.000       0.161       0.179\n",
       "sqft_lot               -0.0015      0.002     -0.670      0.503      -0.006       0.003\n",
       "Fair_view               0.1802      0.017     10.353      0.000       0.146       0.214\n",
       "Average_view            0.0968      0.011      9.190      0.000       0.076       0.117\n",
       "Good_view               0.1319      0.014      9.188      0.000       0.104       0.160\n",
       "Excellent_view          0.2623      0.022     12.009      0.000       0.219       0.305\n",
       "==============================================================================\n",
       "Omnibus:                      104.042   Durbin-Watson:                   1.959\n",
       "Prob(Omnibus):                  0.000   Jarque-Bera (JB):              125.898\n",
       "Skew:                          -0.101   Prob(JB):                     4.59e-28\n",
       "Kurtosis:                       3.315   Cond. No.                     2.90e+05\n",
       "==============================================================================\n",
       "\n",
       "Notes:\n",
       "[1] Standard Errors assume that the covariance matrix of the errors is correctly specified.\n",
       "[2] The condition number is large, 2.9e+05. This might indicate that there are\n",
       "strong multicollinearity or other numerical problems.\n",
       "\"\"\""
      ]
     },
     "execution_count": 79,
     "metadata": {},
     "output_type": "execute_result"
    }
   ],
   "source": [
    "sm.OLS(y_log, x_c_comb).fit().summary()"
   ]
  },
  {
   "cell_type": "markdown",
   "metadata": {},
   "source": [
    "The high conditional number isn't ideal - let's see if we can identify what's causing it by dropping a suspicious column. Year built is the most continuous variable that hasn't been scaled, so let's try dropping it as a test."
   ]
  },
  {
   "cell_type": "code",
   "execution_count": 80,
   "metadata": {},
   "outputs": [],
   "source": [
    "test = x_c_comb.drop(labels=\"yr_built\",axis=1)"
   ]
  },
  {
   "cell_type": "code",
   "execution_count": 81,
   "metadata": {},
   "outputs": [
    {
     "data": {
      "text/html": [
       "<table class=\"simpletable\">\n",
       "<caption>OLS Regression Results</caption>\n",
       "<tr>\n",
       "  <th>Dep. Variable:</th>          <td>price</td>      <th>  R-squared:         </th> <td>   0.595</td> \n",
       "</tr>\n",
       "<tr>\n",
       "  <th>Model:</th>                   <td>OLS</td>       <th>  Adj. R-squared:    </th> <td>   0.595</td> \n",
       "</tr>\n",
       "<tr>\n",
       "  <th>Method:</th>             <td>Least Squares</td>  <th>  F-statistic:       </th> <td>   1321.</td> \n",
       "</tr>\n",
       "<tr>\n",
       "  <th>Date:</th>             <td>Thu, 27 Oct 2022</td> <th>  Prob (F-statistic):</th>  <td>  0.00</td>  \n",
       "</tr>\n",
       "<tr>\n",
       "  <th>Time:</th>                 <td>17:18:19</td>     <th>  Log-Likelihood:    </th> <td> -7029.9</td> \n",
       "</tr>\n",
       "<tr>\n",
       "  <th>No. Observations:</th>      <td> 21597</td>      <th>  AIC:               </th> <td>1.411e+04</td>\n",
       "</tr>\n",
       "<tr>\n",
       "  <th>Df Residuals:</th>          <td> 21572</td>      <th>  BIC:               </th> <td>1.431e+04</td>\n",
       "</tr>\n",
       "<tr>\n",
       "  <th>Df Model:</th>              <td>    24</td>      <th>                     </th>     <td> </td>    \n",
       "</tr>\n",
       "<tr>\n",
       "  <th>Covariance Type:</th>      <td>nonrobust</td>    <th>                     </th>     <td> </td>    \n",
       "</tr>\n",
       "</table>\n",
       "<table class=\"simpletable\">\n",
       "<tr>\n",
       "           <td></td>              <th>coef</th>     <th>std err</th>      <th>t</th>      <th>P>|t|</th>  <th>[0.025</th>    <th>0.975]</th>  \n",
       "</tr>\n",
       "<tr>\n",
       "  <th>floors</th>              <td>    0.0228</td> <td>    0.005</td> <td>    4.301</td> <td> 0.000</td> <td>    0.012</td> <td>    0.033</td>\n",
       "</tr>\n",
       "<tr>\n",
       "  <th>waterfront_YES</th>      <td>    0.3393</td> <td>    0.034</td> <td>    9.986</td> <td> 0.000</td> <td>    0.273</td> <td>    0.406</td>\n",
       "</tr>\n",
       "<tr>\n",
       "  <th>condition_Fair</th>      <td>   -0.1059</td> <td>    0.026</td> <td>   -4.049</td> <td> 0.000</td> <td>   -0.157</td> <td>   -0.055</td>\n",
       "</tr>\n",
       "<tr>\n",
       "  <th>condition_Good</th>      <td>    0.0820</td> <td>    0.006</td> <td>   14.763</td> <td> 0.000</td> <td>    0.071</td> <td>    0.093</td>\n",
       "</tr>\n",
       "<tr>\n",
       "  <th>condition_Poor</th>      <td>   -0.0283</td> <td>    0.063</td> <td>   -0.450</td> <td> 0.653</td> <td>   -0.151</td> <td>    0.095</td>\n",
       "</tr>\n",
       "<tr>\n",
       "  <th>condition_Very Good</th> <td>    0.2201</td> <td>    0.009</td> <td>   24.985</td> <td> 0.000</td> <td>    0.203</td> <td>    0.237</td>\n",
       "</tr>\n",
       "<tr>\n",
       "  <th>grade_10 Very Good</th>  <td>    0.5568</td> <td>    0.013</td> <td>   41.593</td> <td> 0.000</td> <td>    0.531</td> <td>    0.583</td>\n",
       "</tr>\n",
       "<tr>\n",
       "  <th>grade_11 Excellent</th>  <td>    0.6714</td> <td>    0.021</td> <td>   32.135</td> <td> 0.000</td> <td>    0.630</td> <td>    0.712</td>\n",
       "</tr>\n",
       "<tr>\n",
       "  <th>grade_12 Luxury</th>     <td>    0.7628</td> <td>    0.040</td> <td>   19.303</td> <td> 0.000</td> <td>    0.685</td> <td>    0.840</td>\n",
       "</tr>\n",
       "<tr>\n",
       "  <th>grade_13 Mansion</th>    <td>    0.8906</td> <td>    0.097</td> <td>    9.226</td> <td> 0.000</td> <td>    0.701</td> <td>    1.080</td>\n",
       "</tr>\n",
       "<tr>\n",
       "  <th>grade_3 Poor</th>        <td>   -0.3206</td> <td>    0.335</td> <td>   -0.956</td> <td> 0.339</td> <td>   -0.978</td> <td>    0.337</td>\n",
       "</tr>\n",
       "<tr>\n",
       "  <th>grade_4 Low</th>         <td>   -0.4758</td> <td>    0.065</td> <td>   -7.323</td> <td> 0.000</td> <td>   -0.603</td> <td>   -0.348</td>\n",
       "</tr>\n",
       "<tr>\n",
       "  <th>grade_5 Fair</th>        <td>   -0.3916</td> <td>    0.022</td> <td>  -17.575</td> <td> 0.000</td> <td>   -0.435</td> <td>   -0.348</td>\n",
       "</tr>\n",
       "<tr>\n",
       "  <th>grade_6 Low Average</th> <td>   -0.2030</td> <td>    0.009</td> <td>  -23.503</td> <td> 0.000</td> <td>   -0.220</td> <td>   -0.186</td>\n",
       "</tr>\n",
       "<tr>\n",
       "  <th>grade_8 Good</th>        <td>    0.1927</td> <td>    0.006</td> <td>   30.834</td> <td> 0.000</td> <td>    0.180</td> <td>    0.205</td>\n",
       "</tr>\n",
       "<tr>\n",
       "  <th>grade_9 Better</th>      <td>    0.3953</td> <td>    0.009</td> <td>   42.556</td> <td> 0.000</td> <td>    0.377</td> <td>    0.413</td>\n",
       "</tr>\n",
       "<tr>\n",
       "  <th>const</th>               <td>   12.8298</td> <td>    0.009</td> <td> 1451.082</td> <td> 0.000</td> <td>   12.812</td> <td>   12.847</td>\n",
       "</tr>\n",
       "<tr>\n",
       "  <th>bedrooms</th>            <td>   -0.0182</td> <td>    0.003</td> <td>   -5.990</td> <td> 0.000</td> <td>   -0.024</td> <td>   -0.012</td>\n",
       "</tr>\n",
       "<tr>\n",
       "  <th>bathrooms</th>           <td>   -0.0055</td> <td>    0.004</td> <td>   -1.392</td> <td> 0.164</td> <td>   -0.013</td> <td>    0.002</td>\n",
       "</tr>\n",
       "<tr>\n",
       "  <th>sqft_living</th>         <td>    0.1964</td> <td>    0.005</td> <td>   40.283</td> <td> 0.000</td> <td>    0.187</td> <td>    0.206</td>\n",
       "</tr>\n",
       "<tr>\n",
       "  <th>sqft_lot</th>            <td>   -0.0082</td> <td>    0.002</td> <td>   -3.498</td> <td> 0.000</td> <td>   -0.013</td> <td>   -0.004</td>\n",
       "</tr>\n",
       "<tr>\n",
       "  <th>Fair_view</th>           <td>    0.2413</td> <td>    0.019</td> <td>   12.881</td> <td> 0.000</td> <td>    0.205</td> <td>    0.278</td>\n",
       "</tr>\n",
       "<tr>\n",
       "  <th>Average_view</th>        <td>    0.1651</td> <td>    0.011</td> <td>   14.630</td> <td> 0.000</td> <td>    0.143</td> <td>    0.187</td>\n",
       "</tr>\n",
       "<tr>\n",
       "  <th>Good_view</th>           <td>    0.2107</td> <td>    0.015</td> <td>   13.669</td> <td> 0.000</td> <td>    0.180</td> <td>    0.241</td>\n",
       "</tr>\n",
       "<tr>\n",
       "  <th>Excellent_view</th>      <td>    0.3359</td> <td>    0.024</td> <td>   14.287</td> <td> 0.000</td> <td>    0.290</td> <td>    0.382</td>\n",
       "</tr>\n",
       "</table>\n",
       "<table class=\"simpletable\">\n",
       "<tr>\n",
       "  <th>Omnibus:</th>       <td> 7.075</td> <th>  Durbin-Watson:     </th> <td>   1.971</td>\n",
       "</tr>\n",
       "<tr>\n",
       "  <th>Prob(Omnibus):</th> <td> 0.029</td> <th>  Jarque-Bera (JB):  </th> <td>   6.968</td>\n",
       "</tr>\n",
       "<tr>\n",
       "  <th>Skew:</th>          <td> 0.033</td> <th>  Prob(JB):          </th> <td>  0.0307</td>\n",
       "</tr>\n",
       "<tr>\n",
       "  <th>Kurtosis:</th>      <td> 2.941</td> <th>  Cond. No.          </th> <td>    282.</td>\n",
       "</tr>\n",
       "</table><br/><br/>Notes:<br/>[1] Standard Errors assume that the covariance matrix of the errors is correctly specified."
      ],
      "text/plain": [
       "<class 'statsmodels.iolib.summary.Summary'>\n",
       "\"\"\"\n",
       "                            OLS Regression Results                            \n",
       "==============================================================================\n",
       "Dep. Variable:                  price   R-squared:                       0.595\n",
       "Model:                            OLS   Adj. R-squared:                  0.595\n",
       "Method:                 Least Squares   F-statistic:                     1321.\n",
       "Date:                Thu, 27 Oct 2022   Prob (F-statistic):               0.00\n",
       "Time:                        17:18:19   Log-Likelihood:                -7029.9\n",
       "No. Observations:               21597   AIC:                         1.411e+04\n",
       "Df Residuals:                   21572   BIC:                         1.431e+04\n",
       "Df Model:                          24                                         \n",
       "Covariance Type:            nonrobust                                         \n",
       "=======================================================================================\n",
       "                          coef    std err          t      P>|t|      [0.025      0.975]\n",
       "---------------------------------------------------------------------------------------\n",
       "floors                  0.0228      0.005      4.301      0.000       0.012       0.033\n",
       "waterfront_YES          0.3393      0.034      9.986      0.000       0.273       0.406\n",
       "condition_Fair         -0.1059      0.026     -4.049      0.000      -0.157      -0.055\n",
       "condition_Good          0.0820      0.006     14.763      0.000       0.071       0.093\n",
       "condition_Poor         -0.0283      0.063     -0.450      0.653      -0.151       0.095\n",
       "condition_Very Good     0.2201      0.009     24.985      0.000       0.203       0.237\n",
       "grade_10 Very Good      0.5568      0.013     41.593      0.000       0.531       0.583\n",
       "grade_11 Excellent      0.6714      0.021     32.135      0.000       0.630       0.712\n",
       "grade_12 Luxury         0.7628      0.040     19.303      0.000       0.685       0.840\n",
       "grade_13 Mansion        0.8906      0.097      9.226      0.000       0.701       1.080\n",
       "grade_3 Poor           -0.3206      0.335     -0.956      0.339      -0.978       0.337\n",
       "grade_4 Low            -0.4758      0.065     -7.323      0.000      -0.603      -0.348\n",
       "grade_5 Fair           -0.3916      0.022    -17.575      0.000      -0.435      -0.348\n",
       "grade_6 Low Average    -0.2030      0.009    -23.503      0.000      -0.220      -0.186\n",
       "grade_8 Good            0.1927      0.006     30.834      0.000       0.180       0.205\n",
       "grade_9 Better          0.3953      0.009     42.556      0.000       0.377       0.413\n",
       "const                  12.8298      0.009   1451.082      0.000      12.812      12.847\n",
       "bedrooms               -0.0182      0.003     -5.990      0.000      -0.024      -0.012\n",
       "bathrooms              -0.0055      0.004     -1.392      0.164      -0.013       0.002\n",
       "sqft_living             0.1964      0.005     40.283      0.000       0.187       0.206\n",
       "sqft_lot               -0.0082      0.002     -3.498      0.000      -0.013      -0.004\n",
       "Fair_view               0.2413      0.019     12.881      0.000       0.205       0.278\n",
       "Average_view            0.1651      0.011     14.630      0.000       0.143       0.187\n",
       "Good_view               0.2107      0.015     13.669      0.000       0.180       0.241\n",
       "Excellent_view          0.3359      0.024     14.287      0.000       0.290       0.382\n",
       "==============================================================================\n",
       "Omnibus:                        7.075   Durbin-Watson:                   1.971\n",
       "Prob(Omnibus):                  0.029   Jarque-Bera (JB):                6.968\n",
       "Skew:                           0.033   Prob(JB):                       0.0307\n",
       "Kurtosis:                       2.941   Cond. No.                         282.\n",
       "==============================================================================\n",
       "\n",
       "Notes:\n",
       "[1] Standard Errors assume that the covariance matrix of the errors is correctly specified.\n",
       "\"\"\""
      ]
     },
     "execution_count": 81,
     "metadata": {},
     "output_type": "execute_result"
    }
   ],
   "source": [
    "sm.OLS(y_log, test).fit().summary()"
   ]
  },
  {
   "cell_type": "markdown",
   "metadata": {},
   "source": [
    "That dropped our conditional number dramatically! Let's scale the year built column and add it back in."
   ]
  },
  {
   "cell_type": "code",
   "execution_count": 82,
   "metadata": {},
   "outputs": [],
   "source": [
    "yr_scaled = (x_c_comb[\"yr_built\"] - np.mean(x_c_comb[\"yr_built\"])) / np.std(x_c_comb[\"yr_built\"])\n",
    "yr_scaled_df = pd.DataFrame(yr_scaled, index=x_c_comb[\"yr_built\"].index)"
   ]
  },
  {
   "cell_type": "code",
   "execution_count": 83,
   "metadata": {},
   "outputs": [],
   "source": [
    "x_c_comb2 = test.merge(yr_scaled_df,left_index=True, right_index=True)"
   ]
  },
  {
   "cell_type": "code",
   "execution_count": 84,
   "metadata": {
    "scrolled": true
   },
   "outputs": [
    {
     "data": {
      "text/html": [
       "<table class=\"simpletable\">\n",
       "<caption>OLS Regression Results</caption>\n",
       "<tr>\n",
       "  <th>Dep. Variable:</th>          <td>price</td>      <th>  R-squared:         </th> <td>   0.652</td> \n",
       "</tr>\n",
       "<tr>\n",
       "  <th>Model:</th>                   <td>OLS</td>       <th>  Adj. R-squared:    </th> <td>   0.651</td> \n",
       "</tr>\n",
       "<tr>\n",
       "  <th>Method:</th>             <td>Least Squares</td>  <th>  F-statistic:       </th> <td>   1614.</td> \n",
       "</tr>\n",
       "<tr>\n",
       "  <th>Date:</th>             <td>Thu, 27 Oct 2022</td> <th>  Prob (F-statistic):</th>  <td>  0.00</td>  \n",
       "</tr>\n",
       "<tr>\n",
       "  <th>Time:</th>                 <td>17:18:20</td>     <th>  Log-Likelihood:    </th> <td> -5403.8</td> \n",
       "</tr>\n",
       "<tr>\n",
       "  <th>No. Observations:</th>      <td> 21597</td>      <th>  AIC:               </th> <td>1.086e+04</td>\n",
       "</tr>\n",
       "<tr>\n",
       "  <th>Df Residuals:</th>          <td> 21571</td>      <th>  BIC:               </th> <td>1.107e+04</td>\n",
       "</tr>\n",
       "<tr>\n",
       "  <th>Df Model:</th>              <td>    25</td>      <th>                     </th>     <td> </td>    \n",
       "</tr>\n",
       "<tr>\n",
       "  <th>Covariance Type:</th>      <td>nonrobust</td>    <th>                     </th>     <td> </td>    \n",
       "</tr>\n",
       "</table>\n",
       "<table class=\"simpletable\">\n",
       "<tr>\n",
       "           <td></td>              <th>coef</th>     <th>std err</th>      <th>t</th>      <th>P>|t|</th>  <th>[0.025</th>    <th>0.975]</th>  \n",
       "</tr>\n",
       "<tr>\n",
       "  <th>floors</th>              <td>    0.0773</td> <td>    0.005</td> <td>   15.447</td> <td> 0.000</td> <td>    0.067</td> <td>    0.087</td>\n",
       "</tr>\n",
       "<tr>\n",
       "  <th>waterfront_YES</th>      <td>    0.3144</td> <td>    0.032</td> <td>    9.976</td> <td> 0.000</td> <td>    0.253</td> <td>    0.376</td>\n",
       "</tr>\n",
       "<tr>\n",
       "  <th>condition_Fair</th>      <td>   -0.1680</td> <td>    0.024</td> <td>   -6.919</td> <td> 0.000</td> <td>   -0.216</td> <td>   -0.120</td>\n",
       "</tr>\n",
       "<tr>\n",
       "  <th>condition_Good</th>      <td>    0.0188</td> <td>    0.005</td> <td>    3.578</td> <td> 0.000</td> <td>    0.009</td> <td>    0.029</td>\n",
       "</tr>\n",
       "<tr>\n",
       "  <th>condition_Poor</th>      <td>   -0.1484</td> <td>    0.058</td> <td>   -2.547</td> <td> 0.011</td> <td>   -0.263</td> <td>   -0.034</td>\n",
       "</tr>\n",
       "<tr>\n",
       "  <th>condition_Very Good</th> <td>    0.0853</td> <td>    0.008</td> <td>   10.057</td> <td> 0.000</td> <td>    0.069</td> <td>    0.102</td>\n",
       "</tr>\n",
       "<tr>\n",
       "  <th>grade_10 Very Good</th>  <td>    0.6275</td> <td>    0.012</td> <td>   50.310</td> <td> 0.000</td> <td>    0.603</td> <td>    0.652</td>\n",
       "</tr>\n",
       "<tr>\n",
       "  <th>grade_11 Excellent</th>  <td>    0.7452</td> <td>    0.019</td> <td>   38.377</td> <td> 0.000</td> <td>    0.707</td> <td>    0.783</td>\n",
       "</tr>\n",
       "<tr>\n",
       "  <th>grade_12 Luxury</th>     <td>    0.8355</td> <td>    0.037</td> <td>   22.783</td> <td> 0.000</td> <td>    0.764</td> <td>    0.907</td>\n",
       "</tr>\n",
       "<tr>\n",
       "  <th>grade_13 Mansion</th>    <td>    0.8479</td> <td>    0.090</td> <td>    9.470</td> <td> 0.000</td> <td>    0.672</td> <td>    1.023</td>\n",
       "</tr>\n",
       "<tr>\n",
       "  <th>grade_3 Poor</th>        <td>   -0.4284</td> <td>    0.311</td> <td>   -1.377</td> <td> 0.169</td> <td>   -1.038</td> <td>    0.181</td>\n",
       "</tr>\n",
       "<tr>\n",
       "  <th>grade_4 Low</th>         <td>   -0.5837</td> <td>    0.060</td> <td>   -9.681</td> <td> 0.000</td> <td>   -0.702</td> <td>   -0.465</td>\n",
       "</tr>\n",
       "<tr>\n",
       "  <th>grade_5 Fair</th>        <td>   -0.4975</td> <td>    0.021</td> <td>  -23.986</td> <td> 0.000</td> <td>   -0.538</td> <td>   -0.457</td>\n",
       "</tr>\n",
       "<tr>\n",
       "  <th>grade_6 Low Average</th> <td>   -0.2793</td> <td>    0.008</td> <td>  -34.420</td> <td> 0.000</td> <td>   -0.295</td> <td>   -0.263</td>\n",
       "</tr>\n",
       "<tr>\n",
       "  <th>grade_8 Good</th>        <td>    0.2359</td> <td>    0.006</td> <td>   40.382</td> <td> 0.000</td> <td>    0.224</td> <td>    0.247</td>\n",
       "</tr>\n",
       "<tr>\n",
       "  <th>grade_9 Better</th>      <td>    0.4687</td> <td>    0.009</td> <td>   53.857</td> <td> 0.000</td> <td>    0.452</td> <td>    0.486</td>\n",
       "</tr>\n",
       "<tr>\n",
       "  <th>const</th>               <td>   12.7655</td> <td>    0.008</td> <td> 1543.202</td> <td> 0.000</td> <td>   12.749</td> <td>   12.782</td>\n",
       "</tr>\n",
       "<tr>\n",
       "  <th>bedrooms</th>            <td>   -0.0304</td> <td>    0.003</td> <td>  -10.781</td> <td> 0.000</td> <td>   -0.036</td> <td>   -0.025</td>\n",
       "</tr>\n",
       "<tr>\n",
       "  <th>bathrooms</th>           <td>    0.0620</td> <td>    0.004</td> <td>   16.187</td> <td> 0.000</td> <td>    0.054</td> <td>    0.069</td>\n",
       "</tr>\n",
       "<tr>\n",
       "  <th>sqft_living</th>         <td>    0.1699</td> <td>    0.005</td> <td>   37.376</td> <td> 0.000</td> <td>    0.161</td> <td>    0.179</td>\n",
       "</tr>\n",
       "<tr>\n",
       "  <th>sqft_lot</th>            <td>   -0.0015</td> <td>    0.002</td> <td>   -0.670</td> <td> 0.503</td> <td>   -0.006</td> <td>    0.003</td>\n",
       "</tr>\n",
       "<tr>\n",
       "  <th>Fair_view</th>           <td>    0.1802</td> <td>    0.017</td> <td>   10.353</td> <td> 0.000</td> <td>    0.146</td> <td>    0.214</td>\n",
       "</tr>\n",
       "<tr>\n",
       "  <th>Average_view</th>        <td>    0.0968</td> <td>    0.011</td> <td>    9.190</td> <td> 0.000</td> <td>    0.076</td> <td>    0.117</td>\n",
       "</tr>\n",
       "<tr>\n",
       "  <th>Good_view</th>           <td>    0.1319</td> <td>    0.014</td> <td>    9.188</td> <td> 0.000</td> <td>    0.104</td> <td>    0.160</td>\n",
       "</tr>\n",
       "<tr>\n",
       "  <th>Excellent_view</th>      <td>    0.2623</td> <td>    0.022</td> <td>   12.009</td> <td> 0.000</td> <td>    0.219</td> <td>    0.305</td>\n",
       "</tr>\n",
       "<tr>\n",
       "  <th>yr_built</th>            <td>   -0.1701</td> <td>    0.003</td> <td>  -59.208</td> <td> 0.000</td> <td>   -0.176</td> <td>   -0.164</td>\n",
       "</tr>\n",
       "</table>\n",
       "<table class=\"simpletable\">\n",
       "<tr>\n",
       "  <th>Omnibus:</th>       <td>104.042</td> <th>  Durbin-Watson:     </th> <td>   1.959</td>\n",
       "</tr>\n",
       "<tr>\n",
       "  <th>Prob(Omnibus):</th> <td> 0.000</td>  <th>  Jarque-Bera (JB):  </th> <td> 125.898</td>\n",
       "</tr>\n",
       "<tr>\n",
       "  <th>Skew:</th>          <td>-0.101</td>  <th>  Prob(JB):          </th> <td>4.59e-28</td>\n",
       "</tr>\n",
       "<tr>\n",
       "  <th>Kurtosis:</th>      <td> 3.315</td>  <th>  Cond. No.          </th> <td>    284.</td>\n",
       "</tr>\n",
       "</table><br/><br/>Notes:<br/>[1] Standard Errors assume that the covariance matrix of the errors is correctly specified."
      ],
      "text/plain": [
       "<class 'statsmodels.iolib.summary.Summary'>\n",
       "\"\"\"\n",
       "                            OLS Regression Results                            \n",
       "==============================================================================\n",
       "Dep. Variable:                  price   R-squared:                       0.652\n",
       "Model:                            OLS   Adj. R-squared:                  0.651\n",
       "Method:                 Least Squares   F-statistic:                     1614.\n",
       "Date:                Thu, 27 Oct 2022   Prob (F-statistic):               0.00\n",
       "Time:                        17:18:20   Log-Likelihood:                -5403.8\n",
       "No. Observations:               21597   AIC:                         1.086e+04\n",
       "Df Residuals:                   21571   BIC:                         1.107e+04\n",
       "Df Model:                          25                                         \n",
       "Covariance Type:            nonrobust                                         \n",
       "=======================================================================================\n",
       "                          coef    std err          t      P>|t|      [0.025      0.975]\n",
       "---------------------------------------------------------------------------------------\n",
       "floors                  0.0773      0.005     15.447      0.000       0.067       0.087\n",
       "waterfront_YES          0.3144      0.032      9.976      0.000       0.253       0.376\n",
       "condition_Fair         -0.1680      0.024     -6.919      0.000      -0.216      -0.120\n",
       "condition_Good          0.0188      0.005      3.578      0.000       0.009       0.029\n",
       "condition_Poor         -0.1484      0.058     -2.547      0.011      -0.263      -0.034\n",
       "condition_Very Good     0.0853      0.008     10.057      0.000       0.069       0.102\n",
       "grade_10 Very Good      0.6275      0.012     50.310      0.000       0.603       0.652\n",
       "grade_11 Excellent      0.7452      0.019     38.377      0.000       0.707       0.783\n",
       "grade_12 Luxury         0.8355      0.037     22.783      0.000       0.764       0.907\n",
       "grade_13 Mansion        0.8479      0.090      9.470      0.000       0.672       1.023\n",
       "grade_3 Poor           -0.4284      0.311     -1.377      0.169      -1.038       0.181\n",
       "grade_4 Low            -0.5837      0.060     -9.681      0.000      -0.702      -0.465\n",
       "grade_5 Fair           -0.4975      0.021    -23.986      0.000      -0.538      -0.457\n",
       "grade_6 Low Average    -0.2793      0.008    -34.420      0.000      -0.295      -0.263\n",
       "grade_8 Good            0.2359      0.006     40.382      0.000       0.224       0.247\n",
       "grade_9 Better          0.4687      0.009     53.857      0.000       0.452       0.486\n",
       "const                  12.7655      0.008   1543.202      0.000      12.749      12.782\n",
       "bedrooms               -0.0304      0.003    -10.781      0.000      -0.036      -0.025\n",
       "bathrooms               0.0620      0.004     16.187      0.000       0.054       0.069\n",
       "sqft_living             0.1699      0.005     37.376      0.000       0.161       0.179\n",
       "sqft_lot               -0.0015      0.002     -0.670      0.503      -0.006       0.003\n",
       "Fair_view               0.1802      0.017     10.353      0.000       0.146       0.214\n",
       "Average_view            0.0968      0.011      9.190      0.000       0.076       0.117\n",
       "Good_view               0.1319      0.014      9.188      0.000       0.104       0.160\n",
       "Excellent_view          0.2623      0.022     12.009      0.000       0.219       0.305\n",
       "yr_built               -0.1701      0.003    -59.208      0.000      -0.176      -0.164\n",
       "==============================================================================\n",
       "Omnibus:                      104.042   Durbin-Watson:                   1.959\n",
       "Prob(Omnibus):                  0.000   Jarque-Bera (JB):              125.898\n",
       "Skew:                          -0.101   Prob(JB):                     4.59e-28\n",
       "Kurtosis:                       3.315   Cond. No.                         284.\n",
       "==============================================================================\n",
       "\n",
       "Notes:\n",
       "[1] Standard Errors assume that the covariance matrix of the errors is correctly specified.\n",
       "\"\"\""
      ]
     },
     "execution_count": 84,
     "metadata": {},
     "output_type": "execute_result"
    }
   ],
   "source": [
    "sm.OLS(y_log, x_c_comb2).fit().summary()"
   ]
  },
  {
   "cell_type": "code",
   "execution_count": 85,
   "metadata": {},
   "outputs": [
    {
     "name": "stdout",
     "output_type": "stream",
     "text": [
      "Square Foot of Living Space std: 918.1061250800805\n",
      "Square Foot of Lot std: 41412.636875502074\n",
      "Year built std: 29.375234132441644\n",
      "Bedroom std: 0.9026150387107811\n",
      "Bathroom std: 0.7689842966527209\n"
     ]
    }
   ],
   "source": [
    "print(f\"Square Foot of Living Space std: {df['sqft_living'].std()}\")\n",
    "print(f\"Square Foot of Lot std: {df['sqft_lot'].std()}\")\n",
    "print(f\"Year built std: {df['yr_built'].std()}\")\n",
    "print(f\"Bedroom std: {df['bedrooms'].std()}\")\n",
    "print(f\"Bathroom std: {df['bathrooms'].std()}\")"
   ]
  },
  {
   "cell_type": "markdown",
   "metadata": {},
   "source": [
    "Adding a floor ups the price by 7.7%\n",
    "\n",
    "Being waterfront increases the price by 31%\n",
    "\n",
    "Adding a 3/4 bathroom increases price by 6%\n",
    "\n",
    "Adding 918 square feet increases price by 17%\n",
    "\n",
    "Having a view can increase the price from 18 to 26%\n",
    "\n",
    "A home in poor condition can be nearly 15% cheaper, while a very good home can be 8% more expensive\n",
    "\n",
    "Construction quality has a massive impact; below-average homes sell 25 to 60% cheaper than average homes, while more luxury homes sell for as much as 85% more\n",
    "\n",
    "Year built, square footage of the lot, and number of bedrooms do not have significant impacts."
   ]
  },
  {
   "cell_type": "markdown",
   "metadata": {},
   "source": [
    "## Presentation Plots"
   ]
  },
  {
   "cell_type": "code",
   "execution_count": 86,
   "metadata": {},
   "outputs": [],
   "source": [
    "import matplotlib.ticker as mtick"
   ]
  },
  {
   "cell_type": "code",
   "execution_count": 96,
   "metadata": {},
   "outputs": [
    {
     "data": {
      "image/png": "[encoded data removed]",
      "text/plain": [
       "<Figure size 576x396 with 1 Axes>"
      ]
     },
     "metadata": {},
     "output_type": "display_data"
    }
   ],
   "source": [
    "y = df[\"price\"]\n",
    "x = df[\"sqft_living\"]\n",
    "fig, ax = plt.subplots()\n",
    "ax.scatter(x=x, y=y, c=\"olivedrab\")\n",
    "ax.ticklabel_format(style='plain')\n",
    "ax.set_title(\"Sale Price vs. Square Footage of Home\", size=20)\n",
    "ax.set_ylabel(\"Sale Price\", size=14)\n",
    "ax.set_xlabel(\"Square Footage of Home\", size=14)\n",
    "fmt = '${x:,.0f}'\n",
    "tick = mtick.StrMethodFormatter(fmt)\n",
    "ax.yaxis.set_major_formatter(tick);\n",
    "# plt.savefig(\"./SquareFootage.png\", bbox_inches=\"tight\", transparent=True, dpi=600);"
   ]
  },
  {
   "cell_type": "code",
   "execution_count": 88,
   "metadata": {},
   "outputs": [],
   "source": [
    "grades = ['3 Poor', '4 Low', '5 Fair', '6 Low Average', '7 Average', '8 Good', '9 Better', '10 Very Good',\n",
    "          '11 Excellent', '12 Luxury', '13 Mansion']\n",
    "grade_med_price = []\n",
    "for x in grades:\n",
    "    grade_med_price.append(df.loc[df[\"grade\"] == x][\"price\"].median())"
   ]
  },
  {
   "cell_type": "code",
   "execution_count": 95,
   "metadata": {},
   "outputs": [
    {
     "data": {
      "image/png": "[encoded data removed]",
      "text/plain": [
       "<Figure size 576x396 with 1 Axes>"
      ]
     },
     "metadata": {},
     "output_type": "display_data"
    }
   ],
   "source": [
    "plt.style.use('seaborn')\n",
    "fig, ax = plt.subplots()\n",
    "ax.bar(x=grades, height=grade_med_price, color=\"olivedrab\")\n",
    "ax.set_title(\"Median Sale Price by Home Grade\", size=20)\n",
    "ax.set_xlabel(\"Grade of Home\", size=14)\n",
    "ax.set_ylabel(\"Median Sale Price\", size=14)\n",
    "plt.ticklabel_format(axis=\"y\", style='plain')\n",
    "plt.xticks(rotation=45, size=12)\n",
    "fmt = '${x:,.0f}'\n",
    "tick = mtick.StrMethodFormatter(fmt)\n",
    "ax.yaxis.set_major_formatter(tick) \n",
    "plt.xticks(rotation=25);\n",
    "# plt.savefig(\"./HomeGrade.png\", bbox_inches=\"tight\", transparent=True, dpi=600);"
   ]
  }
 ],
 "metadata": {
  "kernelspec": {
   "display_name": "learn-env",
   "language": "python",
   "name": "learn-env"
  },
  "language_info": {
   "codemirror_mode": {
    "name": "ipython",
    "version": 3
   },
   "file_extension": ".py",
   "mimetype": "text/x-python",
   "name": "python",
   "nbconvert_exporter": "python",
   "pygments_lexer": "ipython3",
   "version": "3.8.5"
  }
 },
 "nbformat": 4,
 "nbformat_minor": 4
}
